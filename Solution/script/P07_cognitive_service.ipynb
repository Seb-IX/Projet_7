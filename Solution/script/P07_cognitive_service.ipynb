{
 "cells": [
  {
   "cell_type": "markdown",
   "id": "59099157",
   "metadata": {},
   "source": [
    "# Benchmark Cognitive Services Azure (Text Analytics)\n",
    "\n"
   ]
  },
  {
   "cell_type": "code",
   "execution_count": 24,
   "id": "c0b623f0",
   "metadata": {},
   "outputs": [],
   "source": [
    "from azure.ai.textanalytics import TextAnalyticsClient\n",
    "from azure.core.credentials import AzureKeyCredential\n",
    "import pandas as pd\n",
    "import os\n",
    "import joblib\n",
    "from sklearn.linear_model import LogisticRegression\n",
    "from sklearn.model_selection import train_test_split\n",
    "import numpy as np"
   ]
  },
  {
   "cell_type": "code",
   "execution_count": 2,
   "id": "beac7ced",
   "metadata": {},
   "outputs": [],
   "source": [
    "key = os.environ[\"COGNITIVE_AZURE_KEY\"]\n",
    "endpoint = os.environ[\"COGNITIVE_AZURE_ENDPOINT\"]"
   ]
  },
  {
   "cell_type": "code",
   "execution_count": 3,
   "id": "c9485ff5",
   "metadata": {},
   "outputs": [],
   "source": [
    "def authenticate_client():\n",
    "    ta_credential = AzureKeyCredential(key)\n",
    "    text_analytics_client = TextAnalyticsClient(\n",
    "            endpoint=endpoint, \n",
    "            credential=ta_credential)\n",
    "    return text_analytics_client\n",
    "\n",
    "client = authenticate_client()"
   ]
  },
  {
   "cell_type": "code",
   "execution_count": 5,
   "id": "b649a8cf",
   "metadata": {},
   "outputs": [
    {
     "name": "stdout",
     "output_type": "stream",
     "text": [
      "Document Sentiment: positive\n",
      "Overall scores: positive=1.00; neutral=0.00; negative=0.00 \n",
      "\n",
      "Sentence: I had the best day of my life.\n",
      "Sentence 1 sentiment: positive\n",
      "Sentence score:\n",
      "Positive=1.00\n",
      "Neutral=0.00\n",
      "Negative=0.00\n",
      "\n",
      "Sentence: I wish you were there with me.\n",
      "Sentence 2 sentiment: neutral\n",
      "Sentence score:\n",
      "Positive=0.21\n",
      "Neutral=0.77\n",
      "Negative=0.02\n",
      "\n"
     ]
    }
   ],
   "source": [
    "def sentiment_analysis_example(client):\n",
    "\n",
    "    documents = [\"I had the best day of my life. I wish you were there with me.\"]\n",
    "    response = client.analyze_sentiment(documents=documents)[0]\n",
    "    print(\"Document Sentiment: {}\".format(response.sentiment))\n",
    "    print(\"Overall scores: positive={0:.2f}; neutral={1:.2f}; negative={2:.2f} \\n\".format(\n",
    "        response.confidence_scores.positive,\n",
    "        response.confidence_scores.neutral,\n",
    "        response.confidence_scores.negative,\n",
    "    ))\n",
    "    for idx, sentence in enumerate(response.sentences):\n",
    "        print(\"Sentence: {}\".format(sentence.text))\n",
    "        print(\"Sentence {} sentiment: {}\".format(idx+1, sentence.sentiment))\n",
    "        print(\"Sentence score:\\nPositive={0:.2f}\\nNeutral={1:.2f}\\nNegative={2:.2f}\\n\".format(\n",
    "            sentence.confidence_scores.positive,\n",
    "            sentence.confidence_scores.neutral,\n",
    "            sentence.confidence_scores.negative,\n",
    "        ))\n",
    "          \n",
    "sentiment_analysis_example(client)"
   ]
  },
  {
   "cell_type": "code",
   "execution_count": 6,
   "id": "d9f7465a",
   "metadata": {},
   "outputs": [],
   "source": [
    "def send_request(document):\n",
    "    if len(document) > 10:\n",
    "        all_doc_send=[]\n",
    "        response=[]\n",
    "        range_10 = [i for i in range(0,len(document)+1,10)]\n",
    "        for i in range(1,len(range_10)):\n",
    "            all_doc_send.append(document[range_10[i - 1 ]:range_10[i]])\n",
    "        for doc in all_doc_send:\n",
    "            response.extend(client.analyze_sentiment(documents=doc))\n",
    "    else:\n",
    "        response = client.analyze_sentiment(documents=document)\n",
    "    return response\n",
    "\n",
    "def format_response(response):\n",
    "    for resp in response:\n",
    "        print(\"Document Sentiment: {}\".format(resp.sentiment))\n",
    "        print(\"Overall scores: positive={0:.2f}; neutral={1:.2f}; negative={2:.2f} \\n\".format(\n",
    "            resp.confidence_scores.positive,\n",
    "            resp.confidence_scores.neutral,\n",
    "            resp.confidence_scores.negative,\n",
    "        ))\n",
    "        \n",
    "def get_pred(resp,get_neutral=False):\n",
    "    positive = resp.confidence_scores.positive\n",
    "    neutral = resp.confidence_scores.neutral\n",
    "    negative = resp.confidence_scores.negative\n",
    "    if get_neutral :\n",
    "        if (positive > neutral) & (positive > negative):\n",
    "            return \"good\"\n",
    "        elif (negative > neutral) & (negative > positive):\n",
    "            return \"bad\"\n",
    "        else:\n",
    "            return \"neutral\"\n",
    "    else:\n",
    "        if positive > negative:\n",
    "            return \"good\"\n",
    "        else:\n",
    "            return \"bad\"\n",
    "    \n",
    "def get_response_prediction(response,get_neutral=False):\n",
    "    dic={\n",
    "        \"good_score\":[],\n",
    "        \"neutral_score\":[],\n",
    "        \"bad_score\":[],\n",
    "        \"prediction\":[],\n",
    "    }\n",
    "    for resp in response:\n",
    "        dic[\"good_score\"].append(resp.confidence_scores.positive)\n",
    "        dic[\"neutral_score\"].append(resp.confidence_scores.neutral)\n",
    "        dic[\"bad_score\"].append(resp.confidence_scores.negative)\n",
    "        dic[\"prediction\"].append(get_pred(resp,get_neutral=get_neutral))\n",
    "    return dic"
   ]
  },
  {
   "cell_type": "markdown",
   "id": "c8184148",
   "metadata": {},
   "source": [
    "# Benchmark azure cognitive"
   ]
  },
  {
   "cell_type": "code",
   "execution_count": 51,
   "id": "c6e6f026",
   "metadata": {},
   "outputs": [
    {
     "name": "stdout",
     "output_type": "stream",
     "text": [
      "Dimensionnalité : (10000, 2)\n"
     ]
    },
    {
     "data": {
      "text/html": [
       "<div>\n",
       "<style scoped>\n",
       "    .dataframe tbody tr th:only-of-type {\n",
       "        vertical-align: middle;\n",
       "    }\n",
       "\n",
       "    .dataframe tbody tr th {\n",
       "        vertical-align: top;\n",
       "    }\n",
       "\n",
       "    .dataframe thead th {\n",
       "        text-align: right;\n",
       "    }\n",
       "</style>\n",
       "<table border=\"1\" class=\"dataframe\">\n",
       "  <thead>\n",
       "    <tr style=\"text-align: right;\">\n",
       "      <th></th>\n",
       "      <th>text</th>\n",
       "      <th>sentiment</th>\n",
       "    </tr>\n",
       "  </thead>\n",
       "  <tbody>\n",
       "    <tr>\n",
       "      <th>0</th>\n",
       "      <td>I LOVE @Health4UandPets u guys r the best!!</td>\n",
       "      <td>good</td>\n",
       "    </tr>\n",
       "    <tr>\n",
       "      <th>1</th>\n",
       "      <td>im meeting up with one of my besties tonight! ...</td>\n",
       "      <td>good</td>\n",
       "    </tr>\n",
       "    <tr>\n",
       "      <th>2</th>\n",
       "      <td>@DaRealSunisaKim Thanks for the Twitter add, S...</td>\n",
       "      <td>good</td>\n",
       "    </tr>\n",
       "    <tr>\n",
       "      <th>3</th>\n",
       "      <td>Being sick can be really cheap when it hurts t...</td>\n",
       "      <td>good</td>\n",
       "    </tr>\n",
       "    <tr>\n",
       "      <th>4</th>\n",
       "      <td>@LovesBrooklyn2 he has that effect on everyone</td>\n",
       "      <td>good</td>\n",
       "    </tr>\n",
       "  </tbody>\n",
       "</table>\n",
       "</div>"
      ],
      "text/plain": [
       "                                                text sentiment\n",
       "0       I LOVE @Health4UandPets u guys r the best!!       good\n",
       "1  im meeting up with one of my besties tonight! ...      good\n",
       "2  @DaRealSunisaKim Thanks for the Twitter add, S...      good\n",
       "3  Being sick can be really cheap when it hurts t...      good\n",
       "4    @LovesBrooklyn2 he has that effect on everyone       good"
      ]
     },
     "execution_count": 51,
     "metadata": {},
     "output_type": "execute_result"
    }
   ],
   "source": [
    "train_sample = pd.read_csv(\"./data/sample_final_dataset.csv\",index_col=0)\n",
    "print(\"Dimensionnalité :\",train_sample.shape)\n",
    "train_sample.head()"
   ]
  },
  {
   "cell_type": "code",
   "execution_count": 52,
   "id": "2d86ced7",
   "metadata": {},
   "outputs": [],
   "source": [
    "# on stratify pour ne prendre que 4000 tweets\n",
    "_,train_sample_ = train_test_split(train_sample,test_size=0.4,stratify=train_sample[\"sentiment\"],random_state=42) "
   ]
  },
  {
   "cell_type": "code",
   "execution_count": 53,
   "id": "fd533b45",
   "metadata": {},
   "outputs": [
    {
     "data": {
      "text/plain": [
       "(4000, 2)"
      ]
     },
     "execution_count": 53,
     "metadata": {},
     "output_type": "execute_result"
    }
   ],
   "source": [
    "train_sample_.shape"
   ]
  },
  {
   "cell_type": "code",
   "execution_count": 54,
   "id": "c95e695e",
   "metadata": {},
   "outputs": [
    {
     "data": {
      "text/plain": [
       "bad     2000\n",
       "good    2000\n",
       "Name: sentiment, dtype: int64"
      ]
     },
     "execution_count": 54,
     "metadata": {},
     "output_type": "execute_result"
    }
   ],
   "source": [
    "train_sample_[\"sentiment\"].value_counts()"
   ]
  },
  {
   "cell_type": "code",
   "execution_count": 55,
   "id": "4cd90b21",
   "metadata": {},
   "outputs": [],
   "source": [
    "document_send = train_sample_[\"text\"].tolist()\n",
    "y_true = train_sample_[\"sentiment\"].tolist()"
   ]
  },
  {
   "cell_type": "code",
   "execution_count": 11,
   "id": "ff49257c",
   "metadata": {},
   "outputs": [
    {
     "name": "stdout",
     "output_type": "stream",
     "text": [
      "CPU times: user 2.89 s, sys: 131 ms, total: 3.03 s\n",
      "Wall time: 2min 2s\n"
     ]
    }
   ],
   "source": [
    "# %%time\n",
    "# dic_response = get_response_prediction(send_request(document_send))\n",
    "# joblib.dump(dic_response,\"./data/cognitive_service_response_train.pkl\")"
   ]
  },
  {
   "cell_type": "code",
   "execution_count": 56,
   "id": "bf324c09",
   "metadata": {},
   "outputs": [],
   "source": [
    "dic_response = joblib.load(\"./data/cognitive_service_response_train.pkl\")"
   ]
  },
  {
   "cell_type": "code",
   "execution_count": 57,
   "id": "a78adc7a",
   "metadata": {},
   "outputs": [],
   "source": [
    "good_score = dic_response[\"good_score\"]\n",
    "neutral_score = dic_response[\"neutral_score\"]\n",
    "bad_score = dic_response[\"bad_score\"]"
   ]
  },
  {
   "cell_type": "code",
   "execution_count": 58,
   "id": "211e7109",
   "metadata": {},
   "outputs": [
    {
     "data": {
      "text/plain": [
       "LogisticRegression()"
      ]
     },
     "execution_count": 58,
     "metadata": {},
     "output_type": "execute_result"
    }
   ],
   "source": [
    "lr = LogisticRegression()\n",
    "feature_cogn = np.array([good_score,neutral_score,bad_score]).T\n",
    "lr.fit(feature_cogn,y_true)"
   ]
  },
  {
   "cell_type": "code",
   "execution_count": 59,
   "id": "f5224563",
   "metadata": {},
   "outputs": [
    {
     "data": {
      "text/plain": [
       "array([[ 1.27577746,  0.3113381 , -1.5870753 ]])"
      ]
     },
     "execution_count": 59,
     "metadata": {},
     "output_type": "execute_result"
    }
   ],
   "source": [
    "lr.coef_"
   ]
  },
  {
   "cell_type": "markdown",
   "id": "43cdca69",
   "metadata": {},
   "source": [
    "### Test sample"
   ]
  },
  {
   "cell_type": "code",
   "execution_count": 60,
   "id": "ca26f129",
   "metadata": {},
   "outputs": [
    {
     "name": "stdout",
     "output_type": "stream",
     "text": [
      "Dimensionnalité : (4000, 2)\n"
     ]
    },
    {
     "data": {
      "text/html": [
       "<div>\n",
       "<style scoped>\n",
       "    .dataframe tbody tr th:only-of-type {\n",
       "        vertical-align: middle;\n",
       "    }\n",
       "\n",
       "    .dataframe tbody tr th {\n",
       "        vertical-align: top;\n",
       "    }\n",
       "\n",
       "    .dataframe thead th {\n",
       "        text-align: right;\n",
       "    }\n",
       "</style>\n",
       "<table border=\"1\" class=\"dataframe\">\n",
       "  <thead>\n",
       "    <tr style=\"text-align: right;\">\n",
       "      <th></th>\n",
       "      <th>text</th>\n",
       "      <th>sentiment</th>\n",
       "    </tr>\n",
       "  </thead>\n",
       "  <tbody>\n",
       "    <tr>\n",
       "      <th>0</th>\n",
       "      <td>Chillin @ the beach with my girl brit-brit wat...</td>\n",
       "      <td>good</td>\n",
       "    </tr>\n",
       "    <tr>\n",
       "      <th>1</th>\n",
       "      <td>@indraherlambang really wanna say that ure lik...</td>\n",
       "      <td>good</td>\n",
       "    </tr>\n",
       "    <tr>\n",
       "      <th>2</th>\n",
       "      <td>@ambermac Gotta love Brad Pitt's performance, ...</td>\n",
       "      <td>good</td>\n",
       "    </tr>\n",
       "    <tr>\n",
       "      <th>3</th>\n",
       "      <td>Just realized that Matthew Sweet &amp;amp; Susanna...</td>\n",
       "      <td>good</td>\n",
       "    </tr>\n",
       "    <tr>\n",
       "      <th>4</th>\n",
       "      <td>@marksphone sorry, meant that to come from my ...</td>\n",
       "      <td>good</td>\n",
       "    </tr>\n",
       "  </tbody>\n",
       "</table>\n",
       "</div>"
      ],
      "text/plain": [
       "                                                text sentiment\n",
       "0  Chillin @ the beach with my girl brit-brit wat...      good\n",
       "1  @indraherlambang really wanna say that ure lik...      good\n",
       "2  @ambermac Gotta love Brad Pitt's performance, ...      good\n",
       "3  Just realized that Matthew Sweet &amp; Susanna...      good\n",
       "4  @marksphone sorry, meant that to come from my ...      good"
      ]
     },
     "execution_count": 60,
     "metadata": {},
     "output_type": "execute_result"
    }
   ],
   "source": [
    "test_sample = pd.read_csv(\"./data/sample_test_dataset.csv\",index_col=0)\n",
    "print(\"Dimensionnalité :\",test_sample.shape)\n",
    "test_sample.head()"
   ]
  },
  {
   "cell_type": "code",
   "execution_count": 61,
   "id": "a298ac33",
   "metadata": {},
   "outputs": [
    {
     "data": {
      "text/plain": [
       "bad     2000\n",
       "good    2000\n",
       "Name: sentiment, dtype: int64"
      ]
     },
     "execution_count": 61,
     "metadata": {},
     "output_type": "execute_result"
    }
   ],
   "source": [
    "test_sample[\"sentiment\"].value_counts()"
   ]
  },
  {
   "cell_type": "markdown",
   "id": "8d89d7de",
   "metadata": {},
   "source": [
    "## tous les tweets\n",
    "\n",
    "Le coût de ce service est de 0.87€ pour 1000 requêtes, avec ce test nous somme à 4000 requêtes sois un total de 3.48€"
   ]
  },
  {
   "cell_type": "code",
   "execution_count": 62,
   "id": "d8ab5c53",
   "metadata": {},
   "outputs": [],
   "source": [
    "document_send = test_sample[\"text\"].tolist()\n",
    "y_true = test_sample[\"sentiment\"].tolist()"
   ]
  },
  {
   "cell_type": "code",
   "execution_count": 9,
   "id": "8e57c679",
   "metadata": {},
   "outputs": [],
   "source": [
    "# dic_response = get_response_prediction(send_request(document_send))\n",
    "# joblib.dump(dic_response,\"./data/cognitive_service_response.pkl\")"
   ]
  },
  {
   "cell_type": "code",
   "execution_count": 63,
   "id": "3e0afcb8",
   "metadata": {},
   "outputs": [],
   "source": [
    "dic_response = joblib.load(\"./data/cognitive_service_response.pkl\")"
   ]
  },
  {
   "cell_type": "code",
   "execution_count": 64,
   "id": "1201799b",
   "metadata": {},
   "outputs": [],
   "source": [
    "good_score = dic_response[\"good_score\"]\n",
    "neutral_score = dic_response[\"neutral_score\"]\n",
    "bad_score = dic_response[\"bad_score\"]\n",
    "feature_cogn = np.array([good_score,neutral_score,bad_score]).T"
   ]
  },
  {
   "cell_type": "markdown",
   "id": "cd253831",
   "metadata": {},
   "source": [
    "### Régression logistique pour obtenir les score bad & good"
   ]
  },
  {
   "cell_type": "code",
   "execution_count": 65,
   "id": "df6103e0",
   "metadata": {},
   "outputs": [],
   "source": [
    "y_pred = lr.predict(feature_cogn)\n",
    "y_pred_proba = lr.predict_proba(feature_cogn)"
   ]
  },
  {
   "cell_type": "code",
   "execution_count": 46,
   "id": "f765bcdc",
   "metadata": {},
   "outputs": [],
   "source": [
    "from sklearn.metrics import accuracy_score, confusion_matrix, classification_report, roc_auc_score\n",
    "\n",
    "def show_result_binary(y_pred, y_pred_prob, y_true):\n",
    "    print(\"accuracy score :\",accuracy_score(y_true,y_pred))\n",
    "    print(\"AUC score :\",roc_auc_score(y_true,y_pred_prob[:,1]))\n",
    "    cm = confusion_matrix(y_true,y_pred)\n",
    "    print(classification_report(y_true,y_pred))\n",
    "    return pd.DataFrame(cm,columns=[\"good\",\"bad\"],index=[\"good\",\"bad\"])"
   ]
  },
  {
   "cell_type": "code",
   "execution_count": 47,
   "id": "6627d12c",
   "metadata": {},
   "outputs": [
    {
     "name": "stdout",
     "output_type": "stream",
     "text": [
      "accuracy score : 0.71225\n",
      "AUC score : 0.778609125\n",
      "              precision    recall  f1-score   support\n",
      "\n",
      "         bad       0.78      0.59      0.67      2000\n",
      "        good       0.67      0.83      0.74      2000\n",
      "\n",
      "    accuracy                           0.71      4000\n",
      "   macro avg       0.73      0.71      0.71      4000\n",
      "weighted avg       0.73      0.71      0.71      4000\n",
      "\n"
     ]
    },
    {
     "data": {
      "text/html": [
       "<div>\n",
       "<style scoped>\n",
       "    .dataframe tbody tr th:only-of-type {\n",
       "        vertical-align: middle;\n",
       "    }\n",
       "\n",
       "    .dataframe tbody tr th {\n",
       "        vertical-align: top;\n",
       "    }\n",
       "\n",
       "    .dataframe thead th {\n",
       "        text-align: right;\n",
       "    }\n",
       "</style>\n",
       "<table border=\"1\" class=\"dataframe\">\n",
       "  <thead>\n",
       "    <tr style=\"text-align: right;\">\n",
       "      <th></th>\n",
       "      <th>good</th>\n",
       "      <th>bad</th>\n",
       "    </tr>\n",
       "  </thead>\n",
       "  <tbody>\n",
       "    <tr>\n",
       "      <th>good</th>\n",
       "      <td>1183</td>\n",
       "      <td>817</td>\n",
       "    </tr>\n",
       "    <tr>\n",
       "      <th>bad</th>\n",
       "      <td>334</td>\n",
       "      <td>1666</td>\n",
       "    </tr>\n",
       "  </tbody>\n",
       "</table>\n",
       "</div>"
      ],
      "text/plain": [
       "      good   bad\n",
       "good  1183   817\n",
       "bad    334  1666"
      ]
     },
     "execution_count": 47,
     "metadata": {},
     "output_type": "execute_result"
    }
   ],
   "source": [
    "show_result_binary(y_pred,y_pred_proba,y_true)"
   ]
  },
  {
   "cell_type": "markdown",
   "id": "8d3bd256",
   "metadata": {},
   "source": [
    "Voici les résultats du service cognitif d'azure, on vois ici que les résultats sont globalement assez bon notament pour la détection des bad tweet avec une précision de 0.77 des bad tweet le score AUC est ici de 0.7786 qui est un score correct mais pas très performant.\n",
    "Pour résumer le service cognitif d'azure est un outil très généraliste et permet d'avoir un service de détéction des sentiment rapidement et globalement assez efficace, cependant, les résultats sont loin d'être optimaux et pour des frais d'utilisation assez consequent pour une utilisation soutenue du service."
   ]
  }
 ],
 "metadata": {
  "kernelspec": {
   "display_name": "Python 3",
   "language": "python",
   "name": "python3"
  },
  "language_info": {
   "codemirror_mode": {
    "name": "ipython",
    "version": 3
   },
   "file_extension": ".py",
   "mimetype": "text/x-python",
   "name": "python",
   "nbconvert_exporter": "python",
   "pygments_lexer": "ipython3",
   "version": "3.6.9"
  }
 },
 "nbformat": 4,
 "nbformat_minor": 5
}
