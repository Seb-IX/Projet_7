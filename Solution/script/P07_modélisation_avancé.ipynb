{
 "cells": [
  {
   "cell_type": "markdown",
   "id": "ff6bd79b",
   "metadata": {},
   "source": [
    "# Modélisation avancé"
   ]
  },
  {
   "cell_type": "code",
   "execution_count": 2,
   "id": "40bdf847",
   "metadata": {},
   "outputs": [],
   "source": [
    "import pandas as pd\n",
    "import numpy as np \n",
    "\n",
    "import tensorflow as tf\n",
    "from sklearn.feature_extraction.text import CountVectorizer,TfidfVectorizer\n",
    "from keras.preprocessing.text import Tokenizer\n",
    "from keras.preprocessing.sequence import pad_sequences\n",
    "from keras.models import Sequential, Model\n",
    "from keras.layers import Dense, Embedding, LSTM, Dropout, Flatten, SimpleRNN\n",
    "from sklearn.model_selection import train_test_split\n",
    "from keras.utils.np_utils import to_categorical\n",
    "import re\n",
    "import matplotlib.pyplot as plt\n",
    "plt.style.use(\"seaborn-darkgrid\")"
   ]
  },
  {
   "cell_type": "code",
   "execution_count": 3,
   "id": "a888a7f8",
   "metadata": {},
   "outputs": [],
   "source": [
    "import spacy\n",
    "from tensorboard.plugins.hparams import api as hp"
   ]
  },
  {
   "cell_type": "code",
   "execution_count": 4,
   "id": "3fee8584",
   "metadata": {},
   "outputs": [],
   "source": [
    "dir_data = \"./data/\"\n",
    "df_nlp = pd.read_csv(dir_data + \"training.1600000.processed.noemoticon.csv\",\n",
    "                     encoding=\"ISO-8859-1\",\n",
    "                     header=None,\n",
    "                     names=[\"target\",\"id\",\"date\",\"flag\",\"user\",\"text\"])"
   ]
  },
  {
   "cell_type": "code",
   "execution_count": 5,
   "id": "9a5d96b0",
   "metadata": {},
   "outputs": [
    {
     "data": {
      "text/html": [
       "<div>\n",
       "<style scoped>\n",
       "    .dataframe tbody tr th:only-of-type {\n",
       "        vertical-align: middle;\n",
       "    }\n",
       "\n",
       "    .dataframe tbody tr th {\n",
       "        vertical-align: top;\n",
       "    }\n",
       "\n",
       "    .dataframe thead th {\n",
       "        text-align: right;\n",
       "    }\n",
       "</style>\n",
       "<table border=\"1\" class=\"dataframe\">\n",
       "  <thead>\n",
       "    <tr style=\"text-align: right;\">\n",
       "      <th></th>\n",
       "      <th>target</th>\n",
       "      <th>id</th>\n",
       "      <th>date</th>\n",
       "      <th>flag</th>\n",
       "      <th>user</th>\n",
       "      <th>text</th>\n",
       "    </tr>\n",
       "  </thead>\n",
       "  <tbody>\n",
       "    <tr>\n",
       "      <th>0</th>\n",
       "      <td>0</td>\n",
       "      <td>1467810369</td>\n",
       "      <td>Mon Apr 06 22:19:45 PDT 2009</td>\n",
       "      <td>NO_QUERY</td>\n",
       "      <td>_TheSpecialOne_</td>\n",
       "      <td>@switchfoot http://twitpic.com/2y1zl - Awww, t...</td>\n",
       "    </tr>\n",
       "    <tr>\n",
       "      <th>1</th>\n",
       "      <td>0</td>\n",
       "      <td>1467810672</td>\n",
       "      <td>Mon Apr 06 22:19:49 PDT 2009</td>\n",
       "      <td>NO_QUERY</td>\n",
       "      <td>scotthamilton</td>\n",
       "      <td>is upset that he can't update his Facebook by ...</td>\n",
       "    </tr>\n",
       "    <tr>\n",
       "      <th>2</th>\n",
       "      <td>0</td>\n",
       "      <td>1467810917</td>\n",
       "      <td>Mon Apr 06 22:19:53 PDT 2009</td>\n",
       "      <td>NO_QUERY</td>\n",
       "      <td>mattycus</td>\n",
       "      <td>@Kenichan I dived many times for the ball. Man...</td>\n",
       "    </tr>\n",
       "    <tr>\n",
       "      <th>3</th>\n",
       "      <td>0</td>\n",
       "      <td>1467811184</td>\n",
       "      <td>Mon Apr 06 22:19:57 PDT 2009</td>\n",
       "      <td>NO_QUERY</td>\n",
       "      <td>ElleCTF</td>\n",
       "      <td>my whole body feels itchy and like its on fire</td>\n",
       "    </tr>\n",
       "    <tr>\n",
       "      <th>4</th>\n",
       "      <td>0</td>\n",
       "      <td>1467811193</td>\n",
       "      <td>Mon Apr 06 22:19:57 PDT 2009</td>\n",
       "      <td>NO_QUERY</td>\n",
       "      <td>Karoli</td>\n",
       "      <td>@nationwideclass no, it's not behaving at all....</td>\n",
       "    </tr>\n",
       "  </tbody>\n",
       "</table>\n",
       "</div>"
      ],
      "text/plain": [
       "   target          id                          date      flag  \\\n",
       "0       0  1467810369  Mon Apr 06 22:19:45 PDT 2009  NO_QUERY   \n",
       "1       0  1467810672  Mon Apr 06 22:19:49 PDT 2009  NO_QUERY   \n",
       "2       0  1467810917  Mon Apr 06 22:19:53 PDT 2009  NO_QUERY   \n",
       "3       0  1467811184  Mon Apr 06 22:19:57 PDT 2009  NO_QUERY   \n",
       "4       0  1467811193  Mon Apr 06 22:19:57 PDT 2009  NO_QUERY   \n",
       "\n",
       "              user                                               text  \n",
       "0  _TheSpecialOne_  @switchfoot http://twitpic.com/2y1zl - Awww, t...  \n",
       "1    scotthamilton  is upset that he can't update his Facebook by ...  \n",
       "2         mattycus  @Kenichan I dived many times for the ball. Man...  \n",
       "3          ElleCTF    my whole body feels itchy and like its on fire   \n",
       "4           Karoli  @nationwideclass no, it's not behaving at all....  "
      ]
     },
     "execution_count": 5,
     "metadata": {},
     "output_type": "execute_result"
    }
   ],
   "source": [
    "df_nlp.head()"
   ]
  },
  {
   "cell_type": "code",
   "execution_count": 6,
   "id": "44fa83dc",
   "metadata": {},
   "outputs": [],
   "source": [
    "df_nlp[\"sentiment\"] = df_nlp[\"target\"].apply(lambda x : \"good\" if x==4 else \"bad\").values"
   ]
  },
  {
   "cell_type": "markdown",
   "id": "9ac0b3fc",
   "metadata": {},
   "source": [
    "# Séparation jeu de données d'entrainement/test"
   ]
  },
  {
   "cell_type": "code",
   "execution_count": 7,
   "id": "92b63f23",
   "metadata": {},
   "outputs": [],
   "source": [
    "from sklearn.model_selection import train_test_split\n",
    "\n",
    "data_train,data_test = train_test_split(df_nlp,test_size=0.2,stratify=df_nlp[\"sentiment\"],random_state=42)"
   ]
  },
  {
   "cell_type": "code",
   "execution_count": 8,
   "id": "89300e40",
   "metadata": {},
   "outputs": [
    {
     "data": {
      "text/plain": [
       "good    640000\n",
       "bad     640000\n",
       "Name: sentiment, dtype: int64"
      ]
     },
     "execution_count": 8,
     "metadata": {},
     "output_type": "execute_result"
    }
   ],
   "source": [
    "data_train[\"sentiment\"].value_counts()"
   ]
  },
  {
   "cell_type": "code",
   "execution_count": 9,
   "id": "7411f13f",
   "metadata": {},
   "outputs": [
    {
     "name": "stdout",
     "output_type": "stream",
     "text": [
      "train_set : (1280000,)\n",
      "test_set : (320000,)\n"
     ]
    }
   ],
   "source": [
    "X_train = data_train[\"text\"].values\n",
    "y_train = data_train[\"sentiment\"].values\n",
    "\n",
    "X_test = data_test[\"text\"].values\n",
    "y_test = data_test[\"sentiment\"].values\n",
    "print(\"train_set :\",X_train.shape)\n",
    "print(\"test_set :\",X_test.shape)"
   ]
  },
  {
   "cell_type": "markdown",
   "id": "81c0e266",
   "metadata": {},
   "source": [
    "## Premier nettoyage des données"
   ]
  },
  {
   "cell_type": "code",
   "execution_count": 10,
   "id": "5de98ba3",
   "metadata": {},
   "outputs": [
    {
     "name": "stdout",
     "output_type": "stream",
     "text": [
      "http://twitpic.com/2y1zl http://twitpic.com/2y1zl/ezfez489 https://twitpic.com/ http://192.168.1.1/test http://azure.microsoft.com/\n",
      "clean :     \n"
     ]
    }
   ],
   "source": [
    "test_clean = \"http://twitpic.com/2y1zl http://twitpic.com/2y1zl/ezfez489 https://twitpic.com/\"\n",
    "test_clean +=\" http://192.168.1.1/test http://azure.microsoft.com/\"\n",
    "# remove url\n",
    "print(test_clean)\n",
    "def clean_url(sentence):\n",
    "    sentence = re.sub('http[s]*://[0-9a-zA-Z-_.]*.[a-z]{0,3}/[0-9a-zA-Z-_./]*', '', sentence)\n",
    "    return sentence\n",
    "\n",
    "print(\"clean :\", clean_url(test_clean))"
   ]
  },
  {
   "cell_type": "code",
   "execution_count": 11,
   "id": "5185d5c5",
   "metadata": {},
   "outputs": [
    {
     "name": "stdout",
     "output_type": "stream",
     "text": [
      ";) xD xDDDDDD xP :D ;D ;d :) ^^ ^-^ :$ *-* :p ;p :o :S ;S :/ B)  ;( :( =) =D =$ =S =P =O :| =| ;| x) O_o o_O XO --'\n",
      "\n",
      ":serpent xDeep :Departement :pertes :origan =Departement =pertes =Origan =$5 :$10\n",
      "-------------------------\n",
      "clean : emote_clin_doeil  emote_mdr emote_mdr emote_tire_langue emote_gros_sourire emote_gros_sourire emote_gros_sourire emote_sourire  emote_joyeux emote_joyeux emote_genant_discret emote_magnifique emote_tire_langue emote_tire_langue emote_surpris emote_genant emote_genant emote_deception emote_lunette  emote_insatisfait emote_insatisfait emote_sourire  emote_gros_sourire emote_genant_discret emote_genant emote_tire_langue emote_surpris emote_neutre emote_neutre emote_neutre emote_cross_smile  emote_tres_surpris emote_tres_surpris emote_ko emote_enerve \n",
      ":serpent xDeep :Departement :pertes :origan =Departement =pertes =Origan =$5 :$10\n"
     ]
    }
   ],
   "source": [
    "# smile\n",
    "test_clean = \";) xD xDDDDDD xP :D ;D ;d :) ^^ ^-^ :$ *-* :p ;p :o :S ;S :/ B)  ;( :( =) =D =$ =S =P =O :| =| ;| x) O_o o_O XO --\\'\"\n",
    "# confusion, do not clean\n",
    "test_clean += \"\\n\\n:serpent xDeep :Departement :pertes :origan =Departement =pertes =Origan =$5 :$10\"\n",
    "\n",
    "# remove url\n",
    "print(test_clean)\n",
    "def clean_smile(sentence):\n",
    "    sentence = re.sub(';\\)','emote_clin_doeil ',sentence)\n",
    "    sentence = re.sub(':\\)|=\\)','emote_sourire ',sentence)\n",
    "    sentence = re.sub('x\\)','emote_cross_smile ',sentence)\n",
    "    sentence = re.sub('x{1,}[Dd]{1,}[^A-Za-z0-9]','emote_mdr ',sentence)\n",
    "    sentence = re.sub(';[pP]{1,}[^A-Za-z0-9]|:[pP]{1,}[^A-Za-z0-9]|x[pP]{1,}[^A-Za-z0-9]|=[pP]{1,}[^A-Za-z0-9]',\n",
    "                      'emote_tire_langue ',sentence)\n",
    "    sentence = re.sub('[oO]_[oO]','emote_tres_surpris',sentence)\n",
    "    sentence = re.sub('[Xx]{1,}[Oo]{1,}[^A-Za-z0-9]','emote_ko ',sentence)\n",
    "    sentence = re.sub('[bB]\\)[^A-Za-z0-9]','emote_lunette ',sentence)\n",
    "    sentence = re.sub('[=:;][oO]{1,}[^A-Za-z0-9]','emote_surpris ',sentence)\n",
    "    sentence = re.sub('[=:;][S]{1,}[^A-Za-z0-9]','emote_genant ',sentence)\n",
    "    sentence = re.sub('[:;=][dD]{1,}[^A-Za-z0-9]','emote_gros_sourire ',sentence)\n",
    "    sentence = re.sub('[:;=][$]{1,}[^A-Za-z0-9]','emote_genant_discret ',sentence)\n",
    "    sentence = re.sub('[:;=]\\|[^A-Za-z0-9]','emote_neutre ',sentence)\n",
    "    sentence = re.sub('[:;=]/[^A-Za-z0-9]','emote_deception ',sentence)\n",
    "    sentence = re.sub('[:;=]\\([^A-Za-z0-9]','emote_insatisfait ',sentence)\n",
    "    sentence = re.sub('\\*[-_]\\*[^A-Za-z0-9]','emote_magnifique ',sentence)\n",
    "    sentence = re.sub('\\^[-_]{0,1}\\^[^A-Za-z0-9]','emote_joyeux ',sentence)\n",
    "    sentence = re.sub('--\\'[^A-Za-z0-9]','emote_enerve ',sentence)\n",
    "    return sentence\n",
    "print(\"-------------------------\")\n",
    "print(\"clean :\",clean_smile(test_clean))"
   ]
  },
  {
   "cell_type": "code",
   "execution_count": 12,
   "id": "16174ab9",
   "metadata": {},
   "outputs": [
    {
     "name": "stdout",
     "output_type": "stream",
     "text": [
      " jack &amp; martine say\" I love banana\" & &quot;And you&quot; &lt;a href=ettoutetout &gt;\n",
      "--------------\n",
      "clean :  jack & martine say\" I love banana\" & \"And you\" <a href=ettoutetout >\n"
     ]
    }
   ],
   "source": [
    "test_clean = \" jack &amp; martine say\\\" I love banana\\\" & &quot;And you&quot; &lt;a href=ettoutetout &gt;\"\n",
    "def clean_escape(sentence):\n",
    "    sentence = re.sub('&amp;','&',sentence)\n",
    "    sentence = re.sub('&quot;','\\\"',sentence)\n",
    "    sentence = re.sub('&gt;','>',sentence)\n",
    "    sentence = re.sub('&lt;','<',sentence)\n",
    "    return sentence\n",
    "\n",
    "print(test_clean)\n",
    "print(\"--------------\")\n",
    "print(\"clean :\",clean_escape(test_clean))"
   ]
  },
  {
   "cell_type": "code",
   "execution_count": 13,
   "id": "f3c39a2e",
   "metadata": {},
   "outputs": [
    {
     "name": "stdout",
     "output_type": "stream",
     "text": [
      "e same think p e lol it's fun 123 1 5 + 6 =11 aaaaaaaaa\n",
      "--------------\n",
      "clean : same think lol it's fun 123 1 5 + 6 =11 aaaaaaaaa\n"
     ]
    }
   ],
   "source": [
    "test_clean = \"e same think p e lol it\\'s fun 123 1 5 + 6 =11 aaaaaaaaa\"\n",
    "def clean_uniuque_char(sentence):\n",
    "    sentence = \" \".join([v for v in sentence.split(\" \") if ((len(v) > 1) or (not v.isalpha()))])\n",
    "    return sentence\n",
    "\n",
    "print(test_clean)\n",
    "print(\"--------------\")\n",
    "print(\"clean :\",clean_uniuque_char(test_clean))"
   ]
  },
  {
   "cell_type": "code",
   "execution_count": 14,
   "id": "084b6316",
   "metadata": {},
   "outputs": [
    {
     "name": "stdout",
     "output_type": "stream",
     "text": [
      "@AbbiDawson no but you only need to pay for plane tickets, you live with me  my mom thought it was a good idea ;)\n",
      "@abbidawson no but you only need to pay for plane tickets you live with me my mom thought it was good idea emote_clin_doeil \n"
     ]
    }
   ],
   "source": [
    "test_clean = X_train[489456]\n",
    "print(test_clean)\n",
    "def cleanning_data(sentence):\n",
    "    sentence += \" \"\n",
    "    sentence = re.sub('\\n+', ' ', sentence.lower())\n",
    "    # special caractère\n",
    "    sentence = re.sub('[éèêë]','e',sentence)\n",
    "    sentence = re.sub('[ïîì]','i',sentence)\n",
    "    sentence = re.sub('[àâä]','a',sentence)\n",
    "    sentence = re.sub('[ôö]','o',sentence) \n",
    "    sentence = re.sub('[üûù]','u',sentence)\n",
    "    sentence = re.sub('[ç]','c',sentence)\n",
    "    # personal_clean\n",
    "    sentence = clean_escape(sentence) # usless ?\n",
    "    sentence = clean_url(sentence)\n",
    "    sentence = clean_smile(sentence)\n",
    "    sentence = re.sub(r'[^a-z@#\\'_ ]+',' ',sentence)\n",
    "    sentence = clean_uniuque_char(sentence)\n",
    "    sentence = re.sub(' {2,}', ' ', sentence)\n",
    "    return sentence\n",
    "\n",
    "print(cleanning_data(test_clean))"
   ]
  },
  {
   "cell_type": "code",
   "execution_count": 14,
   "id": "fdcccb3b",
   "metadata": {},
   "outputs": [
    {
     "name": "stdout",
     "output_type": "stream",
     "text": [
      "CPU times: user 51.1 s, sys: 53 ms, total: 51.2 s\n",
      "Wall time: 51.2 s\n"
     ]
    }
   ],
   "source": [
    "%%time\n",
    "X_train = [cleanning_data(sentence) for sentence in X_train]"
   ]
  },
  {
   "cell_type": "code",
   "execution_count": 15,
   "id": "1355b17f",
   "metadata": {},
   "outputs": [
    {
     "name": "stdout",
     "output_type": "stream",
     "text": [
      "@paisleypaisley lol why do get ideas so far in advance it's not even june yet we need third knitter to have our own summer group \n"
     ]
    }
   ],
   "source": [
    "print(X_train[0])"
   ]
  },
  {
   "cell_type": "markdown",
   "id": "3e73c24f",
   "metadata": {},
   "source": [
    "## Stop_word /  lemmatization & stemming"
   ]
  },
  {
   "cell_type": "code",
   "execution_count": 16,
   "id": "e4d5522c",
   "metadata": {},
   "outputs": [
    {
     "name": "stdout",
     "output_type": "stream",
     "text": [
      "['tok2vec', 'tagger', 'attribute_ruler', 'lemmatizer']\n"
     ]
    }
   ],
   "source": [
    "nlp = spacy.load(\"en_core_web_sm\",disable=[\"ner\",\"parser\"])\n",
    "print(nlp.pipe_names)"
   ]
  },
  {
   "cell_type": "code",
   "execution_count": 17,
   "id": "d488cffb",
   "metadata": {},
   "outputs": [],
   "source": [
    "sw = nlp.Defaults.stop_words"
   ]
  },
  {
   "cell_type": "code",
   "execution_count": 18,
   "id": "bf127dfd",
   "metadata": {},
   "outputs": [
    {
     "name": "stdout",
     "output_type": "stream",
     "text": [
      "CPU times: user 8min 21s, sys: 55.7 s, total: 9min 17s\n",
      "Wall time: 8min 57s\n"
     ]
    }
   ],
   "source": [
    "%%time\n",
    "lemmatization_data = [\" \".join([w.lemma_.lower() for w in doc if not w.text.lower() in sw]) for doc in nlp.pipe(X_train, batch_size=2000, n_process=70)]"
   ]
  },
  {
   "cell_type": "code",
   "execution_count": 19,
   "id": "11ead689",
   "metadata": {},
   "outputs": [
    {
     "name": "stdout",
     "output_type": "stream",
     "text": [
      "@abbidawson need pay plane ticket live mom think good idea emote_clin_doeil\n"
     ]
    }
   ],
   "source": [
    "print(lemmatization_data[489456])"
   ]
  },
  {
   "cell_type": "code",
   "execution_count": 20,
   "id": "8cb8819b",
   "metadata": {},
   "outputs": [
    {
     "name": "stdout",
     "output_type": "stream",
     "text": [
      "@stevehill refer drama work little act class job\n",
      "\n",
      "@stevehills if were refering to the drama was working on little while back it was for acting class not for job \n"
     ]
    }
   ],
   "source": [
    "number = 189498\n",
    "print(lemmatization_data[number])\n",
    "print()\n",
    "print(X_train[number])"
   ]
  },
  {
   "cell_type": "code",
   "execution_count": 21,
   "id": "32078c30",
   "metadata": {},
   "outputs": [
    {
     "name": "stderr",
     "output_type": "stream",
     "text": [
      "[nltk_data] Downloading package punkt to /root/nltk_data...\n",
      "[nltk_data]   Unzipping tokenizers/punkt.zip.\n"
     ]
    },
    {
     "data": {
      "text/plain": [
       "True"
      ]
     },
     "execution_count": 21,
     "metadata": {},
     "output_type": "execute_result"
    }
   ],
   "source": [
    "import nltk\n",
    "from nltk.stem import PorterStemmer\n",
    "nltk.download('punkt')"
   ]
  },
  {
   "cell_type": "code",
   "execution_count": 22,
   "id": "8fb72323",
   "metadata": {},
   "outputs": [],
   "source": [
    "ps = PorterStemmer()"
   ]
  },
  {
   "cell_type": "code",
   "execution_count": 23,
   "id": "09a5648c",
   "metadata": {},
   "outputs": [
    {
     "name": "stdout",
     "output_type": "stream",
     "text": [
      "CPU times: user 4min 38s, sys: 0 ns, total: 4min 38s\n",
      "Wall time: 4min 38s\n"
     ]
    }
   ],
   "source": [
    "%%time\n",
    "stemming_data = [\" \".join([ps.stem(w) for w in nltk.word_tokenize(tweet) if not w in sw]) for tweet in X_train]"
   ]
  },
  {
   "cell_type": "code",
   "execution_count": 24,
   "id": "319c209b",
   "metadata": {},
   "outputs": [
    {
     "data": {
      "text/plain": [
       "'stand know wo wo gone miss home'"
      ]
     },
     "execution_count": 24,
     "metadata": {},
     "output_type": "execute_result"
    }
   ],
   "source": [
    "stemming_data[4]"
   ]
  },
  {
   "cell_type": "markdown",
   "id": "70873b5b",
   "metadata": {},
   "source": [
    "## Création de fonction (clean, vectorisation/word embedding)"
   ]
  },
  {
   "cell_type": "code",
   "execution_count": 25,
   "id": "1f9da736",
   "metadata": {},
   "outputs": [],
   "source": [
    "sw = nlp.Defaults.stop_words\n",
    "def basic_clean(docs,stop_word=True,multithreading = False ,n_process=70,batch_size=2000,stemming=False):\n",
    "    new_docs = [cleanning_data(sentence) for sentence in docs]\n",
    "    if stemming:\n",
    "        ps = PorterStemmer()\n",
    "        if stop_word:\n",
    "            return [\" \".join([ps.stem(w) for w in nltk.word_tokenize(tweet) if not w in sw]) for tweet in docs]\n",
    "        else:\n",
    "            return [\" \".join([ps.stem(w) for w in nltk.word_tokenize(tweet)]) for tweet in docs]\n",
    "    else:\n",
    "        if multithreading:\n",
    "            if stop_word:\n",
    "                return [\" \".join([w.lemma_.lower() for w in doc if not w.text.lower() in sw]) for doc in nlp.pipe(new_docs, batch_size=batch_size, n_process=n_process)]\n",
    "            else:\n",
    "                return [\" \".join([w.lemma_.lower() for w in doc]) for doc in nlp.pipe(new_docs, batch_size=batch_size, n_process=n_process)]\n",
    "        else:\n",
    "            if stop_word:\n",
    "                return [\" \".join([w.lemma_.lower() for w in nlp(doc) if not w.text.lower() in sw]) for doc in new_docs]\n",
    "            else:\n",
    "                return [\" \".join([w.lemma_.lower() for w in nlp(doc)]) for doc in new_docs]\n",
    "    "
   ]
  },
  {
   "cell_type": "code",
   "execution_count": 26,
   "id": "434bc211",
   "metadata": {},
   "outputs": [],
   "source": [
    "tfidf = TfidfVectorizer(max_df=0.95,min_df=2)\n",
    "# stemming\n",
    "tfidf_stem = TfidfVectorizer(max_df=0.95,min_df=2)"
   ]
  },
  {
   "cell_type": "code",
   "execution_count": 27,
   "id": "828ffb3b",
   "metadata": {},
   "outputs": [
    {
     "name": "stdout",
     "output_type": "stream",
     "text": [
      "CPU times: user 8.43 s, sys: 0 ns, total: 8.43 s\n",
      "Wall time: 8.46 s\n"
     ]
    }
   ],
   "source": [
    "%%time\n",
    "tfidf_data = tfidf.fit_transform(lemmatization_data)"
   ]
  },
  {
   "cell_type": "code",
   "execution_count": 28,
   "id": "0b90075f",
   "metadata": {},
   "outputs": [
    {
     "name": "stdout",
     "output_type": "stream",
     "text": [
      "CPU times: user 8.44 s, sys: 0 ns, total: 8.44 s\n",
      "Wall time: 8.44 s\n"
     ]
    }
   ],
   "source": [
    "%%time\n",
    "tfidf_data_stem = tfidf_stem.fit_transform(stemming_data)"
   ]
  },
  {
   "cell_type": "code",
   "execution_count": 29,
   "id": "51633ec7",
   "metadata": {},
   "outputs": [
    {
     "name": "stdout",
     "output_type": "stream",
     "text": [
      "Shape TF-IDF stem : (1280000, 162651)\n",
      "---------------------\n",
      "Shape TF-IDF : (1280000, 170898)\n"
     ]
    }
   ],
   "source": [
    "print(\"Shape TF-IDF stem :\",tfidf_data_stem.shape)\n",
    "print(\"---------------------\")\n",
    "print(\"Shape TF-IDF :\",tfidf_data.shape)"
   ]
  },
  {
   "cell_type": "code",
   "execution_count": 30,
   "id": "c5b26993",
   "metadata": {},
   "outputs": [],
   "source": [
    "def clean_transform_data(docs,stemming=False,multithreading=False):\n",
    "    new_docs = basic_clean(docs,stemming=stemming,multithreading=multithreading)\n",
    "    if stemming:\n",
    "        return tfidf_stem.transform(new_docs)\n",
    "    else:\n",
    "        return tfidf.transform(new_docs)"
   ]
  },
  {
   "cell_type": "markdown",
   "id": "b07a9945",
   "metadata": {},
   "source": [
    "# Test modèle \"simple\" (Bayes, Logistic_regression)\n",
    "\n",
    "Pour la suite on utilisera comme métrice de performance principal, **l'AUC et l'accuracy (accuracy optionnel mais rajoute une information supplémentaire intéressante)** des modèles car nous avons un jeu de données équilibrés et une volonté de bien classé nos différent tweet / texte / documents sur la base d'un score de sentiment qui est plus parlant qu'une réponse binaire.\n",
    "\n",
    "On analysera également **la matrice de confusion** avant d'analyser la classification des bon et mauvais tweet.\n",
    "\n",
    "Actuellement la modèle doit classé correctement nos bad buzz mais notre manager \"Marc\" nous demande de généraliser notre solution, il est donc nécessaire d'avoir un juste millieux entre la classification correcte des bons et mauvais tweets / textes / documents, on utiliseras pour ça principalement **l'AUC** qui nous permet d'avoir un score des sentiment d'un tweet qui est bien plus parlant qu'une réposne binaire."
   ]
  },
  {
   "cell_type": "markdown",
   "id": "179bfb85",
   "metadata": {},
   "source": [
    "### NaiveBayes Sklearn\n",
    "#### Stemming"
   ]
  },
  {
   "cell_type": "code",
   "execution_count": 31,
   "id": "9a20a1d0",
   "metadata": {},
   "outputs": [],
   "source": [
    "from sklearn.naive_bayes import MultinomialNB"
   ]
  },
  {
   "cell_type": "code",
   "execution_count": 32,
   "id": "324c4084",
   "metadata": {},
   "outputs": [],
   "source": [
    "classifier_bayes = MultinomialNB()"
   ]
  },
  {
   "cell_type": "code",
   "execution_count": 33,
   "id": "97424de1",
   "metadata": {},
   "outputs": [
    {
     "data": {
      "text/plain": [
       "MultinomialNB()"
      ]
     },
     "execution_count": 33,
     "metadata": {},
     "output_type": "execute_result"
    }
   ],
   "source": [
    "classifier_bayes.fit(tfidf_data_stem,y_train)"
   ]
  },
  {
   "cell_type": "code",
   "execution_count": 34,
   "id": "0f9e4957",
   "metadata": {},
   "outputs": [
    {
     "name": "stdout",
     "output_type": "stream",
     "text": [
      "CPU times: user 1min 46s, sys: 0 ns, total: 1min 46s\n",
      "Wall time: 1min 46s\n"
     ]
    }
   ],
   "source": [
    "%%time\n",
    "tfidf_test_stem = clean_transform_data(X_test,stemming=True)"
   ]
  },
  {
   "cell_type": "code",
   "execution_count": 35,
   "id": "1974f978",
   "metadata": {},
   "outputs": [
    {
     "data": {
      "text/plain": [
       "(320000, 162651)"
      ]
     },
     "execution_count": 35,
     "metadata": {},
     "output_type": "execute_result"
    }
   ],
   "source": [
    "tfidf_test_stem.shape"
   ]
  },
  {
   "cell_type": "code",
   "execution_count": 36,
   "id": "ce1dd512",
   "metadata": {},
   "outputs": [],
   "source": [
    "y_pred_prob = classifier_bayes.predict_proba(tfidf_test_stem)\n",
    "y_pred = classifier_bayes.predict(tfidf_test_stem)"
   ]
  },
  {
   "cell_type": "code",
   "execution_count": 37,
   "id": "34fc758a",
   "metadata": {},
   "outputs": [],
   "source": [
    "from sklearn.metrics import accuracy_score, confusion_matrix, classification_report, roc_auc_score\n",
    "def show_result_binary(y_pred, y_pred_prob, y_true):\n",
    "    print(\"accuracy score :\",accuracy_score(y_test,y_pred))\n",
    "    print(\"AUC score :\",roc_auc_score(y_test,y_pred_prob[:,1]))\n",
    "    cm = confusion_matrix(y_test,y_pred)\n",
    "    print(classification_report(y_test,y_pred))\n",
    "    return pd.DataFrame(cm,columns=[\"good\",\"bad\"],index=[\"good\",\"bad\"])"
   ]
  },
  {
   "cell_type": "code",
   "execution_count": 38,
   "id": "0cf799b2",
   "metadata": {},
   "outputs": [
    {
     "name": "stdout",
     "output_type": "stream",
     "text": [
      "accuracy score : 0.7498\n",
      "AUC score : 0.8297499201757812\n",
      "              precision    recall  f1-score   support\n",
      "\n",
      "         bad       0.75      0.74      0.75    160000\n",
      "        good       0.75      0.76      0.75    160000\n",
      "\n",
      "    accuracy                           0.75    320000\n",
      "   macro avg       0.75      0.75      0.75    320000\n",
      "weighted avg       0.75      0.75      0.75    320000\n",
      "\n"
     ]
    },
    {
     "data": {
      "text/html": [
       "<div>\n",
       "<style scoped>\n",
       "    .dataframe tbody tr th:only-of-type {\n",
       "        vertical-align: middle;\n",
       "    }\n",
       "\n",
       "    .dataframe tbody tr th {\n",
       "        vertical-align: top;\n",
       "    }\n",
       "\n",
       "    .dataframe thead th {\n",
       "        text-align: right;\n",
       "    }\n",
       "</style>\n",
       "<table border=\"1\" class=\"dataframe\">\n",
       "  <thead>\n",
       "    <tr style=\"text-align: right;\">\n",
       "      <th></th>\n",
       "      <th>good</th>\n",
       "      <th>bad</th>\n",
       "    </tr>\n",
       "  </thead>\n",
       "  <tbody>\n",
       "    <tr>\n",
       "      <th>good</th>\n",
       "      <td>118413</td>\n",
       "      <td>41587</td>\n",
       "    </tr>\n",
       "    <tr>\n",
       "      <th>bad</th>\n",
       "      <td>38477</td>\n",
       "      <td>121523</td>\n",
       "    </tr>\n",
       "  </tbody>\n",
       "</table>\n",
       "</div>"
      ],
      "text/plain": [
       "        good     bad\n",
       "good  118413   41587\n",
       "bad    38477  121523"
      ]
     },
     "execution_count": 38,
     "metadata": {},
     "output_type": "execute_result"
    }
   ],
   "source": [
    "show_result_binary(y_pred,y_pred_prob,y_test)"
   ]
  },
  {
   "cell_type": "markdown",
   "id": "a03e0672",
   "metadata": {},
   "source": [
    "#### Lemmatization"
   ]
  },
  {
   "cell_type": "code",
   "execution_count": 39,
   "id": "5aa9deaf",
   "metadata": {},
   "outputs": [
    {
     "name": "stdout",
     "output_type": "stream",
     "text": [
      "CPU times: user 2.62 s, sys: 0 ns, total: 2.62 s\n",
      "Wall time: 2.62 s\n"
     ]
    },
    {
     "data": {
      "text/plain": [
       "MultinomialNB()"
      ]
     },
     "execution_count": 39,
     "metadata": {},
     "output_type": "execute_result"
    }
   ],
   "source": [
    "%%time\n",
    "classifier_bayes = MultinomialNB()\n",
    "classifier_bayes.fit(tfidf_data,y_train)"
   ]
  },
  {
   "cell_type": "code",
   "execution_count": 40,
   "id": "7533fe97",
   "metadata": {},
   "outputs": [
    {
     "name": "stdout",
     "output_type": "stream",
     "text": [
      "CPU times: user 2min 15s, sys: 11.9 s, total: 2min 27s\n",
      "Wall time: 2min 28s\n"
     ]
    }
   ],
   "source": [
    "%%time\n",
    "tfidf_test = clean_transform_data(X_test,stemming=False,multithreading=True)"
   ]
  },
  {
   "cell_type": "code",
   "execution_count": 41,
   "id": "a8d58464",
   "metadata": {},
   "outputs": [],
   "source": [
    "y_pred = classifier_bayes.predict(tfidf_test)\n",
    "y_pred_prob = classifier_bayes.predict_proba(tfidf_test)"
   ]
  },
  {
   "cell_type": "code",
   "execution_count": 42,
   "id": "1098f5ab",
   "metadata": {},
   "outputs": [
    {
     "name": "stdout",
     "output_type": "stream",
     "text": [
      "accuracy score : 0.753075\n",
      "AUC score : 0.8343503875585937\n",
      "              precision    recall  f1-score   support\n",
      "\n",
      "         bad       0.75      0.77      0.76    160000\n",
      "        good       0.76      0.74      0.75    160000\n",
      "\n",
      "    accuracy                           0.75    320000\n",
      "   macro avg       0.75      0.75      0.75    320000\n",
      "weighted avg       0.75      0.75      0.75    320000\n",
      "\n"
     ]
    },
    {
     "data": {
      "text/html": [
       "<div>\n",
       "<style scoped>\n",
       "    .dataframe tbody tr th:only-of-type {\n",
       "        vertical-align: middle;\n",
       "    }\n",
       "\n",
       "    .dataframe tbody tr th {\n",
       "        vertical-align: top;\n",
       "    }\n",
       "\n",
       "    .dataframe thead th {\n",
       "        text-align: right;\n",
       "    }\n",
       "</style>\n",
       "<table border=\"1\" class=\"dataframe\">\n",
       "  <thead>\n",
       "    <tr style=\"text-align: right;\">\n",
       "      <th></th>\n",
       "      <th>good</th>\n",
       "      <th>bad</th>\n",
       "    </tr>\n",
       "  </thead>\n",
       "  <tbody>\n",
       "    <tr>\n",
       "      <th>good</th>\n",
       "      <td>122707</td>\n",
       "      <td>37293</td>\n",
       "    </tr>\n",
       "    <tr>\n",
       "      <th>bad</th>\n",
       "      <td>41723</td>\n",
       "      <td>118277</td>\n",
       "    </tr>\n",
       "  </tbody>\n",
       "</table>\n",
       "</div>"
      ],
      "text/plain": [
       "        good     bad\n",
       "good  122707   37293\n",
       "bad    41723  118277"
      ]
     },
     "execution_count": 42,
     "metadata": {},
     "output_type": "execute_result"
    }
   ],
   "source": [
    "show_result_binary(y_pred,y_pred_prob,y_test)"
   ]
  },
  {
   "cell_type": "markdown",
   "id": "6fc36d04",
   "metadata": {},
   "source": [
    "### Logistic_regression\n",
    "\n",
    "Pour cette partie on cherchera le meilleur modèle qui optimisera l'AUC, et donc prédira le plus juste le sentiment d'un tweet sur la base d'un score de sentiment de négatif (0) à positif (1)"
   ]
  },
  {
   "cell_type": "code",
   "execution_count": 43,
   "id": "ddf66972",
   "metadata": {},
   "outputs": [],
   "source": [
    "from sklearn.linear_model import LogisticRegression"
   ]
  },
  {
   "cell_type": "code",
   "execution_count": 44,
   "id": "4917d9bb",
   "metadata": {},
   "outputs": [],
   "source": [
    "lr_classifier = LogisticRegression(n_jobs=60)"
   ]
  },
  {
   "cell_type": "markdown",
   "id": "e7ca5e95",
   "metadata": {},
   "source": [
    "### Stemming"
   ]
  },
  {
   "cell_type": "code",
   "execution_count": 45,
   "id": "f6f08f0c",
   "metadata": {},
   "outputs": [
    {
     "name": "stdout",
     "output_type": "stream",
     "text": [
      "CPU times: user 1min 46s, sys: 0 ns, total: 1min 46s\n",
      "Wall time: 1min 46s\n"
     ]
    }
   ],
   "source": [
    "%%time\n",
    "tfidf_test_stem = clean_transform_data(X_test,stemming=True)"
   ]
  },
  {
   "cell_type": "code",
   "execution_count": 46,
   "id": "0d9799ac",
   "metadata": {},
   "outputs": [
    {
     "name": "stdout",
     "output_type": "stream",
     "text": [
      "CPU times: user 1.32 s, sys: 1.02 s, total: 2.34 s\n",
      "Wall time: 18.5 s\n"
     ]
    },
    {
     "data": {
      "text/plain": [
       "LogisticRegression(n_jobs=60)"
      ]
     },
     "execution_count": 46,
     "metadata": {},
     "output_type": "execute_result"
    }
   ],
   "source": [
    "%%time\n",
    "lr_classifier.fit(tfidf_data_stem,y_train)"
   ]
  },
  {
   "cell_type": "code",
   "execution_count": 47,
   "id": "03e7fe36",
   "metadata": {},
   "outputs": [],
   "source": [
    "y_pred = lr_classifier.predict(tfidf_test_stem)\n",
    "y_pred_prob = lr_classifier.predict_proba(tfidf_test_stem)"
   ]
  },
  {
   "cell_type": "code",
   "execution_count": 48,
   "id": "c302a28f",
   "metadata": {},
   "outputs": [
    {
     "name": "stdout",
     "output_type": "stream",
     "text": [
      "Mot impactant positivement : ['thank', 'iamsoannoy', 'welcom', 'congratul', 'smile', 'fuzzbal', 'followfriday', 'tweeteradd', 'glad', 'congrat', 'proud', 'hehe', 'tweeterfollow', 'love', 'awesom', 'heheh', 'yay', 'pleasur', 'www', 'hihi']\n"
     ]
    }
   ],
   "source": [
    "print(\"Mot impactant positivement :\",[tfidf_stem.get_feature_names()[lr_classifier.coef_.argsort()[0][::-1][i]] for i in range(20)])"
   ]
  },
  {
   "cell_type": "code",
   "execution_count": 49,
   "id": "37fa96c7",
   "metadata": {},
   "outputs": [
    {
     "name": "stdout",
     "output_type": "stream",
     "text": [
      "Mot impactant négativement : ['sad', 'sadli', 'miss', 'poor', 'unfortun', 'sick', 'upset', 'bummer', 'depress', 'wish', 'disappoint', 'sadden', 'inaperfectworld', 'rip', 'cancel', 'hurt', 'suck', 'broke', 'cri', 'sorri']\n"
     ]
    }
   ],
   "source": [
    "print(\"Mot impactant négativement :\",[tfidf_stem.get_feature_names()[lr_classifier.coef_.argsort()[0][i]] for i in range(20)])"
   ]
  },
  {
   "cell_type": "code",
   "execution_count": 50,
   "id": "f169da0c",
   "metadata": {},
   "outputs": [
    {
     "name": "stdout",
     "output_type": "stream",
     "text": [
      "accuracy score : 0.769403125\n",
      "AUC score : 0.8484383484765625\n",
      "              precision    recall  f1-score   support\n",
      "\n",
      "         bad       0.79      0.73      0.76    160000\n",
      "        good       0.75      0.81      0.78    160000\n",
      "\n",
      "    accuracy                           0.77    320000\n",
      "   macro avg       0.77      0.77      0.77    320000\n",
      "weighted avg       0.77      0.77      0.77    320000\n",
      "\n"
     ]
    },
    {
     "data": {
      "text/html": [
       "<div>\n",
       "<style scoped>\n",
       "    .dataframe tbody tr th:only-of-type {\n",
       "        vertical-align: middle;\n",
       "    }\n",
       "\n",
       "    .dataframe tbody tr th {\n",
       "        vertical-align: top;\n",
       "    }\n",
       "\n",
       "    .dataframe thead th {\n",
       "        text-align: right;\n",
       "    }\n",
       "</style>\n",
       "<table border=\"1\" class=\"dataframe\">\n",
       "  <thead>\n",
       "    <tr style=\"text-align: right;\">\n",
       "      <th></th>\n",
       "      <th>good</th>\n",
       "      <th>bad</th>\n",
       "    </tr>\n",
       "  </thead>\n",
       "  <tbody>\n",
       "    <tr>\n",
       "      <th>good</th>\n",
       "      <td>117258</td>\n",
       "      <td>42742</td>\n",
       "    </tr>\n",
       "    <tr>\n",
       "      <th>bad</th>\n",
       "      <td>31049</td>\n",
       "      <td>128951</td>\n",
       "    </tr>\n",
       "  </tbody>\n",
       "</table>\n",
       "</div>"
      ],
      "text/plain": [
       "        good     bad\n",
       "good  117258   42742\n",
       "bad    31049  128951"
      ]
     },
     "execution_count": 50,
     "metadata": {},
     "output_type": "execute_result"
    }
   ],
   "source": [
    "show_result_binary(y_pred,y_pred_prob,y_test)"
   ]
  },
  {
   "cell_type": "markdown",
   "id": "f5073851",
   "metadata": {},
   "source": [
    "### Lemmatization"
   ]
  },
  {
   "cell_type": "code",
   "execution_count": 51,
   "id": "2d184f43",
   "metadata": {},
   "outputs": [],
   "source": [
    "lr_classifier = LogisticRegression(n_jobs=60).fit(tfidf_data,y_train)"
   ]
  },
  {
   "cell_type": "code",
   "execution_count": 52,
   "id": "8b021e9e",
   "metadata": {},
   "outputs": [
    {
     "name": "stdout",
     "output_type": "stream",
     "text": [
      "CPU times: user 2min 19s, sys: 10.2 s, total: 2min 29s\n",
      "Wall time: 2min 27s\n"
     ]
    }
   ],
   "source": [
    "%%time\n",
    "tfidf_test = clean_transform_data(X_test,stemming=False,multithreading=True)"
   ]
  },
  {
   "cell_type": "code",
   "execution_count": 53,
   "id": "9983985d",
   "metadata": {},
   "outputs": [],
   "source": [
    "y_pred = lr_classifier.predict(tfidf_test)\n",
    "y_pred_prob = lr_classifier.predict_proba(tfidf_test)"
   ]
  },
  {
   "cell_type": "code",
   "execution_count": 54,
   "id": "d2a265e0",
   "metadata": {},
   "outputs": [
    {
     "name": "stdout",
     "output_type": "stream",
     "text": [
      "Mot impactant positivement : ['thank', 'welcome', 'iamsoannoyed', 'congratulation', 'tweeteradd', 'smile', 'proud', 'tweeterfollow', 'fuzzball', 'glad', 'congrat', 'followfriday', 'pleasure', 'hehe', 'thx', 'yay', 'awesome', 'love', 'happy', 'hehehe']\n"
     ]
    }
   ],
   "source": [
    "print(\"Mot impactant positivement :\",[tfidf.get_feature_names()[lr_classifier.coef_.argsort()[0][::-1][i]] for i in range(20)])"
   ]
  },
  {
   "cell_type": "code",
   "execution_count": 55,
   "id": "d3701062",
   "metadata": {},
   "outputs": [
    {
     "name": "stdout",
     "output_type": "stream",
     "text": [
      "Mot impactant négativement : ['sad', 'miss', 'sadly', 'poor', 'unfortunately', 'disappointed', 'gutte', 'bummed', 'sick', 'wish', 'upset', 'bummer', 'cancel', 'hurt', 'depressing', 'cry', 'disappointing', 'suck', 'depressed', 'sadden']\n"
     ]
    }
   ],
   "source": [
    "print(\"Mot impactant négativement :\",[tfidf.get_feature_names()[lr_classifier.coef_.argsort()[0][i]] for i in range(20)])"
   ]
  },
  {
   "cell_type": "code",
   "execution_count": 56,
   "id": "54d35828",
   "metadata": {},
   "outputs": [
    {
     "name": "stdout",
     "output_type": "stream",
     "text": [
      "accuracy score : 0.771584375\n",
      "AUC score : 0.8520599066210937\n",
      "              precision    recall  f1-score   support\n",
      "\n",
      "         bad       0.78      0.75      0.77    160000\n",
      "        good       0.76      0.80      0.78    160000\n",
      "\n",
      "    accuracy                           0.77    320000\n",
      "   macro avg       0.77      0.77      0.77    320000\n",
      "weighted avg       0.77      0.77      0.77    320000\n",
      "\n"
     ]
    },
    {
     "data": {
      "text/html": [
       "<div>\n",
       "<style scoped>\n",
       "    .dataframe tbody tr th:only-of-type {\n",
       "        vertical-align: middle;\n",
       "    }\n",
       "\n",
       "    .dataframe tbody tr th {\n",
       "        vertical-align: top;\n",
       "    }\n",
       "\n",
       "    .dataframe thead th {\n",
       "        text-align: right;\n",
       "    }\n",
       "</style>\n",
       "<table border=\"1\" class=\"dataframe\">\n",
       "  <thead>\n",
       "    <tr style=\"text-align: right;\">\n",
       "      <th></th>\n",
       "      <th>good</th>\n",
       "      <th>bad</th>\n",
       "    </tr>\n",
       "  </thead>\n",
       "  <tbody>\n",
       "    <tr>\n",
       "      <th>good</th>\n",
       "      <td>119689</td>\n",
       "      <td>40311</td>\n",
       "    </tr>\n",
       "    <tr>\n",
       "      <th>bad</th>\n",
       "      <td>32782</td>\n",
       "      <td>127218</td>\n",
       "    </tr>\n",
       "  </tbody>\n",
       "</table>\n",
       "</div>"
      ],
      "text/plain": [
       "        good     bad\n",
       "good  119689   40311\n",
       "bad    32782  127218"
      ]
     },
     "execution_count": 56,
     "metadata": {},
     "output_type": "execute_result"
    }
   ],
   "source": [
    "show_result_binary(y_pred,y_pred_prob,y_test)"
   ]
  },
  {
   "cell_type": "markdown",
   "id": "652863d9",
   "metadata": {},
   "source": [
    "## Optimisation Logistic_regression\n",
    "\n",
    "On prendra pour l'optimisation le jeu de données avec lemmatization"
   ]
  },
  {
   "cell_type": "code",
   "execution_count": 57,
   "id": "857537df",
   "metadata": {},
   "outputs": [],
   "source": [
    "from sklearn.model_selection import GridSearchCV"
   ]
  },
  {
   "cell_type": "code",
   "execution_count": 58,
   "id": "147c4c97",
   "metadata": {},
   "outputs": [],
   "source": [
    "params = {\n",
    "    \"C\":np.logspace(-5, 1, 20),\n",
    "    \"max_iter\":[200,300,400],\n",
    "}\n",
    "Logistic_regression =  LogisticRegression(random_state=42,n_jobs=30)"
   ]
  },
  {
   "cell_type": "code",
   "execution_count": 59,
   "id": "552afa19",
   "metadata": {},
   "outputs": [],
   "source": [
    "grid = GridSearchCV(Logistic_regression,params,scoring=\"roc_auc\",cv=5,n_jobs=30)"
   ]
  },
  {
   "cell_type": "code",
   "execution_count": 60,
   "id": "b5a92b8d",
   "metadata": {},
   "outputs": [
    {
     "name": "stdout",
     "output_type": "stream",
     "text": [
      "CPU times: user 18.9 s, sys: 1.56 s, total: 20.5 s\n",
      "Wall time: 6min 11s\n"
     ]
    },
    {
     "data": {
      "text/plain": [
       "GridSearchCV(cv=5, estimator=LogisticRegression(n_jobs=30, random_state=42),\n",
       "             n_jobs=30,\n",
       "             param_grid={'C': array([1.00000000e-05, 2.06913808e-05, 4.28133240e-05, 8.85866790e-05,\n",
       "       1.83298071e-04, 3.79269019e-04, 7.84759970e-04, 1.62377674e-03,\n",
       "       3.35981829e-03, 6.95192796e-03, 1.43844989e-02, 2.97635144e-02,\n",
       "       6.15848211e-02, 1.27427499e-01, 2.63665090e-01, 5.45559478e-01,\n",
       "       1.12883789e+00, 2.33572147e+00, 4.83293024e+00, 1.00000000e+01]),\n",
       "                         'max_iter': [200, 300, 400]},\n",
       "             scoring='roc_auc')"
      ]
     },
     "execution_count": 60,
     "metadata": {},
     "output_type": "execute_result"
    }
   ],
   "source": [
    "%%time\n",
    "grid.fit(tfidf_data,y_train)"
   ]
  },
  {
   "cell_type": "code",
   "execution_count": 61,
   "id": "b97ccbd5",
   "metadata": {},
   "outputs": [
    {
     "name": "stdout",
     "output_type": "stream",
     "text": [
      "Le meilleur score est: 0.8524477706359864 \n",
      "avec les paramètres suivant : {'C': 1.1288378916846884, 'max_iter': 400}\n"
     ]
    }
   ],
   "source": [
    "print(\"Le meilleur score est:\",grid.best_score_,\"\\navec les paramètres suivant :\",grid.best_params_)"
   ]
  },
  {
   "cell_type": "code",
   "execution_count": 62,
   "id": "20cea45b",
   "metadata": {},
   "outputs": [],
   "source": [
    "best_classfier = grid.best_estimator_"
   ]
  },
  {
   "cell_type": "code",
   "execution_count": 63,
   "id": "750acfb7",
   "metadata": {},
   "outputs": [],
   "source": [
    "y_pred = best_classfier.predict(tfidf_test)\n",
    "y_pred_prob = best_classfier.predict_proba(tfidf_test)"
   ]
  },
  {
   "cell_type": "code",
   "execution_count": 64,
   "id": "b94c3a9a",
   "metadata": {},
   "outputs": [
    {
     "name": "stdout",
     "output_type": "stream",
     "text": [
      "accuracy score : 0.7717375\n",
      "AUC score : 0.8521386838085937\n",
      "              precision    recall  f1-score   support\n",
      "\n",
      "         bad       0.78      0.75      0.77    160000\n",
      "        good       0.76      0.79      0.78    160000\n",
      "\n",
      "    accuracy                           0.77    320000\n",
      "   macro avg       0.77      0.77      0.77    320000\n",
      "weighted avg       0.77      0.77      0.77    320000\n",
      "\n"
     ]
    },
    {
     "data": {
      "text/html": [
       "<div>\n",
       "<style scoped>\n",
       "    .dataframe tbody tr th:only-of-type {\n",
       "        vertical-align: middle;\n",
       "    }\n",
       "\n",
       "    .dataframe tbody tr th {\n",
       "        vertical-align: top;\n",
       "    }\n",
       "\n",
       "    .dataframe thead th {\n",
       "        text-align: right;\n",
       "    }\n",
       "</style>\n",
       "<table border=\"1\" class=\"dataframe\">\n",
       "  <thead>\n",
       "    <tr style=\"text-align: right;\">\n",
       "      <th></th>\n",
       "      <th>good</th>\n",
       "      <th>bad</th>\n",
       "    </tr>\n",
       "  </thead>\n",
       "  <tbody>\n",
       "    <tr>\n",
       "      <th>good</th>\n",
       "      <td>119812</td>\n",
       "      <td>40188</td>\n",
       "    </tr>\n",
       "    <tr>\n",
       "      <th>bad</th>\n",
       "      <td>32856</td>\n",
       "      <td>127144</td>\n",
       "    </tr>\n",
       "  </tbody>\n",
       "</table>\n",
       "</div>"
      ],
      "text/plain": [
       "        good     bad\n",
       "good  119812   40188\n",
       "bad    32856  127144"
      ]
     },
     "execution_count": 64,
     "metadata": {},
     "output_type": "execute_result"
    }
   ],
   "source": [
    "show_result_binary(y_pred,y_pred_prob,y_test)"
   ]
  },
  {
   "cell_type": "markdown",
   "id": "57035817",
   "metadata": {},
   "source": [
    "# Test modèle \"avancé\" (Classqiue DL,Glove, Word2Vec BERT, LSTM)\n",
    "\n",
    "Les modèles \"classique\" obtiennes ici un score maximum de 0.85 d'AUC (Area Under the Curve) avec une matrice TF-IDF de tweet propre sur une régression logistique optimisé.\n",
    "\n",
    "Ce score sera notre baseline de comparaison, le temps d'entrainement ici est très court avec 22 seconde d'entrainement sur 80% du jeu de données et création de la matrice TF-IDF + nettoyage des tweet en 11 minute ( 10 seconde seulement création matrice TF-IDF, 10 minute pour le nettoyage des stop_word et lemmatization et ensuite 50 seconde nettoyage simple des tweets)\n",
    "\n",
    "Si on prend l'ensemble de la possible pipeline nous somme à environ **11 mintues 30 secondes et AUC à 0.85**."
   ]
  },
  {
   "cell_type": "code",
   "execution_count": 15,
   "id": "cc5905d7",
   "metadata": {},
   "outputs": [
    {
     "name": "stdout",
     "output_type": "stream",
     "text": [
      "train_set : (1280000,)\n",
      "test_set : (320000,)\n"
     ]
    }
   ],
   "source": [
    "# On reprend de 0\n",
    "X_train = data_train[\"text\"].values\n",
    "y_train = data_train[\"sentiment\"].values\n",
    "\n",
    "X_test = data_test[\"text\"].values\n",
    "y_test = data_test[\"sentiment\"].values\n",
    "print(\"train_set :\",X_train.shape)\n",
    "print(\"test_set :\",X_test.shape)"
   ]
  },
  {
   "cell_type": "code",
   "execution_count": 15,
   "id": "8f5377aa",
   "metadata": {},
   "outputs": [],
   "source": [
    "new_size=100000\n",
    "size=new_size//2\n",
    "\n",
    "pos_X = []\n",
    "i = 0\n",
    "while len(pos_X) < size:\n",
    "    if y_train[i] ==\"good\":\n",
    "        pos_X.append(X_train[i])\n",
    "    i+=1\n",
    "i=0\n",
    "neg_X = []\n",
    "while len(neg_X) < size:\n",
    "    if y_train[i] ==\"bad\":\n",
    "        neg_X.append(X_train[i])\n",
    "    i+=1\n",
    "reduce_X = pos_X\n",
    "\n",
    "reduce_X.extend(neg_X)\n",
    "reduce_Y = [\"good\" for i in range(size)]\n",
    "reduce_Y.extend([\"bad\" for i in range(size)])"
   ]
  },
  {
   "cell_type": "code",
   "execution_count": 16,
   "id": "69c62f29",
   "metadata": {},
   "outputs": [],
   "source": [
    "new_size=40000\n",
    "size=new_size//2\n",
    "\n",
    "pos_X = []\n",
    "i = 500000\n",
    "while len(pos_X) < size:\n",
    "    if y_train[i] ==\"good\":\n",
    "        pos_X.append(X_train[i])\n",
    "    i+=1\n",
    "i=500000\n",
    "neg_X = []\n",
    "while len(neg_X) < size:\n",
    "    if y_train[i] ==\"bad\":\n",
    "        neg_X.append(X_train[i])\n",
    "    i+=1\n",
    "reduce_X_test = pos_X\n",
    "\n",
    "reduce_X_test.extend(neg_X)\n",
    "reduce_Y_test = [\"good\" for i in range(size)]\n",
    "reduce_Y_test.extend([\"bad\" for i in range(size)])"
   ]
  },
  {
   "cell_type": "markdown",
   "id": "a3f43e24",
   "metadata": {},
   "source": [
    "## Démarche de recherche\n",
    "1) La première étape ici consistera à vérifier la pertinance de faire de la lemmatisation ou du stemming pour l'amélioration d'algorithme de DL type (Embedding -> LSTM -> Dense)\n",
    "\n",
    "\n",
    "2) Après ça on effectura un benchmark de plusieur type d'algorithme DL afin de trouver la meilleur structure :\n",
    "\n",
    "- Modèle DL multicouche\n",
    "- Modèle LSTM Embedding générer automatiquement\n",
    "- Modèle LSTM avec Word2Vec \n",
    "- Modèle LSTM avec Glove\n",
    "- Modèle Pré-entrainer BERT (Transfer-Learning)\n",
    "\n",
    "3) Après avoir analysé plusieur modèle on choisira un modèle afin de l'optimiser.\n",
    "\n",
    "\n",
    "4) Une fois la recherche d'hyperparamètre effectué, on générera notre modèle final grâce à une Pipeline."
   ]
  },
  {
   "cell_type": "markdown",
   "id": "738f4886",
   "metadata": {},
   "source": [
    "## Recherche meilleur jeu de données"
   ]
  },
  {
   "cell_type": "code",
   "execution_count": 156,
   "id": "7d0750d8",
   "metadata": {},
   "outputs": [
    {
     "name": "stdout",
     "output_type": "stream",
     "text": [
      "CPU times: user 1min 28s, sys: 24.9 s, total: 1min 53s\n",
      "Wall time: 1min 44s\n"
     ]
    }
   ],
   "source": [
    "%%time\n",
    "# regex clean + lemmatisation + stop word\n",
    "X_1 = basic_clean(reduce_X,multithreading=True)\n",
    "# regex clean + lemmatisation\n",
    "X_2 = basic_clean(reduce_X,stop_word=False,multithreading=True)\n",
    "# regex clean\n",
    "X_3 = [cleanning_data(tweet) for tweet in reduce_X]\n",
    "# Aucun clean\n",
    "X_4 = reduce_X"
   ]
  },
  {
   "cell_type": "code",
   "execution_count": 14,
   "id": "f75ac134",
   "metadata": {},
   "outputs": [],
   "source": [
    "def tokenize_data(data,tokenizer,maxlen=None):\n",
    "    X = tokenizer.texts_to_sequences(data)\n",
    "    return pad_sequences(X,maxlen=maxlen)"
   ]
  },
  {
   "cell_type": "code",
   "execution_count": 160,
   "id": "c89d5a54",
   "metadata": {},
   "outputs": [],
   "source": [
    "def get_basic_model(X,embed_dim = 128,lstm_out = 256,printing=True):\n",
    "    model = Sequential()\n",
    "    model.add(Embedding(10000, embed_dim,input_length = X.shape[1]))\n",
    "    model.add(Dropout(0.2))\n",
    "    model.add(LSTM(lstm_out))\n",
    "    model.add(Dropout(0.2))\n",
    "    model.add(Dense(2,activation='softmax'))\n",
    "    model.compile(loss = 'categorical_crossentropy', optimizer='adam',metrics = [\"AUC\",'accuracy'])\n",
    "    if printing:\n",
    "        print(model.summary())\n",
    "    return model"
   ]
  },
  {
   "cell_type": "code",
   "execution_count": 163,
   "id": "5dce27e6",
   "metadata": {},
   "outputs": [
    {
     "name": "stdout",
     "output_type": "stream",
     "text": [
      "CPU times: user 12.1 s, sys: 0 ns, total: 12.1 s\n",
      "Wall time: 12.1 s\n"
     ]
    }
   ],
   "source": [
    "%%time\n",
    "dic_data = {}\n",
    "\n",
    "# regex clean + lemmatisation + stop word\n",
    "tokenizer = Tokenizer()\n",
    "tokenizer.fit_on_texts(X_1)\n",
    "dic_data[\"clean_lemma_sw\"] = tokenize_data(reduce_X,tokenizer,maxlen=100)\n",
    "\n",
    "# regex clean + lemmatisation\n",
    "tokenizer = Tokenizer()\n",
    "tokenizer.fit_on_texts(X_2)\n",
    "dic_data[\"clean_lemma\"] = tokenize_data(reduce_X,tokenizer,maxlen=100)\n",
    "\n",
    "# regex clean\n",
    "tokenizer = Tokenizer()\n",
    "tokenizer.fit_on_texts(X_3)\n",
    "dic_data[\"clean\"] = tokenize_data(reduce_X,tokenizer,maxlen=100)\n",
    "\n",
    "# Aucun clean\n",
    "tokenizer = Tokenizer()\n",
    "tokenizer.fit_on_texts(X_4)\n",
    "dic_data[\"no_clean\"] = tokenize_data(reduce_X,tokenizer,maxlen=100)"
   ]
  },
  {
   "cell_type": "code",
   "execution_count": 191,
   "id": "a28d3396",
   "metadata": {},
   "outputs": [
    {
     "name": "stdout",
     "output_type": "stream",
     "text": [
      "Structure du modèle d'entrainement :\n",
      "Model: \"sequential_17\"\n",
      "_________________________________________________________________\n",
      "Layer (type)                 Output Shape              Param #   \n",
      "=================================================================\n",
      "embedding_8 (Embedding)      (None, 100, 128)          1280000   \n",
      "_________________________________________________________________\n",
      "dropout_24 (Dropout)         (None, 100, 128)          0         \n",
      "_________________________________________________________________\n",
      "lstm_17 (LSTM)               (None, 256)               394240    \n",
      "_________________________________________________________________\n",
      "dropout_25 (Dropout)         (None, 256)               0         \n",
      "_________________________________________________________________\n",
      "dense_17 (Dense)             (None, 2)                 514       \n",
      "=================================================================\n",
      "Total params: 1,674,754\n",
      "Trainable params: 1,674,754\n",
      "Non-trainable params: 0\n",
      "_________________________________________________________________\n",
      "None\n"
     ]
    }
   ],
   "source": [
    "print(\"Structure du modèle d\\'entrainement :\")\n",
    "_= get_basic_model(dic_data[\"no_clean\"],printing=True)"
   ]
  },
  {
   "cell_type": "code",
   "execution_count": 188,
   "id": "2b19131c",
   "metadata": {},
   "outputs": [
    {
     "name": "stdout",
     "output_type": "stream",
     "text": [
      "clean_lemma_sw\n",
      "2500/2500 [==============================] - 93s 37ms/step - loss: 0.5250 - auc: 0.8148 - accuracy: 0.7330 - val_loss: 0.4919 - val_auc: 0.8414 - val_accuracy: 0.7597\n",
      "clean_lemma\n",
      "2500/2500 [==============================] - 94s 37ms/step - loss: 0.5169 - auc: 0.8218 - accuracy: 0.7410 - val_loss: 0.4797 - val_auc: 0.8506 - val_accuracy: 0.7693\n",
      "clean\n",
      "2500/2500 [==============================] - 94s 37ms/step - loss: 0.4899 - auc: 0.8436 - accuracy: 0.7634 - val_loss: 0.4439 - val_auc: 0.8752 - val_accuracy: 0.7919\n",
      "no_clean\n",
      "2500/2500 [==============================] - 96s 38ms/step - loss: 0.4901 - auc: 0.8433 - accuracy: 0.7621 - val_loss: 0.4428 - val_auc: 0.8752 - val_accuracy: 0.7903\n"
     ]
    }
   ],
   "source": [
    "result_history=[]\n",
    "Y = pd.get_dummies(reduce_Y).values\n",
    "\n",
    "for name, X in dic_data.items():\n",
    "    print(name)\n",
    "    model = get_basic_model(X,printing=False)\n",
    "    trainset_X, validset_X, trainset_Y, validset_Y = train_test_split(X,Y, test_size = 0.20,stratify=Y, random_state = 42)\n",
    "    history = model.fit(trainset_X, trainset_Y,validation_data=(validset_X, validset_Y), batch_size =32, epochs = 1)\n",
    "    result_history.append(history)"
   ]
  },
  {
   "cell_type": "markdown",
   "id": "b557b5ad",
   "metadata": {},
   "source": [
    "> On voit sur ces résultats que le jeu de données clean avec regex uniquement offre de meilleur résultat, ce qui peut sembler logique puisque plus le jeu de données et traiter plus on perd de l'information. Le \"no-clean\" ici semblent toute fois legerment moins performant.  "
   ]
  },
  {
   "cell_type": "code",
   "execution_count": 59,
   "id": "bebff551",
   "metadata": {},
   "outputs": [],
   "source": [
    "X_train = [cleanning_data(tweet) for tweet in X_train]\n",
    "X_test = [cleanning_data(tweet) for tweet in X_test]"
   ]
  },
  {
   "cell_type": "code",
   "execution_count": 60,
   "id": "93df85ae",
   "metadata": {},
   "outputs": [],
   "source": [
    "Y = pd.get_dummies(y_train).values\n",
    "test_Y = pd.get_dummies(y_test).values"
   ]
  },
  {
   "cell_type": "markdown",
   "id": "90779756",
   "metadata": {},
   "source": [
    "## Recherche du meilleur modèles \n",
    "\n",
    "### Modèle multicouche dense"
   ]
  },
  {
   "cell_type": "code",
   "execution_count": 69,
   "id": "72caa1ba",
   "metadata": {},
   "outputs": [],
   "source": [
    "tokenizer = Tokenizer()\n",
    "tokenizer.fit_on_texts(X_train)"
   ]
  },
  {
   "cell_type": "code",
   "execution_count": 70,
   "id": "b529b7f1",
   "metadata": {},
   "outputs": [
    {
     "name": "stdout",
     "output_type": "stream",
     "text": [
      "Taille du vocabulaire : 505830\n"
     ]
    }
   ],
   "source": [
    "vocab_size = len(tokenizer.word_index) + 1\n",
    "print(\"Taille du vocabulaire :\",vocab_size)"
   ]
  },
  {
   "cell_type": "code",
   "execution_count": 278,
   "id": "7864fa1b",
   "metadata": {},
   "outputs": [],
   "source": [
    "def get_model_dl_classic(X,printing=True,vocab_size=10000,dimension=100):\n",
    "    model = Sequential()\n",
    "    model.add(Embedding(vocab_size, dimension,input_length = X.shape[1]))\n",
    "    model.add(Dropout(0.2))\n",
    "    model.add(Flatten())\n",
    "    model.add(Dense(256))\n",
    "    model.add(Dropout(0.2))\n",
    "    model.add(Dense(128))\n",
    "    model.add(Dropout(0.2))\n",
    "    model.add(Dense(2,activation='softmax'))\n",
    "    model.compile(loss = 'categorical_crossentropy', optimizer='adam',metrics = ['AUC',\"accuracy\"])\n",
    "    if printing:\n",
    "        print(model.summary())\n",
    "    return model"
   ]
  },
  {
   "cell_type": "code",
   "execution_count": 269,
   "id": "4d502cc4",
   "metadata": {},
   "outputs": [],
   "source": [
    "x_train = tokenize_data(X_train,tokenizer,maxlen=200)"
   ]
  },
  {
   "cell_type": "code",
   "execution_count": 270,
   "id": "7e3fcac1",
   "metadata": {},
   "outputs": [
    {
     "data": {
      "text/plain": [
       "(1280000, 200)"
      ]
     },
     "execution_count": 270,
     "metadata": {},
     "output_type": "execute_result"
    }
   ],
   "source": [
    "x_train.shape"
   ]
  },
  {
   "cell_type": "code",
   "execution_count": 272,
   "id": "7b4afbcb",
   "metadata": {},
   "outputs": [
    {
     "name": "stdout",
     "output_type": "stream",
     "text": [
      "Model: \"sequential_22\"\n",
      "_________________________________________________________________\n",
      "Layer (type)                 Output Shape              Param #   \n",
      "=================================================================\n",
      "embedding_12 (Embedding)     (None, 200, 200)          101166000 \n",
      "_________________________________________________________________\n",
      "dropout_33 (Dropout)         (None, 200, 200)          0         \n",
      "_________________________________________________________________\n",
      "flatten_2 (Flatten)          (None, 40000)             0         \n",
      "_________________________________________________________________\n",
      "dense_24 (Dense)             (None, 256)               10240256  \n",
      "_________________________________________________________________\n",
      "dropout_34 (Dropout)         (None, 256)               0         \n",
      "_________________________________________________________________\n",
      "dense_25 (Dense)             (None, 128)               32896     \n",
      "_________________________________________________________________\n",
      "dropout_35 (Dropout)         (None, 128)               0         \n",
      "_________________________________________________________________\n",
      "dense_26 (Dense)             (None, 2)                 258       \n",
      "=================================================================\n",
      "Total params: 111,439,410\n",
      "Trainable params: 111,439,410\n",
      "Non-trainable params: 0\n",
      "_________________________________________________________________\n",
      "None\n"
     ]
    }
   ],
   "source": [
    "model = get_model_dl_classic(x_train,vocab_size=vocab_size,dimension=200)"
   ]
  },
  {
   "cell_type": "code",
   "execution_count": 273,
   "id": "768932bb",
   "metadata": {},
   "outputs": [
    {
     "name": "stdout",
     "output_type": "stream",
     "text": [
      "Epoch 1/2\n",
      "4000/4000 [==============================] - 130s 32ms/step - loss: 0.4674 - auc: 0.8639 - accuracy: 0.7868 - val_loss: 0.4433 - val_auc: 0.8773 - val_accuracy: 0.8013\n",
      "Epoch 2/2\n",
      "4000/4000 [==============================] - 130s 33ms/step - loss: 0.3629 - auc: 0.9200 - accuracy: 0.8478 - val_loss: 0.4795 - val_auc: 0.8666 - val_accuracy: 0.7919\n"
     ]
    }
   ],
   "source": [
    "trainset_X, validset_X, trainset_Y, validset_Y = train_test_split(x_train,Y, test_size = 0.20,stratify=Y, random_state = 42)\n",
    "history = model.fit(trainset_X, trainset_Y,validation_data=(validset_X, validset_Y), batch_size =256, epochs = 2)"
   ]
  },
  {
   "cell_type": "code",
   "execution_count": 29,
   "id": "3a98dfc7",
   "metadata": {},
   "outputs": [],
   "source": [
    "def plot_history(history,scoring=[\"auc\"],validation_scoring=True,margin_y=0.05,log_scale=False):\n",
    "    scoring = [x.lower() for x in scoring]\n",
    "    size_epoch=1\n",
    "    all_val = []\n",
    "    plot_enable=False\n",
    "    for k in history.history.keys():\n",
    "        if k in scoring:\n",
    "            plot_enable=True\n",
    "            break\n",
    "    if plot_enable:\n",
    "        plt.figure(figsize=(12,10))\n",
    "        for k in history.history.keys():\n",
    "            if k in scoring:\n",
    "                plt.plot(history.history[k],label=\"train_set_\"+k)\n",
    "                if validation_scoring:\n",
    "                    plt.plot(history.history[\"val_\"+k],label=\"validation_set_\"+k)\n",
    "                all_val.extend(history.history[k])\n",
    "                size_epoch = len(history.history[k])\n",
    "\n",
    "        min_v = min(all_val) - margin_y\n",
    "        max_v = max(all_val) + margin_y\n",
    "        plt.ylim(min_v,max_v)\n",
    "        plt.xticks([i for i in range(size_epoch)])\n",
    "        plt.legend()\n",
    "        if log_scale:\n",
    "            plt.yscale(\"log\")\n",
    "        plt.show()\n",
    "    else:\n",
    "        print(\"No scoring match on :\", history.history.keys())"
   ]
  },
  {
   "cell_type": "code",
   "execution_count": 275,
   "id": "af57382e",
   "metadata": {},
   "outputs": [
    {
     "data": {
      "image/png": "[encoded data removed]",
      "text/plain": [
       "<Figure size 864x720 with 1 Axes>"
      ]
     },
     "metadata": {},
     "output_type": "display_data"
    }
   ],
   "source": [
    "plot_history(history,scoring=[\"auc\"])"
   ]
  },
  {
   "cell_type": "markdown",
   "id": "11112982",
   "metadata": {},
   "source": [
    "## Modèle RNN classique Embedding générer automatiquement"
   ]
  },
  {
   "cell_type": "code",
   "execution_count": 69,
   "id": "28d0689b",
   "metadata": {},
   "outputs": [],
   "source": [
    "def get_model_rnn(X,printing=True,vocab_size=10000,dimension=100):\n",
    "    model = Sequential()\n",
    "    model.add(Embedding(vocab_size, dimension,input_length = X.shape[1]))\n",
    "    model.add(SimpleRNN(32,return_sequences =True))\n",
    "    model.add(SimpleRNN(16,return_sequences =True))\n",
    "    model.add(SimpleRNN(8))\n",
    "    model.add(Dense(2,activation='softmax'))\n",
    "    model.compile(loss = 'categorical_crossentropy', optimizer='adam',metrics = ['AUC',\"accuracy\"])\n",
    "    if printing:\n",
    "        print(model.summary())\n",
    "    return model"
   ]
  },
  {
   "cell_type": "code",
   "execution_count": 70,
   "id": "fda1a989",
   "metadata": {},
   "outputs": [],
   "source": [
    "from keras.preprocessing.text import Tokenizer\n",
    "from keras.preprocessing.sequence import pad_sequences\n",
    "\n",
    "tokenizer = Tokenizer()\n",
    "tokenizer.fit_on_texts(X_train)\n",
    "\n",
    "x_train = tokenize_data(X_train,tokenizer,maxlen=150)\n",
    "x_test = tokenize_data(X_test,tokenizer,maxlen=150)"
   ]
  },
  {
   "cell_type": "code",
   "execution_count": 71,
   "id": "3cd84455",
   "metadata": {},
   "outputs": [
    {
     "name": "stdout",
     "output_type": "stream",
     "text": [
      "Taille du vocabulaire : 505830\n"
     ]
    }
   ],
   "source": [
    "vocab_size = len(tokenizer.word_index) + 1\n",
    "print(\"Taille du vocabulaire :\",vocab_size)"
   ]
  },
  {
   "cell_type": "code",
   "execution_count": 80,
   "id": "9fdfbf08",
   "metadata": {},
   "outputs": [
    {
     "name": "stdout",
     "output_type": "stream",
     "text": [
      "Model: \"sequential_21\"\n",
      "_________________________________________________________________\n",
      "Layer (type)                 Output Shape              Param #   \n",
      "=================================================================\n",
      "embedding_10 (Embedding)     (None, 150, 200)          101166000 \n",
      "_________________________________________________________________\n",
      "simple_rnn_13 (SimpleRNN)    (None, 150, 32)           7456      \n",
      "_________________________________________________________________\n",
      "simple_rnn_14 (SimpleRNN)    (None, 150, 16)           784       \n",
      "_________________________________________________________________\n",
      "simple_rnn_15 (SimpleRNN)    (None, 8)                 200       \n",
      "_________________________________________________________________\n",
      "dense_19 (Dense)             (None, 2)                 18        \n",
      "=================================================================\n",
      "Total params: 101,174,458\n",
      "Trainable params: 101,174,458\n",
      "Non-trainable params: 0\n",
      "_________________________________________________________________\n",
      "None\n"
     ]
    }
   ],
   "source": [
    "model = get_model_rnn(x_train,vocab_size=vocab_size,dimension=200)"
   ]
  },
  {
   "cell_type": "code",
   "execution_count": 81,
   "id": "1d71bb20",
   "metadata": {},
   "outputs": [
    {
     "name": "stdout",
     "output_type": "stream",
     "text": [
      "Epoch 1/2\n",
      "1000/1000 [==============================] - 1338s 1s/step - loss: 0.4498 - auc: 0.8705 - accuracy: 0.7876 - val_loss: 0.4190 - val_auc: 0.8903 - val_accuracy: 0.8081\n",
      "Epoch 2/2\n",
      "1000/1000 [==============================] - 1410s 1s/step - loss: 0.3238 - auc: 0.9357 - accuracy: 0.8594 - val_loss: 0.4339 - val_auc: 0.8832 - val_accuracy: 0.8012\n"
     ]
    }
   ],
   "source": [
    "trainset_X, validset_X, trainset_Y, validset_Y = train_test_split(x_train,Y, test_size = 0.20,stratify=Y, random_state = 42)\n",
    "history = model.fit(trainset_X, trainset_Y,validation_data=(validset_X, validset_Y), batch_size =1024, epochs = 2)"
   ]
  },
  {
   "cell_type": "code",
   "execution_count": 82,
   "id": "b867a47a",
   "metadata": {},
   "outputs": [
    {
     "data": {
      "image/png": "[encoded data removed]",
      "text/plain": [
       "<Figure size 864x720 with 1 Axes>"
      ]
     },
     "metadata": {},
     "output_type": "display_data"
    }
   ],
   "source": [
    "plot_history(history,scoring=[\"auc\"])"
   ]
  },
  {
   "cell_type": "markdown",
   "id": "f546e571",
   "metadata": {},
   "source": [
    "## Modèle LSTM Embedding générer automatiquement"
   ]
  },
  {
   "cell_type": "code",
   "execution_count": 305,
   "id": "c0fcf014",
   "metadata": {},
   "outputs": [],
   "source": [
    "def get_model_lstm(X,printing=True,vocab_size=10000,dimension=100):\n",
    "    model = Sequential()\n",
    "    model.add(Embedding(vocab_size, dimension,input_length = X.shape[1]))\n",
    "    model.add(Dropout(0.2))\n",
    "    model.add(LSTM(512))\n",
    "    model.add(Dropout(0.1))\n",
    "    model.add(Dense(2,activation='softmax'))\n",
    "    model.compile(loss = 'categorical_crossentropy', optimizer='adam',metrics = ['AUC',\"accuracy\"])\n",
    "    if printing:\n",
    "        print(model.summary())\n",
    "    return model"
   ]
  },
  {
   "cell_type": "code",
   "execution_count": 306,
   "id": "ea470370",
   "metadata": {},
   "outputs": [
    {
     "name": "stdout",
     "output_type": "stream",
     "text": [
      "Model: \"sequential_32\"\n",
      "_________________________________________________________________\n",
      "Layer (type)                 Output Shape              Param #   \n",
      "=================================================================\n",
      "embedding_22 (Embedding)     (None, 200, 200)          101166000 \n",
      "_________________________________________________________________\n",
      "dropout_50 (Dropout)         (None, 200, 200)          0         \n",
      "_________________________________________________________________\n",
      "lstm_19 (LSTM)               (None, 512)               1460224   \n",
      "_________________________________________________________________\n",
      "dropout_51 (Dropout)         (None, 512)               0         \n",
      "_________________________________________________________________\n",
      "dense_32 (Dense)             (None, 2)                 1026      \n",
      "=================================================================\n",
      "Total params: 102,627,250\n",
      "Trainable params: 102,627,250\n",
      "Non-trainable params: 0\n",
      "_________________________________________________________________\n",
      "None\n"
     ]
    }
   ],
   "source": [
    "model = get_model_lstm(x_train,vocab_size=vocab_size,dimension=200)"
   ]
  },
  {
   "cell_type": "code",
   "execution_count": 307,
   "id": "94efb246",
   "metadata": {},
   "outputs": [
    {
     "name": "stdout",
     "output_type": "stream",
     "text": [
      "Epoch 1/2\n",
      "4000/4000 [==============================] - 271s 67ms/step - loss: 0.4204 - auc: 0.8885 - accuracy: 0.8062 - val_loss: 0.3909 - val_auc: 0.9046 - val_accuracy: 0.8232\n",
      "Epoch 2/2\n",
      "4000/4000 [==============================] - 278s 70ms/step - loss: 0.3106 - auc: 0.9409 - accuracy: 0.8673 - val_loss: 0.4318 - val_auc: 0.8896 - val_accuracy: 0.8073\n"
     ]
    }
   ],
   "source": [
    "trainset_X, validset_X, trainset_Y, validset_Y = train_test_split(x_train,Y, test_size = 0.20,stratify=Y, random_state = 42)\n",
    "history = model.fit(trainset_X, trainset_Y,validation_data=(validset_X, validset_Y), batch_size =256, epochs = 2)"
   ]
  },
  {
   "cell_type": "code",
   "execution_count": 313,
   "id": "9d3f3022",
   "metadata": {},
   "outputs": [
    {
     "data": {
      "image/png": "[encoded data removed]",
      "text/plain": [
       "<Figure size 864x720 with 1 Axes>"
      ]
     },
     "metadata": {},
     "output_type": "display_data"
    }
   ],
   "source": [
    "plot_history(history,scoring=[\"auc\"])"
   ]
  },
  {
   "cell_type": "code",
   "execution_count": 311,
   "id": "09e3933e",
   "metadata": {},
   "outputs": [
    {
     "name": "stdout",
     "output_type": "stream",
     "text": [
      "Model: \"sequential_35\"\n",
      "_________________________________________________________________\n",
      "Layer (type)                 Output Shape              Param #   \n",
      "=================================================================\n",
      "embedding_25 (Embedding)     (None, 200, 200)          101166000 \n",
      "_________________________________________________________________\n",
      "dropout_56 (Dropout)         (None, 200, 200)          0         \n",
      "_________________________________________________________________\n",
      "lstm_22 (LSTM)               (None, 512)               1460224   \n",
      "_________________________________________________________________\n",
      "dropout_57 (Dropout)         (None, 512)               0         \n",
      "_________________________________________________________________\n",
      "dense_35 (Dense)             (None, 2)                 1026      \n",
      "=================================================================\n",
      "Total params: 102,627,250\n",
      "Trainable params: 102,627,250\n",
      "Non-trainable params: 0\n",
      "_________________________________________________________________\n",
      "None\n",
      "16000/16000 [==============================] - 989s 62ms/step - loss: 0.4106 - auc: 0.8940 - accuracy: 0.8114 - val_loss: 0.3817 - val_auc: 0.9094 - val_accuracy: 0.8280\n"
     ]
    },
    {
     "data": {
      "text/plain": [
       "<keras.callbacks.History at 0x7efb5a8a5898>"
      ]
     },
     "execution_count": 311,
     "metadata": {},
     "output_type": "execute_result"
    }
   ],
   "source": [
    "model = get_model_lstm(x_train,vocab_size=vocab_size,dimension=200)\n",
    "trainset_X, validset_X, trainset_Y, validset_Y = train_test_split(x_train,Y, test_size = 0.20,stratify=Y, random_state = 42)\n",
    "model.fit(trainset_X, trainset_Y,validation_data=(validset_X, validset_Y), batch_size = 64, epochs = 1)"
   ]
  },
  {
   "cell_type": "code",
   "execution_count": 316,
   "id": "3a814967",
   "metadata": {},
   "outputs": [
    {
     "name": "stdout",
     "output_type": "stream",
     "text": [
      "Model: \"sequential_37\"\n",
      "_________________________________________________________________\n",
      "Layer (type)                 Output Shape              Param #   \n",
      "=================================================================\n",
      "embedding_27 (Embedding)     (None, 200, 200)          101166000 \n",
      "_________________________________________________________________\n",
      "dropout_60 (Dropout)         (None, 200, 200)          0         \n",
      "_________________________________________________________________\n",
      "lstm_24 (LSTM)               (None, 512)               1460224   \n",
      "_________________________________________________________________\n",
      "dropout_61 (Dropout)         (None, 512)               0         \n",
      "_________________________________________________________________\n",
      "dense_37 (Dense)             (None, 2)                 1026      \n",
      "=================================================================\n",
      "Total params: 102,627,250\n",
      "Trainable params: 102,627,250\n",
      "Non-trainable params: 0\n",
      "_________________________________________________________________\n",
      "None\n",
      "8000/8000 [==============================] - 493s 61ms/step - loss: 0.4130 - auc: 0.8925 - accuracy: 0.8096 - val_loss: 0.3857 - val_auc: 0.9074 - val_accuracy: 0.8254\n"
     ]
    },
    {
     "data": {
      "text/plain": [
       "<keras.callbacks.History at 0x7efbafecbba8>"
      ]
     },
     "execution_count": 316,
     "metadata": {},
     "output_type": "execute_result"
    }
   ],
   "source": [
    "model = get_model_lstm(x_train,vocab_size=vocab_size,dimension=200)\n",
    "trainset_X, validset_X, trainset_Y, validset_Y = train_test_split(x_train,Y, test_size = 0.20,stratify=Y, random_state = 42)\n",
    "model.fit(trainset_X, trainset_Y,validation_data=(validset_X, validset_Y), batch_size = 128, epochs = 1)"
   ]
  },
  {
   "cell_type": "markdown",
   "id": "7cd51702",
   "metadata": {},
   "source": [
    "## Modèle LSTM Word2Vec Embedding"
   ]
  },
  {
   "cell_type": "code",
   "execution_count": 317,
   "id": "02426510",
   "metadata": {},
   "outputs": [],
   "source": [
    "def create_layer_embedding_word_2_vec(X, W2V_SIZE = 300, W2V_WINDOW = 7, W2V_EPOCH = 32,\n",
    "                                      W2V_MIN_COUNT = 10, SEQUENCE_LENGTH = 300, workers=32):\n",
    "    \n",
    "    documents = [_text.split() for _text in X]\n",
    "    w2v_model = gensim.models.word2vec.Word2Vec(vector_size=W2V_SIZE, \n",
    "                                                window=W2V_WINDOW, min_count=W2V_MIN_COUNT,workers=workers)\n",
    "    w2v_model.build_vocab(documents)\n",
    "    \n",
    "    w2v_model.train(documents, total_examples=len(documents), epochs=W2V_EPOCH)\n",
    "    tokenizer = Tokenizer()\n",
    "    tokenizer.fit_on_texts(X)\n",
    "\n",
    "    vocab_size = len(tokenizer.word_index) + 1\n",
    "    embedding_matrix = np.zeros((vocab_size, W2V_SIZE))\n",
    "    for word, i in tokenizer.word_index.items():\n",
    "        if word in w2v_model.wv.index_to_key:\n",
    "            embedding_matrix[i] = w2v_model.wv.get_vector(word, norm=True)\n",
    "            \n",
    "    embedding_layer_word_2_vec = Embedding(vocab_size, W2V_SIZE,\n",
    "                                           weights=[embedding_matrix], input_length=SEQUENCE_LENGTH, trainable=False)\n",
    "    \n",
    "    return embedding_layer_word_2_vec"
   ]
  },
  {
   "cell_type": "code",
   "execution_count": 318,
   "id": "97d36dd0",
   "metadata": {},
   "outputs": [
    {
     "name": "stdout",
     "output_type": "stream",
     "text": [
      "CPU times: user 30min 57s, sys: 0 ns, total: 30min 57s\n",
      "Wall time: 9min 31s\n"
     ]
    }
   ],
   "source": [
    "%%time\n",
    "embedding = create_layer_embedding_word_2_vec(X_train)"
   ]
  },
  {
   "cell_type": "code",
   "execution_count": 340,
   "id": "343f1e2f",
   "metadata": {},
   "outputs": [],
   "source": [
    "def get_model_lstm_embedding_pretrain(embedding,printing=True,metric=[\"AUC\",\"accuracy\"]):\n",
    "    model = Sequential()\n",
    "    model.add(embedding)\n",
    "    model.add(Dropout(0.1))\n",
    "    model.add(LSTM(256))\n",
    "    model.add(Dropout(0.2))\n",
    "    model.add(Dense(2, activation='softmax'))\n",
    "    model.compile(loss = 'categorical_crossentropy', optimizer='adam',metrics = metric)\n",
    "    if printing:\n",
    "        print(model.summary())\n",
    "    return model"
   ]
  },
  {
   "cell_type": "code",
   "execution_count": 321,
   "id": "318372d4",
   "metadata": {},
   "outputs": [
    {
     "name": "stdout",
     "output_type": "stream",
     "text": [
      "Model: \"sequential_38\"\n",
      "_________________________________________________________________\n",
      "Layer (type)                 Output Shape              Param #   \n",
      "=================================================================\n",
      "embedding_28 (Embedding)     (None, 300, 300)          151749000 \n",
      "_________________________________________________________________\n",
      "dropout_62 (Dropout)         (None, 300, 300)          0         \n",
      "_________________________________________________________________\n",
      "lstm_25 (LSTM)               (None, 256)               570368    \n",
      "_________________________________________________________________\n",
      "dropout_63 (Dropout)         (None, 256)               0         \n",
      "_________________________________________________________________\n",
      "dense_38 (Dense)             (None, 2)                 514       \n",
      "=================================================================\n",
      "Total params: 152,319,882\n",
      "Trainable params: 570,882\n",
      "Non-trainable params: 151,749,000\n",
      "_________________________________________________________________\n",
      "None\n"
     ]
    }
   ],
   "source": [
    "model=get_model_lstm_embedding_pretrain(embedding)"
   ]
  },
  {
   "cell_type": "code",
   "execution_count": 322,
   "id": "996d9eba",
   "metadata": {},
   "outputs": [],
   "source": [
    "x_train = tokenize_data(X_train,tokenizer,maxlen=300)"
   ]
  },
  {
   "cell_type": "code",
   "execution_count": 323,
   "id": "701eb3b2",
   "metadata": {},
   "outputs": [
    {
     "name": "stdout",
     "output_type": "stream",
     "text": [
      "Epoch 1/8\n",
      "1000/1000 [==============================] - 90s 89ms/step - loss: 0.4601 - auc: 0.8642 - accuracy: 0.7828 - val_loss: 0.4253 - val_auc: 0.8856 - val_accuracy: 0.8031\n",
      "Epoch 2/8\n",
      "1000/1000 [==============================] - 91s 91ms/step - loss: 0.4176 - auc: 0.8899 - accuracy: 0.8072 - val_loss: 0.4085 - val_auc: 0.8957 - val_accuracy: 0.8132\n",
      "Epoch 3/8\n",
      "1000/1000 [==============================] - 92s 92ms/step - loss: 0.4026 - auc: 0.8983 - accuracy: 0.8157 - val_loss: 0.3949 - val_auc: 0.9026 - val_accuracy: 0.8203\n",
      "Epoch 4/8\n",
      "1000/1000 [==============================] - 91s 91ms/step - loss: 0.3931 - auc: 0.9033 - accuracy: 0.8208 - val_loss: 0.3880 - val_auc: 0.9060 - val_accuracy: 0.8241\n",
      "Epoch 5/8\n",
      "1000/1000 [==============================] - 90s 90ms/step - loss: 0.3854 - auc: 0.9072 - accuracy: 0.8250 - val_loss: 0.3832 - val_auc: 0.9084 - val_accuracy: 0.8264\n",
      "Epoch 6/8\n",
      "1000/1000 [==============================] - 93s 93ms/step - loss: 0.3781 - auc: 0.9109 - accuracy: 0.8290 - val_loss: 0.3791 - val_auc: 0.9105 - val_accuracy: 0.8295\n",
      "Epoch 7/8\n",
      "1000/1000 [==============================] - 91s 91ms/step - loss: 0.3725 - auc: 0.9137 - accuracy: 0.8323 - val_loss: 0.3761 - val_auc: 0.9122 - val_accuracy: 0.8316\n",
      "Epoch 8/8\n",
      "1000/1000 [==============================] - 91s 91ms/step - loss: 0.3667 - auc: 0.9164 - accuracy: 0.8353 - val_loss: 0.3745 - val_auc: 0.9129 - val_accuracy: 0.8324\n"
     ]
    }
   ],
   "source": [
    "trainset_X, validset_X, trainset_Y, validset_Y = train_test_split(x_train,Y, test_size = 0.20,stratify=Y, random_state = 42)\n",
    "history = model.fit(trainset_X, trainset_Y,validation_data=(validset_X, validset_Y), batch_size = 1024, epochs = 8)"
   ]
  },
  {
   "cell_type": "code",
   "execution_count": 324,
   "id": "0718a6df",
   "metadata": {},
   "outputs": [
    {
     "data": {
      "image/png": "[encoded data removed]",
      "text/plain": [
       "<Figure size 864x720 with 1 Axes>"
      ]
     },
     "metadata": {},
     "output_type": "display_data"
    }
   ],
   "source": [
    "plot_history(history,scoring=[\"auc\"])"
   ]
  },
  {
   "cell_type": "code",
   "execution_count": 345,
   "id": "a0a491bb",
   "metadata": {},
   "outputs": [
    {
     "name": "stdout",
     "output_type": "stream",
     "text": [
      "Model: \"sequential_43\"\n",
      "_________________________________________________________________\n",
      "Layer (type)                 Output Shape              Param #   \n",
      "=================================================================\n",
      "embedding_28 (Embedding)     (None, 300, 300)          151749000 \n",
      "_________________________________________________________________\n",
      "dropout_72 (Dropout)         (None, 300, 300)          0         \n",
      "_________________________________________________________________\n",
      "lstm_30 (LSTM)               (None, 256)               570368    \n",
      "_________________________________________________________________\n",
      "dropout_73 (Dropout)         (None, 256)               0         \n",
      "_________________________________________________________________\n",
      "dense_43 (Dense)             (None, 2)                 514       \n",
      "=================================================================\n",
      "Total params: 152,319,882\n",
      "Trainable params: 570,882\n",
      "Non-trainable params: 151,749,000\n",
      "_________________________________________________________________\n",
      "None\n"
     ]
    }
   ],
   "source": [
    "model=get_model_lstm_embedding_pretrain(embedding,metric=[\"AUC\"])"
   ]
  },
  {
   "cell_type": "code",
   "execution_count": 347,
   "id": "3c81356b",
   "metadata": {},
   "outputs": [
    {
     "name": "stdout",
     "output_type": "stream",
     "text": [
      "Epoch 1/8\n",
      "1000/1000 [==============================] - 91s 90ms/step - loss: 0.4586 - auc: 0.8651 - val_loss: 0.4226 - val_auc: 0.8873\n",
      "Epoch 2/8\n",
      "1000/1000 [==============================] - 90s 90ms/step - loss: 0.4368 - auc: 0.8815 - val_loss: 0.4115 - val_auc: 0.8934\n",
      "Epoch 3/8\n",
      "1000/1000 [==============================] - 88s 88ms/step - loss: 0.4091 - auc: 0.8947 - val_loss: 0.4011 - val_auc: 0.8990\n",
      "Epoch 4/8\n",
      "1000/1000 [==============================] - 88s 88ms/step - loss: 0.4004 - auc: 0.8994 - val_loss: 0.3956 - val_auc: 0.9020\n",
      "Epoch 5/8\n",
      "1000/1000 [==============================] - 93s 93ms/step - loss: 0.4174 - auc: 0.8920 - val_loss: 0.3954 - val_auc: 0.9021\n",
      "Epoch 6/8\n",
      "1000/1000 [==============================] - 94s 94ms/step - loss: 0.3928 - auc: 0.9035 - val_loss: 0.3883 - val_auc: 0.9057\n",
      "Epoch 7/8\n",
      "1000/1000 [==============================] - 96s 96ms/step - loss: 0.3870 - auc: 0.9065 - val_loss: 0.3856 - val_auc: 0.9072\n",
      "Epoch 8/8\n",
      "1000/1000 [==============================] - 95s 95ms/step - loss: 0.3822 - auc: 0.9089 - val_loss: 0.3821 - val_auc: 0.9091\n"
     ]
    }
   ],
   "source": [
    "trainset_X, validset_X, trainset_Y, validset_Y = train_test_split(x_train,Y, test_size = 0.20,stratify=Y, random_state = 42)\n",
    "history = model.fit(trainset_X, trainset_Y,validation_data=(validset_X, validset_Y), batch_size = 1024, epochs = 8)"
   ]
  },
  {
   "cell_type": "code",
   "execution_count": 348,
   "id": "68ad5c9e",
   "metadata": {},
   "outputs": [
    {
     "name": "stdout",
     "output_type": "stream",
     "text": [
      "Model: \"sequential_44\"\n",
      "_________________________________________________________________\n",
      "Layer (type)                 Output Shape              Param #   \n",
      "=================================================================\n",
      "embedding_28 (Embedding)     (None, 300, 300)          151749000 \n",
      "_________________________________________________________________\n",
      "dropout_74 (Dropout)         (None, 300, 300)          0         \n",
      "_________________________________________________________________\n",
      "lstm_31 (LSTM)               (None, 256)               570368    \n",
      "_________________________________________________________________\n",
      "dropout_75 (Dropout)         (None, 256)               0         \n",
      "_________________________________________________________________\n",
      "dense_44 (Dense)             (None, 2)                 514       \n",
      "=================================================================\n",
      "Total params: 152,319,882\n",
      "Trainable params: 570,882\n",
      "Non-trainable params: 151,749,000\n",
      "_________________________________________________________________\n",
      "None\n"
     ]
    }
   ],
   "source": [
    "model=get_model_lstm_embedding_pretrain(embedding)"
   ]
  },
  {
   "cell_type": "code",
   "execution_count": 349,
   "id": "3de66c3f",
   "metadata": {},
   "outputs": [
    {
     "name": "stdout",
     "output_type": "stream",
     "text": [
      "Epoch 1/8\n",
      "1000/1000 [==============================] - 93s 92ms/step - loss: 0.4564 - auc: 0.8666 - accuracy: 0.7853 - val_loss: 0.4223 - val_auc: 0.8875 - val_accuracy: 0.8049\n",
      "Epoch 2/8\n",
      "1000/1000 [==============================] - 93s 93ms/step - loss: 0.4175 - auc: 0.8901 - accuracy: 0.8076 - val_loss: 0.4041 - val_auc: 0.8974 - val_accuracy: 0.8148\n",
      "Epoch 3/8\n",
      "1000/1000 [==============================] - 97s 97ms/step - loss: 0.4013 - auc: 0.8990 - accuracy: 0.8165 - val_loss: 0.3947 - val_auc: 0.9029 - val_accuracy: 0.8211\n",
      "Epoch 4/8\n",
      "1000/1000 [==============================] - 98s 98ms/step - loss: 0.3921 - auc: 0.9038 - accuracy: 0.8211 - val_loss: 0.3871 - val_auc: 0.9068 - val_accuracy: 0.8258\n",
      "Epoch 5/8\n",
      "1000/1000 [==============================] - 97s 97ms/step - loss: 0.3838 - auc: 0.9081 - accuracy: 0.8259 - val_loss: 0.3823 - val_auc: 0.9089 - val_accuracy: 0.8274\n",
      "Epoch 6/8\n",
      "1000/1000 [==============================] - 96s 96ms/step - loss: 0.3776 - auc: 0.9112 - accuracy: 0.8296 - val_loss: 0.3784 - val_auc: 0.9109 - val_accuracy: 0.8298\n",
      "Epoch 7/8\n",
      "1000/1000 [==============================] - 91s 91ms/step - loss: 0.3717 - auc: 0.9141 - accuracy: 0.8327 - val_loss: 0.3748 - val_auc: 0.9127 - val_accuracy: 0.8322\n",
      "Epoch 8/8\n",
      "1000/1000 [==============================] - 91s 91ms/step - loss: 0.3659 - auc: 0.9168 - accuracy: 0.8357 - val_loss: 0.3739 - val_auc: 0.9131 - val_accuracy: 0.8322\n"
     ]
    }
   ],
   "source": [
    "trainset_X, validset_X, trainset_Y, validset_Y = train_test_split(x_train,Y, test_size = 0.20,stratify=Y, random_state = 42)\n",
    "history = model.fit(trainset_X, trainset_Y,validation_data=(validset_X, validset_Y), batch_size = 1024, epochs = 8)"
   ]
  },
  {
   "cell_type": "markdown",
   "id": "55d76a7c",
   "metadata": {},
   "source": [
    "## Modèle LSTM Glove Embedding"
   ]
  },
  {
   "cell_type": "markdown",
   "id": "5a7c857d",
   "metadata": {},
   "source": [
    "https://www.kaggle.com/fullmetal26/glovetwitter27b100dtxt/download"
   ]
  },
  {
   "cell_type": "code",
   "execution_count": 325,
   "id": "75e0c72a",
   "metadata": {},
   "outputs": [
    {
     "name": "stdout",
     "output_type": "stream",
     "text": [
      "Found 1193514 word vectors.\n",
      "CPU times: user 46.9 s, sys: 3.19 s, total: 50.1 s\n",
      "Wall time: 1min 33s\n"
     ]
    }
   ],
   "source": [
    "%%time\n",
    "import os\n",
    "embeddings_index = {}\n",
    "f = open(os.path.join('./data/glove.twitter.27B.200d.txt'))\n",
    "for line in f:\n",
    "    values = line.split()\n",
    "    word = values[0]\n",
    "    coefs = np.asarray(values[1:], dtype='float32')\n",
    "    embeddings_index[word] = coefs\n",
    "f.close()\n",
    "\n",
    "print('Found %s word vectors.' % len(embeddings_index))"
   ]
  },
  {
   "cell_type": "code",
   "execution_count": 328,
   "id": "dccdadff",
   "metadata": {},
   "outputs": [],
   "source": [
    "def create_layer_embedding_glove(tokenizer,glove_embedding_pretrain,\n",
    "                                 EMBEDDING_DIM=200,MAX_SEQUENCE_LENGTH=200):\n",
    "    # Embedding\n",
    "    word_index = tokenizer.word_index\n",
    "    embedding_matrix = np.zeros((len(word_index) + 1, 200))\n",
    "    for word, i in word_index.items():\n",
    "        # vecteur d'un modèle glove pré-entrainé\n",
    "        embedding_vector = glove_embedding_pretrain.get(word)\n",
    "        if embedding_vector is not None:\n",
    "            embedding_matrix[i] = embedding_vector\n",
    "            \n",
    "    embedding_layer = Embedding(len(word_index) + 1,\n",
    "                                EMBEDDING_DIM,\n",
    "                                weights=[embedding_matrix],\n",
    "                                input_length=MAX_SEQUENCE_LENGTH,\n",
    "                                trainable=False)\n",
    "    \n",
    "    return embedding_layer"
   ]
  },
  {
   "cell_type": "code",
   "execution_count": 329,
   "id": "366d58b8",
   "metadata": {},
   "outputs": [],
   "source": [
    "x_train = tokenize_data(X_train,tokenizer,maxlen=200)"
   ]
  },
  {
   "cell_type": "code",
   "execution_count": 330,
   "id": "d6abb730",
   "metadata": {},
   "outputs": [],
   "source": [
    "embedding_glove = create_layer_embedding_glove(tokenizer,embeddings_index)"
   ]
  },
  {
   "cell_type": "code",
   "execution_count": 333,
   "id": "ceb0e487",
   "metadata": {},
   "outputs": [
    {
     "name": "stdout",
     "output_type": "stream",
     "text": [
      "Model: \"sequential_39\"\n",
      "_________________________________________________________________\n",
      "Layer (type)                 Output Shape              Param #   \n",
      "=================================================================\n",
      "embedding_29 (Embedding)     (None, 200, 200)          101166000 \n",
      "_________________________________________________________________\n",
      "dropout_64 (Dropout)         (None, 200, 200)          0         \n",
      "_________________________________________________________________\n",
      "lstm_26 (LSTM)               (None, 256)               467968    \n",
      "_________________________________________________________________\n",
      "dropout_65 (Dropout)         (None, 256)               0         \n",
      "_________________________________________________________________\n",
      "dense_39 (Dense)             (None, 2)                 514       \n",
      "=================================================================\n",
      "Total params: 101,634,482\n",
      "Trainable params: 468,482\n",
      "Non-trainable params: 101,166,000\n",
      "_________________________________________________________________\n",
      "None\n"
     ]
    }
   ],
   "source": [
    "model = get_model_lstm_embedding_pretrain(embedding_glove)"
   ]
  },
  {
   "cell_type": "code",
   "execution_count": 334,
   "id": "57058426",
   "metadata": {},
   "outputs": [
    {
     "name": "stdout",
     "output_type": "stream",
     "text": [
      "Epoch 1/8\n",
      "1000/1000 [==============================] - 64s 63ms/step - loss: 0.4546 - auc: 0.8670 - accuracy: 0.7832 - val_loss: 0.4201 - val_auc: 0.8883 - val_accuracy: 0.8046\n",
      "Epoch 2/8\n",
      "1000/1000 [==============================] - 61s 61ms/step - loss: 0.4136 - auc: 0.8920 - accuracy: 0.8089 - val_loss: 0.4029 - val_auc: 0.8980 - val_accuracy: 0.8141\n",
      "Epoch 3/8\n",
      "1000/1000 [==============================] - 62s 62ms/step - loss: 0.3970 - auc: 0.9011 - accuracy: 0.8181 - val_loss: 0.3947 - val_auc: 0.9023 - val_accuracy: 0.8185\n",
      "Epoch 4/8\n",
      "1000/1000 [==============================] - 61s 61ms/step - loss: 0.3845 - auc: 0.9076 - accuracy: 0.8253 - val_loss: 0.3876 - val_auc: 0.9063 - val_accuracy: 0.8235\n",
      "Epoch 5/8\n",
      "1000/1000 [==============================] - 61s 61ms/step - loss: 0.3743 - auc: 0.9127 - accuracy: 0.8304 - val_loss: 0.3823 - val_auc: 0.9089 - val_accuracy: 0.8265\n",
      "Epoch 6/8\n",
      "1000/1000 [==============================] - 61s 61ms/step - loss: 0.3648 - auc: 0.9172 - accuracy: 0.8354 - val_loss: 0.3817 - val_auc: 0.9095 - val_accuracy: 0.8281\n",
      "Epoch 7/8\n",
      "1000/1000 [==============================] - 62s 62ms/step - loss: 0.3612 - auc: 0.9189 - accuracy: 0.8375 - val_loss: 0.3809 - val_auc: 0.9104 - val_accuracy: 0.8282\n",
      "Epoch 8/8\n",
      "1000/1000 [==============================] - 62s 62ms/step - loss: 0.3496 - auc: 0.9243 - accuracy: 0.8435 - val_loss: 0.3813 - val_auc: 0.9106 - val_accuracy: 0.8291\n"
     ]
    }
   ],
   "source": [
    "trainset_X, validset_X, trainset_Y, validset_Y = train_test_split(x_train,Y, test_size = 0.20,stratify=Y, random_state = 42)\n",
    "history = model.fit(trainset_X, trainset_Y,validation_data=(validset_X, validset_Y), batch_size = 1024, epochs = 8)"
   ]
  },
  {
   "cell_type": "code",
   "execution_count": 335,
   "id": "e34c5c19",
   "metadata": {},
   "outputs": [
    {
     "data": {
      "image/png": "[encoded data removed]",
      "text/plain": [
       "<Figure size 864x720 with 1 Axes>"
      ]
     },
     "metadata": {},
     "output_type": "display_data"
    }
   ],
   "source": [
    "plot_history(history,scoring=[\"auc\"])"
   ]
  },
  {
   "cell_type": "markdown",
   "id": "830c3915",
   "metadata": {},
   "source": [
    "## Modèle pré-entrainer BERT (Transfer-learning)"
   ]
  },
  {
   "cell_type": "code",
   "execution_count": 19,
   "id": "2d1b7468",
   "metadata": {},
   "outputs": [
    {
     "data": {
      "application/vnd.jupyter.widget-view+json": {
       "model_id": "6f8f81a86edd443585254819bfa30391",
       "version_major": 2,
       "version_minor": 0
      },
      "text/plain": [
       "Downloading:   0%|          | 0.00/29.0 [00:00<?, ?B/s]"
      ]
     },
     "metadata": {},
     "output_type": "display_data"
    },
    {
     "data": {
      "application/vnd.jupyter.widget-view+json": {
       "model_id": "751543c5ec024f78a2e657edbc7db2e2",
       "version_major": 2,
       "version_minor": 0
      },
      "text/plain": [
       "Downloading:   0%|          | 0.00/570 [00:00<?, ?B/s]"
      ]
     },
     "metadata": {},
     "output_type": "display_data"
    },
    {
     "data": {
      "application/vnd.jupyter.widget-view+json": {
       "model_id": "bfd2dab0059343e687ced8e3eb2ddfa6",
       "version_major": 2,
       "version_minor": 0
      },
      "text/plain": [
       "Downloading:   0%|          | 0.00/208k [00:00<?, ?B/s]"
      ]
     },
     "metadata": {},
     "output_type": "display_data"
    },
    {
     "data": {
      "application/vnd.jupyter.widget-view+json": {
       "model_id": "1ab977b8b4f84df3b566a6a85cf549c9",
       "version_major": 2,
       "version_minor": 0
      },
      "text/plain": [
       "Downloading:   0%|          | 0.00/426k [00:00<?, ?B/s]"
      ]
     },
     "metadata": {},
     "output_type": "display_data"
    },
    {
     "data": {
      "application/vnd.jupyter.widget-view+json": {
       "model_id": "4d71bb60ad9e42dd98864065953559aa",
       "version_major": 2,
       "version_minor": 0
      },
      "text/plain": [
       "Downloading:   0%|          | 0.00/502M [00:00<?, ?B/s]"
      ]
     },
     "metadata": {},
     "output_type": "display_data"
    },
    {
     "name": "stderr",
     "output_type": "stream",
     "text": [
      "Some layers from the model checkpoint at bert-base-cased were not used when initializing TFBertModel: ['nsp___cls', 'mlm___cls']\n",
      "- This IS expected if you are initializing TFBertModel from the checkpoint of a model trained on another task or with another architecture (e.g. initializing a BertForSequenceClassification model from a BertForPreTraining model).\n",
      "- This IS NOT expected if you are initializing TFBertModel from the checkpoint of a model that you expect to be exactly identical (initializing a BertForSequenceClassification model from a BertForSequenceClassification model).\n",
      "All the layers of TFBertModel were initialized from the model checkpoint at bert-base-cased.\n",
      "If your task is similar to the task the model of the checkpoint was trained on, you can already use TFBertModel for predictions without further training.\n"
     ]
    }
   ],
   "source": [
    "from transformers import AutoTokenizer, TFAutoModel\n",
    "tokenizer = AutoTokenizer.from_pretrained(\"bert-base-cased\")\n",
    "bert = TFAutoModel.from_pretrained(\"bert-base-cased\")"
   ]
  },
  {
   "cell_type": "code",
   "execution_count": 25,
   "id": "81a42432",
   "metadata": {},
   "outputs": [],
   "source": [
    "SEQ_LEN=128\n",
    "def prepare_data(data,labels):\n",
    "    Xids = np.zeros((len(data), SEQ_LEN))\n",
    "    Xmask = np.zeros((len(data), SEQ_LEN))\n",
    "    Y = pd.get_dummies(labels).values\n",
    "    # tokenize data\n",
    "    for i, sentence in enumerate(data):\n",
    "        Xids[i, :], Xmask[i, :] = tokenize(sentence)\n",
    "        \n",
    "    dataset = tf.data.Dataset.from_tensor_slices((Xids, Xmask, Y))\n",
    "    \n",
    "    dataset = dataset.map(map_func) \n",
    "    \n",
    "    return dataset.shuffle(10000).batch(32)\n",
    "    \n",
    "    \n",
    "# restructure dataset format for BERT\n",
    "def map_func(input_ids, masks, labels):\n",
    "    return {'input_ids': input_ids, 'attention_mask': masks}, labels\n",
    "\n",
    "def tokenize(sentence):\n",
    "    tokens = tokenizer.encode_plus(sentence, max_length=SEQ_LEN,\n",
    "                                   truncation=True, padding='max_length',\n",
    "                                   add_special_tokens=True, return_attention_mask=True,\n",
    "                                   return_token_type_ids=False, return_tensors='tf')\n",
    "    return tokens['input_ids'], tokens['attention_mask']\n"
   ]
  },
  {
   "cell_type": "code",
   "execution_count": 26,
   "id": "fccb8122",
   "metadata": {},
   "outputs": [
    {
     "name": "stdout",
     "output_type": "stream",
     "text": [
      "CPU times: user 3min 16s, sys: 846 ms, total: 3min 17s\n",
      "Wall time: 3min 17s\n"
     ]
    }
   ],
   "source": [
    "%%time\n",
    "dataset_train = prepare_data(X_train,y_train)"
   ]
  },
  {
   "cell_type": "code",
   "execution_count": 27,
   "id": "b31eb971",
   "metadata": {},
   "outputs": [
    {
     "name": "stdout",
     "output_type": "stream",
     "text": [
      "CPU times: user 50.5 s, sys: 230 ms, total: 50.7 s\n",
      "Wall time: 50.7 s\n"
     ]
    }
   ],
   "source": [
    "%%time\n",
    "dataset_test = prepare_data(X_test,y_test)"
   ]
  },
  {
   "cell_type": "code",
   "execution_count": 156,
   "id": "ea126d96",
   "metadata": {},
   "outputs": [
    {
     "name": "stdout",
     "output_type": "stream",
     "text": [
      "Model: \"model_5\"\n",
      "__________________________________________________________________________________________________\n",
      "Layer (type)                    Output Shape         Param #     Connected to                     \n",
      "==================================================================================================\n",
      "input_ids (InputLayer)          [(None, 128)]        0                                            \n",
      "__________________________________________________________________________________________________\n",
      "attention_mask (InputLayer)     [(None, 128)]        0                                            \n",
      "__________________________________________________________________________________________________\n",
      "tf_bert_model (TFBertModel)     TFBaseModelOutputWit 108310272   input_ids[0][0]                  \n",
      "                                                                 attention_mask[0][0]             \n",
      "__________________________________________________________________________________________________\n",
      "global_max_pooling1d_1 (GlobalM (None, 768)          0           tf_bert_model[1][0]              \n",
      "__________________________________________________________________________________________________\n",
      "batch_normalization_1 (BatchNor (None, 768)          3072        global_max_pooling1d_1[0][0]     \n",
      "__________________________________________________________________________________________________\n",
      "dense_5 (Dense)                 (None, 128)          98432       batch_normalization_1[0][0]      \n",
      "__________________________________________________________________________________________________\n",
      "dropout_228 (Dropout)           (None, 128)          0           dense_5[0][0]                    \n",
      "__________________________________________________________________________________________________\n",
      "outputs (Dense)                 (None, 2)            258         dropout_228[0][0]                \n",
      "==================================================================================================\n",
      "Total params: 108,412,034\n",
      "Trainable params: 100,226\n",
      "Non-trainable params: 108,311,808\n",
      "__________________________________________________________________________________________________\n"
     ]
    }
   ],
   "source": [
    "input_ids = tf.keras.layers.Input(shape=(SEQ_LEN,), name='input_ids', dtype='int32')\n",
    "mask = tf.keras.layers.Input(shape=(SEQ_LEN,), name='attention_mask', dtype='int32')\n",
    "\n",
    "embeddings = bert(input_ids, attention_mask=mask)[0]  # we only keep tensor 0 (last_hidden_state)\n",
    "\n",
    "X = tf.keras.layers.GlobalMaxPool1D()(embeddings)  # reduce tensor dimensionality\n",
    "X = tf.keras.layers.BatchNormalization()(X)\n",
    "X = tf.keras.layers.Dense(128, activation='relu')(X)\n",
    "X = tf.keras.layers.Dropout(0.1)(X)\n",
    "y = tf.keras.layers.Dense(2, activation='softmax', name='outputs')(X)  # 3 labels due to three sentiment classes\n",
    "\n",
    "model = tf.keras.Model(inputs=[input_ids, mask], outputs=y)\n",
    "\n",
    "model.layers[2].trainable = False\n",
    "\n",
    "model.compile(loss = 'categorical_crossentropy', optimizer='adam',metrics = [\"AUC\",\"accuracy\"])\n",
    "\n",
    "model.summary()"
   ]
  },
  {
   "cell_type": "code",
   "execution_count": 157,
   "id": "f2f554c4",
   "metadata": {},
   "outputs": [
    {
     "name": "stdout",
     "output_type": "stream",
     "text": [
      "40000/40000 [==============================] - 6429s 161ms/step - loss: 0.5333 - auc: 0.8081 - accuracy: 0.7303\n"
     ]
    }
   ],
   "source": [
    "history = model.fit(dataset_train, epochs=1)"
   ]
  },
  {
   "cell_type": "code",
   "execution_count": 162,
   "id": "5d07891d",
   "metadata": {},
   "outputs": [
    {
     "name": "stdout",
     "output_type": "stream",
     "text": [
      "10000/10000 [==============================] - 1378s 138ms/step - loss: 0.5003 - auc: 0.8355 - accuracy: 0.7527\n",
      "Validation Accuracy: 0.75\n",
      "Validation AUC: 0.84\n"
     ]
    }
   ],
   "source": [
    "_,auc,acc = model.evaluate(dataset_test)\n",
    "print(\"Validation Accuracy: %.2f\" % (acc))\n",
    "print(\"Validation AUC: %.2f\" % (auc))"
   ]
  },
  {
   "cell_type": "code",
   "execution_count": 167,
   "id": "877b3627",
   "metadata": {},
   "outputs": [
    {
     "name": "stdout",
     "output_type": "stream",
     "text": [
      "Model: \"model_8\"\n",
      "__________________________________________________________________________________________________\n",
      "Layer (type)                    Output Shape         Param #     Connected to                     \n",
      "==================================================================================================\n",
      "input_ids (InputLayer)          [(None, 128)]        0                                            \n",
      "__________________________________________________________________________________________________\n",
      "attention_mask (InputLayer)     [(None, 128)]        0                                            \n",
      "__________________________________________________________________________________________________\n",
      "tf_bert_model (TFBertModel)     TFBaseModelOutputWit 108310272   input_ids[0][0]                  \n",
      "                                                                 attention_mask[0][0]             \n",
      "__________________________________________________________________________________________________\n",
      "lstm_2 (LSTM)                   (None, 256)          1049600     tf_bert_model[4][0]              \n",
      "__________________________________________________________________________________________________\n",
      "dropout_231 (Dropout)           (None, 256)          0           lstm_2[0][0]                     \n",
      "__________________________________________________________________________________________________\n",
      "outputs (Dense)                 (None, 2)            514         dropout_231[0][0]                \n",
      "==================================================================================================\n",
      "Total params: 109,360,386\n",
      "Trainable params: 1,050,114\n",
      "Non-trainable params: 108,310,272\n",
      "__________________________________________________________________________________________________\n"
     ]
    }
   ],
   "source": [
    "input_ids = tf.keras.layers.Input(shape=(SEQ_LEN,), name='input_ids', dtype='int32')\n",
    "mask = tf.keras.layers.Input(shape=(SEQ_LEN,), name='attention_mask', dtype='int32')\n",
    "\n",
    "embeddings = bert(input_ids, attention_mask=mask)[0]  # we only keep tensor 0 (last_hidden_state)\n",
    "\n",
    "X = tf.keras.layers.LSTM(256)(embeddings)\n",
    "X = tf.keras.layers.Dropout(0.2)(X)\n",
    "y = tf.keras.layers.Dense(2, activation='softmax', name='outputs')(X) \n",
    "\n",
    "model_lstm_bert = tf.keras.Model(inputs=[input_ids, mask], outputs=y)\n",
    "\n",
    "model_lstm_bert.layers[2].trainable = False\n",
    "\n",
    "model_lstm_bert.compile(loss = 'categorical_crossentropy', optimizer='adam',metrics = [\"AUC\",\"accuracy\"])\n",
    "\n",
    "model_lstm_bert.summary()"
   ]
  },
  {
   "cell_type": "code",
   "execution_count": 168,
   "id": "b9ca5da5",
   "metadata": {},
   "outputs": [
    {
     "name": "stdout",
     "output_type": "stream",
     "text": [
      "40000/40000 [==============================] - 7005s 175ms/step - loss: 0.4527 - auc: 0.8690 - accuracy: 0.7877\n"
     ]
    }
   ],
   "source": [
    "history = model_lstm_bert.fit(dataset_train,batch_size=128, epochs=1)"
   ]
  },
  {
   "cell_type": "code",
   "execution_count": 169,
   "id": "ec954db0",
   "metadata": {},
   "outputs": [
    {
     "name": "stdout",
     "output_type": "stream",
     "text": [
      "10000/10000 [==============================] - 1541s 154ms/step - loss: 0.4136 - auc: 0.8931 - accuracy: 0.8108\n",
      "Validation Accuracy: 0.81\n",
      "Validation AUC: 0.89\n"
     ]
    }
   ],
   "source": [
    "_,auc,acc = model_lstm_bert.evaluate(dataset_test)\n",
    "print(\"Validation Accuracy: %.2f\" % (acc))\n",
    "print(\"Validation AUC: %.2f\" % (auc))"
   ]
  },
  {
   "cell_type": "markdown",
   "id": "ffcaa60c",
   "metadata": {},
   "source": [
    "# Full train - reduce_data"
   ]
  },
  {
   "cell_type": "code",
   "execution_count": 21,
   "id": "444add09",
   "metadata": {},
   "outputs": [],
   "source": [
    "from transformers import BertTokenizer, TFBertForSequenceClassification\n",
    "from transformers import InputExample, InputFeatures\n",
    "\n",
    "# bert_model_cls = TFBertForSequenceClassification.from_pretrained(\"bert-base-uncased\")\n",
    "# tokenizer_bert = BertTokenizer.from_pretrained(\"bert-base-uncased\")"
   ]
  },
  {
   "cell_type": "code",
   "execution_count": 15,
   "id": "2e3899e1",
   "metadata": {},
   "outputs": [
    {
     "name": "stdout",
     "output_type": "stream",
     "text": [
      "Model: \"tf_bert_for_sequence_classification\"\n",
      "_________________________________________________________________\n",
      "Layer (type)                 Output Shape              Param #   \n",
      "=================================================================\n",
      "bert (TFBertMainLayer)       multiple                  109482240 \n",
      "_________________________________________________________________\n",
      "dropout_37 (Dropout)         multiple                  0         \n",
      "_________________________________________________________________\n",
      "classifier (Dense)           multiple                  1538      \n",
      "=================================================================\n",
      "Total params: 109,483,778\n",
      "Trainable params: 109,483,778\n",
      "Non-trainable params: 0\n",
      "_________________________________________________________________\n"
     ]
    }
   ],
   "source": [
    "bert_model_cls.summary()"
   ]
  },
  {
   "cell_type": "code",
   "execution_count": 16,
   "id": "376cbca3",
   "metadata": {},
   "outputs": [],
   "source": [
    "def convert_data_to_examples(train, test, DATA_COLUMN, LABEL_COLUMN): \n",
    "    train_InputExamples = train.apply(lambda x: InputExample(guid=None, # Globally unique ID for bookkeeping, unused in this case\n",
    "                                                          text_a = x[DATA_COLUMN], \n",
    "                                                          text_b = None,\n",
    "                                                          label = x[LABEL_COLUMN]), axis = 1)\n",
    "\n",
    "    validation_InputExamples = test.apply(lambda x: InputExample(guid=None, # Globally unique ID for bookkeeping, unused in this case\n",
    "                                                          text_a = x[DATA_COLUMN], \n",
    "                                                          text_b = None,\n",
    "                                                          label = x[LABEL_COLUMN]), axis = 1)\n",
    "    return train_InputExamples, validation_InputExamples\n",
    "\n",
    "def convert_examples_to_tf_dataset(examples, tokenizer, max_length=128):\n",
    "    features = [] # -> will hold InputFeatures to be converted later\n",
    "\n",
    "    for e in examples:\n",
    "        # Documentation is really strong for this method, so please take a look at it\n",
    "        input_dict = tokenizer_bert.encode_plus(\n",
    "            e.text_a,\n",
    "            add_special_tokens=True,\n",
    "            max_length=max_length, # truncates if len(s) > max_length\n",
    "            return_token_type_ids=True,\n",
    "            return_attention_mask=True,\n",
    "            pad_to_max_length=True, # pads to the right by default # CHECK THIS for pad_to_max_length\n",
    "            truncation=True\n",
    "        )\n",
    "\n",
    "        input_ids, token_type_ids, attention_mask = (input_dict[\"input_ids\"],\n",
    "            input_dict[\"token_type_ids\"], input_dict['attention_mask'])\n",
    "\n",
    "        features.append(\n",
    "            InputFeatures(\n",
    "                input_ids=input_ids, attention_mask=attention_mask, token_type_ids=token_type_ids, label=e.label\n",
    "            )\n",
    "        )\n",
    "\n",
    "    def gen():\n",
    "        for f in features:\n",
    "            yield ({\n",
    "                    \"input_ids\": f.input_ids,\n",
    "                    \"attention_mask\": f.attention_mask,\n",
    "                    \"token_type_ids\": f.token_type_ids,\n",
    "                },f.label,)\n",
    "            \n",
    "    return tf.data.Dataset.from_generator( gen,\n",
    "            ({\"input_ids\": tf.int32, \"attention_mask\": tf.int32, \"token_type_ids\": tf.int32}, tf.int64),\n",
    "        ({\n",
    "                \"input_ids\": tf.TensorShape([None]),\n",
    "                \"attention_mask\": tf.TensorShape([None]),\n",
    "                \"token_type_ids\": tf.TensorShape([None]),\n",
    "            },tf.TensorShape([]),),\n",
    "    )\n",
    "def prepare_data_classification_bert(X_train,X_test,y_train,y_test):\n",
    "    dic = {\"good\":1,\"bad\":0}\n",
    "    labels_train = [dic[y] for y in y_train]\n",
    "    labels_test = [dic[y] for y in y_test]\n",
    "    DATA_COLUMN = 'DATA_COLUMN'\n",
    "    LABEL_COLUMN = 'LABEL_COLUMN'\n",
    "    train = pd.DataFrame([X_train,labels_train],index=[DATA_COLUMN,LABEL_COLUMN]).T\n",
    "    test =  pd.DataFrame([X_test,labels_test],index=[DATA_COLUMN,LABEL_COLUMN]).T\n",
    "    train_InputExamples, validation_InputExamples = convert_data_to_examples(train,test,DATA_COLUMN, LABEL_COLUMN)\n",
    "    \n",
    "    train_data = convert_examples_to_tf_dataset(list(train_InputExamples), tokenizer_bert)\n",
    "    train_data = train_data.shuffle(100).batch(32).repeat(2)\n",
    "\n",
    "    validation_data = convert_examples_to_tf_dataset(list(validation_InputExamples), tokenizer_bert)\n",
    "    validation_data = validation_data.batch(32)\n",
    "    return train_data,validation_data"
   ]
  },
  {
   "cell_type": "code",
   "execution_count": 26,
   "id": "72565a79",
   "metadata": {},
   "outputs": [
    {
     "name": "stderr",
     "output_type": "stream",
     "text": [
      "/usr/local/lib/python3.6/dist-packages/transformers/tokenization_utils_base.py:2218: FutureWarning: The `pad_to_max_length` argument is deprecated and will be removed in a future version, use `padding=True` or `padding='longest'` to pad to the longest sequence in the batch, or use `padding='max_length'` to pad to a max length. In this case, you can give a specific length with `max_length` (e.g. `max_length=45`) or leave max_length to None to pad to the maximal input size of the model (e.g. 512 for Bert).\n",
      "  FutureWarning,\n"
     ]
    },
    {
     "name": "stdout",
     "output_type": "stream",
     "text": [
      "CPU times: user 1min 5s, sys: 0 ns, total: 1min 5s\n",
      "Wall time: 1min 5s\n"
     ]
    }
   ],
   "source": [
    "%%time\n",
    "train_data_reduce, validation_data_reduce = prepare_data_classification_bert(reduce_X,reduce_X_test,reduce_Y,reduce_Y_test)"
   ]
  },
  {
   "cell_type": "code",
   "execution_count": 166,
   "id": "72336c8a",
   "metadata": {},
   "outputs": [
    {
     "name": "stdout",
     "output_type": "stream",
     "text": [
      "CPU times: user 9min 53s, sys: 2.78 s, total: 9min 55s\n",
      "Wall time: 9min 55s\n"
     ]
    }
   ],
   "source": [
    "%%time\n",
    "train_data, validation_data = prepare_data_classification_bert(X_train,X_test,y_train,y_test)"
   ]
  },
  {
   "cell_type": "code",
   "execution_count": 27,
   "id": "459b19d8",
   "metadata": {},
   "outputs": [
    {
     "name": "stdout",
     "output_type": "stream",
     "text": [
      "6250/6250 [==============================] - 3176s 505ms/step - loss: 0.0113 - accuracy: 0.9981 - val_loss: 5.4457 - val_accuracy: 0.5000\n"
     ]
    },
    {
     "data": {
      "text/plain": [
       "<keras.callbacks.History at 0x7f1d8f89ce80>"
      ]
     },
     "execution_count": 27,
     "metadata": {},
     "output_type": "execute_result"
    }
   ],
   "source": [
    "bert_model_cls.compile(optimizer=tf.keras.optimizers.Adam(learning_rate=3e-5, epsilon=1e-08, clipnorm=1.0), \n",
    "              loss=tf.keras.losses.SparseCategoricalCrossentropy(from_logits=True), \n",
    "              metrics=[tf.keras.metrics.SparseCategoricalAccuracy('accuracy')])\n",
    "\n",
    "bert_model_cls.fit(train_data_reduce, epochs=1, validation_data=validation_data_reduce)"
   ]
  },
  {
   "cell_type": "markdown",
   "id": "82eda043",
   "metadata": {},
   "source": [
    "## Résultat"
   ]
  },
  {
   "cell_type": "code",
   "execution_count": 20,
   "id": "706ae52c",
   "metadata": {},
   "outputs": [
    {
     "data": {
      "image/png": "[encoded data removed]",
      "text/plain": [
       "<Figure size 1440x864 with 2 Axes>"
      ]
     },
     "metadata": {},
     "output_type": "display_data"
    }
   ],
   "source": [
    "result_final = {\n",
    "    \"module_no_code_lr\":{\"auc\":0.7152,\"val_auc\":0.7152,\"nb_data\":10000,\"time\":1200},\n",
    "    \"baseline_CognitifService\":{\"auc\":0.7786,\"val_auc\":0.7786,\"nb_data\":0,\"time\":0},\n",
    "    \"logistic_regression\":{\"auc\":0.8524,\"val_auc\":0.8521,\"nb_data\":1600000,\"time\":23},\n",
    "    \"multicouche_dl\":{\"auc\":0.8639,\"val_auc\":0.8773,\"nb_data\":1280000,\"time\":130},\n",
    "    \"rnn_classique\":{\"auc\":0.8705,\"val_auc\":0.8903,\"nb_data\":1280000,\"time\":1338},\n",
    "    \"lstm_classique\":{\"auc\":0.8940,\"val_auc\":0.9094,\"nb_data\":1280000,\"time\":989},\n",
    "    \"bert\":{\"auc\":0.8690,\"val_auc\":0.8931,\"nb_data\":1280000,\"time\":7005},\n",
    "    \"glove_lstm\":{\"auc\":0.9243,\"val_auc\":0.9106,\"nb_data\":1280000,\"time\":494},\n",
    "    \"word2vec_lstm\":{\"auc\":0.9168,\"val_auc\":0.9131,\"nb_data\":1280000,\"time\":756},\n",
    "    # pour optimize on à entrainé sur tout le jeu de données \"acc\" puis test sur le jeu de test \"val_acc\" \n",
    "#     \"word2vec_lstm_optimize\":{\"auc\":0.9258,\"val_auc\":0.9234,\"nb_data\":1600000,\"time\":890},\n",
    "}\n",
    "\n",
    "fig, ax1 = plt.subplots(figsize=(20,12))\n",
    "ax1.set_xlabel(\"Modèles\",fontsize=16)\n",
    "ax1.tick_params(axis='x',labelsize=14)\n",
    "ax1.set_ylabel(\"AUC (score)\",color='tab:red',fontsize=15)\n",
    "ax1.plot([k for k in result_final.keys()],[v[\"auc\"] for v in result_final.values()],label=\"auc\",color=\"#E26A2C\",marker=\"o\")\n",
    "ax1.plot([k for k in result_final.keys()],[v[\"val_auc\"] for v in result_final.values()],label=\"val_auc\",color=\"#FF5151\",marker=\"o\")\n",
    "ax1.tick_params(axis='y', labelcolor='tab:red',labelsize=14)\n",
    "\n",
    "ax2 = ax1.twinx()\n",
    "\n",
    "ax2.plot([k for k in result_final.keys()],[v[\"time\"] for v in result_final.values()],\n",
    "         label=\"time\",color=\"#1597E5\",marker=\"o\",ls=\"--\")\n",
    "ax2.set_ylabel('Temps d\\'entrainement (seconde)', color='tab:blue',fontsize=15) \n",
    "ax2.tick_params(axis='y', labelcolor='tab:blue',labelsize=14)\n",
    "\n",
    "plt.title(\"Résumé metrique des différent modèles\",fontsize=18)\n",
    "ax1.legend(loc=\"upper right\",fontsize=15)\n",
    "ax2.legend(loc=\"upper left\",fontsize=15)\n",
    "fig.tight_layout()\n",
    "plt.show()"
   ]
  },
  {
   "cell_type": "markdown",
   "id": "581dcc26",
   "metadata": {},
   "source": [
    "# Optimisation model (fine tuning)\n",
    "\n",
    "## Word2Vec"
   ]
  },
  {
   "cell_type": "code",
   "execution_count": 26,
   "id": "d0ec2207",
   "metadata": {},
   "outputs": [],
   "source": [
    "import gensim\n",
    "\n",
    "def create_layer_embedding_word_2_vec(X, W2V_SIZE = 300, W2V_WINDOW = 7, W2V_EPOCH = 32,\n",
    "                                      W2V_MIN_COUNT = 10, SEQUENCE_LENGTH = [150,300], workers=32):\n",
    "    \n",
    "    documents = [_text.split() for _text in X]\n",
    "    w2v_model = gensim.models.word2vec.Word2Vec(vector_size=W2V_SIZE, \n",
    "                                                window=W2V_WINDOW, min_count=W2V_MIN_COUNT,workers=workers)\n",
    "    w2v_model.build_vocab(documents)\n",
    "    \n",
    "    w2v_model.train(documents, total_examples=len(documents), epochs=W2V_EPOCH)\n",
    "    tokenizer = Tokenizer()\n",
    "    tokenizer.fit_on_texts(X)\n",
    "\n",
    "    vocab_size = len(tokenizer.word_index) + 1\n",
    "    embedding_matrix = np.zeros((vocab_size, W2V_SIZE))\n",
    "    for word, i in tokenizer.word_index.items():\n",
    "        if word in w2v_model.wv.index_to_key:\n",
    "            embedding_matrix[i] = w2v_model.wv.get_vector(word, norm=True)\n",
    "            \n",
    "    embedding_layer_word_2_vec_150 = Embedding(vocab_size, W2V_SIZE,\n",
    "                                           weights=[embedding_matrix], input_length=SEQUENCE_LENGTH[0], trainable=False)\n",
    "    embedding_layer_word_2_vec_300 = Embedding(vocab_size, W2V_SIZE,\n",
    "                                           weights=[embedding_matrix], input_length=SEQUENCE_LENGTH[1], trainable=False)\n",
    "    \n",
    "    return embedding_layer_word_2_vec_150,embedding_layer_word_2_vec_300"
   ]
  },
  {
   "cell_type": "code",
   "execution_count": 22,
   "id": "142ccc95",
   "metadata": {},
   "outputs": [
    {
     "name": "stdout",
     "output_type": "stream",
     "text": [
      "train_set : (1280000,)\n",
      "test_set : (320000,)\n"
     ]
    }
   ],
   "source": [
    "# On reprend de 0\n",
    "X_train = data_train[\"text\"].values\n",
    "y_train = data_train[\"sentiment\"].values\n",
    "\n",
    "X_test = data_test[\"text\"].values\n",
    "y_test = data_test[\"sentiment\"].values\n",
    "print(\"train_set :\",X_train.shape)\n",
    "print(\"test_set :\",X_test.shape)"
   ]
  },
  {
   "cell_type": "code",
   "execution_count": 23,
   "id": "68b3019e",
   "metadata": {},
   "outputs": [],
   "source": [
    "X = [cleanning_data(sentence) for sentence in X_train]\n",
    "Y = pd.get_dummies(y_train).values"
   ]
  },
  {
   "cell_type": "code",
   "execution_count": 25,
   "id": "c456c0a1",
   "metadata": {},
   "outputs": [],
   "source": [
    "HP_NUM_UNITS = hp.HParam('num_units', hp.Discrete([128,256]))\n",
    "# HP_DROPOUT = hp.HParam(\"dropout\",hp.RealInterval(0.1, 0.2))\n",
    "HP_DIMENSION_EMBEDDING = hp.HParam('dimension_embedding_vec', hp.Discrete([200,300]))\n",
    "HP_DIMENSION_SEQ = hp.HParam('dimension_seq', hp.Discrete([150,300]))"
   ]
  },
  {
   "cell_type": "code",
   "execution_count": 24,
   "id": "710b72ce",
   "metadata": {},
   "outputs": [],
   "source": [
    "dic_seq = {}\n",
    "dic_embedding={}\n",
    "dic_embedding[200] =  {}\n",
    "dic_embedding[300] =  {}"
   ]
  },
  {
   "cell_type": "code",
   "execution_count": 27,
   "id": "e30138e5",
   "metadata": {},
   "outputs": [
    {
     "name": "stdout",
     "output_type": "stream",
     "text": [
      "CPU times: user 25min 42s, sys: 15.1 s, total: 25min 57s\n",
      "Wall time: 8min 54s\n"
     ]
    }
   ],
   "source": [
    "%%time\n",
    "\n",
    "emb150,emb300 = create_layer_embedding_word_2_vec(X,W2V_SIZE=200)\n",
    "\n",
    "dic_embedding[200][150]=emb150\n",
    "dic_embedding[200][300]=emb300"
   ]
  },
  {
   "cell_type": "code",
   "execution_count": 28,
   "id": "92e955b8",
   "metadata": {},
   "outputs": [
    {
     "name": "stdout",
     "output_type": "stream",
     "text": [
      "CPU times: user 30min 3s, sys: 17.9 s, total: 30min 21s\n",
      "Wall time: 8min 56s\n"
     ]
    }
   ],
   "source": [
    "%%time\n",
    "\n",
    "emb150,emb300 = create_layer_embedding_word_2_vec(X,W2V_SIZE=300)\n",
    "\n",
    "dic_embedding[300][150]=emb150\n",
    "dic_embedding[300][300]=emb300"
   ]
  },
  {
   "cell_type": "code",
   "execution_count": 30,
   "id": "c1e73538",
   "metadata": {},
   "outputs": [],
   "source": [
    "test_X = [cleanning_data(sentence) for sentence in X_test]\n",
    "test_Y = pd.get_dummies(y_test).values"
   ]
  },
  {
   "cell_type": "code",
   "execution_count": 31,
   "id": "829ed740",
   "metadata": {},
   "outputs": [
    {
     "name": "stdout",
     "output_type": "stream",
     "text": [
      "CPU times: user 1min 5s, sys: 843 ms, total: 1min 6s\n",
      "Wall time: 1min 6s\n"
     ]
    }
   ],
   "source": [
    "%%time\n",
    "tokenizer = Tokenizer()\n",
    "tokenizer.fit_on_texts(X)\n",
    "x_train = pad_sequences(tokenizer.texts_to_sequences(X),maxlen=300)\n",
    "x_test = pad_sequences(tokenizer.texts_to_sequences(test_X),maxlen=300)\n",
    "dic_seq[300] = (x_train,x_test)\n",
    "x_train = pad_sequences(tokenizer.texts_to_sequences(X),maxlen=150)\n",
    "x_test = pad_sequences(tokenizer.texts_to_sequences(test_X),maxlen=150)\n",
    "dic_seq[150] = (x_train,x_test)"
   ]
  },
  {
   "cell_type": "code",
   "execution_count": 43,
   "id": "b4d92e2c",
   "metadata": {},
   "outputs": [],
   "source": [
    "METRIC_ACCURACY = 'accuracy'\n",
    "METRIC_AUC = \"AUC\"\n",
    "path = './logs/hparam_tuning'\n",
    "\n",
    "\n",
    "with tf.summary.create_file_writer(path).as_default():\n",
    "    hp.hparams_config(\n",
    "        hparams=[HP_NUM_UNITS,HP_DIMENSION_EMBEDDING,HP_DIMENSION_SEQ],\n",
    "        metrics=[hp.Metric(METRIC_AUC, display_name='AUC'),hp.Metric(METRIC_ACCURACY, display_name='Accuracy')],\n",
    "    )\n",
    "    session_num = 0\n",
    "    \n",
    "def run(run_dir, hparams):\n",
    "    with tf.summary.create_file_writer(run_dir).as_default():\n",
    "        hp.hparams(hparams)  # record the values used in this trial\n",
    "        accuracy,auc = train_test_model(hparams)\n",
    "        tf.summary.scalar(METRIC_ACCURACY, accuracy, step=1)\n",
    "        tf.summary.scalar(METRIC_AUC, auc, step=1)\n",
    "\n",
    "history_list = []\n",
    "\n",
    "def train_test_model(hparams):\n",
    "    model = Sequential()\n",
    "    model.add(dic_embedding[hparams[HP_DIMENSION_EMBEDDING]][hparams[HP_DIMENSION_SEQ]])\n",
    "    model.add(LSTM(hparams[HP_NUM_UNITS]))\n",
    "    model.add(Dropout(0.1))\n",
    "    model.add(Dense(2, activation='softmax'))\n",
    "\n",
    "    model.compile(\n",
    "        optimizer=\"adam\",\n",
    "        loss='categorical_crossentropy',\n",
    "        metrics=['AUC',\"accuracy\"],\n",
    "    )\n",
    "    \n",
    "    x_train,x_test = dic_seq[hparams[HP_DIMENSION_SEQ]]\n",
    "    history = model.fit(x_train, Y, epochs=8, batch_size=1024,validation_data=(x_test,test_Y)) \n",
    "    history_list.append(history)\n",
    "    _, accuracy,auc = model.evaluate(x_test, test_Y,batch_size=1024)\n",
    "    return accuracy,auc"
   ]
  },
  {
   "cell_type": "code",
   "execution_count": 44,
   "id": "9cd5c699",
   "metadata": {},
   "outputs": [
    {
     "name": "stdout",
     "output_type": "stream",
     "text": [
      "--- Starting trial: run-0\n",
      "{'num_units': 128, 'dimension_embedding_vec': 200, 'dimension_seq': 150}\n",
      "Epoch 1/8\n",
      "1250/1250 [==============================] - 56s 43ms/step - loss: 0.4496 - auc: 0.8709 - accuracy: 0.7897 - val_loss: 0.4196 - val_auc: 0.8890 - val_accuracy: 0.8070\n",
      "Epoch 2/8\n",
      "1250/1250 [==============================] - 52s 42ms/step - loss: 0.4110 - auc: 0.8937 - accuracy: 0.8112 - val_loss: 0.4036 - val_auc: 0.8978 - val_accuracy: 0.8164\n",
      "Epoch 3/8\n",
      "1250/1250 [==============================] - 51s 41ms/step - loss: 0.3972 - auc: 0.9011 - accuracy: 0.8191 - val_loss: 0.3928 - val_auc: 0.9035 - val_accuracy: 0.8223\n",
      "Epoch 4/8\n",
      "1250/1250 [==============================] - 53s 42ms/step - loss: 0.3888 - auc: 0.9055 - accuracy: 0.8236 - val_loss: 0.3889 - val_auc: 0.9057 - val_accuracy: 0.8239\n",
      "Epoch 5/8\n",
      "1250/1250 [==============================] - 51s 41ms/step - loss: 0.3824 - auc: 0.9088 - accuracy: 0.8270 - val_loss: 0.3830 - val_auc: 0.9085 - val_accuracy: 0.8269\n",
      "Epoch 6/8\n",
      "1250/1250 [==============================] - 50s 40ms/step - loss: 0.3770 - auc: 0.9115 - accuracy: 0.8302 - val_loss: 0.3812 - val_auc: 0.9096 - val_accuracy: 0.8285\n",
      "Epoch 7/8\n",
      "1250/1250 [==============================] - 51s 41ms/step - loss: 0.3724 - auc: 0.9137 - accuracy: 0.8322 - val_loss: 0.3776 - val_auc: 0.9113 - val_accuracy: 0.8299\n",
      "Epoch 8/8\n",
      "1250/1250 [==============================] - 50s 40ms/step - loss: 0.3684 - auc: 0.9157 - accuracy: 0.8344 - val_loss: 0.3748 - val_auc: 0.9127 - val_accuracy: 0.8317\n",
      "313/313 [==============================] - 5s 16ms/step - loss: 0.3748 - auc: 0.9127 - accuracy: 0.8317\n",
      "--- Starting trial: run-1\n",
      "{'num_units': 128, 'dimension_embedding_vec': 200, 'dimension_seq': 300}\n",
      "Epoch 1/8\n",
      "1250/1250 [==============================] - 80s 63ms/step - loss: 0.4528 - auc: 0.8690 - accuracy: 0.7877 - val_loss: 0.4216 - val_auc: 0.8878 - val_accuracy: 0.8048\n",
      "Epoch 2/8\n",
      "1250/1250 [==============================] - 79s 63ms/step - loss: 0.4137 - auc: 0.8922 - accuracy: 0.8096 - val_loss: 0.4036 - val_auc: 0.8978 - val_accuracy: 0.8153\n",
      "Epoch 3/8\n",
      "1250/1250 [==============================] - 79s 63ms/step - loss: 0.3982 - auc: 0.9006 - accuracy: 0.8180 - val_loss: 0.3938 - val_auc: 0.9030 - val_accuracy: 0.8211\n",
      "Epoch 4/8\n",
      "1250/1250 [==============================] - 79s 63ms/step - loss: 0.3897 - auc: 0.9051 - accuracy: 0.8231 - val_loss: 0.3884 - val_auc: 0.9061 - val_accuracy: 0.8252\n",
      "Epoch 5/8\n",
      "1250/1250 [==============================] - 78s 63ms/step - loss: 0.3828 - auc: 0.9086 - accuracy: 0.8267 - val_loss: 0.3843 - val_auc: 0.9079 - val_accuracy: 0.8261\n",
      "Epoch 6/8\n",
      "1250/1250 [==============================] - 79s 63ms/step - loss: 0.3773 - auc: 0.9113 - accuracy: 0.8299 - val_loss: 0.3794 - val_auc: 0.9104 - val_accuracy: 0.8291\n",
      "Epoch 7/8\n",
      "1250/1250 [==============================] - 79s 63ms/step - loss: 0.3728 - auc: 0.9135 - accuracy: 0.8321 - val_loss: 0.3845 - val_auc: 0.9077 - val_accuracy: 0.8255\n",
      "Epoch 8/8\n",
      "1250/1250 [==============================] - 81s 65ms/step - loss: 0.3685 - auc: 0.9156 - accuracy: 0.8347 - val_loss: 0.3753 - val_auc: 0.9126 - val_accuracy: 0.8318\n",
      "313/313 [==============================] - 7s 22ms/step - loss: 0.3753 - auc: 0.9126 - accuracy: 0.8318\n",
      "--- Starting trial: run-2\n",
      "{'num_units': 128, 'dimension_embedding_vec': 300, 'dimension_seq': 150}\n",
      "Epoch 1/8\n",
      "1250/1250 [==============================] - 54s 42ms/step - loss: 0.4510 - auc: 0.8700 - accuracy: 0.7884 - val_loss: 0.4193 - val_auc: 0.8891 - val_accuracy: 0.8068\n",
      "Epoch 2/8\n",
      "1250/1250 [==============================] - 54s 43ms/step - loss: 0.4098 - auc: 0.8943 - accuracy: 0.8119 - val_loss: 0.4015 - val_auc: 0.8990 - val_accuracy: 0.8173\n",
      "Epoch 3/8\n",
      "1250/1250 [==============================] - 52s 42ms/step - loss: 0.3956 - auc: 0.9020 - accuracy: 0.8193 - val_loss: 0.3911 - val_auc: 0.9046 - val_accuracy: 0.8227\n",
      "Epoch 4/8\n",
      "1250/1250 [==============================] - 53s 42ms/step - loss: 0.3868 - auc: 0.9065 - accuracy: 0.8244 - val_loss: 0.3850 - val_auc: 0.9075 - val_accuracy: 0.8264\n",
      "Epoch 5/8\n",
      "1250/1250 [==============================] - 55s 44ms/step - loss: 0.3801 - auc: 0.9100 - accuracy: 0.8282 - val_loss: 0.3813 - val_auc: 0.9095 - val_accuracy: 0.8282\n",
      "Epoch 6/8\n",
      "1250/1250 [==============================] - 54s 43ms/step - loss: 0.3742 - auc: 0.9129 - accuracy: 0.8317 - val_loss: 0.3767 - val_auc: 0.9117 - val_accuracy: 0.8309\n",
      "Epoch 7/8\n",
      "1250/1250 [==============================] - 55s 44ms/step - loss: 0.3689 - auc: 0.9154 - accuracy: 0.8343 - val_loss: 0.3753 - val_auc: 0.9124 - val_accuracy: 0.8315\n",
      "Epoch 8/8\n",
      "1250/1250 [==============================] - 54s 43ms/step - loss: 0.3647 - auc: 0.9174 - accuracy: 0.8367 - val_loss: 0.3723 - val_auc: 0.9139 - val_accuracy: 0.8334\n",
      "313/313 [==============================] - 5s 17ms/step - loss: 0.3723 - auc: 0.9139 - accuracy: 0.8334\n",
      "--- Starting trial: run-3\n",
      "{'num_units': 128, 'dimension_embedding_vec': 300, 'dimension_seq': 300}\n",
      "Epoch 1/8\n",
      "1250/1250 [==============================] - 85s 67ms/step - loss: 0.4848 - auc: 0.8499 - accuracy: 0.7720 - val_loss: 0.4430 - val_auc: 0.8753 - val_accuracy: 0.7942\n",
      "Epoch 2/8\n",
      "1250/1250 [==============================] - 82s 66ms/step - loss: 0.4339 - auc: 0.8807 - accuracy: 0.7990 - val_loss: 0.4240 - val_auc: 0.8864 - val_accuracy: 0.8044\n",
      "Epoch 3/8\n",
      "1250/1250 [==============================] - 82s 65ms/step - loss: 0.4167 - auc: 0.8905 - accuracy: 0.8083 - val_loss: 0.4080 - val_auc: 0.8956 - val_accuracy: 0.8138\n",
      "Epoch 4/8\n",
      "1250/1250 [==============================] - 81s 65ms/step - loss: 0.4036 - auc: 0.8977 - accuracy: 0.8153 - val_loss: 0.3991 - val_auc: 0.9004 - val_accuracy: 0.8182\n",
      "Epoch 5/8\n",
      "1250/1250 [==============================] - 80s 64ms/step - loss: 0.3947 - auc: 0.9025 - accuracy: 0.8202 - val_loss: 0.3933 - val_auc: 0.9033 - val_accuracy: 0.8217\n",
      "Epoch 6/8\n",
      "1250/1250 [==============================] - 81s 65ms/step - loss: 0.3875 - auc: 0.9062 - accuracy: 0.8242 - val_loss: 0.3871 - val_auc: 0.9068 - val_accuracy: 0.8254\n",
      "Epoch 7/8\n",
      "1250/1250 [==============================] - 81s 65ms/step - loss: 0.3816 - auc: 0.9092 - accuracy: 0.8276 - val_loss: 0.3831 - val_auc: 0.9085 - val_accuracy: 0.8272\n",
      "Epoch 8/8\n",
      "1250/1250 [==============================] - 80s 64ms/step - loss: 0.3764 - auc: 0.9118 - accuracy: 0.8302 - val_loss: 0.3787 - val_auc: 0.9107 - val_accuracy: 0.8296\n",
      "313/313 [==============================] - 7s 22ms/step - loss: 0.3787 - auc: 0.9107 - accuracy: 0.8296\n",
      "--- Starting trial: run-4\n",
      "{'num_units': 256, 'dimension_embedding_vec': 200, 'dimension_seq': 150}\n",
      "Epoch 1/8\n",
      "1250/1250 [==============================] - 63s 50ms/step - loss: 0.4486 - auc: 0.8715 - accuracy: 0.7896 - val_loss: 0.4178 - val_auc: 0.8898 - val_accuracy: 0.8072\n",
      "Epoch 2/8\n",
      "1250/1250 [==============================] - 63s 50ms/step - loss: 0.4073 - auc: 0.8957 - accuracy: 0.8131 - val_loss: 0.3981 - val_auc: 0.9009 - val_accuracy: 0.8190\n",
      "Epoch 3/8\n",
      "1250/1250 [==============================] - 63s 50ms/step - loss: 0.3928 - auc: 0.9035 - accuracy: 0.8213 - val_loss: 0.3884 - val_auc: 0.9058 - val_accuracy: 0.8244\n",
      "Epoch 4/8\n",
      "1250/1250 [==============================] - 63s 51ms/step - loss: 0.3827 - auc: 0.9087 - accuracy: 0.8270 - val_loss: 0.3857 - val_auc: 0.9071 - val_accuracy: 0.8256\n",
      "Epoch 5/8\n",
      "1250/1250 [==============================] - 63s 50ms/step - loss: 0.3752 - auc: 0.9124 - accuracy: 0.8311 - val_loss: 0.3794 - val_auc: 0.9104 - val_accuracy: 0.8294\n",
      "Epoch 6/8\n",
      "1250/1250 [==============================] - 63s 50ms/step - loss: 0.3684 - auc: 0.9157 - accuracy: 0.8346 - val_loss: 0.3744 - val_auc: 0.9129 - val_accuracy: 0.8324\n",
      "Epoch 7/8\n",
      "1250/1250 [==============================] - 63s 50ms/step - loss: 0.3623 - auc: 0.9185 - accuracy: 0.8377 - val_loss: 0.3713 - val_auc: 0.9146 - val_accuracy: 0.8340\n",
      "Epoch 8/8\n",
      "1250/1250 [==============================] - 63s 50ms/step - loss: 0.3564 - auc: 0.9213 - accuracy: 0.8407 - val_loss: 0.3697 - val_auc: 0.9154 - val_accuracy: 0.8350\n",
      "313/313 [==============================] - 7s 21ms/step - loss: 0.3697 - auc: 0.9154 - accuracy: 0.8350\n",
      "--- Starting trial: run-5\n",
      "{'num_units': 256, 'dimension_embedding_vec': 200, 'dimension_seq': 300}\n"
     ]
    },
    {
     "name": "stdout",
     "output_type": "stream",
     "text": [
      "Epoch 1/8\n",
      "1250/1250 [==============================] - 105s 83ms/step - loss: 0.4641 - auc: 0.8617 - accuracy: 0.7815 - val_loss: 0.4262 - val_auc: 0.8851 - val_accuracy: 0.8025\n",
      "Epoch 2/8\n",
      "1250/1250 [==============================] - 104s 83ms/step - loss: 0.4161 - auc: 0.8908 - accuracy: 0.8081 - val_loss: 0.4042 - val_auc: 0.8975 - val_accuracy: 0.8155\n",
      "Epoch 3/8\n",
      "1250/1250 [==============================] - 104s 83ms/step - loss: 0.4001 - auc: 0.8996 - accuracy: 0.8171 - val_loss: 0.3958 - val_auc: 0.9020 - val_accuracy: 0.8205\n",
      "Epoch 4/8\n",
      "1250/1250 [==============================] - 104s 83ms/step - loss: 0.3917 - auc: 0.9040 - accuracy: 0.8221 - val_loss: 0.3885 - val_auc: 0.9058 - val_accuracy: 0.8244\n",
      "Epoch 5/8\n",
      "1250/1250 [==============================] - 104s 83ms/step - loss: 0.3827 - auc: 0.9087 - accuracy: 0.8268 - val_loss: 0.3817 - val_auc: 0.9092 - val_accuracy: 0.8283\n",
      "Epoch 6/8\n",
      "1250/1250 [==============================] - 103s 83ms/step - loss: 0.3761 - auc: 0.9119 - accuracy: 0.8304 - val_loss: 0.3778 - val_auc: 0.9112 - val_accuracy: 0.8305\n",
      "Epoch 7/8\n",
      "1250/1250 [==============================] - 104s 83ms/step - loss: 0.3709 - auc: 0.9145 - accuracy: 0.8334 - val_loss: 0.3771 - val_auc: 0.9115 - val_accuracy: 0.8303\n",
      "Epoch 8/8\n",
      "1250/1250 [==============================] - 104s 83ms/step - loss: 0.3643 - auc: 0.9176 - accuracy: 0.8367 - val_loss: 0.3730 - val_auc: 0.9136 - val_accuracy: 0.8326\n",
      "313/313 [==============================] - 10s 32ms/step - loss: 0.3730 - auc: 0.9136 - accuracy: 0.8326\n",
      "--- Starting trial: run-6\n",
      "{'num_units': 256, 'dimension_embedding_vec': 300, 'dimension_seq': 150}\n",
      "Epoch 1/8\n",
      "1250/1250 [==============================] - 68s 54ms/step - loss: 0.4432 - auc: 0.8749 - accuracy: 0.7932 - val_loss: 0.4111 - val_auc: 0.8936 - val_accuracy: 0.8109\n",
      "Epoch 2/8\n",
      "1250/1250 [==============================] - 66s 53ms/step - loss: 0.4022 - auc: 0.8985 - accuracy: 0.8159 - val_loss: 0.3927 - val_auc: 0.9035 - val_accuracy: 0.8210\n",
      "Epoch 3/8\n",
      "1250/1250 [==============================] - 66s 53ms/step - loss: 0.3878 - auc: 0.9061 - accuracy: 0.8240 - val_loss: 0.3842 - val_auc: 0.9080 - val_accuracy: 0.8269\n",
      "Epoch 4/8\n",
      "1250/1250 [==============================] - 65s 52ms/step - loss: 0.3779 - auc: 0.9110 - accuracy: 0.8297 - val_loss: 0.3789 - val_auc: 0.9107 - val_accuracy: 0.8297\n",
      "Epoch 5/8\n",
      "1250/1250 [==============================] - 66s 52ms/step - loss: 0.3697 - auc: 0.9150 - accuracy: 0.8339 - val_loss: 0.3753 - val_auc: 0.9125 - val_accuracy: 0.8321\n",
      "Epoch 6/8\n",
      "1250/1250 [==============================] - 65s 52ms/step - loss: 0.3625 - auc: 0.9184 - accuracy: 0.8375 - val_loss: 0.3717 - val_auc: 0.9144 - val_accuracy: 0.8338\n",
      "Epoch 7/8\n",
      "1250/1250 [==============================] - 66s 52ms/step - loss: 0.3559 - auc: 0.9215 - accuracy: 0.8408 - val_loss: 0.3722 - val_auc: 0.9146 - val_accuracy: 0.8344\n",
      "Epoch 8/8\n",
      "1250/1250 [==============================] - 65s 52ms/step - loss: 0.3494 - auc: 0.9244 - accuracy: 0.8442 - val_loss: 0.3681 - val_auc: 0.9162 - val_accuracy: 0.8365\n",
      "313/313 [==============================] - 7s 23ms/step - loss: 0.3681 - auc: 0.9162 - accuracy: 0.8365\n",
      "--- Starting trial: run-7\n",
      "{'num_units': 256, 'dimension_embedding_vec': 300, 'dimension_seq': 300}\n",
      "Epoch 1/8\n",
      "1250/1250 [==============================] - 113s 89ms/step - loss: 0.4420 - auc: 0.8756 - accuracy: 0.7937 - val_loss: 0.4117 - val_auc: 0.8933 - val_accuracy: 0.8114\n",
      "Epoch 2/8\n",
      "1250/1250 [==============================] - 110s 88ms/step - loss: 0.4027 - auc: 0.8982 - accuracy: 0.8155 - val_loss: 0.3954 - val_auc: 0.9024 - val_accuracy: 0.8207\n",
      "Epoch 3/8\n",
      "1250/1250 [==============================] - 110s 88ms/step - loss: 0.3871 - auc: 0.9064 - accuracy: 0.8244 - val_loss: 0.3841 - val_auc: 0.9080 - val_accuracy: 0.8265\n",
      "Epoch 4/8\n",
      "1250/1250 [==============================] - 111s 89ms/step - loss: 0.3778 - auc: 0.9111 - accuracy: 0.8297 - val_loss: 0.3782 - val_auc: 0.9109 - val_accuracy: 0.8296\n",
      "Epoch 5/8\n",
      "1250/1250 [==============================] - 112s 89ms/step - loss: 0.3692 - auc: 0.9153 - accuracy: 0.8343 - val_loss: 0.3732 - val_auc: 0.9135 - val_accuracy: 0.8326\n",
      "Epoch 6/8\n",
      "1250/1250 [==============================] - 110s 88ms/step - loss: 0.3622 - auc: 0.9186 - accuracy: 0.8377 - val_loss: 0.3708 - val_auc: 0.9147 - val_accuracy: 0.8341\n",
      "Epoch 7/8\n",
      "1250/1250 [==============================] - 112s 90ms/step - loss: 0.3560 - auc: 0.9215 - accuracy: 0.8409 - val_loss: 0.3701 - val_auc: 0.9150 - val_accuracy: 0.8349\n",
      "Epoch 8/8\n",
      "1250/1250 [==============================] - 112s 90ms/step - loss: 0.3494 - auc: 0.9245 - accuracy: 0.8446 - val_loss: 0.3687 - val_auc: 0.9166 - val_accuracy: 0.8363\n",
      "313/313 [==============================] - 11s 36ms/step - loss: 0.3687 - auc: 0.9166 - accuracy: 0.8363\n"
     ]
    }
   ],
   "source": [
    "for num_units in HP_NUM_UNITS.domain.values:\n",
    "    for dim_emb in HP_DIMENSION_EMBEDDING.domain.values:\n",
    "        for dim_seq in HP_DIMENSION_SEQ.domain.values:\n",
    "            hparams = {\n",
    "                HP_NUM_UNITS: num_units,\n",
    "                HP_DIMENSION_EMBEDDING: dim_emb,\n",
    "                HP_DIMENSION_SEQ: dim_seq,\n",
    "            }\n",
    "            run_name = \"run-%d\" % session_num\n",
    "            print('--- Starting trial: %s' % run_name)\n",
    "            print({h.name: hparams[h] for h in hparams})\n",
    "            run(path + \"/\" + run_name, hparams)\n",
    "            session_num += 1"
   ]
  },
  {
   "cell_type": "code",
   "execution_count": 49,
   "id": "4e438ccd",
   "metadata": {},
   "outputs": [],
   "source": [
    "%load_ext tensorboard"
   ]
  },
  {
   "cell_type": "code",
   "execution_count": 53,
   "id": "70e02d56",
   "metadata": {},
   "outputs": [
    {
     "data": {
      "text/html": [
       "\n",
       "      <iframe id=\"tensorboard-frame-d19b67db7f2f7ec0\" width=\"100%\" height=\"800\" frameborder=\"0\">\n",
       "      </iframe>\n",
       "      <script>\n",
       "        (function() {\n",
       "          const frame = document.getElementById(\"tensorboard-frame-d19b67db7f2f7ec0\");\n",
       "          const url = new URL(\"/\", window.location);\n",
       "          const port = 6006;\n",
       "          if (port) {\n",
       "            url.port = port;\n",
       "          }\n",
       "          frame.src = url;\n",
       "        })();\n",
       "      </script>\n",
       "    "
      ],
      "text/plain": [
       "<IPython.core.display.HTML object>"
      ]
     },
     "metadata": {},
     "output_type": "display_data"
    }
   ],
   "source": [
    "# %tensorboard --logdir logs/hparam_tuning --host 0.0.0.0\n",
    "%tensorboard --logdir logs/hparam_tuning"
   ]
  },
  {
   "cell_type": "markdown",
   "id": "3fa5d0ac",
   "metadata": {},
   "source": [
    "# Export du modèle final "
   ]
  },
  {
   "cell_type": "code",
   "execution_count": 17,
   "id": "8616dd3f",
   "metadata": {},
   "outputs": [],
   "source": [
    "import joblib "
   ]
  },
  {
   "cell_type": "code",
   "execution_count": 29,
   "id": "05b86c58",
   "metadata": {},
   "outputs": [],
   "source": [
    "X_train = df_nlp[\"text\"]\n",
    "y_train = df_nlp[\"sentiment\"]"
   ]
  },
  {
   "cell_type": "code",
   "execution_count": 30,
   "id": "7b531e3d",
   "metadata": {},
   "outputs": [],
   "source": [
    "# on retire les données de test :\n",
    "new_size=4000\n",
    "size=new_size//2\n",
    "\n",
    "pos_X = []\n",
    "i = 1500000\n",
    "while len(pos_X) < size:\n",
    "    if y_train[i] ==\"good\":\n",
    "        pos_X.append(i)\n",
    "    i+=1\n",
    "\n",
    "i=700000\n",
    "neg_X = []\n",
    "while len(neg_X) < size:\n",
    "    if y_train[i] ==\"bad\":\n",
    "        neg_X.append(i)\n",
    "    i+=1\n",
    "id_pos_test_set = pos_X\n",
    "id_pos_test_set.extend(neg_X)"
   ]
  },
  {
   "cell_type": "code",
   "execution_count": 31,
   "id": "e472f9b3",
   "metadata": {},
   "outputs": [],
   "source": [
    "X_train.drop(id_pos_test_set,axis=0,inplace=True)\n",
    "y_train.drop(id_pos_test_set,axis=0,inplace=True)\n",
    "X_test = df_nlp[\"text\"].loc[id_pos_test_set].tolist()\n",
    "y_test = df_nlp[\"sentiment\"].loc[id_pos_test_set].tolist()"
   ]
  },
  {
   "cell_type": "code",
   "execution_count": 32,
   "id": "cac4a824",
   "metadata": {},
   "outputs": [],
   "source": [
    "X = [cleanning_data(sentence) for sentence in X_train]\n",
    "Y = pd.get_dummies(y_train).values"
   ]
  },
  {
   "cell_type": "code",
   "execution_count": 33,
   "id": "b17cbebf",
   "metadata": {},
   "outputs": [],
   "source": [
    "import gensim\n",
    "\n",
    "def create_layer_embedding_word_2_vec(X, W2V_SIZE = 300, W2V_WINDOW = 7, W2V_EPOCH = 32,\n",
    "                                      W2V_MIN_COUNT = 10, SEQUENCE_LENGTH = 300, workers=32):\n",
    "    \n",
    "    documents = [_text.split() for _text in X]\n",
    "    w2v_model = gensim.models.word2vec.Word2Vec(vector_size=W2V_SIZE, \n",
    "                                                window=W2V_WINDOW, min_count=W2V_MIN_COUNT,workers=workers)\n",
    "    w2v_model.build_vocab(documents)\n",
    "    \n",
    "    w2v_model.train(documents, total_examples=len(documents), epochs=W2V_EPOCH)\n",
    "    tokenizer = Tokenizer()\n",
    "    tokenizer.fit_on_texts(X)\n",
    "\n",
    "    vocab_size = len(tokenizer.word_index) + 1\n",
    "    embedding_matrix = np.zeros((vocab_size, W2V_SIZE))\n",
    "    for word, i in tokenizer.word_index.items():\n",
    "        if word in w2v_model.wv.index_to_key:\n",
    "            embedding_matrix[i] = w2v_model.wv.get_vector(word, norm=True)\n",
    "            \n",
    "    embedding_layer_word_2_vec = Embedding(vocab_size, W2V_SIZE,\n",
    "                                           weights=[embedding_matrix], input_length=SEQUENCE_LENGTH, trainable=False)\n",
    "    \n",
    "    return embedding_layer_word_2_vec"
   ]
  },
  {
   "cell_type": "code",
   "execution_count": 34,
   "id": "bd359fec",
   "metadata": {},
   "outputs": [],
   "source": [
    "embedding = create_layer_embedding_word_2_vec(X)"
   ]
  },
  {
   "cell_type": "code",
   "execution_count": 24,
   "id": "f98a4da9",
   "metadata": {},
   "outputs": [],
   "source": [
    "tokenizer = Tokenizer()\n",
    "tokenizer.fit_on_texts(X)\n",
    "X= pad_sequences(tokenizer.texts_to_sequences(X),maxlen=300)"
   ]
  },
  {
   "cell_type": "code",
   "execution_count": 25,
   "id": "fe12c918",
   "metadata": {},
   "outputs": [],
   "source": [
    "X_test = [cleanning_data(sentence) for sentence in X_test]\n",
    "X_test = pad_sequences(tokenizer.texts_to_sequences(X_test),maxlen=300)"
   ]
  },
  {
   "cell_type": "code",
   "execution_count": 26,
   "id": "75913078",
   "metadata": {},
   "outputs": [],
   "source": [
    "test_Y = pd.get_dummies(y_test).values"
   ]
  },
  {
   "cell_type": "code",
   "execution_count": 31,
   "id": "1f2d63e4",
   "metadata": {},
   "outputs": [],
   "source": [
    "best_model = tf.keras.models.Sequential([\n",
    "    embedding,\n",
    "    tf.keras.layers.LSTM(256),\n",
    "    tf.keras.layers.Dropout(0.1),\n",
    "    tf.keras.layers.Dense(2, activation=\"softmax\"),\n",
    "])\n",
    "\n",
    "best_model.compile(\n",
    "    optimizer=\"adam\",\n",
    "    loss='categorical_crossentropy',\n",
    "    metrics=['AUC',\"accuracy\"],\n",
    ")"
   ]
  },
  {
   "cell_type": "code",
   "execution_count": 32,
   "id": "38f30184",
   "metadata": {},
   "outputs": [
    {
     "name": "stdout",
     "output_type": "stream",
     "text": [
      "Epoch 1/20\n",
      "1559/1559 [==============================] - 132s 84ms/step - loss: 0.4995 - auc: 0.8424 - accuracy: 0.7622 - val_loss: 0.4659 - val_auc: 0.8614 - val_accuracy: 0.7805\n",
      "Epoch 2/20\n",
      "1559/1559 [==============================] - 132s 85ms/step - loss: 0.4317 - auc: 0.8820 - accuracy: 0.8003 - val_loss: 0.4017 - val_auc: 0.8982 - val_accuracy: 0.8110\n",
      "Epoch 3/20\n",
      "1559/1559 [==============================] - 132s 85ms/step - loss: 0.4035 - auc: 0.8979 - accuracy: 0.8157 - val_loss: 0.3850 - val_auc: 0.9071 - val_accuracy: 0.8223\n",
      "Epoch 4/20\n",
      "1559/1559 [==============================] - 132s 85ms/step - loss: 0.3909 - auc: 0.9045 - accuracy: 0.8227 - val_loss: 0.3773 - val_auc: 0.9111 - val_accuracy: 0.8257\n",
      "Epoch 5/20\n",
      "1559/1559 [==============================] - 132s 84ms/step - loss: 0.3819 - auc: 0.9090 - accuracy: 0.8276 - val_loss: 0.3707 - val_auc: 0.9141 - val_accuracy: 0.8273\n",
      "Epoch 6/20\n",
      "1559/1559 [==============================] - 133s 85ms/step - loss: 0.3753 - auc: 0.9123 - accuracy: 0.8310 - val_loss: 0.3671 - val_auc: 0.9162 - val_accuracy: 0.8275\n",
      "Epoch 7/20\n",
      "1559/1559 [==============================] - 128s 82ms/step - loss: 0.3686 - auc: 0.9156 - accuracy: 0.8348 - val_loss: 0.3592 - val_auc: 0.9200 - val_accuracy: 0.8340\n",
      "Epoch 8/20\n",
      "1559/1559 [==============================] - 128s 82ms/step - loss: 0.3629 - auc: 0.9183 - accuracy: 0.8375 - val_loss: 0.3582 - val_auc: 0.9207 - val_accuracy: 0.8407\n",
      "Epoch 9/20\n",
      "1559/1559 [==============================] - 130s 84ms/step - loss: 0.3575 - auc: 0.9208 - accuracy: 0.8407 - val_loss: 0.3582 - val_auc: 0.9205 - val_accuracy: 0.8360\n",
      "Epoch 10/20\n",
      "1559/1559 [==============================] - 132s 84ms/step - loss: 0.3520 - auc: 0.9233 - accuracy: 0.8434 - val_loss: 0.3543 - val_auc: 0.9224 - val_accuracy: 0.8425\n",
      "Epoch 11/20\n",
      "1559/1559 [==============================] - 131s 84ms/step - loss: 0.3459 - auc: 0.9260 - accuracy: 0.8464 - val_loss: 0.3496 - val_auc: 0.9247 - val_accuracy: 0.8465\n",
      "Epoch 12/20\n",
      "1559/1559 [==============================] - 129s 82ms/step - loss: 0.3403 - auc: 0.9285 - accuracy: 0.8491 - val_loss: 0.3515 - val_auc: 0.9237 - val_accuracy: 0.8438\n",
      "Epoch 13/20\n",
      "1559/1559 [==============================] - 129s 83ms/step - loss: 0.3348 - auc: 0.9309 - accuracy: 0.8521 - val_loss: 0.3591 - val_auc: 0.9207 - val_accuracy: 0.8385\n",
      "Epoch 14/20\n",
      "1559/1559 [==============================] - 129s 83ms/step - loss: 0.3285 - auc: 0.9335 - accuracy: 0.8551 - val_loss: 0.3517 - val_auc: 0.9242 - val_accuracy: 0.8468\n",
      "Epoch 15/20\n",
      "1559/1559 [==============================] - 129s 83ms/step - loss: 0.3224 - auc: 0.9360 - accuracy: 0.8579 - val_loss: 0.3529 - val_auc: 0.9241 - val_accuracy: 0.8428\n",
      "Epoch 16/20\n",
      "1559/1559 [==============================] - 130s 83ms/step - loss: 0.3160 - auc: 0.9385 - accuracy: 0.8610 - val_loss: 0.3595 - val_auc: 0.9224 - val_accuracy: 0.8375\n",
      "Epoch 17/20\n",
      "1559/1559 [==============================] - 130s 83ms/step - loss: 0.3095 - auc: 0.9411 - accuracy: 0.8642 - val_loss: 0.3593 - val_auc: 0.9217 - val_accuracy: 0.8388\n",
      "Epoch 18/20\n",
      "1559/1559 [==============================] - 130s 83ms/step - loss: 0.3030 - auc: 0.9436 - accuracy: 0.8673 - val_loss: 0.3638 - val_auc: 0.9207 - val_accuracy: 0.8363\n",
      "Epoch 19/20\n",
      "1559/1559 [==============================] - 130s 83ms/step - loss: 0.3060 - auc: 0.9430 - accuracy: 0.8672 - val_loss: 0.3693 - val_auc: 0.9173 - val_accuracy: 0.8372\n",
      "Epoch 20/20\n",
      "1559/1559 [==============================] - 130s 83ms/step - loss: 0.2977 - auc: 0.9456 - accuracy: 0.8704 - val_loss: 0.3733 - val_auc: 0.9171 - val_accuracy: 0.8347\n"
     ]
    }
   ],
   "source": [
    "history = best_model.fit(X,Y,epochs=20,batch_size=1024,validation_data=(X_test,test_Y))"
   ]
  },
  {
   "cell_type": "code",
   "execution_count": 33,
   "id": "24c61316",
   "metadata": {},
   "outputs": [
    {
     "data": {
      "image/png": "[encoded data removed]",
      "text/plain": [
       "<Figure size 864x720 with 1 Axes>"
      ]
     },
     "metadata": {},
     "output_type": "display_data"
    }
   ],
   "source": [
    "plot_history(history,scoring=[\"auc\"])"
   ]
  },
  {
   "cell_type": "code",
   "execution_count": 34,
   "id": "bde2b410",
   "metadata": {},
   "outputs": [],
   "source": [
    "best_model = tf.keras.models.Sequential([\n",
    "    embedding,\n",
    "    tf.keras.layers.LSTM(256),\n",
    "    tf.keras.layers.Dropout(0.1),\n",
    "    tf.keras.layers.Dense(2, activation=\"softmax\"),\n",
    "])\n",
    "\n",
    "best_model.compile(\n",
    "    optimizer=\"adam\",\n",
    "    loss='categorical_crossentropy',\n",
    "    metrics=['AUC',\"accuracy\"],\n",
    ")"
   ]
  },
  {
   "cell_type": "code",
   "execution_count": 35,
   "id": "4b6eff0e",
   "metadata": {},
   "outputs": [
    {
     "name": "stdout",
     "output_type": "stream",
     "text": [
      "Epoch 1/10\n",
      "1559/1559 [==============================] - 133s 85ms/step - loss: 0.4536 - auc: 0.8682 - accuracy: 0.7857 - val_loss: 0.4032 - val_auc: 0.8973 - val_accuracy: 0.8127\n",
      "Epoch 2/10\n",
      "1559/1559 [==============================] - 134s 86ms/step - loss: 0.3992 - auc: 0.9001 - accuracy: 0.8181 - val_loss: 0.3795 - val_auc: 0.9104 - val_accuracy: 0.8275\n",
      "Epoch 3/10\n",
      "1559/1559 [==============================] - 135s 87ms/step - loss: 0.3900 - auc: 0.9053 - accuracy: 0.8237 - val_loss: 0.3754 - val_auc: 0.9122 - val_accuracy: 0.8288\n",
      "Epoch 4/10\n",
      "1559/1559 [==============================] - 132s 85ms/step - loss: 0.3967 - auc: 0.9038 - accuracy: 0.8219 - val_loss: 0.3711 - val_auc: 0.9147 - val_accuracy: 0.8332\n",
      "Epoch 5/10\n",
      "1559/1559 [==============================] - 134s 86ms/step - loss: 0.3766 - auc: 0.9118 - accuracy: 0.8310 - val_loss: 0.3692 - val_auc: 0.9155 - val_accuracy: 0.8353\n",
      "Epoch 6/10\n",
      "1559/1559 [==============================] - 136s 87ms/step - loss: 0.3671 - auc: 0.9163 - accuracy: 0.8355 - val_loss: 0.3634 - val_auc: 0.9182 - val_accuracy: 0.8338\n",
      "Epoch 7/10\n",
      "1559/1559 [==============================] - 134s 86ms/step - loss: 0.3616 - auc: 0.9189 - accuracy: 0.8382 - val_loss: 0.3607 - val_auc: 0.9196 - val_accuracy: 0.8370\n",
      "Epoch 8/10\n",
      "1559/1559 [==============================] - 131s 84ms/step - loss: 0.3565 - auc: 0.9212 - accuracy: 0.8409 - val_loss: 0.3577 - val_auc: 0.9210 - val_accuracy: 0.8400\n",
      "Epoch 9/10\n",
      "1559/1559 [==============================] - 129s 83ms/step - loss: 0.3516 - auc: 0.9235 - accuracy: 0.8434 - val_loss: 0.3568 - val_auc: 0.9214 - val_accuracy: 0.8418\n",
      "Epoch 10/10\n",
      "1559/1559 [==============================] - 127s 81ms/step - loss: 0.3464 - auc: 0.9258 - accuracy: 0.8462 - val_loss: 0.3524 - val_auc: 0.9234 - val_accuracy: 0.8430\n"
     ]
    },
    {
     "data": {
      "text/plain": [
       "<keras.callbacks.History at 0x7f14bd075f98>"
      ]
     },
     "execution_count": 35,
     "metadata": {},
     "output_type": "execute_result"
    }
   ],
   "source": [
    "best_model.fit(X,Y,epochs=10,batch_size=1024,validation_data=(X_test,test_Y))"
   ]
  },
  {
   "cell_type": "code",
   "execution_count": 37,
   "id": "72772e35",
   "metadata": {},
   "outputs": [],
   "source": [
    "from sklearn.metrics import accuracy_score, confusion_matrix, classification_report, roc_auc_score\n",
    "\n",
    "def show_result_binary(y_pred, y_pred_prob, y_true):\n",
    "    print(\"accuracy score :\",accuracy_score(y_test,y_pred))\n",
    "    print(\"AUC score :\",roc_auc_score(y_test,y_pred_prob[:,1]))\n",
    "    cm = confusion_matrix(y_true,y_pred)\n",
    "    print(classification_report(y_true,y_pred))\n",
    "    return pd.DataFrame(cm,columns=[\"good\",\"bad\"],index=[\"good\",\"bad\"])"
   ]
  },
  {
   "cell_type": "code",
   "execution_count": 36,
   "id": "263db69c",
   "metadata": {},
   "outputs": [
    {
     "name": "stderr",
     "output_type": "stream",
     "text": [
      "WARNING:absl:Found untraced functions such as lstm_cell_2_layer_call_and_return_conditional_losses, lstm_cell_2_layer_call_fn, lstm_cell_2_layer_call_fn, lstm_cell_2_layer_call_and_return_conditional_losses, lstm_cell_2_layer_call_and_return_conditional_losses while saving (showing 5 of 5). These functions will not be directly callable after loading.\n"
     ]
    },
    {
     "name": "stdout",
     "output_type": "stream",
     "text": [
      "INFO:tensorflow:Assets written to: ./data/final_model/w2v_model/assets\n"
     ]
    },
    {
     "name": "stderr",
     "output_type": "stream",
     "text": [
      "INFO:tensorflow:Assets written to: ./data/final_model/w2v_model/assets\n"
     ]
    }
   ],
   "source": [
    "best_model.save(\"./data/final_model/w2v_model\")"
   ]
  },
  {
   "cell_type": "code",
   "execution_count": 41,
   "id": "9e311d4f",
   "metadata": {},
   "outputs": [
    {
     "data": {
      "text/plain": [
       "['./data/final_model/tokenizer.pkl']"
      ]
     },
     "execution_count": 41,
     "metadata": {},
     "output_type": "execute_result"
    }
   ],
   "source": [
    "joblib.dump(tokenizer,\"./data/final_model/tokenizer.pkl\")"
   ]
  },
  {
   "cell_type": "code",
   "execution_count": 38,
   "id": "a7bbef77",
   "metadata": {},
   "outputs": [],
   "source": [
    "y_pred_proba = best_model.predict(X_test)\n",
    "y_pred = np.argmax(y_pred_proba,axis=1)"
   ]
  },
  {
   "cell_type": "code",
   "execution_count": 39,
   "id": "b5968964",
   "metadata": {},
   "outputs": [],
   "source": [
    "dic = {1:\"good\",0:\"bad\"}\n",
    "y_pred = [dic[y] for y in y_pred] "
   ]
  },
  {
   "cell_type": "code",
   "execution_count": 40,
   "id": "3d58825e",
   "metadata": {},
   "outputs": [
    {
     "name": "stdout",
     "output_type": "stream",
     "text": [
      "accuracy score : 0.843\n",
      "AUC score : 0.923564125\n",
      "              precision    recall  f1-score   support\n",
      "\n",
      "         bad       0.84      0.85      0.84      2000\n",
      "        good       0.85      0.83      0.84      2000\n",
      "\n",
      "    accuracy                           0.84      4000\n",
      "   macro avg       0.84      0.84      0.84      4000\n",
      "weighted avg       0.84      0.84      0.84      4000\n",
      "\n"
     ]
    },
    {
     "data": {
      "text/html": [
       "<div>\n",
       "<style scoped>\n",
       "    .dataframe tbody tr th:only-of-type {\n",
       "        vertical-align: middle;\n",
       "    }\n",
       "\n",
       "    .dataframe tbody tr th {\n",
       "        vertical-align: top;\n",
       "    }\n",
       "\n",
       "    .dataframe thead th {\n",
       "        text-align: right;\n",
       "    }\n",
       "</style>\n",
       "<table border=\"1\" class=\"dataframe\">\n",
       "  <thead>\n",
       "    <tr style=\"text-align: right;\">\n",
       "      <th></th>\n",
       "      <th>good</th>\n",
       "      <th>bad</th>\n",
       "    </tr>\n",
       "  </thead>\n",
       "  <tbody>\n",
       "    <tr>\n",
       "      <th>good</th>\n",
       "      <td>1705</td>\n",
       "      <td>295</td>\n",
       "    </tr>\n",
       "    <tr>\n",
       "      <th>bad</th>\n",
       "      <td>333</td>\n",
       "      <td>1667</td>\n",
       "    </tr>\n",
       "  </tbody>\n",
       "</table>\n",
       "</div>"
      ],
      "text/plain": [
       "      good   bad\n",
       "good  1705   295\n",
       "bad    333  1667"
      ]
     },
     "execution_count": 40,
     "metadata": {},
     "output_type": "execute_result"
    }
   ],
   "source": [
    "show_result_binary(y_pred,y_pred_proba,y_test)"
   ]
  },
  {
   "cell_type": "code",
   "execution_count": 22,
   "id": "95951b58",
   "metadata": {},
   "outputs": [
    {
     "data": {
      "image/png": "[encoded data removed]",
      "text/plain": [
       "<Figure size 1800x864 with 2 Axes>"
      ]
     },
     "metadata": {},
     "output_type": "display_data"
    }
   ],
   "source": [
    "result_final = {\n",
    "    \"module_no_code_lr\":{\"auc\":0.7152,\"val_auc\":0.7152,\"nb_data\":10000,\"time\":1200},\n",
    "    \"baseline_CognitifService\":{\"auc\":0.7786,\"val_auc\":0.7786,\"nb_data\":0,\"time\":0},\n",
    "    \"logistic_regression\":{\"auc\":0.8524,\"val_auc\":0.8521,\"nb_data\":1600000,\"time\":23},\n",
    "    \"multicouche_dl\":{\"auc\":0.8639,\"val_auc\":0.8773,\"nb_data\":1280000,\"time\":130},\n",
    "    \"rnn_classique\":{\"auc\":0.8705,\"val_auc\":0.8903,\"nb_data\":1280000,\"time\":1338},\n",
    "    \"lstm_classique\":{\"auc\":0.8940,\"val_auc\":0.9094,\"nb_data\":1280000,\"time\":989},\n",
    "    \"bert\":{\"auc\":0.8690,\"val_auc\":0.8931,\"nb_data\":1280000,\"time\":7005},\n",
    "    \"glove_lstm\":{\"auc\":0.9243,\"val_auc\":0.9106,\"nb_data\":1280000,\"time\":494},\n",
    "    \"word2vec_lstm\":{\"auc\":0.9168,\"val_auc\":0.9131,\"nb_data\":1280000,\"time\":756},\n",
    "    # pour optimize on à entrainé sur tout le jeu de données \"acc\" puis test sur le jeu de test \"val_acc\" \n",
    "    \"word2vec_lstm_optimize\":{\"auc\":0.9258,\"val_auc\":0.9234,\"nb_data\":1600000,\"time\":1325},\n",
    "}\n",
    "\n",
    "fig, ax1 = plt.subplots(figsize=(25,12))\n",
    "ax1.set_xlabel(\"Modèles\",fontsize=16)\n",
    "ax1.tick_params(axis='x',labelsize=14)\n",
    "ax1.set_ylabel(\"AUC (score)\",color='tab:red',fontsize=15)\n",
    "ax1.plot([k for k in result_final.keys()],[v[\"auc\"] for v in result_final.values()],label=\"auc\",color=\"#E26A2C\",marker=\"o\")\n",
    "ax1.plot([k for k in result_final.keys()],[v[\"val_auc\"] for v in result_final.values()],label=\"val_auc\",color=\"#FF5151\",marker=\"o\")\n",
    "ax1.tick_params(axis='y', labelcolor='tab:red',labelsize=14)\n",
    "\n",
    "ax2 = ax1.twinx()\n",
    "\n",
    "ax2.plot([k for k in result_final.keys()],[v[\"time\"] for v in result_final.values()],\n",
    "         label=\"time\",color=\"#1597E5\",marker=\"o\",ls=\"--\")\n",
    "ax2.set_ylabel('Temps d\\'entrainement (seconde)', color='tab:blue',fontsize=15) \n",
    "ax2.tick_params(axis='y', labelcolor='tab:blue',labelsize=14)\n",
    "\n",
    "plt.title(\"Résumé metrique des différent modèles\",fontsize=18)\n",
    "ax1.legend(loc=\"upper right\",fontsize=15)\n",
    "ax2.legend(loc=\"upper left\",fontsize=15)\n",
    "fig.tight_layout()\n",
    "plt.show()"
   ]
  },
  {
   "cell_type": "markdown",
   "id": "77da1e26",
   "metadata": {},
   "source": [
    "On vois ici que ce dernier modèle est bien plus performant que le service cognitif sur la détection de sentiment des tweet, et malgré un bon score sur la détection des bad buzz du service cognitif, ce modèle est plus performant en tous point.\n",
    "\n",
    "Pour le prix tout dépend de l'infrastructure mise en place, on tournera **aux alentours de 0.11€ d'utilisation CPU à l'heure sois 2.64€ MAXIMUM par jours**.\n",
    "\n",
    "Si on prend le même comparatif de charge testé sur le service cognitif d'Azure, on se retrouve ici avec environ **0.11€ pour le test des 4000 tweet** maximum au lieux de **3,84€ pour le service cognitif pour la formule de base (S0)**."
   ]
  },
  {
   "cell_type": "markdown",
   "id": "13103f09",
   "metadata": {},
   "source": [
    "# pipeline (pas utilisé)"
   ]
  },
  {
   "cell_type": "code",
   "execution_count": 43,
   "id": "e6d59174",
   "metadata": {},
   "outputs": [],
   "source": [
    "from keras.preprocessing.sequence import pad_sequences\n",
    "from keras.preprocessing.text import Tokenizer\n",
    "from sklearn.base import BaseEstimator, TransformerMixin\n",
    "\n",
    "class PadSequencesTransformer(BaseEstimator, TransformerMixin):\n",
    "\n",
    "    def __init__(self, maxlen):\n",
    "        self.maxlen = maxlen\n",
    "\n",
    "    def fit(self, X, y=None):\n",
    "        return self\n",
    "\n",
    "    def transform(self, X, y=None):\n",
    "        X_padded = pad_sequences(X, maxlen=self.maxlen)\n",
    "        return X_padded\n",
    "    \n",
    "\n",
    "\n",
    "class TokenizerTransformer(BaseEstimator, TransformerMixin, Tokenizer):\n",
    "\n",
    "    def __init__(self, **tokenizer_params):\n",
    "        Tokenizer.__init__(self, **tokenizer_params)\n",
    "\n",
    "    def fit(self, X, y=None):\n",
    "        self.fit_on_texts(X)\n",
    "        return self\n",
    "\n",
    "    def transform(self, X, y=None):\n",
    "        X_transformed = self.texts_to_sequences(X)\n",
    "        return X_transformed\n",
    "    \n",
    "def create_best_model(num_unit=256):\n",
    "    best_model = tf.keras.models.Sequential([\n",
    "        embedding,\n",
    "        tf.keras.layers.LSTM(num_unit),\n",
    "        tf.keras.layers.Dropout(0.1),\n",
    "        tf.keras.layers.Dense(2, activation=\"softmax\"),\n",
    "    ])\n",
    "\n",
    "    best_model.compile(\n",
    "        optimizer=\"adam\",\n",
    "        loss='categorical_crossentropy',\n",
    "        metrics=['AUC',\"accuracy\"],\n",
    "    )\n",
    "    return best_model"
   ]
  },
  {
   "cell_type": "code",
   "execution_count": 44,
   "id": "c6b82f63",
   "metadata": {},
   "outputs": [
    {
     "name": "stderr",
     "output_type": "stream",
     "text": [
      "<ipython-input-44-2241a63a15a6>:6: DeprecationWarning: KerasClassifier is deprecated, use Sci-Keras (https://github.com/adriangb/scikeras) instead.\n",
      "  my_model = KerasClassifier(build_fn=create_best_model, epochs=12,batch_size=1024)\n"
     ]
    }
   ],
   "source": [
    "from keras.wrappers.scikit_learn import KerasClassifier\n",
    "from sklearn.pipeline import Pipeline\n",
    "\n",
    "my_tokenizer = TokenizerTransformer()\n",
    "my_padder = PadSequencesTransformer(maxlen=300)\n",
    "my_model = KerasClassifier(build_fn=create_best_model, epochs=12,batch_size=1024)\n",
    "\n",
    "pipeline = Pipeline([\n",
    "    ('tokenizer', my_tokenizer),\n",
    "    ('padder', my_padder),\n",
    "    ('model', my_model)\n",
    "])"
   ]
  },
  {
   "cell_type": "code",
   "execution_count": 37,
   "id": "777ccdc7",
   "metadata": {},
   "outputs": [],
   "source": [
    "X_train = df_nlp[\"text\"]\n",
    "y_train = df_nlp[\"sentiment\"]\n",
    "# on retire les données de test :\n",
    "new_size=4000\n",
    "size=new_size//2\n",
    "\n",
    "pos_X = []\n",
    "i = 1500000\n",
    "while len(pos_X) < size:\n",
    "    if y_train[i] ==\"good\":\n",
    "        pos_X.append(i)\n",
    "    i+=1\n",
    "\n",
    "i=700000\n",
    "neg_X = []\n",
    "while len(neg_X) < size:\n",
    "    if y_train[i] ==\"bad\":\n",
    "        neg_X.append(i)\n",
    "    i+=1\n",
    "id_pos_test_set = pos_X\n",
    "id_pos_test_set.extend(neg_X)\n"
   ]
  },
  {
   "cell_type": "code",
   "execution_count": 38,
   "id": "9acf48e1",
   "metadata": {},
   "outputs": [],
   "source": [
    "X_train.drop(id_pos_test_set,axis=0,inplace=True)\n",
    "y_train.drop(id_pos_test_set,axis=0,inplace=True)\n",
    "X_test = df_nlp[\"text\"].loc[id_pos_test_set].tolist()\n",
    "y_test = df_nlp[\"sentiment\"].loc[id_pos_test_set].tolist()\n",
    "\n",
    "X = [cleanning_data(sentence) for sentence in X_train]\n",
    "Y = pd.get_dummies(y_train).values"
   ]
  },
  {
   "cell_type": "code",
   "execution_count": 82,
   "id": "409ffe29",
   "metadata": {},
   "outputs": [
    {
     "name": "stdout",
     "output_type": "stream",
     "text": [
      "Epoch 1/12\n",
      "1559/1559 [==============================] - 133s 84ms/step - loss: 0.4496 - auc: 0.8707 - accuracy: 0.7883\n",
      "Epoch 2/12\n",
      "1559/1559 [==============================] - 137s 88ms/step - loss: 0.3975 - auc: 0.9010 - accuracy: 0.8186\n",
      "Epoch 3/12\n",
      "1559/1559 [==============================] - 140s 90ms/step - loss: 0.5334 - auc: 0.8309 - accuracy: 0.7573\n",
      "Epoch 4/12\n",
      "1559/1559 [==============================] - 132s 85ms/step - loss: 0.4126 - auc: 0.8936 - accuracy: 0.8119\n",
      "Epoch 5/12\n",
      "1559/1559 [==============================] - 134s 86ms/step - loss: 0.3808 - auc: 0.9096 - accuracy: 0.8286\n",
      "Epoch 6/12\n",
      "1559/1559 [==============================] - 132s 85ms/step - loss: 0.3723 - auc: 0.9138 - accuracy: 0.8331\n",
      "Epoch 7/12\n",
      "1559/1559 [==============================] - 133s 86ms/step - loss: 0.3664 - auc: 0.9167 - accuracy: 0.8359\n",
      "Epoch 8/12\n",
      "1559/1559 [==============================] - 135s 87ms/step - loss: 0.3611 - auc: 0.9191 - accuracy: 0.8387\n",
      "Epoch 9/12\n",
      "1559/1559 [==============================] - 133s 85ms/step - loss: 0.3562 - auc: 0.9214 - accuracy: 0.8409\n",
      "Epoch 10/12\n",
      "1559/1559 [==============================] - 135s 86ms/step - loss: 0.3545 - auc: 0.9222 - accuracy: 0.8422\n",
      "Epoch 11/12\n",
      "1559/1559 [==============================] - 133s 85ms/step - loss: 0.3473 - auc: 0.9254 - accuracy: 0.8457\n",
      "Epoch 12/12\n",
      "1559/1559 [==============================] - 129s 83ms/step - loss: 0.3422 - auc: 0.9277 - accuracy: 0.8484\n"
     ]
    },
    {
     "data": {
      "text/plain": [
       "Pipeline(steps=[('tokenizer', TokenizerTransformer()),\n",
       "                ('padder', PadSequencesTransformer(maxlen=300)),\n",
       "                ('model',\n",
       "                 <keras.wrappers.scikit_learn.KerasClassifier object at 0x7f3a00ca7320>)])"
      ]
     },
     "execution_count": 82,
     "metadata": {},
     "output_type": "execute_result"
    }
   ],
   "source": [
    "pipeline.fit(X,Y)"
   ]
  },
  {
   "cell_type": "code",
   "execution_count": 83,
   "id": "7212f9f1",
   "metadata": {},
   "outputs": [],
   "source": [
    "X_test = [cleanning_data(sentence) for sentence in X_test]"
   ]
  },
  {
   "cell_type": "code",
   "execution_count": 90,
   "id": "6c149c4a",
   "metadata": {},
   "outputs": [],
   "source": [
    "y_pred_proba = pipeline.predict_proba(X_test)\n",
    "y_pred = pipeline.predict(X_test)\n",
    "dic={1:\"good\",0:\"bad\"}\n",
    "y_pred = [dic[y] for y in y_pred] "
   ]
  },
  {
   "cell_type": "code",
   "execution_count": 91,
   "id": "b6eecc4d",
   "metadata": {
    "scrolled": true
   },
   "outputs": [
    {
     "name": "stdout",
     "output_type": "stream",
     "text": [
      "accuracy score : 0.84525\n",
      "AUC score : 0.9231093749999999\n",
      "              precision    recall  f1-score   support\n",
      "\n",
      "         bad       0.85      0.84      0.84      2000\n",
      "        good       0.84      0.85      0.85      2000\n",
      "\n",
      "    accuracy                           0.85      4000\n",
      "   macro avg       0.85      0.85      0.85      4000\n",
      "weighted avg       0.85      0.85      0.85      4000\n",
      "\n"
     ]
    },
    {
     "data": {
      "text/html": [
       "<div>\n",
       "<style scoped>\n",
       "    .dataframe tbody tr th:only-of-type {\n",
       "        vertical-align: middle;\n",
       "    }\n",
       "\n",
       "    .dataframe tbody tr th {\n",
       "        vertical-align: top;\n",
       "    }\n",
       "\n",
       "    .dataframe thead th {\n",
       "        text-align: right;\n",
       "    }\n",
       "</style>\n",
       "<table border=\"1\" class=\"dataframe\">\n",
       "  <thead>\n",
       "    <tr style=\"text-align: right;\">\n",
       "      <th></th>\n",
       "      <th>good</th>\n",
       "      <th>bad</th>\n",
       "    </tr>\n",
       "  </thead>\n",
       "  <tbody>\n",
       "    <tr>\n",
       "      <th>good</th>\n",
       "      <td>1671</td>\n",
       "      <td>329</td>\n",
       "    </tr>\n",
       "    <tr>\n",
       "      <th>bad</th>\n",
       "      <td>290</td>\n",
       "      <td>1710</td>\n",
       "    </tr>\n",
       "  </tbody>\n",
       "</table>\n",
       "</div>"
      ],
      "text/plain": [
       "      good   bad\n",
       "good  1671   329\n",
       "bad    290  1710"
      ]
     },
     "execution_count": 91,
     "metadata": {},
     "output_type": "execute_result"
    }
   ],
   "source": [
    "show_result_binary(y_pred,y_pred_proba,y_test)"
   ]
  },
  {
   "cell_type": "markdown",
   "id": "4d974462",
   "metadata": {},
   "source": [
    "### Sauvegarde de la méthode de clean, du tokenizer et du modèle entrainé "
   ]
  },
  {
   "cell_type": "code",
   "execution_count": 93,
   "id": "938ee8bc",
   "metadata": {},
   "outputs": [
    {
     "ename": "TypeError",
     "evalue": "can't pickle weakref objects",
     "output_type": "error",
     "traceback": [
      "\u001b[0;31m---------------------------------------------------------------------------\u001b[0m",
      "\u001b[0;31mTypeError\u001b[0m                                 Traceback (most recent call last)",
      "\u001b[0;32m<ipython-input-93-6aebe293544b>\u001b[0m in \u001b[0;36m<module>\u001b[0;34m\u001b[0m\n\u001b[1;32m      1\u001b[0m \u001b[0;32mimport\u001b[0m \u001b[0mjoblib\u001b[0m\u001b[0;34m\u001b[0m\u001b[0;34m\u001b[0m\u001b[0m\n\u001b[0;32m----> 2\u001b[0;31m \u001b[0mjoblib\u001b[0m\u001b[0;34m.\u001b[0m\u001b[0mdump\u001b[0m\u001b[0;34m(\u001b[0m\u001b[0mpipeline\u001b[0m\u001b[0;34m,\u001b[0m \u001b[0;34m\"./data/model/pipeline.joblib\"\u001b[0m\u001b[0;34m)\u001b[0m\u001b[0;34m\u001b[0m\u001b[0;34m\u001b[0m\u001b[0m\n\u001b[0m",
      "\u001b[0;32m/usr/local/lib/python3.6/dist-packages/joblib/numpy_pickle.py\u001b[0m in \u001b[0;36mdump\u001b[0;34m(value, filename, compress, protocol, cache_size)\u001b[0m\n\u001b[1;32m    480\u001b[0m     \u001b[0;32melif\u001b[0m \u001b[0mis_filename\u001b[0m\u001b[0;34m:\u001b[0m\u001b[0;34m\u001b[0m\u001b[0;34m\u001b[0m\u001b[0m\n\u001b[1;32m    481\u001b[0m         \u001b[0;32mwith\u001b[0m \u001b[0mopen\u001b[0m\u001b[0;34m(\u001b[0m\u001b[0mfilename\u001b[0m\u001b[0;34m,\u001b[0m \u001b[0;34m'wb'\u001b[0m\u001b[0;34m)\u001b[0m \u001b[0;32mas\u001b[0m \u001b[0mf\u001b[0m\u001b[0;34m:\u001b[0m\u001b[0;34m\u001b[0m\u001b[0;34m\u001b[0m\u001b[0m\n\u001b[0;32m--> 482\u001b[0;31m             \u001b[0mNumpyPickler\u001b[0m\u001b[0;34m(\u001b[0m\u001b[0mf\u001b[0m\u001b[0;34m,\u001b[0m \u001b[0mprotocol\u001b[0m\u001b[0;34m=\u001b[0m\u001b[0mprotocol\u001b[0m\u001b[0;34m)\u001b[0m\u001b[0;34m.\u001b[0m\u001b[0mdump\u001b[0m\u001b[0;34m(\u001b[0m\u001b[0mvalue\u001b[0m\u001b[0;34m)\u001b[0m\u001b[0;34m\u001b[0m\u001b[0;34m\u001b[0m\u001b[0m\n\u001b[0m\u001b[1;32m    483\u001b[0m     \u001b[0;32melse\u001b[0m\u001b[0;34m:\u001b[0m\u001b[0;34m\u001b[0m\u001b[0;34m\u001b[0m\u001b[0m\n\u001b[1;32m    484\u001b[0m         \u001b[0mNumpyPickler\u001b[0m\u001b[0;34m(\u001b[0m\u001b[0mfilename\u001b[0m\u001b[0;34m,\u001b[0m \u001b[0mprotocol\u001b[0m\u001b[0;34m=\u001b[0m\u001b[0mprotocol\u001b[0m\u001b[0;34m)\u001b[0m\u001b[0;34m.\u001b[0m\u001b[0mdump\u001b[0m\u001b[0;34m(\u001b[0m\u001b[0mvalue\u001b[0m\u001b[0;34m)\u001b[0m\u001b[0;34m\u001b[0m\u001b[0;34m\u001b[0m\u001b[0m\n",
      "\u001b[0;32m/usr/lib/python3.6/pickle.py\u001b[0m in \u001b[0;36mdump\u001b[0;34m(self, obj)\u001b[0m\n\u001b[1;32m    407\u001b[0m         \u001b[0;32mif\u001b[0m \u001b[0mself\u001b[0m\u001b[0;34m.\u001b[0m\u001b[0mproto\u001b[0m \u001b[0;34m>=\u001b[0m \u001b[0;36m4\u001b[0m\u001b[0;34m:\u001b[0m\u001b[0;34m\u001b[0m\u001b[0;34m\u001b[0m\u001b[0m\n\u001b[1;32m    408\u001b[0m             \u001b[0mself\u001b[0m\u001b[0;34m.\u001b[0m\u001b[0mframer\u001b[0m\u001b[0;34m.\u001b[0m\u001b[0mstart_framing\u001b[0m\u001b[0;34m(\u001b[0m\u001b[0;34m)\u001b[0m\u001b[0;34m\u001b[0m\u001b[0;34m\u001b[0m\u001b[0m\n\u001b[0;32m--> 409\u001b[0;31m         \u001b[0mself\u001b[0m\u001b[0;34m.\u001b[0m\u001b[0msave\u001b[0m\u001b[0;34m(\u001b[0m\u001b[0mobj\u001b[0m\u001b[0;34m)\u001b[0m\u001b[0;34m\u001b[0m\u001b[0;34m\u001b[0m\u001b[0m\n\u001b[0m\u001b[1;32m    410\u001b[0m         \u001b[0mself\u001b[0m\u001b[0;34m.\u001b[0m\u001b[0mwrite\u001b[0m\u001b[0;34m(\u001b[0m\u001b[0mSTOP\u001b[0m\u001b[0;34m)\u001b[0m\u001b[0;34m\u001b[0m\u001b[0;34m\u001b[0m\u001b[0m\n\u001b[1;32m    411\u001b[0m         \u001b[0mself\u001b[0m\u001b[0;34m.\u001b[0m\u001b[0mframer\u001b[0m\u001b[0;34m.\u001b[0m\u001b[0mend_framing\u001b[0m\u001b[0;34m(\u001b[0m\u001b[0;34m)\u001b[0m\u001b[0;34m\u001b[0m\u001b[0;34m\u001b[0m\u001b[0m\n",
      "\u001b[0;32m/usr/local/lib/python3.6/dist-packages/joblib/numpy_pickle.py\u001b[0m in \u001b[0;36msave\u001b[0;34m(self, obj)\u001b[0m\n\u001b[1;32m    282\u001b[0m             \u001b[0;32mreturn\u001b[0m\u001b[0;34m\u001b[0m\u001b[0;34m\u001b[0m\u001b[0m\n\u001b[1;32m    283\u001b[0m \u001b[0;34m\u001b[0m\u001b[0m\n\u001b[0;32m--> 284\u001b[0;31m         \u001b[0;32mreturn\u001b[0m \u001b[0mPickler\u001b[0m\u001b[0;34m.\u001b[0m\u001b[0msave\u001b[0m\u001b[0;34m(\u001b[0m\u001b[0mself\u001b[0m\u001b[0;34m,\u001b[0m \u001b[0mobj\u001b[0m\u001b[0;34m)\u001b[0m\u001b[0;34m\u001b[0m\u001b[0;34m\u001b[0m\u001b[0m\n\u001b[0m\u001b[1;32m    285\u001b[0m \u001b[0;34m\u001b[0m\u001b[0m\n\u001b[1;32m    286\u001b[0m \u001b[0;34m\u001b[0m\u001b[0m\n",
      "\u001b[0;32m/usr/lib/python3.6/pickle.py\u001b[0m in \u001b[0;36msave\u001b[0;34m(self, obj, save_persistent_id)\u001b[0m\n\u001b[1;32m    519\u001b[0m \u001b[0;34m\u001b[0m\u001b[0m\n\u001b[1;32m    520\u001b[0m         \u001b[0;31m# Save the reduce() output and finally memoize the object\u001b[0m\u001b[0;34m\u001b[0m\u001b[0;34m\u001b[0m\u001b[0;34m\u001b[0m\u001b[0m\n\u001b[0;32m--> 521\u001b[0;31m         \u001b[0mself\u001b[0m\u001b[0;34m.\u001b[0m\u001b[0msave_reduce\u001b[0m\u001b[0;34m(\u001b[0m\u001b[0mobj\u001b[0m\u001b[0;34m=\u001b[0m\u001b[0mobj\u001b[0m\u001b[0;34m,\u001b[0m \u001b[0;34m*\u001b[0m\u001b[0mrv\u001b[0m\u001b[0;34m)\u001b[0m\u001b[0;34m\u001b[0m\u001b[0;34m\u001b[0m\u001b[0m\n\u001b[0m\u001b[1;32m    522\u001b[0m \u001b[0;34m\u001b[0m\u001b[0m\n\u001b[1;32m    523\u001b[0m     \u001b[0;32mdef\u001b[0m \u001b[0mpersistent_id\u001b[0m\u001b[0;34m(\u001b[0m\u001b[0mself\u001b[0m\u001b[0;34m,\u001b[0m \u001b[0mobj\u001b[0m\u001b[0;34m)\u001b[0m\u001b[0;34m:\u001b[0m\u001b[0;34m\u001b[0m\u001b[0;34m\u001b[0m\u001b[0m\n",
      "\u001b[0;32m/usr/lib/python3.6/pickle.py\u001b[0m in \u001b[0;36msave_reduce\u001b[0;34m(self, func, args, state, listitems, dictitems, obj)\u001b[0m\n\u001b[1;32m    632\u001b[0m \u001b[0;34m\u001b[0m\u001b[0m\n\u001b[1;32m    633\u001b[0m         \u001b[0;32mif\u001b[0m \u001b[0mstate\u001b[0m \u001b[0;32mis\u001b[0m \u001b[0;32mnot\u001b[0m \u001b[0;32mNone\u001b[0m\u001b[0;34m:\u001b[0m\u001b[0;34m\u001b[0m\u001b[0;34m\u001b[0m\u001b[0m\n\u001b[0;32m--> 634\u001b[0;31m             \u001b[0msave\u001b[0m\u001b[0;34m(\u001b[0m\u001b[0mstate\u001b[0m\u001b[0;34m)\u001b[0m\u001b[0;34m\u001b[0m\u001b[0;34m\u001b[0m\u001b[0m\n\u001b[0m\u001b[1;32m    635\u001b[0m             \u001b[0mwrite\u001b[0m\u001b[0;34m(\u001b[0m\u001b[0mBUILD\u001b[0m\u001b[0;34m)\u001b[0m\u001b[0;34m\u001b[0m\u001b[0;34m\u001b[0m\u001b[0m\n\u001b[1;32m    636\u001b[0m \u001b[0;34m\u001b[0m\u001b[0m\n",
      "\u001b[0;32m/usr/local/lib/python3.6/dist-packages/joblib/numpy_pickle.py\u001b[0m in \u001b[0;36msave\u001b[0;34m(self, obj)\u001b[0m\n\u001b[1;32m    282\u001b[0m             \u001b[0;32mreturn\u001b[0m\u001b[0;34m\u001b[0m\u001b[0;34m\u001b[0m\u001b[0m\n\u001b[1;32m    283\u001b[0m \u001b[0;34m\u001b[0m\u001b[0m\n\u001b[0;32m--> 284\u001b[0;31m         \u001b[0;32mreturn\u001b[0m \u001b[0mPickler\u001b[0m\u001b[0;34m.\u001b[0m\u001b[0msave\u001b[0m\u001b[0;34m(\u001b[0m\u001b[0mself\u001b[0m\u001b[0;34m,\u001b[0m \u001b[0mobj\u001b[0m\u001b[0;34m)\u001b[0m\u001b[0;34m\u001b[0m\u001b[0;34m\u001b[0m\u001b[0m\n\u001b[0m\u001b[1;32m    285\u001b[0m \u001b[0;34m\u001b[0m\u001b[0m\n\u001b[1;32m    286\u001b[0m \u001b[0;34m\u001b[0m\u001b[0m\n",
      "\u001b[0;32m/usr/lib/python3.6/pickle.py\u001b[0m in \u001b[0;36msave\u001b[0;34m(self, obj, save_persistent_id)\u001b[0m\n\u001b[1;32m    474\u001b[0m         \u001b[0mf\u001b[0m \u001b[0;34m=\u001b[0m \u001b[0mself\u001b[0m\u001b[0;34m.\u001b[0m\u001b[0mdispatch\u001b[0m\u001b[0;34m.\u001b[0m\u001b[0mget\u001b[0m\u001b[0;34m(\u001b[0m\u001b[0mt\u001b[0m\u001b[0;34m)\u001b[0m\u001b[0;34m\u001b[0m\u001b[0;34m\u001b[0m\u001b[0m\n\u001b[1;32m    475\u001b[0m         \u001b[0;32mif\u001b[0m \u001b[0mf\u001b[0m \u001b[0;32mis\u001b[0m \u001b[0;32mnot\u001b[0m \u001b[0;32mNone\u001b[0m\u001b[0;34m:\u001b[0m\u001b[0;34m\u001b[0m\u001b[0;34m\u001b[0m\u001b[0m\n\u001b[0;32m--> 476\u001b[0;31m             \u001b[0mf\u001b[0m\u001b[0;34m(\u001b[0m\u001b[0mself\u001b[0m\u001b[0;34m,\u001b[0m \u001b[0mobj\u001b[0m\u001b[0;34m)\u001b[0m \u001b[0;31m# Call unbound method with explicit self\u001b[0m\u001b[0;34m\u001b[0m\u001b[0;34m\u001b[0m\u001b[0m\n\u001b[0m\u001b[1;32m    477\u001b[0m             \u001b[0;32mreturn\u001b[0m\u001b[0;34m\u001b[0m\u001b[0;34m\u001b[0m\u001b[0m\n\u001b[1;32m    478\u001b[0m \u001b[0;34m\u001b[0m\u001b[0m\n",
      "\u001b[0;32m/usr/lib/python3.6/pickle.py\u001b[0m in \u001b[0;36msave_dict\u001b[0;34m(self, obj)\u001b[0m\n\u001b[1;32m    819\u001b[0m \u001b[0;34m\u001b[0m\u001b[0m\n\u001b[1;32m    820\u001b[0m         \u001b[0mself\u001b[0m\u001b[0;34m.\u001b[0m\u001b[0mmemoize\u001b[0m\u001b[0;34m(\u001b[0m\u001b[0mobj\u001b[0m\u001b[0;34m)\u001b[0m\u001b[0;34m\u001b[0m\u001b[0;34m\u001b[0m\u001b[0m\n\u001b[0;32m--> 821\u001b[0;31m         \u001b[0mself\u001b[0m\u001b[0;34m.\u001b[0m\u001b[0m_batch_setitems\u001b[0m\u001b[0;34m(\u001b[0m\u001b[0mobj\u001b[0m\u001b[0;34m.\u001b[0m\u001b[0mitems\u001b[0m\u001b[0;34m(\u001b[0m\u001b[0;34m)\u001b[0m\u001b[0;34m)\u001b[0m\u001b[0;34m\u001b[0m\u001b[0;34m\u001b[0m\u001b[0m\n\u001b[0m\u001b[1;32m    822\u001b[0m \u001b[0;34m\u001b[0m\u001b[0m\n\u001b[1;32m    823\u001b[0m     \u001b[0mdispatch\u001b[0m\u001b[0;34m[\u001b[0m\u001b[0mdict\u001b[0m\u001b[0;34m]\u001b[0m \u001b[0;34m=\u001b[0m \u001b[0msave_dict\u001b[0m\u001b[0;34m\u001b[0m\u001b[0;34m\u001b[0m\u001b[0m\n",
      "\u001b[0;32m/usr/lib/python3.6/pickle.py\u001b[0m in \u001b[0;36m_batch_setitems\u001b[0;34m(self, items)\u001b[0m\n\u001b[1;32m    845\u001b[0m                 \u001b[0;32mfor\u001b[0m \u001b[0mk\u001b[0m\u001b[0;34m,\u001b[0m \u001b[0mv\u001b[0m \u001b[0;32min\u001b[0m \u001b[0mtmp\u001b[0m\u001b[0;34m:\u001b[0m\u001b[0;34m\u001b[0m\u001b[0;34m\u001b[0m\u001b[0m\n\u001b[1;32m    846\u001b[0m                     \u001b[0msave\u001b[0m\u001b[0;34m(\u001b[0m\u001b[0mk\u001b[0m\u001b[0;34m)\u001b[0m\u001b[0;34m\u001b[0m\u001b[0;34m\u001b[0m\u001b[0m\n\u001b[0;32m--> 847\u001b[0;31m                     \u001b[0msave\u001b[0m\u001b[0;34m(\u001b[0m\u001b[0mv\u001b[0m\u001b[0;34m)\u001b[0m\u001b[0;34m\u001b[0m\u001b[0;34m\u001b[0m\u001b[0m\n\u001b[0m\u001b[1;32m    848\u001b[0m                 \u001b[0mwrite\u001b[0m\u001b[0;34m(\u001b[0m\u001b[0mSETITEMS\u001b[0m\u001b[0;34m)\u001b[0m\u001b[0;34m\u001b[0m\u001b[0;34m\u001b[0m\u001b[0m\n\u001b[1;32m    849\u001b[0m             \u001b[0;32melif\u001b[0m \u001b[0mn\u001b[0m\u001b[0;34m:\u001b[0m\u001b[0;34m\u001b[0m\u001b[0;34m\u001b[0m\u001b[0m\n",
      "\u001b[0;32m/usr/local/lib/python3.6/dist-packages/joblib/numpy_pickle.py\u001b[0m in \u001b[0;36msave\u001b[0;34m(self, obj)\u001b[0m\n\u001b[1;32m    282\u001b[0m             \u001b[0;32mreturn\u001b[0m\u001b[0;34m\u001b[0m\u001b[0;34m\u001b[0m\u001b[0m\n\u001b[1;32m    283\u001b[0m \u001b[0;34m\u001b[0m\u001b[0m\n\u001b[0;32m--> 284\u001b[0;31m         \u001b[0;32mreturn\u001b[0m \u001b[0mPickler\u001b[0m\u001b[0;34m.\u001b[0m\u001b[0msave\u001b[0m\u001b[0;34m(\u001b[0m\u001b[0mself\u001b[0m\u001b[0;34m,\u001b[0m \u001b[0mobj\u001b[0m\u001b[0;34m)\u001b[0m\u001b[0;34m\u001b[0m\u001b[0;34m\u001b[0m\u001b[0m\n\u001b[0m\u001b[1;32m    285\u001b[0m \u001b[0;34m\u001b[0m\u001b[0m\n\u001b[1;32m    286\u001b[0m \u001b[0;34m\u001b[0m\u001b[0m\n",
      "\u001b[0;32m/usr/lib/python3.6/pickle.py\u001b[0m in \u001b[0;36msave\u001b[0;34m(self, obj, save_persistent_id)\u001b[0m\n\u001b[1;32m    474\u001b[0m         \u001b[0mf\u001b[0m \u001b[0;34m=\u001b[0m \u001b[0mself\u001b[0m\u001b[0;34m.\u001b[0m\u001b[0mdispatch\u001b[0m\u001b[0;34m.\u001b[0m\u001b[0mget\u001b[0m\u001b[0;34m(\u001b[0m\u001b[0mt\u001b[0m\u001b[0;34m)\u001b[0m\u001b[0;34m\u001b[0m\u001b[0;34m\u001b[0m\u001b[0m\n\u001b[1;32m    475\u001b[0m         \u001b[0;32mif\u001b[0m \u001b[0mf\u001b[0m \u001b[0;32mis\u001b[0m \u001b[0;32mnot\u001b[0m \u001b[0;32mNone\u001b[0m\u001b[0;34m:\u001b[0m\u001b[0;34m\u001b[0m\u001b[0;34m\u001b[0m\u001b[0m\n\u001b[0;32m--> 476\u001b[0;31m             \u001b[0mf\u001b[0m\u001b[0;34m(\u001b[0m\u001b[0mself\u001b[0m\u001b[0;34m,\u001b[0m \u001b[0mobj\u001b[0m\u001b[0;34m)\u001b[0m \u001b[0;31m# Call unbound method with explicit self\u001b[0m\u001b[0;34m\u001b[0m\u001b[0;34m\u001b[0m\u001b[0m\n\u001b[0m\u001b[1;32m    477\u001b[0m             \u001b[0;32mreturn\u001b[0m\u001b[0;34m\u001b[0m\u001b[0;34m\u001b[0m\u001b[0m\n\u001b[1;32m    478\u001b[0m \u001b[0;34m\u001b[0m\u001b[0m\n",
      "\u001b[0;32m/usr/lib/python3.6/pickle.py\u001b[0m in \u001b[0;36msave_list\u001b[0;34m(self, obj)\u001b[0m\n\u001b[1;32m    779\u001b[0m \u001b[0;34m\u001b[0m\u001b[0m\n\u001b[1;32m    780\u001b[0m         \u001b[0mself\u001b[0m\u001b[0;34m.\u001b[0m\u001b[0mmemoize\u001b[0m\u001b[0;34m(\u001b[0m\u001b[0mobj\u001b[0m\u001b[0;34m)\u001b[0m\u001b[0;34m\u001b[0m\u001b[0;34m\u001b[0m\u001b[0m\n\u001b[0;32m--> 781\u001b[0;31m         \u001b[0mself\u001b[0m\u001b[0;34m.\u001b[0m\u001b[0m_batch_appends\u001b[0m\u001b[0;34m(\u001b[0m\u001b[0mobj\u001b[0m\u001b[0;34m)\u001b[0m\u001b[0;34m\u001b[0m\u001b[0;34m\u001b[0m\u001b[0m\n\u001b[0m\u001b[1;32m    782\u001b[0m \u001b[0;34m\u001b[0m\u001b[0m\n\u001b[1;32m    783\u001b[0m     \u001b[0mdispatch\u001b[0m\u001b[0;34m[\u001b[0m\u001b[0mlist\u001b[0m\u001b[0;34m]\u001b[0m \u001b[0;34m=\u001b[0m \u001b[0msave_list\u001b[0m\u001b[0;34m\u001b[0m\u001b[0;34m\u001b[0m\u001b[0m\n",
      "\u001b[0;32m/usr/lib/python3.6/pickle.py\u001b[0m in \u001b[0;36m_batch_appends\u001b[0;34m(self, items)\u001b[0m\n\u001b[1;32m    803\u001b[0m                 \u001b[0mwrite\u001b[0m\u001b[0;34m(\u001b[0m\u001b[0mMARK\u001b[0m\u001b[0;34m)\u001b[0m\u001b[0;34m\u001b[0m\u001b[0;34m\u001b[0m\u001b[0m\n\u001b[1;32m    804\u001b[0m                 \u001b[0;32mfor\u001b[0m \u001b[0mx\u001b[0m \u001b[0;32min\u001b[0m \u001b[0mtmp\u001b[0m\u001b[0;34m:\u001b[0m\u001b[0;34m\u001b[0m\u001b[0;34m\u001b[0m\u001b[0m\n\u001b[0;32m--> 805\u001b[0;31m                     \u001b[0msave\u001b[0m\u001b[0;34m(\u001b[0m\u001b[0mx\u001b[0m\u001b[0;34m)\u001b[0m\u001b[0;34m\u001b[0m\u001b[0;34m\u001b[0m\u001b[0m\n\u001b[0m\u001b[1;32m    806\u001b[0m                 \u001b[0mwrite\u001b[0m\u001b[0;34m(\u001b[0m\u001b[0mAPPENDS\u001b[0m\u001b[0;34m)\u001b[0m\u001b[0;34m\u001b[0m\u001b[0;34m\u001b[0m\u001b[0m\n\u001b[1;32m    807\u001b[0m             \u001b[0;32melif\u001b[0m \u001b[0mn\u001b[0m\u001b[0;34m:\u001b[0m\u001b[0;34m\u001b[0m\u001b[0;34m\u001b[0m\u001b[0m\n",
      "\u001b[0;32m/usr/local/lib/python3.6/dist-packages/joblib/numpy_pickle.py\u001b[0m in \u001b[0;36msave\u001b[0;34m(self, obj)\u001b[0m\n\u001b[1;32m    282\u001b[0m             \u001b[0;32mreturn\u001b[0m\u001b[0;34m\u001b[0m\u001b[0;34m\u001b[0m\u001b[0m\n\u001b[1;32m    283\u001b[0m \u001b[0;34m\u001b[0m\u001b[0m\n\u001b[0;32m--> 284\u001b[0;31m         \u001b[0;32mreturn\u001b[0m \u001b[0mPickler\u001b[0m\u001b[0;34m.\u001b[0m\u001b[0msave\u001b[0m\u001b[0;34m(\u001b[0m\u001b[0mself\u001b[0m\u001b[0;34m,\u001b[0m \u001b[0mobj\u001b[0m\u001b[0;34m)\u001b[0m\u001b[0;34m\u001b[0m\u001b[0;34m\u001b[0m\u001b[0m\n\u001b[0m\u001b[1;32m    285\u001b[0m \u001b[0;34m\u001b[0m\u001b[0m\n\u001b[1;32m    286\u001b[0m \u001b[0;34m\u001b[0m\u001b[0m\n",
      "\u001b[0;32m/usr/lib/python3.6/pickle.py\u001b[0m in \u001b[0;36msave\u001b[0;34m(self, obj, save_persistent_id)\u001b[0m\n\u001b[1;32m    474\u001b[0m         \u001b[0mf\u001b[0m \u001b[0;34m=\u001b[0m \u001b[0mself\u001b[0m\u001b[0;34m.\u001b[0m\u001b[0mdispatch\u001b[0m\u001b[0;34m.\u001b[0m\u001b[0mget\u001b[0m\u001b[0;34m(\u001b[0m\u001b[0mt\u001b[0m\u001b[0;34m)\u001b[0m\u001b[0;34m\u001b[0m\u001b[0;34m\u001b[0m\u001b[0m\n\u001b[1;32m    475\u001b[0m         \u001b[0;32mif\u001b[0m \u001b[0mf\u001b[0m \u001b[0;32mis\u001b[0m \u001b[0;32mnot\u001b[0m \u001b[0;32mNone\u001b[0m\u001b[0;34m:\u001b[0m\u001b[0;34m\u001b[0m\u001b[0;34m\u001b[0m\u001b[0m\n\u001b[0;32m--> 476\u001b[0;31m             \u001b[0mf\u001b[0m\u001b[0;34m(\u001b[0m\u001b[0mself\u001b[0m\u001b[0;34m,\u001b[0m \u001b[0mobj\u001b[0m\u001b[0;34m)\u001b[0m \u001b[0;31m# Call unbound method with explicit self\u001b[0m\u001b[0;34m\u001b[0m\u001b[0;34m\u001b[0m\u001b[0m\n\u001b[0m\u001b[1;32m    477\u001b[0m             \u001b[0;32mreturn\u001b[0m\u001b[0;34m\u001b[0m\u001b[0;34m\u001b[0m\u001b[0m\n\u001b[1;32m    478\u001b[0m \u001b[0;34m\u001b[0m\u001b[0m\n",
      "\u001b[0;32m/usr/lib/python3.6/pickle.py\u001b[0m in \u001b[0;36msave_tuple\u001b[0;34m(self, obj)\u001b[0m\n\u001b[1;32m    734\u001b[0m         \u001b[0;32mif\u001b[0m \u001b[0mn\u001b[0m \u001b[0;34m<=\u001b[0m \u001b[0;36m3\u001b[0m \u001b[0;32mand\u001b[0m \u001b[0mself\u001b[0m\u001b[0;34m.\u001b[0m\u001b[0mproto\u001b[0m \u001b[0;34m>=\u001b[0m \u001b[0;36m2\u001b[0m\u001b[0;34m:\u001b[0m\u001b[0;34m\u001b[0m\u001b[0;34m\u001b[0m\u001b[0m\n\u001b[1;32m    735\u001b[0m             \u001b[0;32mfor\u001b[0m \u001b[0melement\u001b[0m \u001b[0;32min\u001b[0m \u001b[0mobj\u001b[0m\u001b[0;34m:\u001b[0m\u001b[0;34m\u001b[0m\u001b[0;34m\u001b[0m\u001b[0m\n\u001b[0;32m--> 736\u001b[0;31m                 \u001b[0msave\u001b[0m\u001b[0;34m(\u001b[0m\u001b[0melement\u001b[0m\u001b[0;34m)\u001b[0m\u001b[0;34m\u001b[0m\u001b[0;34m\u001b[0m\u001b[0m\n\u001b[0m\u001b[1;32m    737\u001b[0m             \u001b[0;31m# Subtle.  Same as in the big comment below.\u001b[0m\u001b[0;34m\u001b[0m\u001b[0;34m\u001b[0m\u001b[0;34m\u001b[0m\u001b[0m\n\u001b[1;32m    738\u001b[0m             \u001b[0;32mif\u001b[0m \u001b[0mid\u001b[0m\u001b[0;34m(\u001b[0m\u001b[0mobj\u001b[0m\u001b[0;34m)\u001b[0m \u001b[0;32min\u001b[0m \u001b[0mmemo\u001b[0m\u001b[0;34m:\u001b[0m\u001b[0;34m\u001b[0m\u001b[0;34m\u001b[0m\u001b[0m\n",
      "\u001b[0;32m/usr/local/lib/python3.6/dist-packages/joblib/numpy_pickle.py\u001b[0m in \u001b[0;36msave\u001b[0;34m(self, obj)\u001b[0m\n\u001b[1;32m    282\u001b[0m             \u001b[0;32mreturn\u001b[0m\u001b[0;34m\u001b[0m\u001b[0;34m\u001b[0m\u001b[0m\n\u001b[1;32m    283\u001b[0m \u001b[0;34m\u001b[0m\u001b[0m\n\u001b[0;32m--> 284\u001b[0;31m         \u001b[0;32mreturn\u001b[0m \u001b[0mPickler\u001b[0m\u001b[0;34m.\u001b[0m\u001b[0msave\u001b[0m\u001b[0;34m(\u001b[0m\u001b[0mself\u001b[0m\u001b[0;34m,\u001b[0m \u001b[0mobj\u001b[0m\u001b[0;34m)\u001b[0m\u001b[0;34m\u001b[0m\u001b[0;34m\u001b[0m\u001b[0m\n\u001b[0m\u001b[1;32m    285\u001b[0m \u001b[0;34m\u001b[0m\u001b[0m\n\u001b[1;32m    286\u001b[0m \u001b[0;34m\u001b[0m\u001b[0m\n",
      "\u001b[0;32m/usr/lib/python3.6/pickle.py\u001b[0m in \u001b[0;36msave\u001b[0;34m(self, obj, save_persistent_id)\u001b[0m\n\u001b[1;32m    519\u001b[0m \u001b[0;34m\u001b[0m\u001b[0m\n\u001b[1;32m    520\u001b[0m         \u001b[0;31m# Save the reduce() output and finally memoize the object\u001b[0m\u001b[0;34m\u001b[0m\u001b[0;34m\u001b[0m\u001b[0;34m\u001b[0m\u001b[0m\n\u001b[0;32m--> 521\u001b[0;31m         \u001b[0mself\u001b[0m\u001b[0;34m.\u001b[0m\u001b[0msave_reduce\u001b[0m\u001b[0;34m(\u001b[0m\u001b[0mobj\u001b[0m\u001b[0;34m=\u001b[0m\u001b[0mobj\u001b[0m\u001b[0;34m,\u001b[0m \u001b[0;34m*\u001b[0m\u001b[0mrv\u001b[0m\u001b[0;34m)\u001b[0m\u001b[0;34m\u001b[0m\u001b[0;34m\u001b[0m\u001b[0m\n\u001b[0m\u001b[1;32m    522\u001b[0m \u001b[0;34m\u001b[0m\u001b[0m\n\u001b[1;32m    523\u001b[0m     \u001b[0;32mdef\u001b[0m \u001b[0mpersistent_id\u001b[0m\u001b[0;34m(\u001b[0m\u001b[0mself\u001b[0m\u001b[0;34m,\u001b[0m \u001b[0mobj\u001b[0m\u001b[0;34m)\u001b[0m\u001b[0;34m:\u001b[0m\u001b[0;34m\u001b[0m\u001b[0;34m\u001b[0m\u001b[0m\n",
      "\u001b[0;32m/usr/lib/python3.6/pickle.py\u001b[0m in \u001b[0;36msave_reduce\u001b[0;34m(self, func, args, state, listitems, dictitems, obj)\u001b[0m\n\u001b[1;32m    632\u001b[0m \u001b[0;34m\u001b[0m\u001b[0m\n\u001b[1;32m    633\u001b[0m         \u001b[0;32mif\u001b[0m \u001b[0mstate\u001b[0m \u001b[0;32mis\u001b[0m \u001b[0;32mnot\u001b[0m \u001b[0;32mNone\u001b[0m\u001b[0;34m:\u001b[0m\u001b[0;34m\u001b[0m\u001b[0;34m\u001b[0m\u001b[0m\n\u001b[0;32m--> 634\u001b[0;31m             \u001b[0msave\u001b[0m\u001b[0;34m(\u001b[0m\u001b[0mstate\u001b[0m\u001b[0;34m)\u001b[0m\u001b[0;34m\u001b[0m\u001b[0;34m\u001b[0m\u001b[0m\n\u001b[0m\u001b[1;32m    635\u001b[0m             \u001b[0mwrite\u001b[0m\u001b[0;34m(\u001b[0m\u001b[0mBUILD\u001b[0m\u001b[0;34m)\u001b[0m\u001b[0;34m\u001b[0m\u001b[0;34m\u001b[0m\u001b[0m\n\u001b[1;32m    636\u001b[0m \u001b[0;34m\u001b[0m\u001b[0m\n",
      "\u001b[0;32m/usr/local/lib/python3.6/dist-packages/joblib/numpy_pickle.py\u001b[0m in \u001b[0;36msave\u001b[0;34m(self, obj)\u001b[0m\n\u001b[1;32m    282\u001b[0m             \u001b[0;32mreturn\u001b[0m\u001b[0;34m\u001b[0m\u001b[0;34m\u001b[0m\u001b[0m\n\u001b[1;32m    283\u001b[0m \u001b[0;34m\u001b[0m\u001b[0m\n\u001b[0;32m--> 284\u001b[0;31m         \u001b[0;32mreturn\u001b[0m \u001b[0mPickler\u001b[0m\u001b[0;34m.\u001b[0m\u001b[0msave\u001b[0m\u001b[0;34m(\u001b[0m\u001b[0mself\u001b[0m\u001b[0;34m,\u001b[0m \u001b[0mobj\u001b[0m\u001b[0;34m)\u001b[0m\u001b[0;34m\u001b[0m\u001b[0;34m\u001b[0m\u001b[0m\n\u001b[0m\u001b[1;32m    285\u001b[0m \u001b[0;34m\u001b[0m\u001b[0m\n\u001b[1;32m    286\u001b[0m \u001b[0;34m\u001b[0m\u001b[0m\n",
      "\u001b[0;32m/usr/lib/python3.6/pickle.py\u001b[0m in \u001b[0;36msave\u001b[0;34m(self, obj, save_persistent_id)\u001b[0m\n\u001b[1;32m    474\u001b[0m         \u001b[0mf\u001b[0m \u001b[0;34m=\u001b[0m \u001b[0mself\u001b[0m\u001b[0;34m.\u001b[0m\u001b[0mdispatch\u001b[0m\u001b[0;34m.\u001b[0m\u001b[0mget\u001b[0m\u001b[0;34m(\u001b[0m\u001b[0mt\u001b[0m\u001b[0;34m)\u001b[0m\u001b[0;34m\u001b[0m\u001b[0;34m\u001b[0m\u001b[0m\n\u001b[1;32m    475\u001b[0m         \u001b[0;32mif\u001b[0m \u001b[0mf\u001b[0m \u001b[0;32mis\u001b[0m \u001b[0;32mnot\u001b[0m \u001b[0;32mNone\u001b[0m\u001b[0;34m:\u001b[0m\u001b[0;34m\u001b[0m\u001b[0;34m\u001b[0m\u001b[0m\n\u001b[0;32m--> 476\u001b[0;31m             \u001b[0mf\u001b[0m\u001b[0;34m(\u001b[0m\u001b[0mself\u001b[0m\u001b[0;34m,\u001b[0m \u001b[0mobj\u001b[0m\u001b[0;34m)\u001b[0m \u001b[0;31m# Call unbound method with explicit self\u001b[0m\u001b[0;34m\u001b[0m\u001b[0;34m\u001b[0m\u001b[0m\n\u001b[0m\u001b[1;32m    477\u001b[0m             \u001b[0;32mreturn\u001b[0m\u001b[0;34m\u001b[0m\u001b[0;34m\u001b[0m\u001b[0m\n\u001b[1;32m    478\u001b[0m \u001b[0;34m\u001b[0m\u001b[0m\n",
      "\u001b[0;32m/usr/lib/python3.6/pickle.py\u001b[0m in \u001b[0;36msave_dict\u001b[0;34m(self, obj)\u001b[0m\n\u001b[1;32m    819\u001b[0m \u001b[0;34m\u001b[0m\u001b[0m\n\u001b[1;32m    820\u001b[0m         \u001b[0mself\u001b[0m\u001b[0;34m.\u001b[0m\u001b[0mmemoize\u001b[0m\u001b[0;34m(\u001b[0m\u001b[0mobj\u001b[0m\u001b[0;34m)\u001b[0m\u001b[0;34m\u001b[0m\u001b[0;34m\u001b[0m\u001b[0m\n\u001b[0;32m--> 821\u001b[0;31m         \u001b[0mself\u001b[0m\u001b[0;34m.\u001b[0m\u001b[0m_batch_setitems\u001b[0m\u001b[0;34m(\u001b[0m\u001b[0mobj\u001b[0m\u001b[0;34m.\u001b[0m\u001b[0mitems\u001b[0m\u001b[0;34m(\u001b[0m\u001b[0;34m)\u001b[0m\u001b[0;34m)\u001b[0m\u001b[0;34m\u001b[0m\u001b[0;34m\u001b[0m\u001b[0m\n\u001b[0m\u001b[1;32m    822\u001b[0m \u001b[0;34m\u001b[0m\u001b[0m\n\u001b[1;32m    823\u001b[0m     \u001b[0mdispatch\u001b[0m\u001b[0;34m[\u001b[0m\u001b[0mdict\u001b[0m\u001b[0;34m]\u001b[0m \u001b[0;34m=\u001b[0m \u001b[0msave_dict\u001b[0m\u001b[0;34m\u001b[0m\u001b[0;34m\u001b[0m\u001b[0m\n",
      "\u001b[0;32m/usr/lib/python3.6/pickle.py\u001b[0m in \u001b[0;36m_batch_setitems\u001b[0;34m(self, items)\u001b[0m\n\u001b[1;32m    845\u001b[0m                 \u001b[0;32mfor\u001b[0m \u001b[0mk\u001b[0m\u001b[0;34m,\u001b[0m \u001b[0mv\u001b[0m \u001b[0;32min\u001b[0m \u001b[0mtmp\u001b[0m\u001b[0;34m:\u001b[0m\u001b[0;34m\u001b[0m\u001b[0;34m\u001b[0m\u001b[0m\n\u001b[1;32m    846\u001b[0m                     \u001b[0msave\u001b[0m\u001b[0;34m(\u001b[0m\u001b[0mk\u001b[0m\u001b[0;34m)\u001b[0m\u001b[0;34m\u001b[0m\u001b[0;34m\u001b[0m\u001b[0m\n\u001b[0;32m--> 847\u001b[0;31m                     \u001b[0msave\u001b[0m\u001b[0;34m(\u001b[0m\u001b[0mv\u001b[0m\u001b[0;34m)\u001b[0m\u001b[0;34m\u001b[0m\u001b[0;34m\u001b[0m\u001b[0m\n\u001b[0m\u001b[1;32m    848\u001b[0m                 \u001b[0mwrite\u001b[0m\u001b[0;34m(\u001b[0m\u001b[0mSETITEMS\u001b[0m\u001b[0;34m)\u001b[0m\u001b[0;34m\u001b[0m\u001b[0;34m\u001b[0m\u001b[0m\n\u001b[1;32m    849\u001b[0m             \u001b[0;32melif\u001b[0m \u001b[0mn\u001b[0m\u001b[0;34m:\u001b[0m\u001b[0;34m\u001b[0m\u001b[0;34m\u001b[0m\u001b[0m\n",
      "\u001b[0;32m/usr/local/lib/python3.6/dist-packages/joblib/numpy_pickle.py\u001b[0m in \u001b[0;36msave\u001b[0;34m(self, obj)\u001b[0m\n\u001b[1;32m    282\u001b[0m             \u001b[0;32mreturn\u001b[0m\u001b[0;34m\u001b[0m\u001b[0;34m\u001b[0m\u001b[0m\n\u001b[1;32m    283\u001b[0m \u001b[0;34m\u001b[0m\u001b[0m\n\u001b[0;32m--> 284\u001b[0;31m         \u001b[0;32mreturn\u001b[0m \u001b[0mPickler\u001b[0m\u001b[0;34m.\u001b[0m\u001b[0msave\u001b[0m\u001b[0;34m(\u001b[0m\u001b[0mself\u001b[0m\u001b[0;34m,\u001b[0m \u001b[0mobj\u001b[0m\u001b[0;34m)\u001b[0m\u001b[0;34m\u001b[0m\u001b[0;34m\u001b[0m\u001b[0m\n\u001b[0m\u001b[1;32m    285\u001b[0m \u001b[0;34m\u001b[0m\u001b[0m\n\u001b[1;32m    286\u001b[0m \u001b[0;34m\u001b[0m\u001b[0m\n",
      "\u001b[0;32m/usr/lib/python3.6/pickle.py\u001b[0m in \u001b[0;36msave\u001b[0;34m(self, obj, save_persistent_id)\u001b[0m\n\u001b[1;32m    519\u001b[0m \u001b[0;34m\u001b[0m\u001b[0m\n\u001b[1;32m    520\u001b[0m         \u001b[0;31m# Save the reduce() output and finally memoize the object\u001b[0m\u001b[0;34m\u001b[0m\u001b[0;34m\u001b[0m\u001b[0;34m\u001b[0m\u001b[0m\n\u001b[0;32m--> 521\u001b[0;31m         \u001b[0mself\u001b[0m\u001b[0;34m.\u001b[0m\u001b[0msave_reduce\u001b[0m\u001b[0;34m(\u001b[0m\u001b[0mobj\u001b[0m\u001b[0;34m=\u001b[0m\u001b[0mobj\u001b[0m\u001b[0;34m,\u001b[0m \u001b[0;34m*\u001b[0m\u001b[0mrv\u001b[0m\u001b[0;34m)\u001b[0m\u001b[0;34m\u001b[0m\u001b[0;34m\u001b[0m\u001b[0m\n\u001b[0m\u001b[1;32m    522\u001b[0m \u001b[0;34m\u001b[0m\u001b[0m\n\u001b[1;32m    523\u001b[0m     \u001b[0;32mdef\u001b[0m \u001b[0mpersistent_id\u001b[0m\u001b[0;34m(\u001b[0m\u001b[0mself\u001b[0m\u001b[0;34m,\u001b[0m \u001b[0mobj\u001b[0m\u001b[0;34m)\u001b[0m\u001b[0;34m:\u001b[0m\u001b[0;34m\u001b[0m\u001b[0;34m\u001b[0m\u001b[0m\n",
      "\u001b[0;32m/usr/lib/python3.6/pickle.py\u001b[0m in \u001b[0;36msave_reduce\u001b[0;34m(self, func, args, state, listitems, dictitems, obj)\u001b[0m\n\u001b[1;32m    632\u001b[0m \u001b[0;34m\u001b[0m\u001b[0m\n\u001b[1;32m    633\u001b[0m         \u001b[0;32mif\u001b[0m \u001b[0mstate\u001b[0m \u001b[0;32mis\u001b[0m \u001b[0;32mnot\u001b[0m \u001b[0;32mNone\u001b[0m\u001b[0;34m:\u001b[0m\u001b[0;34m\u001b[0m\u001b[0;34m\u001b[0m\u001b[0m\n\u001b[0;32m--> 634\u001b[0;31m             \u001b[0msave\u001b[0m\u001b[0;34m(\u001b[0m\u001b[0mstate\u001b[0m\u001b[0;34m)\u001b[0m\u001b[0;34m\u001b[0m\u001b[0;34m\u001b[0m\u001b[0m\n\u001b[0m\u001b[1;32m    635\u001b[0m             \u001b[0mwrite\u001b[0m\u001b[0;34m(\u001b[0m\u001b[0mBUILD\u001b[0m\u001b[0;34m)\u001b[0m\u001b[0;34m\u001b[0m\u001b[0;34m\u001b[0m\u001b[0m\n\u001b[1;32m    636\u001b[0m \u001b[0;34m\u001b[0m\u001b[0m\n",
      "\u001b[0;32m/usr/local/lib/python3.6/dist-packages/joblib/numpy_pickle.py\u001b[0m in \u001b[0;36msave\u001b[0;34m(self, obj)\u001b[0m\n\u001b[1;32m    282\u001b[0m             \u001b[0;32mreturn\u001b[0m\u001b[0;34m\u001b[0m\u001b[0;34m\u001b[0m\u001b[0m\n\u001b[1;32m    283\u001b[0m \u001b[0;34m\u001b[0m\u001b[0m\n\u001b[0;32m--> 284\u001b[0;31m         \u001b[0;32mreturn\u001b[0m \u001b[0mPickler\u001b[0m\u001b[0;34m.\u001b[0m\u001b[0msave\u001b[0m\u001b[0;34m(\u001b[0m\u001b[0mself\u001b[0m\u001b[0;34m,\u001b[0m \u001b[0mobj\u001b[0m\u001b[0;34m)\u001b[0m\u001b[0;34m\u001b[0m\u001b[0;34m\u001b[0m\u001b[0m\n\u001b[0m\u001b[1;32m    285\u001b[0m \u001b[0;34m\u001b[0m\u001b[0m\n\u001b[1;32m    286\u001b[0m \u001b[0;34m\u001b[0m\u001b[0m\n",
      "\u001b[0;32m/usr/lib/python3.6/pickle.py\u001b[0m in \u001b[0;36msave\u001b[0;34m(self, obj, save_persistent_id)\u001b[0m\n\u001b[1;32m    474\u001b[0m         \u001b[0mf\u001b[0m \u001b[0;34m=\u001b[0m \u001b[0mself\u001b[0m\u001b[0;34m.\u001b[0m\u001b[0mdispatch\u001b[0m\u001b[0;34m.\u001b[0m\u001b[0mget\u001b[0m\u001b[0;34m(\u001b[0m\u001b[0mt\u001b[0m\u001b[0;34m)\u001b[0m\u001b[0;34m\u001b[0m\u001b[0;34m\u001b[0m\u001b[0m\n\u001b[1;32m    475\u001b[0m         \u001b[0;32mif\u001b[0m \u001b[0mf\u001b[0m \u001b[0;32mis\u001b[0m \u001b[0;32mnot\u001b[0m \u001b[0;32mNone\u001b[0m\u001b[0;34m:\u001b[0m\u001b[0;34m\u001b[0m\u001b[0;34m\u001b[0m\u001b[0m\n\u001b[0;32m--> 476\u001b[0;31m             \u001b[0mf\u001b[0m\u001b[0;34m(\u001b[0m\u001b[0mself\u001b[0m\u001b[0;34m,\u001b[0m \u001b[0mobj\u001b[0m\u001b[0;34m)\u001b[0m \u001b[0;31m# Call unbound method with explicit self\u001b[0m\u001b[0;34m\u001b[0m\u001b[0;34m\u001b[0m\u001b[0m\n\u001b[0m\u001b[1;32m    477\u001b[0m             \u001b[0;32mreturn\u001b[0m\u001b[0;34m\u001b[0m\u001b[0;34m\u001b[0m\u001b[0m\n\u001b[1;32m    478\u001b[0m \u001b[0;34m\u001b[0m\u001b[0m\n",
      "\u001b[0;32m/usr/lib/python3.6/pickle.py\u001b[0m in \u001b[0;36msave_dict\u001b[0;34m(self, obj)\u001b[0m\n\u001b[1;32m    819\u001b[0m \u001b[0;34m\u001b[0m\u001b[0m\n\u001b[1;32m    820\u001b[0m         \u001b[0mself\u001b[0m\u001b[0;34m.\u001b[0m\u001b[0mmemoize\u001b[0m\u001b[0;34m(\u001b[0m\u001b[0mobj\u001b[0m\u001b[0;34m)\u001b[0m\u001b[0;34m\u001b[0m\u001b[0;34m\u001b[0m\u001b[0m\n\u001b[0;32m--> 821\u001b[0;31m         \u001b[0mself\u001b[0m\u001b[0;34m.\u001b[0m\u001b[0m_batch_setitems\u001b[0m\u001b[0;34m(\u001b[0m\u001b[0mobj\u001b[0m\u001b[0;34m.\u001b[0m\u001b[0mitems\u001b[0m\u001b[0;34m(\u001b[0m\u001b[0;34m)\u001b[0m\u001b[0;34m)\u001b[0m\u001b[0;34m\u001b[0m\u001b[0;34m\u001b[0m\u001b[0m\n\u001b[0m\u001b[1;32m    822\u001b[0m \u001b[0;34m\u001b[0m\u001b[0m\n\u001b[1;32m    823\u001b[0m     \u001b[0mdispatch\u001b[0m\u001b[0;34m[\u001b[0m\u001b[0mdict\u001b[0m\u001b[0;34m]\u001b[0m \u001b[0;34m=\u001b[0m \u001b[0msave_dict\u001b[0m\u001b[0;34m\u001b[0m\u001b[0;34m\u001b[0m\u001b[0m\n",
      "\u001b[0;32m/usr/lib/python3.6/pickle.py\u001b[0m in \u001b[0;36m_batch_setitems\u001b[0;34m(self, items)\u001b[0m\n\u001b[1;32m    845\u001b[0m                 \u001b[0;32mfor\u001b[0m \u001b[0mk\u001b[0m\u001b[0;34m,\u001b[0m \u001b[0mv\u001b[0m \u001b[0;32min\u001b[0m \u001b[0mtmp\u001b[0m\u001b[0;34m:\u001b[0m\u001b[0;34m\u001b[0m\u001b[0;34m\u001b[0m\u001b[0m\n\u001b[1;32m    846\u001b[0m                     \u001b[0msave\u001b[0m\u001b[0;34m(\u001b[0m\u001b[0mk\u001b[0m\u001b[0;34m)\u001b[0m\u001b[0;34m\u001b[0m\u001b[0;34m\u001b[0m\u001b[0m\n\u001b[0;32m--> 847\u001b[0;31m                     \u001b[0msave\u001b[0m\u001b[0;34m(\u001b[0m\u001b[0mv\u001b[0m\u001b[0;34m)\u001b[0m\u001b[0;34m\u001b[0m\u001b[0;34m\u001b[0m\u001b[0m\n\u001b[0m\u001b[1;32m    848\u001b[0m                 \u001b[0mwrite\u001b[0m\u001b[0;34m(\u001b[0m\u001b[0mSETITEMS\u001b[0m\u001b[0;34m)\u001b[0m\u001b[0;34m\u001b[0m\u001b[0;34m\u001b[0m\u001b[0m\n\u001b[1;32m    849\u001b[0m             \u001b[0;32melif\u001b[0m \u001b[0mn\u001b[0m\u001b[0;34m:\u001b[0m\u001b[0;34m\u001b[0m\u001b[0;34m\u001b[0m\u001b[0m\n",
      "\u001b[0;32m/usr/local/lib/python3.6/dist-packages/joblib/numpy_pickle.py\u001b[0m in \u001b[0;36msave\u001b[0;34m(self, obj)\u001b[0m\n\u001b[1;32m    282\u001b[0m             \u001b[0;32mreturn\u001b[0m\u001b[0;34m\u001b[0m\u001b[0;34m\u001b[0m\u001b[0m\n\u001b[1;32m    283\u001b[0m \u001b[0;34m\u001b[0m\u001b[0m\n\u001b[0;32m--> 284\u001b[0;31m         \u001b[0;32mreturn\u001b[0m \u001b[0mPickler\u001b[0m\u001b[0;34m.\u001b[0m\u001b[0msave\u001b[0m\u001b[0;34m(\u001b[0m\u001b[0mself\u001b[0m\u001b[0;34m,\u001b[0m \u001b[0mobj\u001b[0m\u001b[0;34m)\u001b[0m\u001b[0;34m\u001b[0m\u001b[0;34m\u001b[0m\u001b[0m\n\u001b[0m\u001b[1;32m    285\u001b[0m \u001b[0;34m\u001b[0m\u001b[0m\n\u001b[1;32m    286\u001b[0m \u001b[0;34m\u001b[0m\u001b[0m\n",
      "\u001b[0;32m/usr/lib/python3.6/pickle.py\u001b[0m in \u001b[0;36msave\u001b[0;34m(self, obj, save_persistent_id)\u001b[0m\n\u001b[1;32m    519\u001b[0m \u001b[0;34m\u001b[0m\u001b[0m\n\u001b[1;32m    520\u001b[0m         \u001b[0;31m# Save the reduce() output and finally memoize the object\u001b[0m\u001b[0;34m\u001b[0m\u001b[0;34m\u001b[0m\u001b[0;34m\u001b[0m\u001b[0m\n\u001b[0;32m--> 521\u001b[0;31m         \u001b[0mself\u001b[0m\u001b[0;34m.\u001b[0m\u001b[0msave_reduce\u001b[0m\u001b[0;34m(\u001b[0m\u001b[0mobj\u001b[0m\u001b[0;34m=\u001b[0m\u001b[0mobj\u001b[0m\u001b[0;34m,\u001b[0m \u001b[0;34m*\u001b[0m\u001b[0mrv\u001b[0m\u001b[0;34m)\u001b[0m\u001b[0;34m\u001b[0m\u001b[0;34m\u001b[0m\u001b[0m\n\u001b[0m\u001b[1;32m    522\u001b[0m \u001b[0;34m\u001b[0m\u001b[0m\n\u001b[1;32m    523\u001b[0m     \u001b[0;32mdef\u001b[0m \u001b[0mpersistent_id\u001b[0m\u001b[0;34m(\u001b[0m\u001b[0mself\u001b[0m\u001b[0;34m,\u001b[0m \u001b[0mobj\u001b[0m\u001b[0;34m)\u001b[0m\u001b[0;34m:\u001b[0m\u001b[0;34m\u001b[0m\u001b[0;34m\u001b[0m\u001b[0m\n",
      "\u001b[0;32m/usr/lib/python3.6/pickle.py\u001b[0m in \u001b[0;36msave_reduce\u001b[0;34m(self, func, args, state, listitems, dictitems, obj)\u001b[0m\n\u001b[1;32m    632\u001b[0m \u001b[0;34m\u001b[0m\u001b[0m\n\u001b[1;32m    633\u001b[0m         \u001b[0;32mif\u001b[0m \u001b[0mstate\u001b[0m \u001b[0;32mis\u001b[0m \u001b[0;32mnot\u001b[0m \u001b[0;32mNone\u001b[0m\u001b[0;34m:\u001b[0m\u001b[0;34m\u001b[0m\u001b[0;34m\u001b[0m\u001b[0m\n\u001b[0;32m--> 634\u001b[0;31m             \u001b[0msave\u001b[0m\u001b[0;34m(\u001b[0m\u001b[0mstate\u001b[0m\u001b[0;34m)\u001b[0m\u001b[0;34m\u001b[0m\u001b[0;34m\u001b[0m\u001b[0m\n\u001b[0m\u001b[1;32m    635\u001b[0m             \u001b[0mwrite\u001b[0m\u001b[0;34m(\u001b[0m\u001b[0mBUILD\u001b[0m\u001b[0;34m)\u001b[0m\u001b[0;34m\u001b[0m\u001b[0;34m\u001b[0m\u001b[0m\n\u001b[1;32m    636\u001b[0m \u001b[0;34m\u001b[0m\u001b[0m\n",
      "\u001b[0;32m/usr/local/lib/python3.6/dist-packages/joblib/numpy_pickle.py\u001b[0m in \u001b[0;36msave\u001b[0;34m(self, obj)\u001b[0m\n\u001b[1;32m    282\u001b[0m             \u001b[0;32mreturn\u001b[0m\u001b[0;34m\u001b[0m\u001b[0;34m\u001b[0m\u001b[0m\n\u001b[1;32m    283\u001b[0m \u001b[0;34m\u001b[0m\u001b[0m\n\u001b[0;32m--> 284\u001b[0;31m         \u001b[0;32mreturn\u001b[0m \u001b[0mPickler\u001b[0m\u001b[0;34m.\u001b[0m\u001b[0msave\u001b[0m\u001b[0;34m(\u001b[0m\u001b[0mself\u001b[0m\u001b[0;34m,\u001b[0m \u001b[0mobj\u001b[0m\u001b[0;34m)\u001b[0m\u001b[0;34m\u001b[0m\u001b[0;34m\u001b[0m\u001b[0m\n\u001b[0m\u001b[1;32m    285\u001b[0m \u001b[0;34m\u001b[0m\u001b[0m\n\u001b[1;32m    286\u001b[0m \u001b[0;34m\u001b[0m\u001b[0m\n",
      "\u001b[0;32m/usr/lib/python3.6/pickle.py\u001b[0m in \u001b[0;36msave\u001b[0;34m(self, obj, save_persistent_id)\u001b[0m\n\u001b[1;32m    474\u001b[0m         \u001b[0mf\u001b[0m \u001b[0;34m=\u001b[0m \u001b[0mself\u001b[0m\u001b[0;34m.\u001b[0m\u001b[0mdispatch\u001b[0m\u001b[0;34m.\u001b[0m\u001b[0mget\u001b[0m\u001b[0;34m(\u001b[0m\u001b[0mt\u001b[0m\u001b[0;34m)\u001b[0m\u001b[0;34m\u001b[0m\u001b[0;34m\u001b[0m\u001b[0m\n\u001b[1;32m    475\u001b[0m         \u001b[0;32mif\u001b[0m \u001b[0mf\u001b[0m \u001b[0;32mis\u001b[0m \u001b[0;32mnot\u001b[0m \u001b[0;32mNone\u001b[0m\u001b[0;34m:\u001b[0m\u001b[0;34m\u001b[0m\u001b[0;34m\u001b[0m\u001b[0m\n\u001b[0;32m--> 476\u001b[0;31m             \u001b[0mf\u001b[0m\u001b[0;34m(\u001b[0m\u001b[0mself\u001b[0m\u001b[0;34m,\u001b[0m \u001b[0mobj\u001b[0m\u001b[0;34m)\u001b[0m \u001b[0;31m# Call unbound method with explicit self\u001b[0m\u001b[0;34m\u001b[0m\u001b[0;34m\u001b[0m\u001b[0m\n\u001b[0m\u001b[1;32m    477\u001b[0m             \u001b[0;32mreturn\u001b[0m\u001b[0;34m\u001b[0m\u001b[0;34m\u001b[0m\u001b[0m\n\u001b[1;32m    478\u001b[0m \u001b[0;34m\u001b[0m\u001b[0m\n",
      "\u001b[0;32m/usr/lib/python3.6/pickle.py\u001b[0m in \u001b[0;36msave_dict\u001b[0;34m(self, obj)\u001b[0m\n\u001b[1;32m    819\u001b[0m \u001b[0;34m\u001b[0m\u001b[0m\n\u001b[1;32m    820\u001b[0m         \u001b[0mself\u001b[0m\u001b[0;34m.\u001b[0m\u001b[0mmemoize\u001b[0m\u001b[0;34m(\u001b[0m\u001b[0mobj\u001b[0m\u001b[0;34m)\u001b[0m\u001b[0;34m\u001b[0m\u001b[0;34m\u001b[0m\u001b[0m\n\u001b[0;32m--> 821\u001b[0;31m         \u001b[0mself\u001b[0m\u001b[0;34m.\u001b[0m\u001b[0m_batch_setitems\u001b[0m\u001b[0;34m(\u001b[0m\u001b[0mobj\u001b[0m\u001b[0;34m.\u001b[0m\u001b[0mitems\u001b[0m\u001b[0;34m(\u001b[0m\u001b[0;34m)\u001b[0m\u001b[0;34m)\u001b[0m\u001b[0;34m\u001b[0m\u001b[0;34m\u001b[0m\u001b[0m\n\u001b[0m\u001b[1;32m    822\u001b[0m \u001b[0;34m\u001b[0m\u001b[0m\n\u001b[1;32m    823\u001b[0m     \u001b[0mdispatch\u001b[0m\u001b[0;34m[\u001b[0m\u001b[0mdict\u001b[0m\u001b[0;34m]\u001b[0m \u001b[0;34m=\u001b[0m \u001b[0msave_dict\u001b[0m\u001b[0;34m\u001b[0m\u001b[0;34m\u001b[0m\u001b[0m\n",
      "\u001b[0;32m/usr/lib/python3.6/pickle.py\u001b[0m in \u001b[0;36m_batch_setitems\u001b[0;34m(self, items)\u001b[0m\n\u001b[1;32m    845\u001b[0m                 \u001b[0;32mfor\u001b[0m \u001b[0mk\u001b[0m\u001b[0;34m,\u001b[0m \u001b[0mv\u001b[0m \u001b[0;32min\u001b[0m \u001b[0mtmp\u001b[0m\u001b[0;34m:\u001b[0m\u001b[0;34m\u001b[0m\u001b[0;34m\u001b[0m\u001b[0m\n\u001b[1;32m    846\u001b[0m                     \u001b[0msave\u001b[0m\u001b[0;34m(\u001b[0m\u001b[0mk\u001b[0m\u001b[0;34m)\u001b[0m\u001b[0;34m\u001b[0m\u001b[0;34m\u001b[0m\u001b[0m\n\u001b[0;32m--> 847\u001b[0;31m                     \u001b[0msave\u001b[0m\u001b[0;34m(\u001b[0m\u001b[0mv\u001b[0m\u001b[0;34m)\u001b[0m\u001b[0;34m\u001b[0m\u001b[0;34m\u001b[0m\u001b[0m\n\u001b[0m\u001b[1;32m    848\u001b[0m                 \u001b[0mwrite\u001b[0m\u001b[0;34m(\u001b[0m\u001b[0mSETITEMS\u001b[0m\u001b[0;34m)\u001b[0m\u001b[0;34m\u001b[0m\u001b[0;34m\u001b[0m\u001b[0m\n\u001b[1;32m    849\u001b[0m             \u001b[0;32melif\u001b[0m \u001b[0mn\u001b[0m\u001b[0;34m:\u001b[0m\u001b[0;34m\u001b[0m\u001b[0;34m\u001b[0m\u001b[0m\n",
      "\u001b[0;32m/usr/local/lib/python3.6/dist-packages/joblib/numpy_pickle.py\u001b[0m in \u001b[0;36msave\u001b[0;34m(self, obj)\u001b[0m\n\u001b[1;32m    282\u001b[0m             \u001b[0;32mreturn\u001b[0m\u001b[0;34m\u001b[0m\u001b[0;34m\u001b[0m\u001b[0m\n\u001b[1;32m    283\u001b[0m \u001b[0;34m\u001b[0m\u001b[0m\n\u001b[0;32m--> 284\u001b[0;31m         \u001b[0;32mreturn\u001b[0m \u001b[0mPickler\u001b[0m\u001b[0;34m.\u001b[0m\u001b[0msave\u001b[0m\u001b[0;34m(\u001b[0m\u001b[0mself\u001b[0m\u001b[0;34m,\u001b[0m \u001b[0mobj\u001b[0m\u001b[0;34m)\u001b[0m\u001b[0;34m\u001b[0m\u001b[0;34m\u001b[0m\u001b[0m\n\u001b[0m\u001b[1;32m    285\u001b[0m \u001b[0;34m\u001b[0m\u001b[0m\n\u001b[1;32m    286\u001b[0m \u001b[0;34m\u001b[0m\u001b[0m\n",
      "\u001b[0;32m/usr/lib/python3.6/pickle.py\u001b[0m in \u001b[0;36msave\u001b[0;34m(self, obj, save_persistent_id)\u001b[0m\n\u001b[1;32m    474\u001b[0m         \u001b[0mf\u001b[0m \u001b[0;34m=\u001b[0m \u001b[0mself\u001b[0m\u001b[0;34m.\u001b[0m\u001b[0mdispatch\u001b[0m\u001b[0;34m.\u001b[0m\u001b[0mget\u001b[0m\u001b[0;34m(\u001b[0m\u001b[0mt\u001b[0m\u001b[0;34m)\u001b[0m\u001b[0;34m\u001b[0m\u001b[0;34m\u001b[0m\u001b[0m\n\u001b[1;32m    475\u001b[0m         \u001b[0;32mif\u001b[0m \u001b[0mf\u001b[0m \u001b[0;32mis\u001b[0m \u001b[0;32mnot\u001b[0m \u001b[0;32mNone\u001b[0m\u001b[0;34m:\u001b[0m\u001b[0;34m\u001b[0m\u001b[0;34m\u001b[0m\u001b[0m\n\u001b[0;32m--> 476\u001b[0;31m             \u001b[0mf\u001b[0m\u001b[0;34m(\u001b[0m\u001b[0mself\u001b[0m\u001b[0;34m,\u001b[0m \u001b[0mobj\u001b[0m\u001b[0;34m)\u001b[0m \u001b[0;31m# Call unbound method with explicit self\u001b[0m\u001b[0;34m\u001b[0m\u001b[0;34m\u001b[0m\u001b[0m\n\u001b[0m\u001b[1;32m    477\u001b[0m             \u001b[0;32mreturn\u001b[0m\u001b[0;34m\u001b[0m\u001b[0;34m\u001b[0m\u001b[0m\n\u001b[1;32m    478\u001b[0m \u001b[0;34m\u001b[0m\u001b[0m\n",
      "\u001b[0;32m/usr/lib/python3.6/pickle.py\u001b[0m in \u001b[0;36msave_dict\u001b[0;34m(self, obj)\u001b[0m\n\u001b[1;32m    819\u001b[0m \u001b[0;34m\u001b[0m\u001b[0m\n\u001b[1;32m    820\u001b[0m         \u001b[0mself\u001b[0m\u001b[0;34m.\u001b[0m\u001b[0mmemoize\u001b[0m\u001b[0;34m(\u001b[0m\u001b[0mobj\u001b[0m\u001b[0;34m)\u001b[0m\u001b[0;34m\u001b[0m\u001b[0;34m\u001b[0m\u001b[0m\n\u001b[0;32m--> 821\u001b[0;31m         \u001b[0mself\u001b[0m\u001b[0;34m.\u001b[0m\u001b[0m_batch_setitems\u001b[0m\u001b[0;34m(\u001b[0m\u001b[0mobj\u001b[0m\u001b[0;34m.\u001b[0m\u001b[0mitems\u001b[0m\u001b[0;34m(\u001b[0m\u001b[0;34m)\u001b[0m\u001b[0;34m)\u001b[0m\u001b[0;34m\u001b[0m\u001b[0;34m\u001b[0m\u001b[0m\n\u001b[0m\u001b[1;32m    822\u001b[0m \u001b[0;34m\u001b[0m\u001b[0m\n\u001b[1;32m    823\u001b[0m     \u001b[0mdispatch\u001b[0m\u001b[0;34m[\u001b[0m\u001b[0mdict\u001b[0m\u001b[0;34m]\u001b[0m \u001b[0;34m=\u001b[0m \u001b[0msave_dict\u001b[0m\u001b[0;34m\u001b[0m\u001b[0;34m\u001b[0m\u001b[0m\n",
      "\u001b[0;32m/usr/lib/python3.6/pickle.py\u001b[0m in \u001b[0;36m_batch_setitems\u001b[0;34m(self, items)\u001b[0m\n\u001b[1;32m    844\u001b[0m                 \u001b[0mwrite\u001b[0m\u001b[0;34m(\u001b[0m\u001b[0mMARK\u001b[0m\u001b[0;34m)\u001b[0m\u001b[0;34m\u001b[0m\u001b[0;34m\u001b[0m\u001b[0m\n\u001b[1;32m    845\u001b[0m                 \u001b[0;32mfor\u001b[0m \u001b[0mk\u001b[0m\u001b[0;34m,\u001b[0m \u001b[0mv\u001b[0m \u001b[0;32min\u001b[0m \u001b[0mtmp\u001b[0m\u001b[0;34m:\u001b[0m\u001b[0;34m\u001b[0m\u001b[0;34m\u001b[0m\u001b[0m\n\u001b[0;32m--> 846\u001b[0;31m                     \u001b[0msave\u001b[0m\u001b[0;34m(\u001b[0m\u001b[0mk\u001b[0m\u001b[0;34m)\u001b[0m\u001b[0;34m\u001b[0m\u001b[0;34m\u001b[0m\u001b[0m\n\u001b[0m\u001b[1;32m    847\u001b[0m                     \u001b[0msave\u001b[0m\u001b[0;34m(\u001b[0m\u001b[0mv\u001b[0m\u001b[0;34m)\u001b[0m\u001b[0;34m\u001b[0m\u001b[0;34m\u001b[0m\u001b[0m\n\u001b[1;32m    848\u001b[0m                 \u001b[0mwrite\u001b[0m\u001b[0;34m(\u001b[0m\u001b[0mSETITEMS\u001b[0m\u001b[0;34m)\u001b[0m\u001b[0;34m\u001b[0m\u001b[0;34m\u001b[0m\u001b[0m\n",
      "\u001b[0;32m/usr/local/lib/python3.6/dist-packages/joblib/numpy_pickle.py\u001b[0m in \u001b[0;36msave\u001b[0;34m(self, obj)\u001b[0m\n\u001b[1;32m    282\u001b[0m             \u001b[0;32mreturn\u001b[0m\u001b[0;34m\u001b[0m\u001b[0;34m\u001b[0m\u001b[0m\n\u001b[1;32m    283\u001b[0m \u001b[0;34m\u001b[0m\u001b[0m\n\u001b[0;32m--> 284\u001b[0;31m         \u001b[0;32mreturn\u001b[0m \u001b[0mPickler\u001b[0m\u001b[0;34m.\u001b[0m\u001b[0msave\u001b[0m\u001b[0;34m(\u001b[0m\u001b[0mself\u001b[0m\u001b[0;34m,\u001b[0m \u001b[0mobj\u001b[0m\u001b[0;34m)\u001b[0m\u001b[0;34m\u001b[0m\u001b[0;34m\u001b[0m\u001b[0m\n\u001b[0m\u001b[1;32m    285\u001b[0m \u001b[0;34m\u001b[0m\u001b[0m\n\u001b[1;32m    286\u001b[0m \u001b[0;34m\u001b[0m\u001b[0m\n",
      "\u001b[0;32m/usr/lib/python3.6/pickle.py\u001b[0m in \u001b[0;36msave\u001b[0;34m(self, obj, save_persistent_id)\u001b[0m\n\u001b[1;32m    494\u001b[0m             \u001b[0mreduce\u001b[0m \u001b[0;34m=\u001b[0m \u001b[0mgetattr\u001b[0m\u001b[0;34m(\u001b[0m\u001b[0mobj\u001b[0m\u001b[0;34m,\u001b[0m \u001b[0;34m\"__reduce_ex__\"\u001b[0m\u001b[0;34m,\u001b[0m \u001b[0;32mNone\u001b[0m\u001b[0;34m)\u001b[0m\u001b[0;34m\u001b[0m\u001b[0;34m\u001b[0m\u001b[0m\n\u001b[1;32m    495\u001b[0m             \u001b[0;32mif\u001b[0m \u001b[0mreduce\u001b[0m \u001b[0;32mis\u001b[0m \u001b[0;32mnot\u001b[0m \u001b[0;32mNone\u001b[0m\u001b[0;34m:\u001b[0m\u001b[0;34m\u001b[0m\u001b[0;34m\u001b[0m\u001b[0m\n\u001b[0;32m--> 496\u001b[0;31m                 \u001b[0mrv\u001b[0m \u001b[0;34m=\u001b[0m \u001b[0mreduce\u001b[0m\u001b[0;34m(\u001b[0m\u001b[0mself\u001b[0m\u001b[0;34m.\u001b[0m\u001b[0mproto\u001b[0m\u001b[0;34m)\u001b[0m\u001b[0;34m\u001b[0m\u001b[0;34m\u001b[0m\u001b[0m\n\u001b[0m\u001b[1;32m    497\u001b[0m             \u001b[0;32melse\u001b[0m\u001b[0;34m:\u001b[0m\u001b[0;34m\u001b[0m\u001b[0;34m\u001b[0m\u001b[0m\n\u001b[1;32m    498\u001b[0m                 \u001b[0mreduce\u001b[0m \u001b[0;34m=\u001b[0m \u001b[0mgetattr\u001b[0m\u001b[0;34m(\u001b[0m\u001b[0mobj\u001b[0m\u001b[0;34m,\u001b[0m \u001b[0;34m\"__reduce__\"\u001b[0m\u001b[0;34m,\u001b[0m \u001b[0;32mNone\u001b[0m\u001b[0;34m)\u001b[0m\u001b[0;34m\u001b[0m\u001b[0;34m\u001b[0m\u001b[0m\n",
      "\u001b[0;31mTypeError\u001b[0m: can't pickle weakref objects"
     ]
    }
   ],
   "source": [
    "import joblib\n",
    "joblib.dump(pipeline, \"./data/model/pipeline.joblib\")"
   ]
  },
  {
   "cell_type": "code",
   "execution_count": 94,
   "id": "24141c92",
   "metadata": {},
   "outputs": [
    {
     "data": {
      "text/plain": [
       "['./data/final_model/pipeline_best_model.pkl']"
      ]
     },
     "execution_count": 94,
     "metadata": {},
     "output_type": "execute_result"
    }
   ],
   "source": [
    "# On sauvegarde a part pour évité les erreurs\n",
    "pipeline.named_steps['model'].model.save('./data/final_model/keras_model.h5')\n",
    "\n",
    "# permet de sauvegarder correctement la pipeline (TypeError: can't pickle weakref objects)\n",
    "pipeline.named_steps['model'].model = None\n",
    "\n",
    "joblib.dump(pipeline,\"./data/final_model/pipeline_best_model.pkl\")"
   ]
  }
 ],
 "metadata": {
  "kernelspec": {
   "display_name": "Python 3",
   "language": "python",
   "name": "python3"
  },
  "language_info": {
   "codemirror_mode": {
    "name": "ipython",
    "version": 3
   },
   "file_extension": ".py",
   "mimetype": "text/x-python",
   "name": "python",
   "nbconvert_exporter": "python",
   "pygments_lexer": "ipython3",
   "version": "3.6.9"
  }
 },
 "nbformat": 4,
 "nbformat_minor": 5
}
