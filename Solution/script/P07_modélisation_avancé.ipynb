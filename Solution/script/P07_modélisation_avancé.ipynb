{
 "cells": [
  {
   "cell_type": "markdown",
   "id": "ff6bd79b",
   "metadata": {},
   "source": [
    "# Modélisation avancé\n",
    "\n"
   ]
  },
  {
   "cell_type": "code",
   "execution_count": 1,
   "id": "40bdf847",
   "metadata": {},
   "outputs": [],
   "source": [
    "import pandas as pd\n",
    "import numpy as np \n",
    "\n",
    "import tensorflow as tf\n",
    "from sklearn.feature_extraction.text import CountVectorizer,TfidfVectorizer\n",
    "from keras.preprocessing.text import Tokenizer\n",
    "from keras.preprocessing.sequence import pad_sequences\n",
    "from keras.models import Sequential\n",
    "from keras.layers import Dense, Embedding, LSTM, Dropout\n",
    "from sklearn.model_selection import train_test_split\n",
    "from keras.utils.np_utils import to_categorical\n",
    "import re\n",
    "import matplotlib.pyplot as plt\n",
    "plt.style.use(\"seaborn-darkgrid\")"
   ]
  },
  {
   "cell_type": "code",
   "execution_count": 2,
   "id": "a888a7f8",
   "metadata": {},
   "outputs": [],
   "source": [
    "import spacy\n",
    "from tensorboard.plugins.hparams import api as hp"
   ]
  },
  {
   "cell_type": "code",
   "execution_count": 3,
   "id": "3fee8584",
   "metadata": {},
   "outputs": [],
   "source": [
    "dir_data = \"./data/\"\n",
    "df_nlp = pd.read_csv(dir_data + \"training.1600000.processed.noemoticon.csv\",\n",
    "                     encoding=\"ISO-8859-1\",\n",
    "                     header=None,\n",
    "                     names=[\"target\",\"id\",\"date\",\"flag\",\"user\",\"text\"])"
   ]
  },
  {
   "cell_type": "code",
   "execution_count": 4,
   "id": "9a5d96b0",
   "metadata": {},
   "outputs": [
    {
     "data": {
      "text/html": [
       "<div>\n",
       "<style scoped>\n",
       "    .dataframe tbody tr th:only-of-type {\n",
       "        vertical-align: middle;\n",
       "    }\n",
       "\n",
       "    .dataframe tbody tr th {\n",
       "        vertical-align: top;\n",
       "    }\n",
       "\n",
       "    .dataframe thead th {\n",
       "        text-align: right;\n",
       "    }\n",
       "</style>\n",
       "<table border=\"1\" class=\"dataframe\">\n",
       "  <thead>\n",
       "    <tr style=\"text-align: right;\">\n",
       "      <th></th>\n",
       "      <th>target</th>\n",
       "      <th>id</th>\n",
       "      <th>date</th>\n",
       "      <th>flag</th>\n",
       "      <th>user</th>\n",
       "      <th>text</th>\n",
       "    </tr>\n",
       "  </thead>\n",
       "  <tbody>\n",
       "    <tr>\n",
       "      <th>0</th>\n",
       "      <td>0</td>\n",
       "      <td>1467810369</td>\n",
       "      <td>Mon Apr 06 22:19:45 PDT 2009</td>\n",
       "      <td>NO_QUERY</td>\n",
       "      <td>_TheSpecialOne_</td>\n",
       "      <td>@switchfoot http://twitpic.com/2y1zl - Awww, t...</td>\n",
       "    </tr>\n",
       "    <tr>\n",
       "      <th>1</th>\n",
       "      <td>0</td>\n",
       "      <td>1467810672</td>\n",
       "      <td>Mon Apr 06 22:19:49 PDT 2009</td>\n",
       "      <td>NO_QUERY</td>\n",
       "      <td>scotthamilton</td>\n",
       "      <td>is upset that he can't update his Facebook by ...</td>\n",
       "    </tr>\n",
       "    <tr>\n",
       "      <th>2</th>\n",
       "      <td>0</td>\n",
       "      <td>1467810917</td>\n",
       "      <td>Mon Apr 06 22:19:53 PDT 2009</td>\n",
       "      <td>NO_QUERY</td>\n",
       "      <td>mattycus</td>\n",
       "      <td>@Kenichan I dived many times for the ball. Man...</td>\n",
       "    </tr>\n",
       "    <tr>\n",
       "      <th>3</th>\n",
       "      <td>0</td>\n",
       "      <td>1467811184</td>\n",
       "      <td>Mon Apr 06 22:19:57 PDT 2009</td>\n",
       "      <td>NO_QUERY</td>\n",
       "      <td>ElleCTF</td>\n",
       "      <td>my whole body feels itchy and like its on fire</td>\n",
       "    </tr>\n",
       "    <tr>\n",
       "      <th>4</th>\n",
       "      <td>0</td>\n",
       "      <td>1467811193</td>\n",
       "      <td>Mon Apr 06 22:19:57 PDT 2009</td>\n",
       "      <td>NO_QUERY</td>\n",
       "      <td>Karoli</td>\n",
       "      <td>@nationwideclass no, it's not behaving at all....</td>\n",
       "    </tr>\n",
       "  </tbody>\n",
       "</table>\n",
       "</div>"
      ],
      "text/plain": [
       "   target          id                          date      flag  \\\n",
       "0       0  1467810369  Mon Apr 06 22:19:45 PDT 2009  NO_QUERY   \n",
       "1       0  1467810672  Mon Apr 06 22:19:49 PDT 2009  NO_QUERY   \n",
       "2       0  1467810917  Mon Apr 06 22:19:53 PDT 2009  NO_QUERY   \n",
       "3       0  1467811184  Mon Apr 06 22:19:57 PDT 2009  NO_QUERY   \n",
       "4       0  1467811193  Mon Apr 06 22:19:57 PDT 2009  NO_QUERY   \n",
       "\n",
       "              user                                               text  \n",
       "0  _TheSpecialOne_  @switchfoot http://twitpic.com/2y1zl - Awww, t...  \n",
       "1    scotthamilton  is upset that he can't update his Facebook by ...  \n",
       "2         mattycus  @Kenichan I dived many times for the ball. Man...  \n",
       "3          ElleCTF    my whole body feels itchy and like its on fire   \n",
       "4           Karoli  @nationwideclass no, it's not behaving at all....  "
      ]
     },
     "execution_count": 4,
     "metadata": {},
     "output_type": "execute_result"
    }
   ],
   "source": [
    "df_nlp.head()"
   ]
  },
  {
   "cell_type": "code",
   "execution_count": 5,
   "id": "44fa83dc",
   "metadata": {},
   "outputs": [],
   "source": [
    "df_nlp[\"sentiment\"] = df_nlp[\"target\"].apply(lambda x : \"good\" if x==4 else \"bad\").values"
   ]
  },
  {
   "cell_type": "markdown",
   "id": "9ac0b3fc",
   "metadata": {},
   "source": [
    "# Séparation jeu de données d'entrainement/test"
   ]
  },
  {
   "cell_type": "code",
   "execution_count": 6,
   "id": "92b63f23",
   "metadata": {},
   "outputs": [],
   "source": [
    "from sklearn.model_selection import train_test_split\n",
    "\n",
    "data_train,data_test = train_test_split(df_nlp,test_size=0.2,stratify=df_nlp[\"sentiment\"],random_state=42)"
   ]
  },
  {
   "cell_type": "code",
   "execution_count": 7,
   "id": "89300e40",
   "metadata": {},
   "outputs": [
    {
     "data": {
      "text/plain": [
       "good    640000\n",
       "bad     640000\n",
       "Name: sentiment, dtype: int64"
      ]
     },
     "execution_count": 7,
     "metadata": {},
     "output_type": "execute_result"
    }
   ],
   "source": [
    "data_train[\"sentiment\"].value_counts()"
   ]
  },
  {
   "cell_type": "code",
   "execution_count": 8,
   "id": "7411f13f",
   "metadata": {},
   "outputs": [
    {
     "name": "stdout",
     "output_type": "stream",
     "text": [
      "train_set : (1280000,)\n",
      "test_set : (320000,)\n"
     ]
    }
   ],
   "source": [
    "X_train = data_train[\"text\"].values\n",
    "y_train = data_train[\"sentiment\"].values\n",
    "\n",
    "X_test = data_test[\"text\"].values\n",
    "y_test = data_test[\"sentiment\"].values\n",
    "print(\"train_set :\",X_train.shape)\n",
    "print(\"test_set :\",X_test.shape)"
   ]
  },
  {
   "cell_type": "markdown",
   "id": "81c0e266",
   "metadata": {},
   "source": [
    "## Premier nettoyage des données"
   ]
  },
  {
   "cell_type": "code",
   "execution_count": 9,
   "id": "5de98ba3",
   "metadata": {},
   "outputs": [
    {
     "name": "stdout",
     "output_type": "stream",
     "text": [
      "http://twitpic.com/2y1zl http://twitpic.com/2y1zl/ezfez489 https://twitpic.com/ http://192.168.1.1/test http://azure.microsoft.com/\n",
      "clean :     \n"
     ]
    }
   ],
   "source": [
    "test_clean = \"http://twitpic.com/2y1zl http://twitpic.com/2y1zl/ezfez489 https://twitpic.com/\"\n",
    "test_clean +=\" http://192.168.1.1/test http://azure.microsoft.com/\"\n",
    "# remove url\n",
    "print(test_clean)\n",
    "def clean_url(sentence):\n",
    "    sentence = re.sub('http[s]*://[0-9a-zA-Z-_.]*.[a-z]{0,3}/[0-9a-zA-Z-_./]*', '', sentence)\n",
    "    return sentence\n",
    "\n",
    "print(\"clean :\", clean_url(test_clean))"
   ]
  },
  {
   "cell_type": "code",
   "execution_count": 10,
   "id": "5185d5c5",
   "metadata": {},
   "outputs": [
    {
     "name": "stdout",
     "output_type": "stream",
     "text": [
      ";) xD xDDDDDD xP :D ;D ;d :) ^^ ^-^ :$ *-* :p ;p :o :S ;S :/ B)  ;( :( =) =D =$ =S =P =O :| =| ;| x) O_o o_O XO --'\n",
      "\n",
      ":serpent xDeep :Departement :pertes :origan =Departement =pertes =Origan =$5 :$10\n",
      "-------------------------\n",
      "clean : emote_clin_doeil  emote_mdr emote_mdr emote_tire_langue emote_gros_sourire emote_gros_sourire emote_gros_sourire emote_sourire  emote_joyeux emote_joyeux emote_genant_discret emote_magnifique emote_tire_langue emote_tire_langue emote_surpris emote_genant emote_genant emote_deception emote_lunette  emote_insatisfait emote_insatisfait emote_sourire  emote_gros_sourire emote_genant_discret emote_genant emote_tire_langue emote_surpris emote_neutre emote_neutre emote_neutre emote_cross_smile  emote_tres_surpris emote_tres_surpris emote_ko emote_enerve \n",
      ":serpent xDeep :Departement :pertes :origan =Departement =pertes =Origan =$5 :$10\n"
     ]
    }
   ],
   "source": [
    "# smile\n",
    "test_clean = \";) xD xDDDDDD xP :D ;D ;d :) ^^ ^-^ :$ *-* :p ;p :o :S ;S :/ B)  ;( :( =) =D =$ =S =P =O :| =| ;| x) O_o o_O XO --\\'\"\n",
    "# confusion, do not clean\n",
    "test_clean += \"\\n\\n:serpent xDeep :Departement :pertes :origan =Departement =pertes =Origan =$5 :$10\"\n",
    "\n",
    "# remove url\n",
    "print(test_clean)\n",
    "def clean_smile(sentence):\n",
    "    sentence = re.sub(';\\)','emote_clin_doeil ',sentence)\n",
    "    sentence = re.sub(':\\)|=\\)','emote_sourire ',sentence)\n",
    "    sentence = re.sub('x\\)','emote_cross_smile ',sentence)\n",
    "    sentence = re.sub('x{1,}[Dd]{1,}[^A-Za-z0-9]','emote_mdr ',sentence)\n",
    "    sentence = re.sub(';[pP]{1,}[^A-Za-z0-9]|:[pP]{1,}[^A-Za-z0-9]|x[pP]{1,}[^A-Za-z0-9]|=[pP]{1,}[^A-Za-z0-9]',\n",
    "                      'emote_tire_langue ',sentence)\n",
    "    sentence = re.sub('[oO]_[oO]','emote_tres_surpris',sentence)\n",
    "    sentence = re.sub('[Xx]{1,}[Oo]{1,}[^A-Za-z0-9]','emote_ko ',sentence)\n",
    "    sentence = re.sub('[bB]\\)[^A-Za-z0-9]','emote_lunette ',sentence)\n",
    "    sentence = re.sub('[=:;][oO]{1,}[^A-Za-z0-9]','emote_surpris ',sentence)\n",
    "    sentence = re.sub('[=:;][S]{1,}[^A-Za-z0-9]','emote_genant ',sentence)\n",
    "    sentence = re.sub('[:;=][dD]{1,}[^A-Za-z0-9]','emote_gros_sourire ',sentence)\n",
    "    sentence = re.sub('[:;=][$]{1,}[^A-Za-z0-9]','emote_genant_discret ',sentence)\n",
    "    sentence = re.sub('[:;=]\\|[^A-Za-z0-9]','emote_neutre ',sentence)\n",
    "    sentence = re.sub('[:;=]/[^A-Za-z0-9]','emote_deception ',sentence)\n",
    "    sentence = re.sub('[:;=]\\([^A-Za-z0-9]','emote_insatisfait ',sentence)\n",
    "    sentence = re.sub('\\*[-_]\\*[^A-Za-z0-9]','emote_magnifique ',sentence)\n",
    "    sentence = re.sub('\\^[-_]{0,1}\\^[^A-Za-z0-9]','emote_joyeux ',sentence)\n",
    "    sentence = re.sub('--\\'[^A-Za-z0-9]','emote_enerve ',sentence)\n",
    "    return sentence\n",
    "print(\"-------------------------\")\n",
    "print(\"clean :\",clean_smile(test_clean))"
   ]
  },
  {
   "cell_type": "code",
   "execution_count": 11,
   "id": "16174ab9",
   "metadata": {},
   "outputs": [
    {
     "name": "stdout",
     "output_type": "stream",
     "text": [
      " jack &amp; martine say\" I love banana\" & &quot;And you&quot; &lt;a href=ettoutetout &gt;\n",
      "--------------\n",
      "clean :  jack & martine say\" I love banana\" & \"And you\" <a href=ettoutetout >\n"
     ]
    }
   ],
   "source": [
    "test_clean = \" jack &amp; martine say\\\" I love banana\\\" & &quot;And you&quot; &lt;a href=ettoutetout &gt;\"\n",
    "def clean_escape(sentence):\n",
    "    sentence = re.sub('&amp;','&',sentence)\n",
    "    sentence = re.sub('&quot;','\\\"',sentence)\n",
    "    sentence = re.sub('&gt;','>',sentence)\n",
    "    sentence = re.sub('&lt;','<',sentence)\n",
    "    return sentence\n",
    "\n",
    "print(test_clean)\n",
    "print(\"--------------\")\n",
    "print(\"clean :\",clean_escape(test_clean))"
   ]
  },
  {
   "cell_type": "code",
   "execution_count": 12,
   "id": "f3c39a2e",
   "metadata": {},
   "outputs": [
    {
     "name": "stdout",
     "output_type": "stream",
     "text": [
      "e same think p e lol it's fun 123 1 5 + 6 =11 aaaaaaaaa\n",
      "--------------\n",
      "clean : same think lol it's fun 123 1 5 + 6 =11 aaaaaaaaa\n"
     ]
    }
   ],
   "source": [
    "test_clean = \"e same think p e lol it\\'s fun 123 1 5 + 6 =11 aaaaaaaaa\"\n",
    "def clean_uniuque_char(sentence):\n",
    "    sentence = \" \".join([v for v in sentence.split(\" \") if ((len(v) > 1) or (not v.isalpha()))])\n",
    "    return sentence\n",
    "\n",
    "print(test_clean)\n",
    "print(\"--------------\")\n",
    "print(\"clean :\",clean_uniuque_char(test_clean))"
   ]
  },
  {
   "cell_type": "code",
   "execution_count": 13,
   "id": "084b6316",
   "metadata": {},
   "outputs": [
    {
     "name": "stdout",
     "output_type": "stream",
     "text": [
      "@AbbiDawson no but you only need to pay for plane tickets, you live with me  my mom thought it was a good idea ;)\n",
      "@abbidawson no but you only need to pay for plane tickets you live with me my mom thought it was good idea emote_clin_doeil \n"
     ]
    }
   ],
   "source": [
    "test_clean = X_train[489456]\n",
    "print(test_clean)\n",
    "def cleanning_data(sentence):\n",
    "    sentence += \" \"\n",
    "    sentence = re.sub('\\n+', ' ', sentence.lower())\n",
    "    # special caractère\n",
    "    sentence = re.sub('[éèêë]','e',sentence)\n",
    "    sentence = re.sub('[ïîì]','i',sentence)\n",
    "    sentence = re.sub('[àâä]','a',sentence)\n",
    "    sentence = re.sub('[ôö]','o',sentence) \n",
    "    sentence = re.sub('[üûù]','u',sentence)\n",
    "    sentence = re.sub('[ç]','c',sentence)\n",
    "    # personal_clean\n",
    "    sentence = clean_escape(sentence) # usless ?\n",
    "    sentence = clean_url(sentence)\n",
    "    sentence = clean_smile(sentence)\n",
    "    sentence = re.sub(r'[^a-z@#\\'_ ]+',' ',sentence)\n",
    "    sentence = clean_uniuque_char(sentence)\n",
    "    sentence = re.sub(' {2,}', ' ', sentence)\n",
    "    return sentence\n",
    "\n",
    "print(cleanning_data(test_clean))"
   ]
  },
  {
   "cell_type": "code",
   "execution_count": 14,
   "id": "fdcccb3b",
   "metadata": {},
   "outputs": [
    {
     "name": "stdout",
     "output_type": "stream",
     "text": [
      "CPU times: user 50.2 s, sys: 175 ms, total: 50.4 s\n",
      "Wall time: 50.4 s\n"
     ]
    }
   ],
   "source": [
    "%%time\n",
    "X_train = [cleanning_data(sentence) for sentence in X_train]"
   ]
  },
  {
   "cell_type": "code",
   "execution_count": 71,
   "id": "1355b17f",
   "metadata": {},
   "outputs": [
    {
     "name": "stdout",
     "output_type": "stream",
     "text": [
      "@paisleypaisley lol why do get ideas so far in advance it's not even june yet we need third knitter to have our own summer group \n"
     ]
    }
   ],
   "source": [
    "print(X_train[0])"
   ]
  },
  {
   "cell_type": "markdown",
   "id": "3e73c24f",
   "metadata": {},
   "source": [
    "## Stop_word /  lemmatization & stemming"
   ]
  },
  {
   "cell_type": "code",
   "execution_count": 14,
   "id": "e4d5522c",
   "metadata": {},
   "outputs": [
    {
     "name": "stdout",
     "output_type": "stream",
     "text": [
      "['tok2vec', 'tagger', 'attribute_ruler', 'lemmatizer']\n"
     ]
    }
   ],
   "source": [
    "nlp = spacy.load(\"en_core_web_sm\",disable=[\"ner\",\"parser\"])\n",
    "print(nlp.pipe_names)"
   ]
  },
  {
   "cell_type": "code",
   "execution_count": 15,
   "id": "d488cffb",
   "metadata": {},
   "outputs": [],
   "source": [
    "sw = nlp.Defaults.stop_words"
   ]
  },
  {
   "cell_type": "code",
   "execution_count": 100,
   "id": "bf127dfd",
   "metadata": {},
   "outputs": [
    {
     "name": "stdout",
     "output_type": "stream",
     "text": [
      "CPU times: user 9min 19s, sys: 31 s, total: 9min 50s\n",
      "Wall time: 9min 13s\n"
     ]
    }
   ],
   "source": [
    "%%time\n",
    "X_train = [\" \".join([w.lemma_.lower() for w in doc if not w.text.lower() in sw]) for doc in nlp.pipe(X_train, batch_size=2000, n_process=70)]"
   ]
  },
  {
   "cell_type": "code",
   "execution_count": 80,
   "id": "11ead689",
   "metadata": {},
   "outputs": [
    {
     "name": "stdout",
     "output_type": "stream",
     "text": [
      "@abbidawson need pay plane ticket live mom think good idea emote_clin_doeil\n"
     ]
    }
   ],
   "source": [
    "print(X_train[489456])"
   ]
  },
  {
   "cell_type": "code",
   "execution_count": 81,
   "id": "8cb8819b",
   "metadata": {},
   "outputs": [
    {
     "name": "stdout",
     "output_type": "stream",
     "text": [
      "@stevehill refer drama work little act class job\n",
      "\n",
      "@SteveHills &amp; if u were refering to the drama I was working on a little while back. It was for acting class not for a job. \n"
     ]
    }
   ],
   "source": [
    "number = 189498\n",
    "print(X_train[number])\n",
    "print()\n",
    "print(data_train[\"text\"].iloc[number])"
   ]
  },
  {
   "cell_type": "code",
   "execution_count": 16,
   "id": "32078c30",
   "metadata": {},
   "outputs": [
    {
     "name": "stderr",
     "output_type": "stream",
     "text": [
      "[nltk_data] Downloading package punkt to /root/nltk_data...\n",
      "[nltk_data]   Unzipping tokenizers/punkt.zip.\n"
     ]
    },
    {
     "data": {
      "text/plain": [
       "True"
      ]
     },
     "execution_count": 16,
     "metadata": {},
     "output_type": "execute_result"
    }
   ],
   "source": [
    "import nltk\n",
    "from nltk.stem import PorterStemmer\n",
    "nltk.download('punkt')"
   ]
  },
  {
   "cell_type": "code",
   "execution_count": 17,
   "id": "8fb72323",
   "metadata": {},
   "outputs": [],
   "source": [
    "ps = PorterStemmer()"
   ]
  },
  {
   "cell_type": "code",
   "execution_count": 89,
   "id": "09a5648c",
   "metadata": {},
   "outputs": [
    {
     "name": "stdout",
     "output_type": "stream",
     "text": [
      "CPU times: user 4min 43s, sys: 0 ns, total: 4min 43s\n",
      "Wall time: 4min 43s\n"
     ]
    }
   ],
   "source": [
    "%%time\n",
    "stemming_data = [\" \".join([ps.stem(w) for w in nltk.word_tokenize(tweet) if not w in sw]) for tweet in X_train]"
   ]
  },
  {
   "cell_type": "code",
   "execution_count": 95,
   "id": "319c209b",
   "metadata": {},
   "outputs": [
    {
     "data": {
      "text/plain": [
       "'stand know wo wo gone miss home'"
      ]
     },
     "execution_count": 95,
     "metadata": {},
     "output_type": "execute_result"
    }
   ],
   "source": [
    "stemming_data[4]"
   ]
  },
  {
   "cell_type": "markdown",
   "id": "70873b5b",
   "metadata": {},
   "source": [
    "## Création de fonction (clean, vectorisation/word embedding)"
   ]
  },
  {
   "cell_type": "code",
   "execution_count": 18,
   "id": "1f9da736",
   "metadata": {},
   "outputs": [],
   "source": [
    "sw = nlp.Defaults.stop_words\n",
    "def basic_clean(docs,stop_word=True,multithreading = False ,n_process=70,batch_size=2000,stemming=False):\n",
    "    new_docs = [cleanning_data(sentence) for sentence in docs]\n",
    "    if stemming:\n",
    "        ps = PorterStemmer()\n",
    "        if stop_word:\n",
    "            return [\" \".join([ps.stem(w) for w in nltk.word_tokenize(tweet) if not w in sw]) for tweet in docs]\n",
    "        else:\n",
    "            return [\" \".join([ps.stem(w) for w in nltk.word_tokenize(tweet)]) for tweet in docs]\n",
    "    else:\n",
    "        if multithreading:\n",
    "            if stop_word:\n",
    "                return [\" \".join([w.lemma_.lower() for w in doc if not w.text.lower() in sw]) for doc in nlp.pipe(new_docs, batch_size=batch_size, n_process=n_process)]\n",
    "            else:\n",
    "                return [\" \".join([w.lemma_.lower() for w in doc]) for doc in nlp.pipe(new_docs, batch_size=batch_size, n_process=n_process)]\n",
    "        else:\n",
    "            if stop_word:\n",
    "                return [\" \".join([w.lemma_.lower() for w in nlp(doc) if not w.text.lower() in sw]) for doc in new_docs]\n",
    "            else:\n",
    "                return [\" \".join([w.lemma_.lower() for w in nlp(doc)]) for doc in new_docs]\n",
    "    "
   ]
  },
  {
   "cell_type": "code",
   "execution_count": 104,
   "id": "434bc211",
   "metadata": {},
   "outputs": [],
   "source": [
    "bow = CountVectorizer(max_df=0.95,min_df=2)\n",
    "tfidf = TfidfVectorizer(max_df=0.95,min_df=2)\n",
    "# stemming\n",
    "bow_stem = CountVectorizer(max_df=0.95,min_df=2)\n",
    "tfidf_stem = TfidfVectorizer(max_df=0.95,min_df=2)"
   ]
  },
  {
   "cell_type": "code",
   "execution_count": 105,
   "id": "828ffb3b",
   "metadata": {},
   "outputs": [
    {
     "name": "stdout",
     "output_type": "stream",
     "text": [
      "CPU times: user 16.5 s, sys: 0 ns, total: 16.5 s\n",
      "Wall time: 16.5 s\n"
     ]
    }
   ],
   "source": [
    "%%time\n",
    "bow_data = bow.fit_transform(X_train)\n",
    "tfidf_data = tfidf.fit_transform(X_train)"
   ]
  },
  {
   "cell_type": "code",
   "execution_count": 106,
   "id": "0b90075f",
   "metadata": {},
   "outputs": [
    {
     "name": "stdout",
     "output_type": "stream",
     "text": [
      "CPU times: user 16.7 s, sys: 0 ns, total: 16.7 s\n",
      "Wall time: 16.8 s\n"
     ]
    }
   ],
   "source": [
    "%%time\n",
    "bow_data_stem = bow_stem.fit_transform(stemming_data)\n",
    "tfidf_data_stem = tfidf_stem.fit_transform(stemming_data)"
   ]
  },
  {
   "cell_type": "code",
   "execution_count": 107,
   "id": "51633ec7",
   "metadata": {},
   "outputs": [
    {
     "name": "stdout",
     "output_type": "stream",
     "text": [
      "Shape BOW stem : (1280000, 162651)\n",
      "Shape TF-IDF stem : (1280000, 162651)\n",
      "---------------------\n",
      "Shape BOW : (1280000, 170898)\n",
      "Shape TF-IDF : (1280000, 170898)\n"
     ]
    }
   ],
   "source": [
    "print(\"Shape BOW stem :\",bow_data_stem.shape)\n",
    "print(\"Shape TF-IDF stem :\",tfidf_data_stem.shape)\n",
    "print(\"---------------------\")\n",
    "print(\"Shape BOW :\",bow_data.shape)\n",
    "print(\"Shape TF-IDF :\",tfidf_data.shape)"
   ]
  },
  {
   "cell_type": "code",
   "execution_count": 140,
   "id": "c5b26993",
   "metadata": {},
   "outputs": [],
   "source": [
    "def clean_transform_data(docs,tfidf_transform=True,stemming=False,multithreading=False):\n",
    "    new_docs = basic_clean(docs,stemming=stemming,multithreading=multithreading)\n",
    "    if stemming:\n",
    "        if tfidf_transform:\n",
    "            return tfidf_stem.transform(new_docs)\n",
    "        else:\n",
    "            return bow_stem.transform(new_docs)\n",
    "    else:\n",
    "        if tfidf_transform:\n",
    "            return tfidf.transform(new_docs)\n",
    "        else:\n",
    "            return bow.transform(new_docs)"
   ]
  },
  {
   "cell_type": "markdown",
   "id": "b07a9945",
   "metadata": {},
   "source": [
    "# Test modèle \"simple\" (NLTK Bayes, Bayes, Logistic_regression)\n",
    "\n",
    "Pour la suite on utilisera comme métrice de performance principal, l'accuracy des modèles nous avons un jeu de données équilibrés et une volonté de bien classé nos différent tweet / texte / documents. \n",
    "\n",
    "Actuellement la modèle doit classé correctement nos bad buzz mais notre manager \"Marc\" nous demande de généraliser notre solution, il est donc nécessaire d'avoir un juste millieux entre la classification correcte des bons et mauvais tweets / textes / documents."
   ]
  },
  {
   "cell_type": "code",
   "execution_count": 121,
   "id": "4d0da466",
   "metadata": {},
   "outputs": [],
   "source": [
    "from nltk.classify import NaiveBayesClassifier\n",
    "from nltk.tokenize import word_tokenize\n",
    "\n",
    "\n",
    "from sklearn.metrics import accuracy_score, confusion_matrix, classification_report"
   ]
  },
  {
   "cell_type": "code",
   "execution_count": 48,
   "id": "64f4b82d",
   "metadata": {},
   "outputs": [],
   "source": [
    "all_words = word_tokenize(\" \".join(X_train))"
   ]
  },
  {
   "cell_type": "code",
   "execution_count": 49,
   "id": "ca78b325",
   "metadata": {},
   "outputs": [],
   "source": [
    "all_words = nltk.FreqDist(all_words)"
   ]
  },
  {
   "cell_type": "code",
   "execution_count": 50,
   "id": "c2ea8bf4",
   "metadata": {},
   "outputs": [],
   "source": [
    "dictionnary = list(all_words.keys())[:5000]"
   ]
  },
  {
   "cell_type": "code",
   "execution_count": 51,
   "id": "11aeb4e0",
   "metadata": {},
   "outputs": [],
   "source": [
    "def find_features(document,dictonnary):\n",
    "    words = word_tokenize(document)\n",
    "    features={}\n",
    "    for w in dictonnary:\n",
    "        features[w]= (w in words)\n",
    "    return features\n",
    "\n",
    "\n",
    "def prepare_data_nltk(trainset,y_trainset):\n",
    "    all_doc = [(trainset[i],y_trainset[i]) for i in range(len(trainset))]\n",
    "    return all_doc"
   ]
  },
  {
   "cell_type": "code",
   "execution_count": 55,
   "id": "574b684e",
   "metadata": {},
   "outputs": [
    {
     "name": "stdout",
     "output_type": "stream",
     "text": [
      "CPU times: user 1min 8s, sys: 3.83 s, total: 1min 12s\n",
      "Wall time: 1min 12s\n"
     ]
    }
   ],
   "source": [
    "%%time\n",
    "nb_data = 100000\n",
    "featuresets = [(find_features(doc,dictionnary),category) for (doc, category) in prepare_data_nltk(X_train[:nb_data],y_train[:nb_data])]"
   ]
  },
  {
   "cell_type": "code",
   "execution_count": 56,
   "id": "ecc1342b",
   "metadata": {},
   "outputs": [
    {
     "data": {
      "text/plain": [
       "100000"
      ]
     },
     "execution_count": 56,
     "metadata": {},
     "output_type": "execute_result"
    }
   ],
   "source": [
    "len(featuresets)"
   ]
  },
  {
   "cell_type": "code",
   "execution_count": 57,
   "id": "7ef788cc",
   "metadata": {},
   "outputs": [],
   "source": [
    "training_set = featuresets[:90000]\n",
    "testing_set = featuresets[90000:]"
   ]
  },
  {
   "cell_type": "code",
   "execution_count": 59,
   "id": "7589f5f8",
   "metadata": {},
   "outputs": [
    {
     "name": "stdout",
     "output_type": "stream",
     "text": [
      "Naive bayes algo accuracy: 74.0\n",
      "Most Informative Features\n",
      "            followfriday = True             good : bad    =     36.1 : 1.0\n",
      "                     sad = True              bad : good   =     16.7 : 1.0\n",
      "                  sytycd = True              bad : good   =     16.2 : 1.0\n",
      "                     bah = True              bad : good   =     14.9 : 1.0\n",
      "                 funeral = True              bad : good   =     14.9 : 1.0\n",
      "                   upset = True              bad : good   =     13.8 : 1.0\n",
      "                     3gs = True              bad : good   =     13.7 : 1.0\n",
      "                  severe = True              bad : good   =     13.6 : 1.0\n",
      "              depressing = True              bad : good   =     13.2 : 1.0\n",
      "               depressed = True              bad : good   =     13.1 : 1.0\n",
      "                pleasure = True             good : bad    =     13.1 : 1.0\n",
      "                 worship = True             good : bad    =     13.1 : 1.0\n",
      "                   gutte = True              bad : good   =     13.1 : 1.0\n",
      "                   sayin = True             good : bad    =     12.4 : 1.0\n",
      "                   ankle = True              bad : good   =     12.3 : 1.0\n",
      "                  dammit = True              bad : good   =     12.3 : 1.0\n",
      "                migraine = True              bad : good   =     12.0 : 1.0\n",
      "               miserable = True              bad : good   =     12.0 : 1.0\n",
      "                 depress = True              bad : good   =     11.7 : 1.0\n",
      "                    yuck = True              bad : good   =     11.7 : 1.0\n",
      "CPU times: user 7min 35s, sys: 0 ns, total: 7min 35s\n",
      "Wall time: 7min 35s\n"
     ]
    }
   ],
   "source": [
    "%%time\n",
    "# posterior = prior occurences x likelihood / evidence\n",
    "classifier = nltk.NaiveBayesClassifier.train(training_set)\n",
    "print(\"Naive bayes algo accuracy:\", (nltk.classify.accuracy(classifier,testing_set))*100)\n",
    "classifier.show_most_informative_features(20)"
   ]
  },
  {
   "cell_type": "markdown",
   "id": "179bfb85",
   "metadata": {},
   "source": [
    "### NaiveBayes Sklearn\n",
    "#### Stemming"
   ]
  },
  {
   "cell_type": "code",
   "execution_count": 111,
   "id": "9a20a1d0",
   "metadata": {},
   "outputs": [],
   "source": [
    "from sklearn.naive_bayes import MultinomialNB"
   ]
  },
  {
   "cell_type": "code",
   "execution_count": 112,
   "id": "324c4084",
   "metadata": {},
   "outputs": [],
   "source": [
    "classifier_bayes = MultinomialNB()"
   ]
  },
  {
   "cell_type": "code",
   "execution_count": 117,
   "id": "97424de1",
   "metadata": {},
   "outputs": [
    {
     "data": {
      "text/plain": [
       "MultinomialNB()"
      ]
     },
     "execution_count": 117,
     "metadata": {},
     "output_type": "execute_result"
    }
   ],
   "source": [
    "classifier_bayes.fit(tfidf_data_stem,y_train)"
   ]
  },
  {
   "cell_type": "code",
   "execution_count": 132,
   "id": "0f9e4957",
   "metadata": {},
   "outputs": [
    {
     "name": "stdout",
     "output_type": "stream",
     "text": [
      "CPU times: user 1min 49s, sys: 0 ns, total: 1min 49s\n",
      "Wall time: 1min 49s\n"
     ]
    }
   ],
   "source": [
    "%%time\n",
    "tfidf_test_stem = clean_transform_data(X_test,stemming=True)"
   ]
  },
  {
   "cell_type": "code",
   "execution_count": 133,
   "id": "1974f978",
   "metadata": {},
   "outputs": [
    {
     "data": {
      "text/plain": [
       "(320000, 162651)"
      ]
     },
     "execution_count": 133,
     "metadata": {},
     "output_type": "execute_result"
    }
   ],
   "source": [
    "tfidf_test_stem.shape"
   ]
  },
  {
   "cell_type": "code",
   "execution_count": 134,
   "id": "16f99530",
   "metadata": {},
   "outputs": [],
   "source": [
    "y_pred = classifier_bayes.predict(tfidf_test_stem)"
   ]
  },
  {
   "cell_type": "code",
   "execution_count": 135,
   "id": "42c90b8d",
   "metadata": {},
   "outputs": [
    {
     "name": "stdout",
     "output_type": "stream",
     "text": [
      "accuracy score : 0.7498\n",
      "              precision    recall  f1-score   support\n",
      "\n",
      "         bad       0.75      0.74      0.75    160000\n",
      "        good       0.75      0.76      0.75    160000\n",
      "\n",
      "    accuracy                           0.75    320000\n",
      "   macro avg       0.75      0.75      0.75    320000\n",
      "weighted avg       0.75      0.75      0.75    320000\n",
      "\n"
     ]
    },
    {
     "data": {
      "text/html": [
       "<div>\n",
       "<style scoped>\n",
       "    .dataframe tbody tr th:only-of-type {\n",
       "        vertical-align: middle;\n",
       "    }\n",
       "\n",
       "    .dataframe tbody tr th {\n",
       "        vertical-align: top;\n",
       "    }\n",
       "\n",
       "    .dataframe thead th {\n",
       "        text-align: right;\n",
       "    }\n",
       "</style>\n",
       "<table border=\"1\" class=\"dataframe\">\n",
       "  <thead>\n",
       "    <tr style=\"text-align: right;\">\n",
       "      <th></th>\n",
       "      <th>good</th>\n",
       "      <th>bad</th>\n",
       "    </tr>\n",
       "  </thead>\n",
       "  <tbody>\n",
       "    <tr>\n",
       "      <th>good</th>\n",
       "      <td>118413</td>\n",
       "      <td>41587</td>\n",
       "    </tr>\n",
       "    <tr>\n",
       "      <th>bad</th>\n",
       "      <td>38477</td>\n",
       "      <td>121523</td>\n",
       "    </tr>\n",
       "  </tbody>\n",
       "</table>\n",
       "</div>"
      ],
      "text/plain": [
       "        good     bad\n",
       "good  118413   41587\n",
       "bad    38477  121523"
      ]
     },
     "execution_count": 135,
     "metadata": {},
     "output_type": "execute_result"
    }
   ],
   "source": [
    "print(\"accuracy score :\",accuracy_score(y_test,y_pred))\n",
    "print(classification_report(y_test,y_pred))\n",
    "pd.DataFrame(confusion_matrix(y_test,y_pred),columns=[\"good\",\"bad\"],index=[\"good\",\"bad\"])"
   ]
  },
  {
   "cell_type": "markdown",
   "id": "a03e0672",
   "metadata": {},
   "source": [
    "#### Lemmatization"
   ]
  },
  {
   "cell_type": "code",
   "execution_count": 137,
   "id": "5aa9deaf",
   "metadata": {},
   "outputs": [
    {
     "name": "stdout",
     "output_type": "stream",
     "text": [
      "CPU times: user 2.62 s, sys: 0 ns, total: 2.62 s\n",
      "Wall time: 2.61 s\n"
     ]
    },
    {
     "data": {
      "text/plain": [
       "MultinomialNB()"
      ]
     },
     "execution_count": 137,
     "metadata": {},
     "output_type": "execute_result"
    }
   ],
   "source": [
    "%%time\n",
    "classifier_bayes = MultinomialNB()\n",
    "classifier_bayes.fit(tfidf_data,y_train)"
   ]
  },
  {
   "cell_type": "code",
   "execution_count": 141,
   "id": "7533fe97",
   "metadata": {},
   "outputs": [
    {
     "name": "stdout",
     "output_type": "stream",
     "text": [
      "CPU times: user 2min 38s, sys: 0 ns, total: 2min 38s\n",
      "Wall time: 2min 29s\n"
     ]
    }
   ],
   "source": [
    "%%time\n",
    "tfidf_test = clean_transform_data(X_test,stemming=False,multithreading=True)"
   ]
  },
  {
   "cell_type": "code",
   "execution_count": 142,
   "id": "a8d58464",
   "metadata": {},
   "outputs": [],
   "source": [
    "y_pred = classifier_bayes.predict(tfidf_test)"
   ]
  },
  {
   "cell_type": "code",
   "execution_count": 143,
   "id": "7e587e6a",
   "metadata": {},
   "outputs": [
    {
     "name": "stdout",
     "output_type": "stream",
     "text": [
      "accuracy score : 0.753075\n",
      "              precision    recall  f1-score   support\n",
      "\n",
      "         bad       0.75      0.77      0.76    160000\n",
      "        good       0.76      0.74      0.75    160000\n",
      "\n",
      "    accuracy                           0.75    320000\n",
      "   macro avg       0.75      0.75      0.75    320000\n",
      "weighted avg       0.75      0.75      0.75    320000\n",
      "\n"
     ]
    },
    {
     "data": {
      "text/html": [
       "<div>\n",
       "<style scoped>\n",
       "    .dataframe tbody tr th:only-of-type {\n",
       "        vertical-align: middle;\n",
       "    }\n",
       "\n",
       "    .dataframe tbody tr th {\n",
       "        vertical-align: top;\n",
       "    }\n",
       "\n",
       "    .dataframe thead th {\n",
       "        text-align: right;\n",
       "    }\n",
       "</style>\n",
       "<table border=\"1\" class=\"dataframe\">\n",
       "  <thead>\n",
       "    <tr style=\"text-align: right;\">\n",
       "      <th></th>\n",
       "      <th>good</th>\n",
       "      <th>bad</th>\n",
       "    </tr>\n",
       "  </thead>\n",
       "  <tbody>\n",
       "    <tr>\n",
       "      <th>good</th>\n",
       "      <td>122707</td>\n",
       "      <td>37293</td>\n",
       "    </tr>\n",
       "    <tr>\n",
       "      <th>bad</th>\n",
       "      <td>41723</td>\n",
       "      <td>118277</td>\n",
       "    </tr>\n",
       "  </tbody>\n",
       "</table>\n",
       "</div>"
      ],
      "text/plain": [
       "        good     bad\n",
       "good  122707   37293\n",
       "bad    41723  118277"
      ]
     },
     "execution_count": 143,
     "metadata": {},
     "output_type": "execute_result"
    }
   ],
   "source": [
    "print(\"accuracy score :\",accuracy_score(y_test,y_pred))\n",
    "print(classification_report(y_test,y_pred))\n",
    "pd.DataFrame(confusion_matrix(y_test,y_pred),columns=[\"good\",\"bad\"],index=[\"good\",\"bad\"])"
   ]
  },
  {
   "cell_type": "markdown",
   "id": "6fc36d04",
   "metadata": {},
   "source": [
    "### Logistic_regression"
   ]
  },
  {
   "cell_type": "code",
   "execution_count": 26,
   "id": "ddf66972",
   "metadata": {},
   "outputs": [],
   "source": [
    "from sklearn.linear_model import LogisticRegression"
   ]
  },
  {
   "cell_type": "code",
   "execution_count": 37,
   "id": "4917d9bb",
   "metadata": {},
   "outputs": [],
   "source": [
    "lr_classifier = LogisticRegression(n_jobs=60)"
   ]
  },
  {
   "cell_type": "code",
   "execution_count": 45,
   "id": "f6f08f0c",
   "metadata": {},
   "outputs": [
    {
     "name": "stdout",
     "output_type": "stream",
     "text": [
      "CPU times: user 8min 26s, sys: 0 ns, total: 8min 26s\n",
      "Wall time: 8min 26s\n"
     ]
    }
   ],
   "source": [
    "%%time\n",
    "X_test_transform = clean_transform_data(X_test)"
   ]
  },
  {
   "cell_type": "code",
   "execution_count": 46,
   "id": "145cce04",
   "metadata": {},
   "outputs": [
    {
     "data": {
      "text/plain": [
       "(320000, 177285)"
      ]
     },
     "execution_count": 46,
     "metadata": {},
     "output_type": "execute_result"
    }
   ],
   "source": [
    "X_test_transform.shape"
   ]
  },
  {
   "cell_type": "code",
   "execution_count": 38,
   "id": "0d9799ac",
   "metadata": {},
   "outputs": [
    {
     "name": "stdout",
     "output_type": "stream",
     "text": [
      "CPU times: user 1.03 s, sys: 39.1 ms, total: 1.07 s\n",
      "Wall time: 17.8 s\n"
     ]
    },
    {
     "data": {
      "text/plain": [
       "LogisticRegression(n_jobs=60)"
      ]
     },
     "execution_count": 38,
     "metadata": {},
     "output_type": "execute_result"
    }
   ],
   "source": [
    "%%time\n",
    "lr_classifier.fit(tfidf_data,y_train)"
   ]
  },
  {
   "cell_type": "code",
   "execution_count": 47,
   "id": "03e7fe36",
   "metadata": {},
   "outputs": [],
   "source": [
    "y_pred = lr_classifier.predict(X_test_transform)"
   ]
  },
  {
   "cell_type": "code",
   "execution_count": 64,
   "id": "38d2b4df",
   "metadata": {},
   "outputs": [
    {
     "data": {
      "text/plain": [
       "135486"
      ]
     },
     "execution_count": 64,
     "metadata": {},
     "output_type": "execute_result"
    }
   ],
   "source": [
    "lr_classifier.coef_.argsort()[::-1][0][0]"
   ]
  },
  {
   "cell_type": "code",
   "execution_count": 67,
   "id": "c302a28f",
   "metadata": {},
   "outputs": [
    {
     "data": {
      "text/plain": [
       "['thank',\n",
       " 'welcome',\n",
       " 'congratulation',\n",
       " 'smile',\n",
       " 'tweeteradd',\n",
       " 'iamsoannoyed',\n",
       " 'fuzzball',\n",
       " 'followfriday',\n",
       " 'tweeterfollow',\n",
       " 'accomplished',\n",
       " 'glad',\n",
       " 'congrat',\n",
       " 'proud',\n",
       " 'hehe',\n",
       " 'pleasure',\n",
       " 'yay',\n",
       " 'awesome',\n",
       " 'excellent',\n",
       " 'love',\n",
       " 'hehehe']"
      ]
     },
     "execution_count": 67,
     "metadata": {},
     "output_type": "execute_result"
    }
   ],
   "source": [
    "[tfidf.get_feature_names()[lr_classifier.coef_.argsort()[0][::-1][i]] for i in range(20)]"
   ]
  },
  {
   "cell_type": "code",
   "execution_count": 66,
   "id": "37fa96c7",
   "metadata": {},
   "outputs": [
    {
     "data": {
      "text/plain": [
       "['sad',\n",
       " 'sadly',\n",
       " 'poor',\n",
       " 'miss',\n",
       " 'unfortunately',\n",
       " 'disappointed',\n",
       " 'gutte',\n",
       " 'bummed',\n",
       " 'sick',\n",
       " 'wish',\n",
       " 'bummer',\n",
       " 'sadden',\n",
       " 'upset',\n",
       " 'cancel',\n",
       " 'hurt',\n",
       " 'rip',\n",
       " 'inaperfectworld',\n",
       " 'disappointing',\n",
       " 'suck',\n",
       " 'sorry']"
      ]
     },
     "execution_count": 66,
     "metadata": {},
     "output_type": "execute_result"
    }
   ],
   "source": [
    "[tfidf.get_feature_names()[lr_classifier.coef_.argsort()[0][i]] for i in range(20)]"
   ]
  },
  {
   "cell_type": "code",
   "execution_count": 89,
   "id": "aaa80369",
   "metadata": {},
   "outputs": [],
   "source": [
    "from sklearn.metrics import accuracy_score, confusion_matrix, classification_report"
   ]
  },
  {
   "cell_type": "code",
   "execution_count": 92,
   "id": "21e7ef05",
   "metadata": {},
   "outputs": [
    {
     "name": "stdout",
     "output_type": "stream",
     "text": [
      "accuracy score : 0.772278125\n",
      "              precision    recall  f1-score   support\n",
      "\n",
      "         bad       0.79      0.75      0.77    160000\n",
      "        good       0.76      0.80      0.78    160000\n",
      "\n",
      "    accuracy                           0.77    320000\n",
      "   macro avg       0.77      0.77      0.77    320000\n",
      "weighted avg       0.77      0.77      0.77    320000\n",
      "\n"
     ]
    },
    {
     "data": {
      "text/html": [
       "<div>\n",
       "<style scoped>\n",
       "    .dataframe tbody tr th:only-of-type {\n",
       "        vertical-align: middle;\n",
       "    }\n",
       "\n",
       "    .dataframe tbody tr th {\n",
       "        vertical-align: top;\n",
       "    }\n",
       "\n",
       "    .dataframe thead th {\n",
       "        text-align: right;\n",
       "    }\n",
       "</style>\n",
       "<table border=\"1\" class=\"dataframe\">\n",
       "  <thead>\n",
       "    <tr style=\"text-align: right;\">\n",
       "      <th></th>\n",
       "      <th>good</th>\n",
       "      <th>bad</th>\n",
       "    </tr>\n",
       "  </thead>\n",
       "  <tbody>\n",
       "    <tr>\n",
       "      <th>good</th>\n",
       "      <td>119818</td>\n",
       "      <td>40182</td>\n",
       "    </tr>\n",
       "    <tr>\n",
       "      <th>bad</th>\n",
       "      <td>32689</td>\n",
       "      <td>127311</td>\n",
       "    </tr>\n",
       "  </tbody>\n",
       "</table>\n",
       "</div>"
      ],
      "text/plain": [
       "        good     bad\n",
       "good  119818   40182\n",
       "bad    32689  127311"
      ]
     },
     "execution_count": 92,
     "metadata": {},
     "output_type": "execute_result"
    }
   ],
   "source": [
    "print(\"accuracy score :\",accuracy_score(y_test,y_pred))\n",
    "print(classification_report(y_test,y_pred))\n",
    "pd.DataFrame(confusion_matrix(y_test,y_pred),columns=[\"good\",\"bad\"],index=[\"good\",\"bad\"])"
   ]
  },
  {
   "cell_type": "markdown",
   "id": "652863d9",
   "metadata": {},
   "source": [
    "## Optimisation Logistic_regression"
   ]
  },
  {
   "cell_type": "code",
   "execution_count": 122,
   "id": "857537df",
   "metadata": {},
   "outputs": [],
   "source": [
    "from sklearn.model_selection import GridSearchCV"
   ]
  },
  {
   "cell_type": "code",
   "execution_count": 129,
   "id": "147c4c97",
   "metadata": {},
   "outputs": [],
   "source": [
    "params = {\n",
    "    \"C\":np.logspace(-5, 1, 20),\n",
    "    \"max_iter\":[200,300,400],\n",
    "}\n",
    "Logistic_regression =  LogisticRegression(random_state=42,n_jobs=30)"
   ]
  },
  {
   "cell_type": "code",
   "execution_count": 130,
   "id": "552afa19",
   "metadata": {},
   "outputs": [],
   "source": [
    "grid = GridSearchCV(Logistic_regression,params,scoring=\"accuracy\",cv=5,n_jobs=30)"
   ]
  },
  {
   "cell_type": "code",
   "execution_count": 132,
   "id": "b5a92b8d",
   "metadata": {},
   "outputs": [
    {
     "name": "stdout",
     "output_type": "stream",
     "text": [
      "CPU times: user 20.7 s, sys: 1.8 s, total: 22.5 s\n",
      "Wall time: 6min 2s\n"
     ]
    },
    {
     "data": {
      "text/plain": [
       "GridSearchCV(cv=5, estimator=LogisticRegression(n_jobs=30, random_state=42),\n",
       "             n_jobs=30,\n",
       "             param_grid={'C': array([1.00000000e-05, 2.06913808e-05, 4.28133240e-05, 8.85866790e-05,\n",
       "       1.83298071e-04, 3.79269019e-04, 7.84759970e-04, 1.62377674e-03,\n",
       "       3.35981829e-03, 6.95192796e-03, 1.43844989e-02, 2.97635144e-02,\n",
       "       6.15848211e-02, 1.27427499e-01, 2.63665090e-01, 5.45559478e-01,\n",
       "       1.12883789e+00, 2.33572147e+00, 4.83293024e+00, 1.00000000e+01]),\n",
       "                         'max_iter': [200, 300, 400]},\n",
       "             scoring='accuracy')"
      ]
     },
     "execution_count": 132,
     "metadata": {},
     "output_type": "execute_result"
    }
   ],
   "source": [
    "%%time\n",
    "grid.fit(tfidf_data,y_train)"
   ]
  },
  {
   "cell_type": "code",
   "execution_count": 133,
   "id": "b97ccbd5",
   "metadata": {},
   "outputs": [
    {
     "data": {
      "text/plain": [
       "0.77233359375"
      ]
     },
     "execution_count": 133,
     "metadata": {},
     "output_type": "execute_result"
    }
   ],
   "source": [
    "grid.best_score_"
   ]
  },
  {
   "cell_type": "code",
   "execution_count": 134,
   "id": "b3938e1f",
   "metadata": {},
   "outputs": [
    {
     "data": {
      "text/plain": [
       "{'C': 1.1288378916846884, 'max_iter': 200}"
      ]
     },
     "execution_count": 134,
     "metadata": {},
     "output_type": "execute_result"
    }
   ],
   "source": [
    "grid.best_params_"
   ]
  },
  {
   "cell_type": "code",
   "execution_count": 136,
   "id": "20cea45b",
   "metadata": {},
   "outputs": [],
   "source": [
    "best_classfier = grid.best_estimator_"
   ]
  },
  {
   "cell_type": "code",
   "execution_count": 138,
   "id": "750acfb7",
   "metadata": {},
   "outputs": [],
   "source": [
    "y_pred = best_classfier.predict(X_test_transform)"
   ]
  },
  {
   "cell_type": "code",
   "execution_count": 139,
   "id": "0320c787",
   "metadata": {},
   "outputs": [
    {
     "name": "stdout",
     "output_type": "stream",
     "text": [
      "accuracy score : 0.772628125\n",
      "              precision    recall  f1-score   support\n",
      "\n",
      "         bad       0.79      0.75      0.77    160000\n",
      "        good       0.76      0.80      0.78    160000\n",
      "\n",
      "    accuracy                           0.77    320000\n",
      "   macro avg       0.77      0.77      0.77    320000\n",
      "weighted avg       0.77      0.77      0.77    320000\n",
      "\n"
     ]
    },
    {
     "data": {
      "text/html": [
       "<div>\n",
       "<style scoped>\n",
       "    .dataframe tbody tr th:only-of-type {\n",
       "        vertical-align: middle;\n",
       "    }\n",
       "\n",
       "    .dataframe tbody tr th {\n",
       "        vertical-align: top;\n",
       "    }\n",
       "\n",
       "    .dataframe thead th {\n",
       "        text-align: right;\n",
       "    }\n",
       "</style>\n",
       "<table border=\"1\" class=\"dataframe\">\n",
       "  <thead>\n",
       "    <tr style=\"text-align: right;\">\n",
       "      <th></th>\n",
       "      <th>good</th>\n",
       "      <th>bad</th>\n",
       "    </tr>\n",
       "  </thead>\n",
       "  <tbody>\n",
       "    <tr>\n",
       "      <th>good</th>\n",
       "      <td>120020</td>\n",
       "      <td>39980</td>\n",
       "    </tr>\n",
       "    <tr>\n",
       "      <th>bad</th>\n",
       "      <td>32779</td>\n",
       "      <td>127221</td>\n",
       "    </tr>\n",
       "  </tbody>\n",
       "</table>\n",
       "</div>"
      ],
      "text/plain": [
       "        good     bad\n",
       "good  120020   39980\n",
       "bad    32779  127221"
      ]
     },
     "execution_count": 139,
     "metadata": {},
     "output_type": "execute_result"
    }
   ],
   "source": [
    "print(\"accuracy score :\",accuracy_score(y_test,y_pred))\n",
    "print(classification_report(y_test,y_pred))\n",
    "pd.DataFrame(confusion_matrix(y_test,y_pred),columns=[\"good\",\"bad\"],index=[\"good\",\"bad\"])"
   ]
  },
  {
   "cell_type": "markdown",
   "id": "4e0faf56",
   "metadata": {},
   "source": [
    "### Bag Of Word"
   ]
  },
  {
   "cell_type": "code",
   "execution_count": 144,
   "id": "586d9812",
   "metadata": {},
   "outputs": [],
   "source": [
    "grid = GridSearchCV(Logistic_regression,params,scoring=\"accuracy\",cv=5,n_jobs=40)"
   ]
  },
  {
   "cell_type": "code",
   "execution_count": 145,
   "id": "30a09566",
   "metadata": {},
   "outputs": [
    {
     "name": "stdout",
     "output_type": "stream",
     "text": [
      "CPU times: user 23.6 s, sys: 3.29 s, total: 26.9 s\n",
      "Wall time: 9min 10s\n"
     ]
    },
    {
     "data": {
      "text/plain": [
       "GridSearchCV(cv=5,\n",
       "             estimator=Pipeline(steps=[('standardscaler',\n",
       "                                        StandardScaler(with_mean=False)),\n",
       "                                       ('logisticregression',\n",
       "                                        LogisticRegression(n_jobs=30,\n",
       "                                                           random_state=42))]),\n",
       "             n_jobs=40,\n",
       "             param_grid={'logisticregression__C': array([1.00000000e-05, 2.06913808e-05, 4.28133240e-05, 8.85866790e-05,\n",
       "       1.83298071e-04, 3.79269019e-04, 7.84759970e-04, 1.62377674e-03,\n",
       "       3.35981829e-03, 6.95192796e-03, 1.43844989e-02, 2.97635144e-02,\n",
       "       6.15848211e-02, 1.27427499e-01, 2.63665090e-01, 5.45559478e-01,\n",
       "       1.12883789e+00, 2.33572147e+00, 4.83293024e+00, 1.00000000e+01]),\n",
       "                         'logisticregression__max_iter': [200, 300, 400]},\n",
       "             scoring='accuracy')"
      ]
     },
     "execution_count": 145,
     "metadata": {},
     "output_type": "execute_result"
    }
   ],
   "source": [
    "%%time\n",
    "grid.fit(bow_data,y_train)"
   ]
  },
  {
   "cell_type": "code",
   "execution_count": 146,
   "id": "d2de0d62",
   "metadata": {},
   "outputs": [
    {
     "name": "stdout",
     "output_type": "stream",
     "text": [
      "CPU times: user 8min 11s, sys: 0 ns, total: 8min 11s\n",
      "Wall time: 8min 11s\n"
     ]
    }
   ],
   "source": [
    "%%time\n",
    "X_test_transform_bow = clean_transform_data(X_test,tfidf_transform=False)"
   ]
  },
  {
   "cell_type": "code",
   "execution_count": 147,
   "id": "530d66f3",
   "metadata": {},
   "outputs": [
    {
     "data": {
      "text/plain": [
       "0.7521304687500001"
      ]
     },
     "execution_count": 147,
     "metadata": {},
     "output_type": "execute_result"
    }
   ],
   "source": [
    "grid.best_score_"
   ]
  },
  {
   "cell_type": "code",
   "execution_count": 148,
   "id": "5c80c03c",
   "metadata": {},
   "outputs": [],
   "source": [
    "best_classfier_bow = grid.best_estimator_"
   ]
  },
  {
   "cell_type": "code",
   "execution_count": 149,
   "id": "daadd72e",
   "metadata": {},
   "outputs": [],
   "source": [
    "y_pred = best_classfier_bow.predict(X_test_transform_bow)"
   ]
  },
  {
   "cell_type": "code",
   "execution_count": 150,
   "id": "781b1ff3",
   "metadata": {},
   "outputs": [
    {
     "name": "stdout",
     "output_type": "stream",
     "text": [
      "accuracy score : 0.760915625\n",
      "              precision    recall  f1-score   support\n",
      "\n",
      "         bad       0.77      0.75      0.76    160000\n",
      "        good       0.76      0.77      0.76    160000\n",
      "\n",
      "    accuracy                           0.76    320000\n",
      "   macro avg       0.76      0.76      0.76    320000\n",
      "weighted avg       0.76      0.76      0.76    320000\n",
      "\n"
     ]
    },
    {
     "data": {
      "text/html": [
       "<div>\n",
       "<style scoped>\n",
       "    .dataframe tbody tr th:only-of-type {\n",
       "        vertical-align: middle;\n",
       "    }\n",
       "\n",
       "    .dataframe tbody tr th {\n",
       "        vertical-align: top;\n",
       "    }\n",
       "\n",
       "    .dataframe thead th {\n",
       "        text-align: right;\n",
       "    }\n",
       "</style>\n",
       "<table border=\"1\" class=\"dataframe\">\n",
       "  <thead>\n",
       "    <tr style=\"text-align: right;\">\n",
       "      <th></th>\n",
       "      <th>good</th>\n",
       "      <th>bad</th>\n",
       "    </tr>\n",
       "  </thead>\n",
       "  <tbody>\n",
       "    <tr>\n",
       "      <th>good</th>\n",
       "      <td>120421</td>\n",
       "      <td>39579</td>\n",
       "    </tr>\n",
       "    <tr>\n",
       "      <th>bad</th>\n",
       "      <td>36928</td>\n",
       "      <td>123072</td>\n",
       "    </tr>\n",
       "  </tbody>\n",
       "</table>\n",
       "</div>"
      ],
      "text/plain": [
       "        good     bad\n",
       "good  120421   39579\n",
       "bad    36928  123072"
      ]
     },
     "execution_count": 150,
     "metadata": {},
     "output_type": "execute_result"
    }
   ],
   "source": [
    "print(\"accuracy score :\",accuracy_score(y_test,y_pred))\n",
    "print(classification_report(y_test,y_pred))\n",
    "pd.DataFrame(confusion_matrix(y_test,y_pred),columns=[\"good\",\"bad\"],index=[\"good\",\"bad\"])"
   ]
  },
  {
   "cell_type": "markdown",
   "id": "57035817",
   "metadata": {},
   "source": [
    "# Test modèle \"avancé\" (Classqiue DL,Glove, Word2Vec BERT, LSTM)\n",
    "\n",
    "Les modèles \"classique\" obtiennes ici un score maximum de 0.77 d'accuracy avec une matrice TF-IDF de tweet propre sur une régression logistique optimisé.\n",
    "\n",
    "Ce score sera notre baseline de comparaison, le temps d'entrainement ici est très court avec 22 seconde d'entrainement sur l'ensemble du jeu de données et création de la matrice TF-IDF + nettoyage des tweet en 11 minute ( 10 seconde seulement création matrice TF-IDF, 10 minute pour le nettoyage des stop_word et lemmatization et ensuite 50 seconde nettoyage simple des tweets)\n",
    "\n",
    "Si on prend l'ensemble de la possible pipeline nous somme à environ **11 mintues 30 secondes et une accuracy de 0.77**."
   ]
  },
  {
   "cell_type": "code",
   "execution_count": 20,
   "id": "29b80176",
   "metadata": {},
   "outputs": [
    {
     "name": "stdout",
     "output_type": "stream",
     "text": [
      "Text clean : @abbidawson no but you only need to pay for plane tickets you live with me my mom thought it was good idea emote_clin_doeil  \n",
      "Sentiment : good\n"
     ]
    }
   ],
   "source": [
    "print(\"Text clean :\",X_train[489456],\"\\nSentiment :\",y_train[489456])"
   ]
  },
  {
   "cell_type": "code",
   "execution_count": 98,
   "id": "cc5905d7",
   "metadata": {},
   "outputs": [
    {
     "name": "stdout",
     "output_type": "stream",
     "text": [
      "train_set : (1280000,)\n",
      "test_set : (320000,)\n"
     ]
    }
   ],
   "source": [
    "X_train = data_train[\"text\"].values\n",
    "y_train = data_train[\"sentiment\"].values\n",
    "\n",
    "X_test = data_test[\"text\"].values\n",
    "y_test = data_test[\"sentiment\"].values\n",
    "print(\"train_set :\",X_train.shape)\n",
    "print(\"test_set :\",X_test.shape)"
   ]
  },
  {
   "cell_type": "code",
   "execution_count": 21,
   "id": "8f5377aa",
   "metadata": {},
   "outputs": [],
   "source": [
    "new_size=100000\n",
    "size=new_size//2\n",
    "\n",
    "pos_X = []\n",
    "i = 0\n",
    "while len(pos_X) < size:\n",
    "    if y_train[i] ==\"good\":\n",
    "        pos_X.append(X_train[i])\n",
    "    i+=1\n",
    "i=0\n",
    "neg_X = []\n",
    "while len(neg_X) < size:\n",
    "    if y_train[i] ==\"bad\":\n",
    "        neg_X.append(X_train[i])\n",
    "    i+=1\n",
    "reduce_X = pos_X\n",
    "\n",
    "reduce_X.extend(neg_X)\n",
    "reduce_Y = [\"good\" for i in range(size)]\n",
    "reduce_Y.extend([\"bad\" for i in range(size)])"
   ]
  },
  {
   "cell_type": "markdown",
   "id": "a3f43e24",
   "metadata": {},
   "source": [
    "Démarche :\n",
    "- 1 Jeu de données réduit\n",
    "    - Recherche du meilleur jeu de données\n",
    "    - Recherche Meilleur tokenizer (num_word)\n",
    "    - Recherche du meilleur réseaux\n",
    "    - Board résultat\n",
    "- 2 Tout le jeu de données \n",
    "    - Dernière optimisation du réseaux\n",
    "    - Analyse historique ?"
   ]
  },
  {
   "cell_type": "code",
   "execution_count": 23,
   "id": "7d0750d8",
   "metadata": {},
   "outputs": [
    {
     "name": "stdout",
     "output_type": "stream",
     "text": [
      "CPU times: user 1min 26s, sys: 6.59 s, total: 1min 33s\n",
      "Wall time: 1min 39s\n"
     ]
    }
   ],
   "source": [
    "%%time\n",
    "# regex clean + lemmatisation + stop word\n",
    "X_1 = basic_clean(reduce_X,multithreading=True)\n",
    "# regex clean + lemmatisation\n",
    "X_2 = basic_clean(reduce_X,stop_word=False,multithreading=True)\n",
    "# regex clean\n",
    "X_3 = [cleanning_data(sentence) for sentence in reduce_X]\n",
    "# Aucun clean\n",
    "X_4 = reduce_X"
   ]
  },
  {
   "cell_type": "code",
   "execution_count": 25,
   "id": "76b87ad4",
   "metadata": {},
   "outputs": [],
   "source": [
    "Y = pd.get_dummies(reduce_Y).values"
   ]
  },
  {
   "cell_type": "code",
   "execution_count": 26,
   "id": "d17b8de5",
   "metadata": {},
   "outputs": [],
   "source": [
    "tokenizer_1 = Tokenizer(num_words=2500,split=' ')\n",
    "tokenizer_2 = Tokenizer(num_words=10000,split=' ')"
   ]
  },
  {
   "cell_type": "code",
   "execution_count": 15,
   "id": "f75ac134",
   "metadata": {},
   "outputs": [],
   "source": [
    "def tokenize_data(data,tokenizer,maxlen=50):\n",
    "    X = tokenizer.texts_to_sequences(data)\n",
    "    return pad_sequences(X,maxlen=maxlen)"
   ]
  },
  {
   "cell_type": "markdown",
   "id": "cfc7d094",
   "metadata": {},
   "source": [
    "# Classique model DL"
   ]
  },
  {
   "cell_type": "code",
   "execution_count": 20,
   "id": "618edc71",
   "metadata": {},
   "outputs": [],
   "source": [
    "from keras.layers import Dropout,Dense,Flatten\n",
    "def get_model_dl_classic(X,printing=True):\n",
    "    model = Sequential()\n",
    "    model.add(Embedding(10000, 128,input_length = X.shape[1]))\n",
    "    model.add(Dropout(0.2))\n",
    "    model.add(Flatten())\n",
    "    model.add(Dense(256))\n",
    "    model.add(Dropout(0.2))\n",
    "    model.add(Dense(2,activation='softmax'))\n",
    "    model.compile(loss = 'categorical_crossentropy', optimizer='adam',metrics = ['accuracy'])\n",
    "    if printing:\n",
    "        print(model.summary())\n",
    "    return model"
   ]
  },
  {
   "cell_type": "code",
   "execution_count": 64,
   "id": "0f610cbb",
   "metadata": {},
   "outputs": [
    {
     "name": "stdout",
     "output_type": "stream",
     "text": [
      "Model: \"sequential_13\"\n",
      "_________________________________________________________________\n",
      "Layer (type)                 Output Shape              Param #   \n",
      "=================================================================\n",
      "embedding_12 (Embedding)     (None, 33, 128)           1280000   \n",
      "_________________________________________________________________\n",
      "dropout_30 (Dropout)         (None, 33, 128)           0         \n",
      "_________________________________________________________________\n",
      "flatten_11 (Flatten)         (None, 4224)              0         \n",
      "_________________________________________________________________\n",
      "dense_30 (Dense)             (None, 256)               1081600   \n",
      "_________________________________________________________________\n",
      "dropout_31 (Dropout)         (None, 256)               0         \n",
      "_________________________________________________________________\n",
      "dense_31 (Dense)             (None, 2)                 514       \n",
      "=================================================================\n",
      "Total params: 2,362,114\n",
      "Trainable params: 2,362,114\n",
      "Non-trainable params: 0\n",
      "_________________________________________________________________\n",
      "None\n"
     ]
    }
   ],
   "source": [
    "tokenizer_2.fit_on_texts(X_3)\n",
    "X = tokenize_data(X_3,tokenizer_2,maxlen=None)\n",
    "\n",
    "model = get_model_dl_classic(X)"
   ]
  },
  {
   "cell_type": "code",
   "execution_count": 65,
   "id": "02da7745",
   "metadata": {},
   "outputs": [
    {
     "name": "stdout",
     "output_type": "stream",
     "text": [
      "Epoch 1/4\n",
      "2500/2500 [==============================] - 34s 14ms/step - loss: 0.5128 - accuracy: 0.7490 - val_loss: 0.4833 - val_accuracy: 0.7753\n",
      "Epoch 2/4\n",
      "2500/2500 [==============================] - 32s 13ms/step - loss: 0.4015 - accuracy: 0.8205 - val_loss: 0.5132 - val_accuracy: 0.7645\n",
      "Epoch 3/4\n",
      "2500/2500 [==============================] - 33s 13ms/step - loss: 0.2862 - accuracy: 0.8806 - val_loss: 0.5911 - val_accuracy: 0.7530\n",
      "Epoch 4/4\n",
      "2500/2500 [==============================] - 31s 12ms/step - loss: 0.2181 - accuracy: 0.9112 - val_loss: 0.6895 - val_accuracy: 0.7351\n"
     ]
    }
   ],
   "source": [
    "trainset_X, validset_X, trainset_Y, validset_Y = train_test_split(X,Y, test_size = 0.20, random_state = 42)\n",
    "history = model.fit(trainset_X, trainset_Y,validation_data=(validset_X, validset_Y), batch_size =32, epochs = 4)"
   ]
  },
  {
   "cell_type": "code",
   "execution_count": 79,
   "id": "13e8469b",
   "metadata": {},
   "outputs": [
    {
     "data": {
      "image/png": "[encoded data removed]",
      "text/plain": [
       "<Figure size 864x720 with 1 Axes>"
      ]
     },
     "metadata": {},
     "output_type": "display_data"
    }
   ],
   "source": [
    "plt.figure(figsize=(12,10))\n",
    "plt.plot(history.history[\"accuracy\"],label=\"train_set\")\n",
    "plt.plot(history.history[\"val_accuracy\"],label=\"validation_set\")\n",
    "plt.ylim(0,1)\n",
    "plt.xticks([0,1,2,3])\n",
    "plt.legend()\n",
    "plt.show()"
   ]
  },
  {
   "cell_type": "code",
   "execution_count": 48,
   "id": "2a510657",
   "metadata": {},
   "outputs": [],
   "source": [
    "tokenizer_1.fit_on_texts(X_1)\n",
    "X = tokenize_data(X_1,tokenizer_2,maxlen=None)\n",
    "\n",
    "model = get_model_dl_classic(X,printing=False)"
   ]
  },
  {
   "cell_type": "code",
   "execution_count": 49,
   "id": "9811d500",
   "metadata": {},
   "outputs": [
    {
     "name": "stdout",
     "output_type": "stream",
     "text": [
      "2500/2500 [==============================] - 32s 13ms/step - loss: 0.5381 - accuracy: 0.7267 - val_loss: 0.5310 - val_accuracy: 0.7401\n"
     ]
    },
    {
     "data": {
      "text/plain": [
       "<keras.callbacks.History at 0x7f53fe61c550>"
      ]
     },
     "execution_count": 49,
     "metadata": {},
     "output_type": "execute_result"
    }
   ],
   "source": [
    "trainset_X, validset_X, trainset_Y, validset_Y = train_test_split(X,Y, test_size = 0.20, random_state = 42)\n",
    "model.fit(trainset_X, trainset_Y,validation_data=(validset_X, validset_Y), batch_size =32, epochs = 1)"
   ]
  },
  {
   "cell_type": "markdown",
   "id": "049f114d",
   "metadata": {},
   "source": [
    "# Plus de données"
   ]
  },
  {
   "cell_type": "code",
   "execution_count": 31,
   "id": "99f3b9e4",
   "metadata": {},
   "outputs": [],
   "source": [
    "X = [cleanning_data(sentence) for sentence in X_train]\n",
    "Y = pd.get_dummies(y_train).values"
   ]
  },
  {
   "cell_type": "code",
   "execution_count": 32,
   "id": "8e407f57",
   "metadata": {},
   "outputs": [
    {
     "name": "stdout",
     "output_type": "stream",
     "text": [
      "Model: \"sequential\"\n",
      "_________________________________________________________________\n",
      "Layer (type)                 Output Shape              Param #   \n",
      "=================================================================\n",
      "embedding (Embedding)        (None, 40, 128)           1280000   \n",
      "_________________________________________________________________\n",
      "dropout (Dropout)            (None, 40, 128)           0         \n",
      "_________________________________________________________________\n",
      "flatten (Flatten)            (None, 5120)              0         \n",
      "_________________________________________________________________\n",
      "dense (Dense)                (None, 256)               1310976   \n",
      "_________________________________________________________________\n",
      "dropout_1 (Dropout)          (None, 256)               0         \n",
      "_________________________________________________________________\n",
      "dense_1 (Dense)              (None, 2)                 514       \n",
      "=================================================================\n",
      "Total params: 2,591,490\n",
      "Trainable params: 2,591,490\n",
      "Non-trainable params: 0\n",
      "_________________________________________________________________\n",
      "None\n"
     ]
    }
   ],
   "source": [
    "tokenizer_2.fit_on_texts(X)\n",
    "X = tokenize_data(X,tokenizer_2,maxlen=None)\n",
    "\n",
    "model = get_model_dl_classic(X,printing=True)"
   ]
  },
  {
   "cell_type": "code",
   "execution_count": 33,
   "id": "772de699",
   "metadata": {},
   "outputs": [
    {
     "name": "stdout",
     "output_type": "stream",
     "text": [
      "32000/32000 [==============================] - 439s 14ms/step - loss: 0.4716 - accuracy: 0.7836 - val_loss: 0.4625 - val_accuracy: 0.7916\n"
     ]
    },
    {
     "data": {
      "text/plain": [
       "<keras.callbacks.History at 0x7f0f1f535c50>"
      ]
     },
     "execution_count": 33,
     "metadata": {},
     "output_type": "execute_result"
    }
   ],
   "source": [
    "trainset_X, validset_X, trainset_Y, validset_Y = train_test_split(X,Y, test_size = 0.20, random_state = 42)\n",
    "model.fit(trainset_X, trainset_Y,validation_data=(validset_X, validset_Y), batch_size =32, epochs = 1)"
   ]
  },
  {
   "cell_type": "code",
   "execution_count": 34,
   "id": "32f66203",
   "metadata": {},
   "outputs": [],
   "source": [
    "X = basic_clean(X_train,multithreading=True)"
   ]
  },
  {
   "cell_type": "code",
   "execution_count": 35,
   "id": "8c704454",
   "metadata": {},
   "outputs": [],
   "source": [
    "tokenizer_2.fit_on_texts(X)\n",
    "X = tokenize_data(X,tokenizer_2,maxlen=None)\n",
    "\n",
    "model = get_model_dl_classic(X,printing=False)"
   ]
  },
  {
   "cell_type": "code",
   "execution_count": 36,
   "id": "7865cbd5",
   "metadata": {},
   "outputs": [
    {
     "name": "stdout",
     "output_type": "stream",
     "text": [
      "32000/32000 [==============================] - 484s 15ms/step - loss: 0.5077 - accuracy: 0.7535 - val_loss: 0.4964 - val_accuracy: 0.7619\n"
     ]
    },
    {
     "data": {
      "text/plain": [
       "<keras.callbacks.History at 0x7f12317f9eb8>"
      ]
     },
     "execution_count": 36,
     "metadata": {},
     "output_type": "execute_result"
    }
   ],
   "source": [
    "trainset_X, validset_X, trainset_Y, validset_Y = train_test_split(X,Y, test_size = 0.20, random_state = 42)\n",
    "model.fit(trainset_X, trainset_Y,validation_data=(validset_X, validset_Y), batch_size =32, epochs = 1)"
   ]
  },
  {
   "cell_type": "markdown",
   "id": "006569e5",
   "metadata": {},
   "source": [
    "# Glove embedding"
   ]
  },
  {
   "cell_type": "code",
   "execution_count": 66,
   "id": "6b866764",
   "metadata": {},
   "outputs": [],
   "source": [
    "# Paramètre des données glove\n",
    "MAX_NB_WORDS = 10000\n",
    "MAX_SEQUENCE_LENGTH = 100\n",
    "VALIDATION_SPLIT = 0.2\n",
    "EMBEDDING_DIM = 200"
   ]
  },
  {
   "cell_type": "markdown",
   "id": "581e9b57",
   "metadata": {},
   "source": [
    "https://www.kaggle.com/fullmetal26/glovetwitter27b100dtxt/download"
   ]
  },
  {
   "cell_type": "code",
   "execution_count": 67,
   "id": "aa690011",
   "metadata": {},
   "outputs": [
    {
     "name": "stdout",
     "output_type": "stream",
     "text": [
      "Found 1193514 word vectors.\n",
      "CPU times: user 46.5 s, sys: 2.8 s, total: 49.3 s\n",
      "Wall time: 1min 28s\n"
     ]
    }
   ],
   "source": [
    "%%time\n",
    "import os\n",
    "embeddings_index = {}\n",
    "f = open(os.path.join('./data/glove.twitter.27B.200d.txt'))\n",
    "for line in f:\n",
    "    values = line.split()\n",
    "    word = values[0]\n",
    "    coefs = np.asarray(values[1:], dtype='float32')\n",
    "    embeddings_index[word] = coefs\n",
    "f.close()\n",
    "\n",
    "print('Found %s word vectors.' % len(embeddings_index))"
   ]
  },
  {
   "cell_type": "code",
   "execution_count": 73,
   "id": "6dc7ce7c",
   "metadata": {},
   "outputs": [],
   "source": [
    "from keras.preprocessing.text import Tokenizer\n",
    "from keras.preprocessing.sequence import pad_sequences\n",
    "from keras.layers import Embedding\n",
    "\n",
    "def prepare_data_glove(X,Y,validation_data=True,printing=False):\n",
    "    tokenizer = Tokenizer(num_words=MAX_NB_WORDS)\n",
    "    tokenizer.fit_on_texts(X)\n",
    "    sequences = tokenizer.texts_to_sequences(X)\n",
    "    word_index = tokenizer.word_index\n",
    "    if printing:\n",
    "        print('Found %s unique tokens.' % len(word_index))\n",
    "\n",
    "    data = pad_sequences(sequences, maxlen=MAX_SEQUENCE_LENGTH)\n",
    "    dic = {\"good\":0,\"bad\":1}\n",
    "    labels = [dic[y] for y in Y]\n",
    "\n",
    "    labels = to_categorical(np.asarray(labels))\n",
    "    if printing:\n",
    "        print('Shape of data tensor:', data.shape)\n",
    "        print('Shape of label tensor:', labels.shape)\n",
    "    \n",
    "    indices = np.arange(data.shape[0])\n",
    "    np.random.shuffle(indices)\n",
    "    data = data[indices]\n",
    "    labels = labels[indices]\n",
    "    if validation_data:\n",
    "        nb_validation_samples = int(VALIDATION_SPLIT * data.shape[0])\n",
    "        x_train = data[:-nb_validation_samples]\n",
    "        y_train = labels[:-nb_validation_samples]\n",
    "        x_val = data[-nb_validation_samples:]\n",
    "        y_val = labels[-nb_validation_samples:]\n",
    "    else:\n",
    "        x_train = data\n",
    "        y_train = labels\n",
    "        x_val = None\n",
    "        y_val = None\n",
    "        \n",
    "    # Embedding\n",
    "    embedding_matrix = np.zeros((len(word_index) + 1, EMBEDDING_DIM))\n",
    "    for word, i in word_index.items():\n",
    "        # vecteur d'un modèle glove pré-entrainé\n",
    "        embedding_vector = embeddings_index.get(word)\n",
    "        if embedding_vector is not None:\n",
    "        \n",
    "            embedding_matrix[i] = embedding_vector\n",
    "            \n",
    "    embedding_layer = Embedding(len(word_index) + 1,\n",
    "                                EMBEDDING_DIM,\n",
    "                                weights=[embedding_matrix],\n",
    "                                input_length=MAX_SEQUENCE_LENGTH,\n",
    "                                trainable=False)\n",
    "    \n",
    "    return x_train,y_train,x_val,y_val,embedding_layer"
   ]
  },
  {
   "cell_type": "code",
   "execution_count": 96,
   "id": "e030f8bb",
   "metadata": {},
   "outputs": [],
   "source": [
    "from keras.layers import Conv1D, MaxPooling1D, Flatten, Dense,Input,GlobalMaxPooling1D\n",
    "from keras import Model\n",
    "\n",
    "def get_model_glove(embedding_layer,printing=True):\n",
    "    model = Sequential()\n",
    "    model.add(embedding_layer)\n",
    "    model.add(Conv1D(128, 5, activation='relu'))\n",
    "    model.add(MaxPooling1D(5))\n",
    "#     model.add(Conv1D(128, 5, activation='relu'))\n",
    "#     model.add(GlobalMaxPooling1D())\n",
    "    model.add(Flatten())\n",
    "    model.add(Dense(128,activation='relu'))\n",
    "    model.add(Dense(2,activation='softmax'))\n",
    "    model.compile(loss = 'categorical_crossentropy', optimizer='adam',metrics = ['accuracy'])\n",
    "    if printing:\n",
    "        print(model.summary())\n",
    "    return model\n",
    "\n",
    "def get_model_LSTM_personal_embedding(embedding_layer,printing=True):\n",
    "    model = Sequential()\n",
    "    model.add(embedding_layer)\n",
    "    model.add(Dropout(0.1))\n",
    "    model.add(LSTM(256))\n",
    "    model.add(Dropout(0.1))\n",
    "    model.add(Dense(2,activation='softmax'))\n",
    "    model.compile(loss = 'categorical_crossentropy', optimizer='adam',metrics = ['accuracy'])\n",
    "    if printing:\n",
    "        print(model.summary())\n",
    "    return model"
   ]
  },
  {
   "cell_type": "code",
   "execution_count": 31,
   "id": "f51c4d95",
   "metadata": {},
   "outputs": [
    {
     "name": "stderr",
     "output_type": "stream",
     "text": [
      "/usr/local/lib/python3.6/dist-packages/keras_preprocessing/text.py:180: UserWarning: The `nb_words` argument in `Tokenizer` has been renamed `num_words`.\n",
      "  warnings.warn('The `nb_words` argument in `Tokenizer` '\n"
     ]
    }
   ],
   "source": [
    "x_train,y_train,x_val,y_val,embedding_layer = prepare_data_glove(X_3,reduce_Y)"
   ]
  },
  {
   "cell_type": "code",
   "execution_count": 34,
   "id": "c97ba83a",
   "metadata": {},
   "outputs": [
    {
     "name": "stdout",
     "output_type": "stream",
     "text": [
      "Model: \"sequential_1\"\n",
      "_________________________________________________________________\n",
      "Layer (type)                 Output Shape              Param #   \n",
      "=================================================================\n",
      "embedding (Embedding)        (None, 100, 200)          17896200  \n",
      "_________________________________________________________________\n",
      "conv1d_2 (Conv1D)            (None, 96, 128)           128128    \n",
      "_________________________________________________________________\n",
      "max_pooling1d_1 (MaxPooling1 (None, 19, 128)           0         \n",
      "_________________________________________________________________\n",
      "flatten_1 (Flatten)          (None, 2432)              0         \n",
      "_________________________________________________________________\n",
      "dense_2 (Dense)              (None, 128)               311424    \n",
      "_________________________________________________________________\n",
      "dense_3 (Dense)              (None, 2)                 258       \n",
      "=================================================================\n",
      "Total params: 18,336,010\n",
      "Trainable params: 439,810\n",
      "Non-trainable params: 17,896,200\n",
      "_________________________________________________________________\n",
      "None\n",
      "Epoch 1/2\n",
      "2500/2500 [==============================] - 25s 10ms/step - loss: 0.5290 - accuracy: 0.7330 - val_loss: 0.5102 - val_accuracy: 0.7465\n",
      "Epoch 2/2\n",
      "2500/2500 [==============================] - 25s 10ms/step - loss: 0.4772 - accuracy: 0.7693 - val_loss: 0.5099 - val_accuracy: 0.7510\n"
     ]
    },
    {
     "data": {
      "text/plain": [
       "<keras.callbacks.History at 0x7f1dc8c4eb00>"
      ]
     },
     "execution_count": 34,
     "metadata": {},
     "output_type": "execute_result"
    }
   ],
   "source": [
    "model = get_model_glove(embedding_layer)\n",
    "model.fit(x_train, y_train, validation_data=(x_val, y_val),epochs=2, batch_size=32)"
   ]
  },
  {
   "cell_type": "code",
   "execution_count": 32,
   "id": "d8b04497",
   "metadata": {},
   "outputs": [
    {
     "name": "stdout",
     "output_type": "stream",
     "text": [
      "Model: \"sequential\"\n",
      "_________________________________________________________________\n",
      "Layer (type)                 Output Shape              Param #   \n",
      "=================================================================\n",
      "embedding (Embedding)        (None, 100, 200)          17896200  \n",
      "_________________________________________________________________\n",
      "conv1d (Conv1D)              (None, 96, 128)           128128    \n",
      "_________________________________________________________________\n",
      "max_pooling1d (MaxPooling1D) (None, 19, 128)           0         \n",
      "_________________________________________________________________\n",
      "conv1d_1 (Conv1D)            (None, 15, 128)           82048     \n",
      "_________________________________________________________________\n",
      "global_max_pooling1d (Global (None, 128)               0         \n",
      "_________________________________________________________________\n",
      "flatten (Flatten)            (None, 128)               0         \n",
      "_________________________________________________________________\n",
      "dense (Dense)                (None, 128)               16512     \n",
      "_________________________________________________________________\n",
      "dense_1 (Dense)              (None, 2)                 258       \n",
      "=================================================================\n",
      "Total params: 18,123,146\n",
      "Trainable params: 226,946\n",
      "Non-trainable params: 17,896,200\n",
      "_________________________________________________________________\n",
      "None\n",
      "Epoch 1/2\n",
      "2500/2500 [==============================] - 36s 13ms/step - loss: 0.5298 - accuracy: 0.7314 - val_loss: 0.5362 - val_accuracy: 0.7271\n",
      "Epoch 2/2\n",
      "2500/2500 [==============================] - 31s 12ms/step - loss: 0.4799 - accuracy: 0.7673 - val_loss: 0.5010 - val_accuracy: 0.7515\n"
     ]
    },
    {
     "data": {
      "text/plain": [
       "<keras.callbacks.History at 0x7f1dc917a438>"
      ]
     },
     "execution_count": 32,
     "metadata": {},
     "output_type": "execute_result"
    }
   ],
   "source": [
    "model = get_model_glove(embedding_layer)\n",
    "model.fit(x_train, y_train, validation_data=(x_val, y_val),epochs=2, batch_size=32)"
   ]
  },
  {
   "cell_type": "code",
   "execution_count": 36,
   "id": "b271679b",
   "metadata": {},
   "outputs": [],
   "source": [
    "X = [cleanning_data(sentence) for sentence in X_train]"
   ]
  },
  {
   "cell_type": "code",
   "execution_count": 42,
   "id": "35c1e24b",
   "metadata": {},
   "outputs": [],
   "source": [
    "x_train,y_train,x_val,y_val,embedding_layer_2 = prepare_data_glove(X,y_train)"
   ]
  },
  {
   "cell_type": "code",
   "execution_count": 43,
   "id": "f3595824",
   "metadata": {},
   "outputs": [
    {
     "name": "stdout",
     "output_type": "stream",
     "text": [
      "Model: \"sequential_2\"\n",
      "_________________________________________________________________\n",
      "Layer (type)                 Output Shape              Param #   \n",
      "=================================================================\n",
      "embedding_1 (Embedding)      (None, 100, 200)          101166000 \n",
      "_________________________________________________________________\n",
      "conv1d_3 (Conv1D)            (None, 96, 128)           128128    \n",
      "_________________________________________________________________\n",
      "max_pooling1d_2 (MaxPooling1 (None, 19, 128)           0         \n",
      "_________________________________________________________________\n",
      "flatten_2 (Flatten)          (None, 2432)              0         \n",
      "_________________________________________________________________\n",
      "dense_4 (Dense)              (None, 128)               311424    \n",
      "_________________________________________________________________\n",
      "dense_5 (Dense)              (None, 2)                 258       \n",
      "=================================================================\n",
      "Total params: 101,605,810\n",
      "Trainable params: 439,810\n",
      "Non-trainable params: 101,166,000\n",
      "_________________________________________________________________\n",
      "None\n",
      "Epoch 1/2\n",
      "32000/32000 [==============================] - 342s 11ms/step - loss: 0.4895 - accuracy: 0.7606 - val_loss: 0.4809 - val_accuracy: 0.7655\n",
      "Epoch 2/2\n",
      "32000/32000 [==============================] - 327s 10ms/step - loss: 0.4637 - accuracy: 0.7773 - val_loss: 0.4666 - val_accuracy: 0.7746\n"
     ]
    },
    {
     "data": {
      "text/plain": [
       "<keras.callbacks.History at 0x7f1dc3f530f0>"
      ]
     },
     "execution_count": 43,
     "metadata": {},
     "output_type": "execute_result"
    }
   ],
   "source": [
    "model = get_model_glove(embedding_layer_2)\n",
    "model.fit(x_train, y_train, validation_data=(x_val, y_val),epochs=2, batch_size=32)"
   ]
  },
  {
   "cell_type": "code",
   "execution_count": 97,
   "id": "a6d77f93",
   "metadata": {},
   "outputs": [
    {
     "name": "stderr",
     "output_type": "stream",
     "text": [
      "/usr/local/lib/python3.6/dist-packages/keras_preprocessing/text.py:180: UserWarning: The `nb_words` argument in `Tokenizer` has been renamed `num_words`.\n",
      "  warnings.warn('The `nb_words` argument in `Tokenizer` '\n"
     ]
    }
   ],
   "source": [
    "x_train,y_train,x_val,y_val,embedding_layer_3 = prepare_data_glove(stemming_data,y_train)"
   ]
  },
  {
   "cell_type": "code",
   "execution_count": 98,
   "id": "477fb4e6",
   "metadata": {},
   "outputs": [
    {
     "name": "stdout",
     "output_type": "stream",
     "text": [
      "Model: \"sequential_3\"\n",
      "_________________________________________________________________\n",
      "Layer (type)                 Output Shape              Param #   \n",
      "=================================================================\n",
      "embedding_2 (Embedding)      (None, 100, 200)          89587000  \n",
      "_________________________________________________________________\n",
      "conv1d_4 (Conv1D)            (None, 96, 128)           128128    \n",
      "_________________________________________________________________\n",
      "max_pooling1d_3 (MaxPooling1 (None, 19, 128)           0         \n",
      "_________________________________________________________________\n",
      "flatten_3 (Flatten)          (None, 2432)              0         \n",
      "_________________________________________________________________\n",
      "dense_6 (Dense)              (None, 128)               311424    \n",
      "_________________________________________________________________\n",
      "dense_7 (Dense)              (None, 2)                 258       \n",
      "=================================================================\n",
      "Total params: 90,026,810\n",
      "Trainable params: 439,810\n",
      "Non-trainable params: 89,587,000\n",
      "_________________________________________________________________\n",
      "None\n",
      "Epoch 1/2\n",
      "32000/32000 [==============================] - 317s 10ms/step - loss: 0.5559 - accuracy: 0.7067 - val_loss: 0.5452 - val_accuracy: 0.7143\n",
      "Epoch 2/2\n",
      "32000/32000 [==============================] - 320s 10ms/step - loss: 0.5369 - accuracy: 0.7216 - val_loss: 0.5468 - val_accuracy: 0.7157\n"
     ]
    },
    {
     "data": {
      "text/plain": [
       "<keras.callbacks.History at 0x7f16a580bc88>"
      ]
     },
     "execution_count": 98,
     "metadata": {},
     "output_type": "execute_result"
    }
   ],
   "source": [
    "model = get_model_glove(embedding_layer_3)\n",
    "model.fit(x_train, y_train, validation_data=(x_val, y_val),epochs=2, batch_size=32)"
   ]
  },
  {
   "cell_type": "code",
   "execution_count": 70,
   "id": "3f024590",
   "metadata": {},
   "outputs": [],
   "source": [
    "X = [cleanning_data(sentence) for sentence in X_train]"
   ]
  },
  {
   "cell_type": "code",
   "execution_count": 71,
   "id": "3c51462c",
   "metadata": {},
   "outputs": [
    {
     "name": "stderr",
     "output_type": "stream",
     "text": [
      "/usr/local/lib/python3.6/dist-packages/keras_preprocessing/text.py:180: UserWarning: The `nb_words` argument in `Tokenizer` has been renamed `num_words`.\n",
      "  warnings.warn('The `nb_words` argument in `Tokenizer` '\n"
     ]
    }
   ],
   "source": [
    "x_train,y_train,x_val,y_val,embedding_layer_4 = prepare_data_glove(X,y_train)"
   ]
  },
  {
   "cell_type": "code",
   "execution_count": 74,
   "id": "a216491f",
   "metadata": {},
   "outputs": [
    {
     "name": "stdout",
     "output_type": "stream",
     "text": [
      "Model: \"sequential_6\"\n",
      "_________________________________________________________________\n",
      "Layer (type)                 Output Shape              Param #   \n",
      "=================================================================\n",
      "embedding_1 (Embedding)      (None, 100, 200)          101166000 \n",
      "_________________________________________________________________\n",
      "dropout_10 (Dropout)         (None, 100, 200)          0         \n",
      "_________________________________________________________________\n",
      "lstm_5 (LSTM)                (None, 256)               467968    \n",
      "_________________________________________________________________\n",
      "dropout_11 (Dropout)         (None, 256)               0         \n",
      "_________________________________________________________________\n",
      "dense_5 (Dense)              (None, 2)                 514       \n",
      "=================================================================\n",
      "Total params: 101,634,482\n",
      "Trainable params: 468,482\n",
      "Non-trainable params: 101,166,000\n",
      "_________________________________________________________________\n",
      "None\n",
      "Epoch 1/6\n",
      "2000/2000 [==============================] - 52s 26ms/step - loss: 0.4488 - accuracy: 0.7870 - val_loss: 0.4169 - val_accuracy: 0.8067\n",
      "Epoch 2/6\n",
      "2000/2000 [==============================] - 50s 25ms/step - loss: 0.4102 - accuracy: 0.8104 - val_loss: 0.4055 - val_accuracy: 0.8127\n",
      "Epoch 3/6\n",
      "2000/2000 [==============================] - 52s 26ms/step - loss: 0.3940 - accuracy: 0.8196 - val_loss: 0.3927 - val_accuracy: 0.8208\n",
      "Epoch 4/6\n",
      "2000/2000 [==============================] - 50s 25ms/step - loss: 0.3805 - accuracy: 0.8269 - val_loss: 0.3885 - val_accuracy: 0.8238\n",
      "Epoch 5/6\n",
      "2000/2000 [==============================] - 51s 25ms/step - loss: 0.3689 - accuracy: 0.8332 - val_loss: 0.3877 - val_accuracy: 0.8241\n",
      "Epoch 6/6\n",
      "2000/2000 [==============================] - 50s 25ms/step - loss: 0.3581 - accuracy: 0.8386 - val_loss: 0.3883 - val_accuracy: 0.8242\n"
     ]
    }
   ],
   "source": [
    "model = get_model_LSTM_personal_embedding(embedding_layer_4)\n",
    "history = model.fit(x_train, y_train, validation_data=(x_val, y_val),epochs=6, batch_size=512)"
   ]
  },
  {
   "cell_type": "code",
   "execution_count": 79,
   "id": "e8e9c1bc",
   "metadata": {},
   "outputs": [
    {
     "data": {
      "image/png": "[encoded data removed]",
      "text/plain": [
       "<Figure size 864x720 with 1 Axes>"
      ]
     },
     "metadata": {},
     "output_type": "display_data"
    }
   ],
   "source": [
    "plt.figure(figsize=(12,10))\n",
    "plt.plot(history.history[\"accuracy\"],label=\"train_set\")\n",
    "plt.plot(history.history[\"val_accuracy\"],label=\"validation_set\")\n",
    "plt.ylim(0.7,1)\n",
    "plt.xticks([0,1,2,3,4,5])\n",
    "plt.legend()\n",
    "plt.show()"
   ]
  },
  {
   "cell_type": "markdown",
   "id": "169d55bb",
   "metadata": {},
   "source": [
    "### Avec stemming"
   ]
  },
  {
   "cell_type": "code",
   "execution_count": 80,
   "id": "4446359e",
   "metadata": {},
   "outputs": [
    {
     "name": "stdout",
     "output_type": "stream",
     "text": [
      "CPU times: user 6min 59s, sys: 0 ns, total: 6min 59s\n",
      "Wall time: 6min 58s\n"
     ]
    }
   ],
   "source": [
    "%%time\n",
    "# Clean + stemming + stop_word\n",
    "X_1 = basic_clean(X_train,multithreading=True,stemming=True)"
   ]
  },
  {
   "cell_type": "code",
   "execution_count": 87,
   "id": "0dfbddbf",
   "metadata": {},
   "outputs": [
    {
     "name": "stdout",
     "output_type": "stream",
     "text": [
      "CPU times: user 33.2 s, sys: 0 ns, total: 33.2 s\n",
      "Wall time: 33.2 s\n"
     ]
    }
   ],
   "source": [
    "%%time\n",
    "x_train,y_train,x_val,y_val,embedding_layer_5 = prepare_data_glove(X_1,y_train)"
   ]
  },
  {
   "cell_type": "code",
   "execution_count": 88,
   "id": "1452a621",
   "metadata": {},
   "outputs": [
    {
     "name": "stdout",
     "output_type": "stream",
     "text": [
      "Model: \"sequential_7\"\n",
      "_________________________________________________________________\n",
      "Layer (type)                 Output Shape              Param #   \n",
      "=================================================================\n",
      "embedding_2 (Embedding)      (None, 100, 200)          108565000 \n",
      "_________________________________________________________________\n",
      "dropout_12 (Dropout)         (None, 100, 200)          0         \n",
      "_________________________________________________________________\n",
      "lstm_6 (LSTM)                (None, 256)               467968    \n",
      "_________________________________________________________________\n",
      "dropout_13 (Dropout)         (None, 256)               0         \n",
      "_________________________________________________________________\n",
      "dense_6 (Dense)              (None, 2)                 514       \n",
      "=================================================================\n",
      "Total params: 109,033,482\n",
      "Trainable params: 468,482\n",
      "Non-trainable params: 108,565,000\n",
      "_________________________________________________________________\n",
      "None\n",
      "Epoch 1/6\n",
      "2000/2000 [==============================] - 56s 28ms/step - loss: 0.4970 - accuracy: 0.7549 - val_loss: 0.4693 - val_accuracy: 0.7734\n",
      "Epoch 2/6\n",
      "2000/2000 [==============================] - 52s 26ms/step - loss: 0.4701 - accuracy: 0.7730 - val_loss: 0.4595 - val_accuracy: 0.7806\n",
      "Epoch 3/6\n",
      "2000/2000 [==============================] - 53s 26ms/step - loss: 0.4553 - accuracy: 0.7824 - val_loss: 0.4543 - val_accuracy: 0.7829\n",
      "Epoch 4/6\n",
      "2000/2000 [==============================] - 52s 26ms/step - loss: 0.4464 - accuracy: 0.7875 - val_loss: 0.4512 - val_accuracy: 0.7849\n",
      "Epoch 5/6\n",
      "2000/2000 [==============================] - 54s 27ms/step - loss: 0.4373 - accuracy: 0.7926 - val_loss: 0.4492 - val_accuracy: 0.7858\n",
      "Epoch 6/6\n",
      "2000/2000 [==============================] - 52s 26ms/step - loss: 0.4285 - accuracy: 0.7974 - val_loss: 0.4511 - val_accuracy: 0.7861\n"
     ]
    }
   ],
   "source": [
    "model = get_model_LSTM_personal_embedding(embedding_layer_5)\n",
    "history = model.fit(x_train, y_train, validation_data=(x_val, y_val),epochs=6, batch_size=512)"
   ]
  },
  {
   "cell_type": "markdown",
   "id": "c116291a",
   "metadata": {},
   "source": [
    "## Word2Vec Embedding"
   ]
  },
  {
   "cell_type": "code",
   "execution_count": 19,
   "id": "54f4d234",
   "metadata": {},
   "outputs": [],
   "source": [
    "import gensim\n",
    "\n",
    "def create_layer_embedding_word_2_vec(X, W2V_SIZE = 300, W2V_WINDOW = 7, W2V_EPOCH = 32,\n",
    "                                      W2V_MIN_COUNT = 10, SEQUENCE_LENGTH = 300, workers=32):\n",
    "    \n",
    "    documents = [_text.split() for _text in X]\n",
    "    w2v_model = gensim.models.word2vec.Word2Vec(vector_size=W2V_SIZE, \n",
    "                                                window=W2V_WINDOW, min_count=W2V_MIN_COUNT,workers=workers)\n",
    "    w2v_model.build_vocab(documents)\n",
    "    \n",
    "    w2v_model.train(documents, total_examples=len(documents), epochs=W2V_EPOCH)\n",
    "    tokenizer = Tokenizer()\n",
    "    tokenizer.fit_on_texts(X)\n",
    "\n",
    "    vocab_size = len(tokenizer.word_index) + 1\n",
    "    x_train = pad_sequences(tokenizer.texts_to_sequences(X), maxlen=SEQUENCE_LENGTH)\n",
    "    embedding_matrix = np.zeros((vocab_size, W2V_SIZE))\n",
    "    for word, i in tokenizer.word_index.items():\n",
    "        if word in w2v_model.wv.index_to_key:\n",
    "            embedding_matrix[i] = w2v_model.wv.get_vector(word, norm=True)\n",
    "            \n",
    "    embedding_layer_word_2_vec = Embedding(vocab_size, W2V_SIZE,\n",
    "                                           weights=[embedding_matrix], input_length=SEQUENCE_LENGTH, trainable=False)\n",
    "    \n",
    "    return x_train, embedding_layer_word_2_vec, tokenizer"
   ]
  },
  {
   "cell_type": "code",
   "execution_count": 95,
   "id": "2cfb4a33",
   "metadata": {},
   "outputs": [
    {
     "name": "stdout",
     "output_type": "stream",
     "text": [
      "CPU times: user 24min 10s, sys: 11.6 s, total: 24min 22s\n",
      "Wall time: 8min 13s\n"
     ]
    }
   ],
   "source": [
    "%%time\n",
    "x_train, embedding_layer_w2v, tokenizer = create_layer_embedding_word_2_vec(X_1)"
   ]
  },
  {
   "cell_type": "code",
   "execution_count": 99,
   "id": "109f72ed",
   "metadata": {},
   "outputs": [],
   "source": [
    "Y = pd.get_dummies(y_train).values"
   ]
  },
  {
   "cell_type": "code",
   "execution_count": 100,
   "id": "7d41cf69",
   "metadata": {},
   "outputs": [
    {
     "name": "stdout",
     "output_type": "stream",
     "text": [
      "Model: \"sequential_8\"\n",
      "_________________________________________________________________\n",
      "Layer (type)                 Output Shape              Param #   \n",
      "=================================================================\n",
      "embedding_3 (Embedding)      (None, 300, 300)          162847500 \n",
      "_________________________________________________________________\n",
      "dropout_14 (Dropout)         (None, 300, 300)          0         \n",
      "_________________________________________________________________\n",
      "lstm_7 (LSTM)                (None, 256)               570368    \n",
      "_________________________________________________________________\n",
      "dropout_15 (Dropout)         (None, 256)               0         \n",
      "_________________________________________________________________\n",
      "dense_7 (Dense)              (None, 2)                 514       \n",
      "=================================================================\n",
      "Total params: 163,418,382\n",
      "Trainable params: 570,882\n",
      "Non-trainable params: 162,847,500\n",
      "_________________________________________________________________\n",
      "None\n",
      "Epoch 1/8\n",
      "1125/1125 [==============================] - 91s 80ms/step - loss: 0.4961 - accuracy: 0.7600 - val_loss: 0.4700 - val_accuracy: 0.7747\n",
      "Epoch 2/8\n",
      "1125/1125 [==============================] - 89s 79ms/step - loss: 0.4704 - accuracy: 0.7734 - val_loss: 0.4587 - val_accuracy: 0.7811\n",
      "Epoch 3/8\n",
      "1125/1125 [==============================] - 90s 80ms/step - loss: 0.4605 - accuracy: 0.7795 - val_loss: 0.4514 - val_accuracy: 0.7854\n",
      "Epoch 4/8\n",
      "1125/1125 [==============================] - 90s 80ms/step - loss: 0.4539 - accuracy: 0.7838 - val_loss: 0.4462 - val_accuracy: 0.7880\n",
      "Epoch 5/8\n",
      "1125/1125 [==============================] - 90s 80ms/step - loss: 0.4480 - accuracy: 0.7870 - val_loss: 0.4423 - val_accuracy: 0.7906\n",
      "Epoch 6/8\n",
      "1125/1125 [==============================] - 89s 79ms/step - loss: 0.4452 - accuracy: 0.7887 - val_loss: 0.4402 - val_accuracy: 0.7920\n",
      "Epoch 7/8\n",
      "1125/1125 [==============================] - 89s 79ms/step - loss: 0.4398 - accuracy: 0.7921 - val_loss: 0.4368 - val_accuracy: 0.7937\n",
      "Epoch 8/8\n",
      "1125/1125 [==============================] - 89s 80ms/step - loss: 0.4357 - accuracy: 0.7942 - val_loss: 0.4357 - val_accuracy: 0.7948\n"
     ]
    }
   ],
   "source": [
    "model = get_model_LSTM_personal_embedding(embedding_layer_w2v)\n",
    "\n",
    "history = model.fit(x_train, Y, validation_split=0.1 ,epochs=8, batch_size=1024)"
   ]
  },
  {
   "cell_type": "code",
   "execution_count": 37,
   "id": "a4aa00ed",
   "metadata": {},
   "outputs": [],
   "source": [
    "import gensim\n",
    "\n",
    "# WORD2VEC \n",
    "W2V_SIZE = 300\n",
    "W2V_WINDOW = 7\n",
    "W2V_EPOCH = 32\n",
    "W2V_MIN_COUNT = 10\n",
    "\n",
    "# KERAS\n",
    "SEQUENCE_LENGTH = 300\n",
    "EPOCHS = 8\n",
    "BATCH_SIZE = 1024"
   ]
  },
  {
   "cell_type": "code",
   "execution_count": 22,
   "id": "92e58abe",
   "metadata": {},
   "outputs": [
    {
     "name": "stdout",
     "output_type": "stream",
     "text": [
      "CPU times: user 50.8 s, sys: 0 ns, total: 50.8 s\n",
      "Wall time: 50.8 s\n"
     ]
    }
   ],
   "source": [
    "%%time\n",
    "X = [cleanning_data(sentence) for sentence in X_train]"
   ]
  },
  {
   "cell_type": "code",
   "execution_count": 36,
   "id": "a92185ed",
   "metadata": {},
   "outputs": [
    {
     "name": "stdout",
     "output_type": "stream",
     "text": [
      "CPU times: user 12.6 s, sys: 6.65 ms, total: 12.6 s\n",
      "Wall time: 12.6 s\n"
     ]
    }
   ],
   "source": [
    "%%time\n",
    "test_X = [cleanning_data(sentence) for sentence in X_test]"
   ]
  },
  {
   "cell_type": "code",
   "execution_count": 56,
   "id": "a80fbaad",
   "metadata": {},
   "outputs": [],
   "source": [
    "Y = pd.get_dummies(y_train).values\n",
    "test_Y = pd.get_dummies(y_test).values"
   ]
  },
  {
   "cell_type": "code",
   "execution_count": 23,
   "id": "8800e960",
   "metadata": {},
   "outputs": [
    {
     "name": "stdout",
     "output_type": "stream",
     "text": [
      "CPU times: user 2.89 s, sys: 192 ms, total: 3.08 s\n",
      "Wall time: 3.08 s\n"
     ]
    }
   ],
   "source": [
    "%%time\n",
    "documents = [_text.split() for _text in X]"
   ]
  },
  {
   "cell_type": "code",
   "execution_count": 25,
   "id": "70764f24",
   "metadata": {},
   "outputs": [],
   "source": [
    "w2v_model = gensim.models.word2vec.Word2Vec(vector_size=W2V_SIZE, window=W2V_WINDOW, min_count=W2V_MIN_COUNT,workers=32)"
   ]
  },
  {
   "cell_type": "code",
   "execution_count": 26,
   "id": "a707b6a5",
   "metadata": {},
   "outputs": [],
   "source": [
    "w2v_model.build_vocab(documents)"
   ]
  },
  {
   "cell_type": "code",
   "execution_count": 32,
   "id": "866c866a",
   "metadata": {},
   "outputs": [
    {
     "name": "stdout",
     "output_type": "stream",
     "text": [
      "Vocab size 36963\n"
     ]
    }
   ],
   "source": [
    "words = w2v_model.wv.index_to_key\n",
    "vocab_size = len(words)\n",
    "print(\"Vocab size\", vocab_size)"
   ]
  },
  {
   "cell_type": "code",
   "execution_count": 33,
   "id": "d2674217",
   "metadata": {},
   "outputs": [
    {
     "name": "stdout",
     "output_type": "stream",
     "text": [
      "CPU times: user 25min 37s, sys: 17.7 s, total: 25min 54s\n",
      "Wall time: 4min 18s\n"
     ]
    },
    {
     "data": {
      "text/plain": [
       "(383102385, 499965504)"
      ]
     },
     "execution_count": 33,
     "metadata": {},
     "output_type": "execute_result"
    }
   ],
   "source": [
    "%%time\n",
    "w2v_model.train(documents, total_examples=len(documents), epochs=W2V_EPOCH)"
   ]
  },
  {
   "cell_type": "code",
   "execution_count": 35,
   "id": "b461edb8",
   "metadata": {},
   "outputs": [
    {
     "data": {
      "text/plain": [
       "[('luv', 0.6479347944259644),\n",
       " ('adore', 0.6370643973350525),\n",
       " ('loves', 0.6069856286048889),\n",
       " ('looove', 0.5996899008750916),\n",
       " ('loooove', 0.5979689955711365),\n",
       " ('loveee', 0.5730721950531006),\n",
       " ('loove', 0.5558979511260986),\n",
       " ('lovee', 0.546833336353302),\n",
       " ('loved', 0.5401460528373718),\n",
       " ('looooove', 0.5308914184570312)]"
      ]
     },
     "execution_count": 35,
     "metadata": {},
     "output_type": "execute_result"
    }
   ],
   "source": [
    "w2v_model.wv.most_similar(\"love\")"
   ]
  },
  {
   "cell_type": "code",
   "execution_count": 38,
   "id": "57ea57c9",
   "metadata": {},
   "outputs": [
    {
     "name": "stdout",
     "output_type": "stream",
     "text": [
      "Total words 505830\n",
      "CPU times: user 16.8 s, sys: 107 ms, total: 17 s\n",
      "Wall time: 17 s\n"
     ]
    }
   ],
   "source": [
    "%%time\n",
    "tokenizer = Tokenizer()\n",
    "tokenizer.fit_on_texts(X)\n",
    "\n",
    "vocab_size = len(tokenizer.word_index) + 1\n",
    "print(\"Total words\", vocab_size)"
   ]
  },
  {
   "cell_type": "code",
   "execution_count": 39,
   "id": "7c8551f1",
   "metadata": {},
   "outputs": [
    {
     "name": "stdout",
     "output_type": "stream",
     "text": [
      "CPU times: user 24.3 s, sys: 439 ms, total: 24.7 s\n",
      "Wall time: 24.7 s\n"
     ]
    }
   ],
   "source": [
    "%%time\n",
    "x_train = pad_sequences(tokenizer.texts_to_sequences(X), maxlen=SEQUENCE_LENGTH)\n",
    "x_test = pad_sequences(tokenizer.texts_to_sequences(test_X), maxlen=SEQUENCE_LENGTH)"
   ]
  },
  {
   "cell_type": "code",
   "execution_count": 45,
   "id": "861b977f",
   "metadata": {},
   "outputs": [
    {
     "name": "stdout",
     "output_type": "stream",
     "text": [
      "(505830, 300)\n",
      "CPU times: user 4min 11s, sys: 0 ns, total: 4min 11s\n",
      "Wall time: 4min 11s\n"
     ]
    }
   ],
   "source": [
    "%%time\n",
    "embedding_matrix = np.zeros((vocab_size, W2V_SIZE))\n",
    "for word, i in tokenizer.word_index.items():\n",
    "    if word in w2v_model.wv.index_to_key:\n",
    "        embedding_matrix[i] = w2v_model.wv.get_vector(word, norm=True)\n",
    "print(embedding_matrix.shape)"
   ]
  },
  {
   "cell_type": "code",
   "execution_count": 46,
   "id": "b5dbbfcf",
   "metadata": {},
   "outputs": [],
   "source": [
    "embedding_layer_word_2_vec = Embedding(vocab_size, W2V_SIZE, weights=[embedding_matrix], input_length=SEQUENCE_LENGTH, trainable=False)"
   ]
  },
  {
   "cell_type": "code",
   "execution_count": 61,
   "id": "39abad1e",
   "metadata": {},
   "outputs": [
    {
     "name": "stdout",
     "output_type": "stream",
     "text": [
      "Model: \"sequential_4\"\n",
      "_________________________________________________________________\n",
      "Layer (type)                 Output Shape              Param #   \n",
      "=================================================================\n",
      "embedding (Embedding)        (None, 300, 300)          151749000 \n",
      "_________________________________________________________________\n",
      "dropout_6 (Dropout)          (None, 300, 300)          0         \n",
      "_________________________________________________________________\n",
      "lstm_3 (LSTM)                (None, 256)               570368    \n",
      "_________________________________________________________________\n",
      "dropout_7 (Dropout)          (None, 256)               0         \n",
      "_________________________________________________________________\n",
      "dense_3 (Dense)              (None, 2)                 514       \n",
      "=================================================================\n",
      "Total params: 152,319,882\n",
      "Trainable params: 570,882\n",
      "Non-trainable params: 151,749,000\n",
      "_________________________________________________________________\n"
     ]
    }
   ],
   "source": [
    "model = Sequential()\n",
    "model.add(embedding_layer_word_2_vec)\n",
    "model.add(Dropout(0.1))\n",
    "model.add(LSTM(256))\n",
    "model.add(Dropout(0.2))\n",
    "model.add(Dense(2, activation='softmax'))\n",
    "\n",
    "model.summary()"
   ]
  },
  {
   "cell_type": "code",
   "execution_count": 62,
   "id": "fc7bbee0",
   "metadata": {},
   "outputs": [],
   "source": [
    "model.compile(loss='categorical_crossentropy',\n",
    "              optimizer=\"adam\",\n",
    "              metrics=['accuracy'])"
   ]
  },
  {
   "cell_type": "code",
   "execution_count": 63,
   "id": "39665e23",
   "metadata": {},
   "outputs": [
    {
     "name": "stdout",
     "output_type": "stream",
     "text": [
      "Epoch 1/8\n",
      "1125/1125 [==============================] - 94s 82ms/step - loss: 0.4633 - accuracy: 0.7809 - val_loss: 0.4234 - val_accuracy: 0.8033\n",
      "Epoch 2/8\n",
      "1125/1125 [==============================] - 95s 84ms/step - loss: 0.4196 - accuracy: 0.8062 - val_loss: 0.4021 - val_accuracy: 0.8160\n",
      "Epoch 3/8\n",
      "1125/1125 [==============================] - 90s 80ms/step - loss: 0.4027 - accuracy: 0.8157 - val_loss: 0.3911 - val_accuracy: 0.8209\n",
      "Epoch 4/8\n",
      "1125/1125 [==============================] - 90s 80ms/step - loss: 0.3930 - accuracy: 0.8212 - val_loss: 0.3837 - val_accuracy: 0.8264\n",
      "Epoch 5/8\n",
      "1125/1125 [==============================] - 91s 81ms/step - loss: 0.3861 - accuracy: 0.8251 - val_loss: 0.3781 - val_accuracy: 0.8287\n",
      "Epoch 6/8\n",
      "1125/1125 [==============================] - 91s 81ms/step - loss: 0.3799 - accuracy: 0.8284 - val_loss: 0.3762 - val_accuracy: 0.8313\n",
      "Epoch 7/8\n",
      "1125/1125 [==============================] - 91s 81ms/step - loss: 0.3732 - accuracy: 0.8322 - val_loss: 0.3721 - val_accuracy: 0.8326\n",
      "Epoch 8/8\n",
      "1125/1125 [==============================] - 90s 80ms/step - loss: 0.3678 - accuracy: 0.8349 - val_loss: 0.3701 - val_accuracy: 0.8340\n"
     ]
    },
    {
     "data": {
      "text/plain": [
       "<keras.callbacks.History at 0x7f37a42a0e48>"
      ]
     },
     "execution_count": 63,
     "metadata": {},
     "output_type": "execute_result"
    }
   ],
   "source": [
    "model.fit(x_train, Y,batch_size=BATCH_SIZE, epochs=EPOCHS,validation_split=0.1)"
   ]
  },
  {
   "cell_type": "code",
   "execution_count": 64,
   "id": "3d116889",
   "metadata": {},
   "outputs": [
    {
     "name": "stdout",
     "output_type": "stream",
     "text": [
      "313/313 [==============================] - 10s 30ms/step - loss: 0.3726 - accuracy: 0.8329\n",
      "Score: 0.37\n",
      "Validation Accuracy: 0.83\n"
     ]
    }
   ],
   "source": [
    "score,acc = model.evaluate(x_test, test_Y, batch_size = BATCH_SIZE)\n",
    "print(\"Score: %.2f\" % (score))\n",
    "print(\"Validation Accuracy: %.2f\" % (acc))"
   ]
  },
  {
   "cell_type": "markdown",
   "id": "80318e3b",
   "metadata": {},
   "source": [
    "# Bert test"
   ]
  },
  {
   "cell_type": "code",
   "execution_count": 24,
   "id": "68181175",
   "metadata": {},
   "outputs": [
    {
     "data": {
      "application/vnd.jupyter.widget-view+json": {
       "model_id": "7ff98f4eb0844a2eaaf2d54c77483b70",
       "version_major": 2,
       "version_minor": 0
      },
      "text/plain": [
       "Downloading:   0%|          | 0.00/570 [00:00<?, ?B/s]"
      ]
     },
     "metadata": {},
     "output_type": "display_data"
    },
    {
     "data": {
      "application/vnd.jupyter.widget-view+json": {
       "model_id": "4c23824e991a453eacb60bf6e29f7c9d",
       "version_major": 2,
       "version_minor": 0
      },
      "text/plain": [
       "Downloading:   0%|          | 0.00/511M [00:00<?, ?B/s]"
      ]
     },
     "metadata": {},
     "output_type": "display_data"
    },
    {
     "name": "stderr",
     "output_type": "stream",
     "text": [
      "All model checkpoint layers were used when initializing TFBertForSequenceClassification.\n",
      "\n",
      "Some layers of TFBertForSequenceClassification were not initialized from the model checkpoint at bert-base-uncased and are newly initialized: ['classifier']\n",
      "You should probably TRAIN this model on a down-stream task to be able to use it for predictions and inference.\n"
     ]
    },
    {
     "data": {
      "application/vnd.jupyter.widget-view+json": {
       "model_id": "0ce07af236724e1087d69dcd7b377f60",
       "version_major": 2,
       "version_minor": 0
      },
      "text/plain": [
       "Downloading:   0%|          | 0.00/226k [00:00<?, ?B/s]"
      ]
     },
     "metadata": {},
     "output_type": "display_data"
    },
    {
     "data": {
      "application/vnd.jupyter.widget-view+json": {
       "model_id": "386619dad30e4887acbbb0acf5b38a96",
       "version_major": 2,
       "version_minor": 0
      },
      "text/plain": [
       "Downloading:   0%|          | 0.00/28.0 [00:00<?, ?B/s]"
      ]
     },
     "metadata": {},
     "output_type": "display_data"
    },
    {
     "data": {
      "application/vnd.jupyter.widget-view+json": {
       "model_id": "a2dfe7b737ec40abaed4654d24440525",
       "version_major": 2,
       "version_minor": 0
      },
      "text/plain": [
       "Downloading:   0%|          | 0.00/455k [00:00<?, ?B/s]"
      ]
     },
     "metadata": {},
     "output_type": "display_data"
    }
   ],
   "source": [
    "from transformers import BertTokenizer, TFBertForSequenceClassification\n",
    "from transformers import InputExample, InputFeatures\n",
    "\n",
    "bert_model = TFBertForSequenceClassification.from_pretrained(\"bert-base-uncased\")\n",
    "tokenizer = BertTokenizer.from_pretrained(\"bert-base-uncased\")"
   ]
  },
  {
   "cell_type": "code",
   "execution_count": 25,
   "id": "8cafa913",
   "metadata": {},
   "outputs": [
    {
     "name": "stdout",
     "output_type": "stream",
     "text": [
      "Model: \"tf_bert_for_sequence_classification\"\n",
      "_________________________________________________________________\n",
      "Layer (type)                 Output Shape              Param #   \n",
      "=================================================================\n",
      "bert (TFBertMainLayer)       multiple                  109482240 \n",
      "_________________________________________________________________\n",
      "dropout_37 (Dropout)         multiple                  0         \n",
      "_________________________________________________________________\n",
      "classifier (Dense)           multiple                  1538      \n",
      "=================================================================\n",
      "Total params: 109,483,778\n",
      "Trainable params: 109,483,778\n",
      "Non-trainable params: 0\n",
      "_________________________________________________________________\n"
     ]
    }
   ],
   "source": [
    "bert_model.summary()"
   ]
  },
  {
   "cell_type": "markdown",
   "id": "cc88603f",
   "metadata": {},
   "source": [
    "https://towardsdatascience.com/sentiment-analysis-in-10-minutes-with-bert-and-hugging-face-294e8a04b671"
   ]
  },
  {
   "cell_type": "code",
   "execution_count": 26,
   "id": "1a0f24dd",
   "metadata": {},
   "outputs": [],
   "source": [
    "dic = {\"good\":0,\"bad\":1}\n",
    "labels = [dic[y] for y in reduce_Y]"
   ]
  },
  {
   "cell_type": "code",
   "execution_count": 43,
   "id": "c09a54d6",
   "metadata": {},
   "outputs": [],
   "source": [
    "import random\n",
    "random.seed(42)\n",
    "c = list(zip(reduce_X,labels))\n",
    "random.shuffle(c)\n",
    "X_train_red,labels_red = zip(*c)"
   ]
  },
  {
   "cell_type": "code",
   "execution_count": 44,
   "id": "df250eb1",
   "metadata": {},
   "outputs": [],
   "source": [
    "X_train_reduce = X_train_red[:10000]\n",
    "X_test_reduce = X_train_red[10000:15000]\n",
    "\n",
    "y_train_reduce = labels_red[:10000]\n",
    "y_test_reduce = labels_red[10000:15000]"
   ]
  },
  {
   "cell_type": "code",
   "execution_count": 45,
   "id": "61e89e5f",
   "metadata": {},
   "outputs": [
    {
     "data": {
      "text/html": [
       "<div>\n",
       "<style scoped>\n",
       "    .dataframe tbody tr th:only-of-type {\n",
       "        vertical-align: middle;\n",
       "    }\n",
       "\n",
       "    .dataframe tbody tr th {\n",
       "        vertical-align: top;\n",
       "    }\n",
       "\n",
       "    .dataframe thead th {\n",
       "        text-align: right;\n",
       "    }\n",
       "</style>\n",
       "<table border=\"1\" class=\"dataframe\">\n",
       "  <thead>\n",
       "    <tr style=\"text-align: right;\">\n",
       "      <th></th>\n",
       "      <th>DATA_COLUMN</th>\n",
       "      <th>LABEL_COLUMN</th>\n",
       "    </tr>\n",
       "  </thead>\n",
       "  <tbody>\n",
       "    <tr>\n",
       "      <th>0</th>\n",
       "      <td>Pizza with my baby @TheWorldAndI</td>\n",
       "      <td>0</td>\n",
       "    </tr>\n",
       "    <tr>\n",
       "      <th>1</th>\n",
       "      <td>The food craving hole is long gone. Right now ...</td>\n",
       "      <td>1</td>\n",
       "    </tr>\n",
       "    <tr>\n",
       "      <th>2</th>\n",
       "      <td>@AshelyMonroe I miss you like fucking crazy! n...</td>\n",
       "      <td>1</td>\n",
       "    </tr>\n",
       "    <tr>\n",
       "      <th>3</th>\n",
       "      <td>My body hurts</td>\n",
       "      <td>1</td>\n",
       "    </tr>\n",
       "    <tr>\n",
       "      <th>4</th>\n",
       "      <td>@cheetah757 hey sis how are u..i texed u da ot...</td>\n",
       "      <td>1</td>\n",
       "    </tr>\n",
       "  </tbody>\n",
       "</table>\n",
       "</div>"
      ],
      "text/plain": [
       "                                         DATA_COLUMN LABEL_COLUMN\n",
       "0                  Pizza with my baby @TheWorldAndI             0\n",
       "1  The food craving hole is long gone. Right now ...            1\n",
       "2  @AshelyMonroe I miss you like fucking crazy! n...            1\n",
       "3                                     My body hurts             1\n",
       "4  @cheetah757 hey sis how are u..i texed u da ot...            1"
      ]
     },
     "execution_count": 45,
     "metadata": {},
     "output_type": "execute_result"
    }
   ],
   "source": [
    "train = pd.DataFrame([X_train_reduce,y_train_reduce],index=[\"DATA_COLUMN\",\"LABEL_COLUMN\"]).T\n",
    "test =  pd.DataFrame([X_test_reduce,y_test_reduce],index=[\"DATA_COLUMN\",\"LABEL_COLUMN\"]).T\n",
    "train.head()"
   ]
  },
  {
   "cell_type": "code",
   "execution_count": 46,
   "id": "4ed35828",
   "metadata": {},
   "outputs": [
    {
     "data": {
      "text/html": [
       "<div>\n",
       "<style scoped>\n",
       "    .dataframe tbody tr th:only-of-type {\n",
       "        vertical-align: middle;\n",
       "    }\n",
       "\n",
       "    .dataframe tbody tr th {\n",
       "        vertical-align: top;\n",
       "    }\n",
       "\n",
       "    .dataframe thead th {\n",
       "        text-align: right;\n",
       "    }\n",
       "</style>\n",
       "<table border=\"1\" class=\"dataframe\">\n",
       "  <thead>\n",
       "    <tr style=\"text-align: right;\">\n",
       "      <th></th>\n",
       "      <th>DATA_COLUMN</th>\n",
       "      <th>LABEL_COLUMN</th>\n",
       "    </tr>\n",
       "  </thead>\n",
       "  <tbody>\n",
       "    <tr>\n",
       "      <th>0</th>\n",
       "      <td>@guidfletcher I know the answer</td>\n",
       "      <td>0</td>\n",
       "    </tr>\n",
       "    <tr>\n",
       "      <th>1</th>\n",
       "      <td>At sea rocket bistro for grilled sardine, clam...</td>\n",
       "      <td>1</td>\n",
       "    </tr>\n",
       "    <tr>\n",
       "      <th>2</th>\n",
       "      <td>ahhhhh tired. Going to the doctor on Monday......</td>\n",
       "      <td>1</td>\n",
       "    </tr>\n",
       "    <tr>\n",
       "      <th>3</th>\n",
       "      <td>G'mornin Earth Lovers!</td>\n",
       "      <td>0</td>\n",
       "    </tr>\n",
       "    <tr>\n",
       "      <th>4</th>\n",
       "      <td>i miss peoplee  come backkk. chrissy. bio is a...</td>\n",
       "      <td>1</td>\n",
       "    </tr>\n",
       "  </tbody>\n",
       "</table>\n",
       "</div>"
      ],
      "text/plain": [
       "                                         DATA_COLUMN LABEL_COLUMN\n",
       "0                   @guidfletcher I know the answer             0\n",
       "1  At sea rocket bistro for grilled sardine, clam...            1\n",
       "2  ahhhhh tired. Going to the doctor on Monday......            1\n",
       "3                            G'mornin Earth Lovers!             0\n",
       "4  i miss peoplee  come backkk. chrissy. bio is a...            1"
      ]
     },
     "execution_count": 46,
     "metadata": {},
     "output_type": "execute_result"
    }
   ],
   "source": [
    "test.head()"
   ]
  },
  {
   "cell_type": "code",
   "execution_count": 34,
   "id": "92fa9cf4",
   "metadata": {},
   "outputs": [
    {
     "data": {
      "text/plain": [
       "InputExample(guid=None, text_a='Hello, world', text_b=None, label=1)"
      ]
     },
     "execution_count": 34,
     "metadata": {},
     "output_type": "execute_result"
    }
   ],
   "source": [
    "InputExample(guid=None,\n",
    "             text_a = \"Hello, world\",\n",
    "             text_b = None,\n",
    "             label = 1)"
   ]
  },
  {
   "cell_type": "code",
   "execution_count": 47,
   "id": "88a48647",
   "metadata": {},
   "outputs": [],
   "source": [
    "def convert_data_to_examples(train, test, DATA_COLUMN, LABEL_COLUMN): \n",
    "    train_InputExamples = train.apply(lambda x: InputExample(guid=None, # Globally unique ID for bookkeeping, unused in this case\n",
    "                                                          text_a = x[DATA_COLUMN], \n",
    "                                                          text_b = None,\n",
    "                                                          label = x[LABEL_COLUMN]), axis = 1)\n",
    "\n",
    "    validation_InputExamples = test.apply(lambda x: InputExample(guid=None, # Globally unique ID for bookkeeping, unused in this case\n",
    "                                                          text_a = x[DATA_COLUMN], \n",
    "                                                          text_b = None,\n",
    "                                                          label = x[LABEL_COLUMN]), axis = 1)\n",
    "    return train_InputExamples, validation_InputExamples\n",
    "\n",
    "\n",
    "def convert_examples_to_tf_dataset(examples, tokenizer, max_length=128):\n",
    "    features = [] # -> will hold InputFeatures to be converted later\n",
    "\n",
    "    for e in examples:\n",
    "        # Documentation is really strong for this method, so please take a look at it\n",
    "        input_dict = tokenizer.encode_plus(\n",
    "            e.text_a,\n",
    "            add_special_tokens=True,\n",
    "            max_length=max_length, # truncates if len(s) > max_length\n",
    "            return_token_type_ids=True,\n",
    "            return_attention_mask=True,\n",
    "            pad_to_max_length=True, # pads to the right by default # CHECK THIS for pad_to_max_length\n",
    "            truncation=True\n",
    "        )\n",
    "\n",
    "        input_ids, token_type_ids, attention_mask = (input_dict[\"input_ids\"],\n",
    "            input_dict[\"token_type_ids\"], input_dict['attention_mask'])\n",
    "\n",
    "        features.append(\n",
    "            InputFeatures(\n",
    "                input_ids=input_ids, attention_mask=attention_mask, token_type_ids=token_type_ids, label=e.label\n",
    "            )\n",
    "        )\n",
    "\n",
    "    def gen():\n",
    "        for f in features:\n",
    "            yield (\n",
    "                {\n",
    "                    \"input_ids\": f.input_ids,\n",
    "                    \"attention_mask\": f.attention_mask,\n",
    "                    \"token_type_ids\": f.token_type_ids,\n",
    "                },\n",
    "                f.label,\n",
    "            )\n",
    "\n",
    "    return tf.data.Dataset.from_generator(\n",
    "        gen,\n",
    "        ({\"input_ids\": tf.int32, \"attention_mask\": tf.int32, \"token_type_ids\": tf.int32}, tf.int64),\n",
    "        (\n",
    "            {\n",
    "                \"input_ids\": tf.TensorShape([None]),\n",
    "                \"attention_mask\": tf.TensorShape([None]),\n",
    "                \"token_type_ids\": tf.TensorShape([None]),\n",
    "            },\n",
    "            tf.TensorShape([]),\n",
    "        ),\n",
    "    )\n",
    "\n",
    "\n",
    "DATA_COLUMN = 'DATA_COLUMN'\n",
    "LABEL_COLUMN = 'LABEL_COLUMN'"
   ]
  },
  {
   "cell_type": "code",
   "execution_count": 48,
   "id": "42492d3a",
   "metadata": {},
   "outputs": [
    {
     "name": "stderr",
     "output_type": "stream",
     "text": [
      "/usr/local/lib/python3.6/dist-packages/transformers/tokenization_utils_base.py:2218: FutureWarning: The `pad_to_max_length` argument is deprecated and will be removed in a future version, use `padding=True` or `padding='longest'` to pad to the longest sequence in the batch, or use `padding='max_length'` to pad to a max length. In this case, you can give a specific length with `max_length` (e.g. `max_length=45`) or leave max_length to None to pad to the maximal input size of the model (e.g. 512 for Bert).\n",
      "  FutureWarning,\n"
     ]
    }
   ],
   "source": [
    "train_InputExamples, validation_InputExamples = convert_data_to_examples(train, test, DATA_COLUMN, LABEL_COLUMN)\n",
    "\n",
    "train_data = convert_examples_to_tf_dataset(list(train_InputExamples), tokenizer)\n",
    "train_data = train_data.shuffle(100).batch(32).repeat(2)\n",
    "\n",
    "validation_data = convert_examples_to_tf_dataset(list(validation_InputExamples), tokenizer)\n",
    "validation_data = validation_data.batch(32)"
   ]
  },
  {
   "cell_type": "code",
   "execution_count": 49,
   "id": "d0a3e67f",
   "metadata": {},
   "outputs": [
    {
     "name": "stdout",
     "output_type": "stream",
     "text": [
      "Epoch 1/2\n",
      "626/626 [==============================] - 321s 488ms/step - loss: 0.3740 - accuracy: 0.8363 - val_loss: 0.4627 - val_accuracy: 0.8160\n",
      "Epoch 2/2\n",
      "626/626 [==============================] - 304s 486ms/step - loss: 0.1151 - accuracy: 0.9600 - val_loss: 0.7121 - val_accuracy: 0.8010\n"
     ]
    },
    {
     "data": {
      "text/plain": [
       "<keras.callbacks.History at 0x7f2e983bd240>"
      ]
     },
     "execution_count": 49,
     "metadata": {},
     "output_type": "execute_result"
    }
   ],
   "source": [
    "bert_model.compile(optimizer=tf.keras.optimizers.Adam(learning_rate=3e-5, epsilon=1e-08, clipnorm=1.0), \n",
    "              loss=tf.keras.losses.SparseCategoricalCrossentropy(from_logits=True), \n",
    "              metrics=[tf.keras.metrics.SparseCategoricalAccuracy('accuracy')])\n",
    "\n",
    "bert_model.fit(train_data, epochs=2, validation_data=validation_data)"
   ]
  },
  {
   "cell_type": "code",
   "execution_count": 53,
   "id": "436daeeb",
   "metadata": {},
   "outputs": [],
   "source": [
    "pred_sentences = ['This was an awesome movie. I watch it twice my time watching this beautiful movie if I have known it was this good',\n",
    "                  'One of the worst movies of all time. I cannot believe I wasted two hours of my life for this movie']"
   ]
  },
  {
   "cell_type": "code",
   "execution_count": 55,
   "id": "8e40c7be",
   "metadata": {},
   "outputs": [
    {
     "name": "stdout",
     "output_type": "stream",
     "text": [
      "This was an awesome movie. I watch it twice my time watching this beautiful movie if I have known it was this good : \n",
      " good\n",
      "One of the worst movies of all time. I cannot believe I wasted two hours of my life for this movie : \n",
      " bad\n"
     ]
    }
   ],
   "source": [
    "tf_batch = tokenizer(pred_sentences, max_length=128, padding=True, truncation=True, return_tensors='tf')\n",
    "tf_outputs = bert_model(tf_batch)\n",
    "tf_predictions = tf.nn.softmax(tf_outputs[0], axis=-1)\n",
    "lab = list(dic.keys())\n",
    "label = tf.argmax(tf_predictions, axis=1)\n",
    "label = label.numpy()\n",
    "for i in range(len(pred_sentences)):\n",
    "    print(pred_sentences[i], \": \\n\", lab[label[i]])"
   ]
  },
  {
   "cell_type": "markdown",
   "id": "95854219",
   "metadata": {},
   "source": [
    "# Bert avec plus de données"
   ]
  },
  {
   "cell_type": "code",
   "execution_count": 56,
   "id": "1db80caa",
   "metadata": {},
   "outputs": [],
   "source": [
    "X_train_reduce = X_train_red[:90000]\n",
    "X_test_reduce = X_train_red[90000:]\n",
    "\n",
    "y_train_reduce = labels_red[:90000]\n",
    "y_test_reduce = labels_red[90000:]"
   ]
  },
  {
   "cell_type": "code",
   "execution_count": 60,
   "id": "5467c8cf",
   "metadata": {},
   "outputs": [],
   "source": [
    "train = pd.DataFrame([X_train_reduce,y_train_reduce],index=[\"DATA_COLUMN\",\"LABEL_COLUMN\"]).T\n",
    "test =  pd.DataFrame([X_test_reduce,y_test_reduce],index=[\"DATA_COLUMN\",\"LABEL_COLUMN\"]).T"
   ]
  },
  {
   "cell_type": "code",
   "execution_count": 62,
   "id": "b469ad73",
   "metadata": {},
   "outputs": [
    {
     "name": "stderr",
     "output_type": "stream",
     "text": [
      "All model checkpoint layers were used when initializing TFBertForSequenceClassification.\n",
      "\n",
      "Some layers of TFBertForSequenceClassification were not initialized from the model checkpoint at bert-base-uncased and are newly initialized: ['classifier']\n",
      "You should probably TRAIN this model on a down-stream task to be able to use it for predictions and inference.\n"
     ]
    }
   ],
   "source": [
    "bert_model = TFBertForSequenceClassification.from_pretrained(\"bert-base-uncased\")\n",
    "tokenizer = BertTokenizer.from_pretrained(\"bert-base-uncased\")"
   ]
  },
  {
   "cell_type": "code",
   "execution_count": 61,
   "id": "321ffa4c",
   "metadata": {},
   "outputs": [
    {
     "name": "stdout",
     "output_type": "stream",
     "text": [
      "CPU times: user 42.6 s, sys: 0 ns, total: 42.6 s\n",
      "Wall time: 42.5 s\n"
     ]
    }
   ],
   "source": [
    "%%time\n",
    "train_InputExamples, validation_InputExamples = convert_data_to_examples(train, test, DATA_COLUMN, LABEL_COLUMN)\n",
    "\n",
    "train_data = convert_examples_to_tf_dataset(list(train_InputExamples), tokenizer)\n",
    "train_data = train_data.shuffle(100).batch(32).repeat(2)\n",
    "\n",
    "validation_data = convert_examples_to_tf_dataset(list(validation_InputExamples), tokenizer)\n",
    "validation_data = validation_data.batch(32)"
   ]
  },
  {
   "cell_type": "code",
   "execution_count": 63,
   "id": "41567082",
   "metadata": {},
   "outputs": [
    {
     "name": "stdout",
     "output_type": "stream",
     "text": [
      "5626/5626 [==============================] - 2603s 460ms/step - loss: 0.3269 - accuracy: 0.8583 - val_loss: 0.3979 - val_accuracy: 0.8400\n"
     ]
    },
    {
     "data": {
      "text/plain": [
       "<keras.callbacks.History at 0x7f2cbc548e48>"
      ]
     },
     "execution_count": 63,
     "metadata": {},
     "output_type": "execute_result"
    }
   ],
   "source": [
    "bert_model.compile(optimizer=tf.keras.optimizers.Adam(learning_rate=3e-5, epsilon=1e-08, clipnorm=1.0), \n",
    "              loss=tf.keras.losses.SparseCategoricalCrossentropy(from_logits=True), \n",
    "              metrics=[tf.keras.metrics.SparseCategoricalAccuracy('accuracy')])\n",
    "\n",
    "bert_model.fit(train_data, epochs=1, validation_data=validation_data)"
   ]
  },
  {
   "cell_type": "code",
   "execution_count": 64,
   "id": "8c317e95",
   "metadata": {},
   "outputs": [
    {
     "name": "stderr",
     "output_type": "stream",
     "text": [
      "WARNING:absl:Found untraced functions such as embeddings_layer_call_and_return_conditional_losses, embeddings_layer_call_fn, encoder_layer_call_and_return_conditional_losses, encoder_layer_call_fn, pooler_layer_call_and_return_conditional_losses while saving (showing 5 of 1055). These functions will not be directly callable after loading.\n"
     ]
    },
    {
     "name": "stdout",
     "output_type": "stream",
     "text": [
      "INFO:tensorflow:Assets written to: ./data/model/bert_model_train100000/assets\n"
     ]
    },
    {
     "name": "stderr",
     "output_type": "stream",
     "text": [
      "INFO:tensorflow:Assets written to: ./data/model/bert_model_train100000/assets\n",
      "/usr/local/lib/python3.6/dist-packages/keras/utils/generic_utils.py:497: CustomMaskWarning: Custom mask layers require a config and must override get_config. When loading, the custom mask layer must be passed to the custom_objects argument.\n",
      "  category=CustomMaskWarning)\n"
     ]
    }
   ],
   "source": [
    "bert_model.save(\"./data/model/bert_model_train100000\")"
   ]
  },
  {
   "cell_type": "code",
   "execution_count": null,
   "id": "6c2541ee",
   "metadata": {},
   "outputs": [],
   "source": [
    "def predict_bert(model,document,labels):\n",
    "    tf_batch = tokenizer(document, max_length=128, padding=True, truncation=True, return_tensors='tf')\n",
    "    tf_outputs = model(tf_batch)\n",
    "    tf_predictions = tf.nn.softmax(tf_outputs[0], axis=-1)\n",
    "    label = tf.argmax(tf_predictions, axis=1)\n",
    "    label = label.numpy()\n",
    "    return label"
   ]
  },
  {
   "cell_type": "markdown",
   "id": "3e34295e",
   "metadata": {},
   "source": [
    "# Embedding classique - LSTM"
   ]
  },
  {
   "cell_type": "code",
   "execution_count": 21,
   "id": "dab8901d",
   "metadata": {},
   "outputs": [],
   "source": [
    "from keras.layers import Dropout\n",
    "def get_basic_model(X,embed_dim = 128,lstm_out = 256,batch_size = 32,printing=True):\n",
    "    model = Sequential()\n",
    "    model.add(Embedding(10000, embed_dim,input_length = X.shape[1]))\n",
    "    model.add(Dropout(0.2))\n",
    "    model.add(LSTM(lstm_out))\n",
    "    model.add(Dropout(0.2))\n",
    "    model.add(Dense(2,activation='softmax'))\n",
    "    model.compile(loss = 'categorical_crossentropy', optimizer='adam',metrics = ['accuracy'])\n",
    "    if printing:\n",
    "        print(model.summary())\n",
    "    return model"
   ]
  },
  {
   "cell_type": "markdown",
   "id": "82d5c239",
   "metadata": {},
   "source": [
    "## Test 1.1"
   ]
  },
  {
   "cell_type": "code",
   "execution_count": 195,
   "id": "e5ba3a36",
   "metadata": {},
   "outputs": [],
   "source": [
    "tokenizer_1.fit_on_texts(X_1)"
   ]
  },
  {
   "cell_type": "code",
   "execution_count": 196,
   "id": "a4679ede",
   "metadata": {},
   "outputs": [],
   "source": [
    "X = tokenize_data(X_1,tokenizer_1,maxlen=None)"
   ]
  },
  {
   "cell_type": "code",
   "execution_count": 197,
   "id": "c59996ed",
   "metadata": {},
   "outputs": [
    {
     "name": "stdout",
     "output_type": "stream",
     "text": [
      "Model: \"sequential_15\"\n",
      "_________________________________________________________________\n",
      "Layer (type)                 Output Shape              Param #   \n",
      "=================================================================\n",
      "embedding_14 (Embedding)     (None, 30, 128)           1280000   \n",
      "_________________________________________________________________\n",
      "dropout_28 (Dropout)         (None, 30, 128)           0         \n",
      "_________________________________________________________________\n",
      "lstm_14 (LSTM)               (None, 256)               394240    \n",
      "_________________________________________________________________\n",
      "dropout_29 (Dropout)         (None, 256)               0         \n",
      "_________________________________________________________________\n",
      "dense_14 (Dense)             (None, 2)                 514       \n",
      "=================================================================\n",
      "Total params: 1,674,754\n",
      "Trainable params: 1,674,754\n",
      "Non-trainable params: 0\n",
      "_________________________________________________________________\n",
      "None\n"
     ]
    }
   ],
   "source": [
    "model = get_basic_model(X)"
   ]
  },
  {
   "cell_type": "code",
   "execution_count": 198,
   "id": "68b299ab",
   "metadata": {},
   "outputs": [
    {
     "name": "stdout",
     "output_type": "stream",
     "text": [
      "2500/2500 [==============================] - 52s 21ms/step - loss: 0.5351 - accuracy: 0.7267 - val_loss: 0.5134 - val_accuracy: 0.7456\n"
     ]
    },
    {
     "data": {
      "text/plain": [
       "<keras.callbacks.History at 0x7f4aa55d3be0>"
      ]
     },
     "execution_count": 198,
     "metadata": {},
     "output_type": "execute_result"
    }
   ],
   "source": [
    "trainset_X, validset_X, trainset_Y, validset_Y = train_test_split(X,Y, test_size = 0.20, random_state = 42)\n",
    "model.fit(trainset_X, trainset_Y,validation_data=(validset_X, validset_Y), batch_size =batch_size, epochs = 1)"
   ]
  },
  {
   "cell_type": "markdown",
   "id": "d77fdebd",
   "metadata": {},
   "source": [
    "## Test 1.2"
   ]
  },
  {
   "cell_type": "code",
   "execution_count": 199,
   "id": "784ee4ae",
   "metadata": {},
   "outputs": [
    {
     "name": "stdout",
     "output_type": "stream",
     "text": [
      "2500/2500 [==============================] - 53s 21ms/step - loss: 0.5287 - accuracy: 0.7336 - val_loss: 0.5035 - val_accuracy: 0.7516\n"
     ]
    },
    {
     "data": {
      "text/plain": [
       "<keras.callbacks.History at 0x7f4aaffbf978>"
      ]
     },
     "execution_count": 199,
     "metadata": {},
     "output_type": "execute_result"
    }
   ],
   "source": [
    "tokenizer_2.fit_on_texts(X_1)\n",
    "X = tokenize_data(X_1,tokenizer_2,maxlen=None)\n",
    "\n",
    "model = get_basic_model(X,printing=False)\n",
    "\n",
    "trainset_X, validset_X, trainset_Y, validset_Y = train_test_split(X,Y, test_size = 0.20, random_state = 42)\n",
    "model.fit(trainset_X, trainset_Y,validation_data=(validset_X, validset_Y), batch_size =batch_size, epochs = 1)"
   ]
  },
  {
   "cell_type": "markdown",
   "id": "6dd98ba6",
   "metadata": {},
   "source": [
    "## Test 1.3"
   ]
  },
  {
   "cell_type": "code",
   "execution_count": 200,
   "id": "22cf71ed",
   "metadata": {},
   "outputs": [
    {
     "name": "stdout",
     "output_type": "stream",
     "text": [
      "2500/2500 [==============================] - 54s 21ms/step - loss: 0.4975 - accuracy: 0.7573 - val_loss: 0.4740 - val_accuracy: 0.7782\n"
     ]
    },
    {
     "data": {
      "text/plain": [
       "<keras.callbacks.History at 0x7f4a940f3eb8>"
      ]
     },
     "execution_count": 200,
     "metadata": {},
     "output_type": "execute_result"
    }
   ],
   "source": [
    "tokenizer_1.fit_on_texts(X_2)\n",
    "X = tokenize_data(X_2,tokenizer_1,maxlen=None)\n",
    "\n",
    "model = get_basic_model(X,printing=False)\n",
    "\n",
    "trainset_X, validset_X, trainset_Y, validset_Y = train_test_split(X,Y, test_size = 0.20, random_state = 42)\n",
    "model.fit(trainset_X, trainset_Y,validation_data=(validset_X, validset_Y), batch_size =batch_size, epochs = 1)"
   ]
  },
  {
   "cell_type": "markdown",
   "id": "f37b668b",
   "metadata": {},
   "source": [
    "# Test 1.4"
   ]
  },
  {
   "cell_type": "code",
   "execution_count": 201,
   "id": "611c5c2d",
   "metadata": {},
   "outputs": [
    {
     "name": "stdout",
     "output_type": "stream",
     "text": [
      "2500/2500 [==============================] - 57s 22ms/step - loss: 0.4931 - accuracy: 0.7623 - val_loss: 0.4632 - val_accuracy: 0.7845\n"
     ]
    },
    {
     "data": {
      "text/plain": [
       "<keras.callbacks.History at 0x7f4a9e32aac8>"
      ]
     },
     "execution_count": 201,
     "metadata": {},
     "output_type": "execute_result"
    }
   ],
   "source": [
    "tokenizer_2.fit_on_texts(X_2)\n",
    "X = tokenize_data(X_2,tokenizer_2,maxlen=None)\n",
    "\n",
    "model = get_basic_model(X,printing=False)\n",
    "\n",
    "trainset_X, validset_X, trainset_Y, validset_Y = train_test_split(X,Y, test_size = 0.20, random_state = 42)\n",
    "model.fit(trainset_X, trainset_Y,validation_data=(validset_X, validset_Y), batch_size =batch_size, epochs = 1)"
   ]
  },
  {
   "cell_type": "markdown",
   "id": "f5ebc33f",
   "metadata": {},
   "source": [
    "# Test 1.5"
   ]
  },
  {
   "cell_type": "code",
   "execution_count": 202,
   "id": "66e29349",
   "metadata": {},
   "outputs": [
    {
     "name": "stdout",
     "output_type": "stream",
     "text": [
      "2500/2500 [==============================] - 54s 21ms/step - loss: 0.4981 - accuracy: 0.7565 - val_loss: 0.4687 - val_accuracy: 0.7762\n"
     ]
    },
    {
     "data": {
      "text/plain": [
       "<keras.callbacks.History at 0x7f4a9b9659b0>"
      ]
     },
     "execution_count": 202,
     "metadata": {},
     "output_type": "execute_result"
    }
   ],
   "source": [
    "tokenizer_1.fit_on_texts(X_3)\n",
    "\n",
    "X = tokenize_data(X_3,tokenizer_1,maxlen=None)\n",
    "\n",
    "model = get_basic_model(X,printing=False)\n",
    "\n",
    "trainset_X, validset_X, trainset_Y, validset_Y = train_test_split(X,Y, test_size = 0.20, random_state = 42)\n",
    "model.fit(trainset_X, trainset_Y,validation_data=(validset_X, validset_Y), batch_size =batch_size, epochs = 1)"
   ]
  },
  {
   "cell_type": "markdown",
   "id": "de57317e",
   "metadata": {},
   "source": [
    "# Test 1.6"
   ]
  },
  {
   "cell_type": "code",
   "execution_count": 203,
   "id": "ea651adf",
   "metadata": {},
   "outputs": [
    {
     "name": "stdout",
     "output_type": "stream",
     "text": [
      "2500/2500 [==============================] - 54s 21ms/step - loss: 0.4927 - accuracy: 0.7602 - val_loss: 0.4646 - val_accuracy: 0.7833\n"
     ]
    },
    {
     "data": {
      "text/plain": [
       "<keras.callbacks.History at 0x7f4a96a67cc0>"
      ]
     },
     "execution_count": 203,
     "metadata": {},
     "output_type": "execute_result"
    }
   ],
   "source": [
    "tokenizer_2.fit_on_texts(X_3)\n",
    "X = tokenize_data(X_3,tokenizer_2,maxlen=None)\n",
    "\n",
    "model = get_basic_model(X,printing=False)\n",
    "\n",
    "trainset_X, validset_X, trainset_Y, validset_Y = train_test_split(X,Y, test_size = 0.20, random_state = 42)\n",
    "model.fit(trainset_X, trainset_Y,validation_data=(validset_X, validset_Y), batch_size =batch_size, epochs = 1)"
   ]
  },
  {
   "cell_type": "markdown",
   "id": "f725fbf9",
   "metadata": {},
   "source": [
    "# Test 1.7"
   ]
  },
  {
   "cell_type": "code",
   "execution_count": 204,
   "id": "524e2753",
   "metadata": {},
   "outputs": [
    {
     "name": "stdout",
     "output_type": "stream",
     "text": [
      "2500/2500 [==============================] - 55s 22ms/step - loss: 0.4969 - accuracy: 0.7597 - val_loss: 0.4649 - val_accuracy: 0.7763\n"
     ]
    },
    {
     "data": {
      "text/plain": [
       "<keras.callbacks.History at 0x7f4d422984a8>"
      ]
     },
     "execution_count": 204,
     "metadata": {},
     "output_type": "execute_result"
    }
   ],
   "source": [
    "tokenizer_1.fit_on_texts(X_4)\n",
    "X = tokenize_data(X_4,tokenizer_1,maxlen=None)\n",
    "\n",
    "model = get_basic_model(X,printing=False)\n",
    "\n",
    "trainset_X, validset_X, trainset_Y, validset_Y = train_test_split(X,Y, test_size = 0.20, random_state = 42)\n",
    "model.fit(trainset_X, trainset_Y,validation_data=(validset_X, validset_Y), batch_size =batch_size, epochs = 1)"
   ]
  },
  {
   "cell_type": "markdown",
   "id": "1c8093c6",
   "metadata": {},
   "source": [
    "# Test 1.8"
   ]
  },
  {
   "cell_type": "code",
   "execution_count": 205,
   "id": "6c0285e0",
   "metadata": {},
   "outputs": [
    {
     "name": "stdout",
     "output_type": "stream",
     "text": [
      "2500/2500 [==============================] - 55s 22ms/step - loss: 0.4881 - accuracy: 0.7644 - val_loss: 0.4581 - val_accuracy: 0.7835\n"
     ]
    },
    {
     "data": {
      "text/plain": [
       "<keras.callbacks.History at 0x7f4d41181a90>"
      ]
     },
     "execution_count": 205,
     "metadata": {},
     "output_type": "execute_result"
    }
   ],
   "source": [
    "tokenizer_2.fit_on_texts(X_4)\n",
    "X = tokenize_data(X_4,tokenizer_2,maxlen=None)\n",
    "\n",
    "model = get_basic_model(X,printing=False)\n",
    "\n",
    "trainset_X, validset_X, trainset_Y, validset_Y = train_test_split(X,Y, test_size = 0.20, random_state = 42)\n",
    "model.fit(trainset_X, trainset_Y,validation_data=(validset_X, validset_Y), batch_size =batch_size, epochs = 1)"
   ]
  },
  {
   "cell_type": "markdown",
   "id": "403f3122",
   "metadata": {},
   "source": [
    ">On remarque que le jeu de donnée qui semblent le plus performant est le jeu de données avec un simple clean regex mais perd en performance avec une lemmatization."
   ]
  },
  {
   "cell_type": "markdown",
   "id": "af884944",
   "metadata": {},
   "source": [
    "# Test 2"
   ]
  },
  {
   "cell_type": "code",
   "execution_count": 206,
   "id": "d1599d35",
   "metadata": {},
   "outputs": [],
   "source": [
    "X = [cleanning_data(sentence) for sentence in X_train]\n",
    "Y = pd.get_dummies(y_train).values\n",
    "tokenizer = Tokenizer(num_words=10000,split=' ')"
   ]
  },
  {
   "cell_type": "code",
   "execution_count": 207,
   "id": "a387662d",
   "metadata": {},
   "outputs": [],
   "source": [
    "tokenizer.fit_on_texts(X)"
   ]
  },
  {
   "cell_type": "code",
   "execution_count": 208,
   "id": "722bc141",
   "metadata": {},
   "outputs": [
    {
     "name": "stdout",
     "output_type": "stream",
     "text": [
      "(1280000, 40)\n"
     ]
    }
   ],
   "source": [
    "X = tokenize_data(X,tokenizer,maxlen=None)\n",
    "print(X.shape)"
   ]
  },
  {
   "cell_type": "code",
   "execution_count": 209,
   "id": "c9e4afd5",
   "metadata": {},
   "outputs": [
    {
     "name": "stdout",
     "output_type": "stream",
     "text": [
      "Model: \"sequential_23\"\n",
      "_________________________________________________________________\n",
      "Layer (type)                 Output Shape              Param #   \n",
      "=================================================================\n",
      "embedding_22 (Embedding)     (None, 40, 128)           1280000   \n",
      "_________________________________________________________________\n",
      "dropout_44 (Dropout)         (None, 40, 128)           0         \n",
      "_________________________________________________________________\n",
      "lstm_22 (LSTM)               (None, 256)               394240    \n",
      "_________________________________________________________________\n",
      "dropout_45 (Dropout)         (None, 256)               0         \n",
      "_________________________________________________________________\n",
      "dense_22 (Dense)             (None, 2)                 514       \n",
      "=================================================================\n",
      "Total params: 1,674,754\n",
      "Trainable params: 1,674,754\n",
      "Non-trainable params: 0\n",
      "_________________________________________________________________\n",
      "None\n"
     ]
    }
   ],
   "source": [
    "model = get_basic_model(X)"
   ]
  },
  {
   "cell_type": "code",
   "execution_count": 212,
   "id": "885287f6",
   "metadata": {},
   "outputs": [
    {
     "name": "stdout",
     "output_type": "stream",
     "text": [
      "32000/32000 [==============================] - 711s 22ms/step - loss: 0.4203 - accuracy: 0.8064 - val_loss: 0.3924 - val_accuracy: 0.8215\n"
     ]
    },
    {
     "data": {
      "text/plain": [
       "<keras.callbacks.History at 0x7f471467c908>"
      ]
     },
     "execution_count": 212,
     "metadata": {},
     "output_type": "execute_result"
    }
   ],
   "source": [
    "trainset_X, validset_X, trainset_Y, validset_Y = train_test_split(X,Y, test_size = 0.20, random_state = 42)\n",
    "model.fit(trainset_X, trainset_Y,validation_data=(validset_X, validset_Y), batch_size =batch_size, epochs = 1)"
   ]
  },
  {
   "cell_type": "markdown",
   "id": "21f647de",
   "metadata": {},
   "source": [
    "### Test_set"
   ]
  },
  {
   "cell_type": "code",
   "execution_count": 215,
   "id": "a9d02079",
   "metadata": {},
   "outputs": [],
   "source": [
    "test_X = [cleanning_data(sentence) for sentence in X_test]\n",
    "test_Y = pd.get_dummies(y_test).values"
   ]
  },
  {
   "cell_type": "code",
   "execution_count": 216,
   "id": "f9be4795",
   "metadata": {},
   "outputs": [],
   "source": [
    "test_X = tokenize_data(test_X,tokenizer,maxlen=40)"
   ]
  },
  {
   "cell_type": "code",
   "execution_count": 217,
   "id": "96cda777",
   "metadata": {},
   "outputs": [
    {
     "name": "stdout",
     "output_type": "stream",
     "text": [
      "10000/10000 [==============================] - 82s 8ms/step - loss: 0.3935 - accuracy: 0.8217\n",
      "Score: 0.39\n",
      "Validation Accuracy: 0.82\n"
     ]
    }
   ],
   "source": [
    "score,acc = model.evaluate(test_X, test_Y, batch_size = batch_size)\n",
    "print(\"Score: %.2f\" % (score))\n",
    "print(\"Validation Accuracy: %.2f\" % (acc))"
   ]
  },
  {
   "cell_type": "code",
   "execution_count": 220,
   "id": "2d3842bb",
   "metadata": {},
   "outputs": [],
   "source": [
    "predictions = model.predict(test_X)\n",
    "predicted_classes = np.argmax(predictions, axis=1)\n",
    "y_true = np.argmax(test_Y,axis=1)"
   ]
  },
  {
   "cell_type": "code",
   "execution_count": 221,
   "id": "5202f118",
   "metadata": {},
   "outputs": [
    {
     "data": {
      "text/html": [
       "<div>\n",
       "<style scoped>\n",
       "    .dataframe tbody tr th:only-of-type {\n",
       "        vertical-align: middle;\n",
       "    }\n",
       "\n",
       "    .dataframe tbody tr th {\n",
       "        vertical-align: top;\n",
       "    }\n",
       "\n",
       "    .dataframe thead th {\n",
       "        text-align: right;\n",
       "    }\n",
       "</style>\n",
       "<table border=\"1\" class=\"dataframe\">\n",
       "  <thead>\n",
       "    <tr style=\"text-align: right;\">\n",
       "      <th></th>\n",
       "      <th>bad</th>\n",
       "      <th>good</th>\n",
       "    </tr>\n",
       "  </thead>\n",
       "  <tbody>\n",
       "    <tr>\n",
       "      <th>bad</th>\n",
       "      <td>131072</td>\n",
       "      <td>28928</td>\n",
       "    </tr>\n",
       "    <tr>\n",
       "      <th>good</th>\n",
       "      <td>28129</td>\n",
       "      <td>131871</td>\n",
       "    </tr>\n",
       "  </tbody>\n",
       "</table>\n",
       "</div>"
      ],
      "text/plain": [
       "         bad    good\n",
       "bad   131072   28928\n",
       "good   28129  131871"
      ]
     },
     "execution_count": 221,
     "metadata": {},
     "output_type": "execute_result"
    }
   ],
   "source": [
    "from sklearn.metrics import confusion_matrix\n",
    "cm = confusion_matrix(y_true,predicted_classes)\n",
    "pd.DataFrame(cm,columns=[\"bad\",\"good\"],index=[\"bad\",\"good\"])"
   ]
  },
  {
   "cell_type": "markdown",
   "id": "aca8ac6c",
   "metadata": {},
   "source": [
    "# Optimisation model (fine tuning)\n",
    "\n",
    "## LSTM classique"
   ]
  },
  {
   "cell_type": "code",
   "execution_count": 22,
   "id": "f27c2873",
   "metadata": {},
   "outputs": [],
   "source": [
    "X = [cleanning_data(sentence) for sentence in X_train]\n",
    "Y = pd.get_dummies(y_train).values\n",
    "tokenizer = Tokenizer(num_words=10000,split=' ')"
   ]
  },
  {
   "cell_type": "code",
   "execution_count": 23,
   "id": "7e0b7577",
   "metadata": {},
   "outputs": [],
   "source": [
    "test_X = [cleanning_data(sentence) for sentence in X_test]\n",
    "test_Y = pd.get_dummies(y_test).values"
   ]
  },
  {
   "cell_type": "code",
   "execution_count": 24,
   "id": "35ddb2cc",
   "metadata": {},
   "outputs": [],
   "source": [
    "tokenizer.fit_on_texts(X)"
   ]
  },
  {
   "cell_type": "code",
   "execution_count": 25,
   "id": "efdf2cf6",
   "metadata": {},
   "outputs": [
    {
     "name": "stdout",
     "output_type": "stream",
     "text": [
      "(1280000, 40)\n"
     ]
    }
   ],
   "source": [
    "tokenizer.fit_on_texts(X)\n",
    "X = tokenize_data(X,tokenizer,maxlen=40)\n",
    "print(X.shape)"
   ]
  },
  {
   "cell_type": "code",
   "execution_count": 26,
   "id": "7ca39b05",
   "metadata": {},
   "outputs": [],
   "source": [
    "test_X = tokenize_data(test_X,tokenizer,maxlen=40)"
   ]
  },
  {
   "cell_type": "code",
   "execution_count": 27,
   "id": "2747d7bf",
   "metadata": {},
   "outputs": [
    {
     "data": {
      "text/plain": [
       "(320000, 40)"
      ]
     },
     "execution_count": 27,
     "metadata": {},
     "output_type": "execute_result"
    }
   ],
   "source": [
    "test_X.shape"
   ]
  },
  {
   "cell_type": "code",
   "execution_count": 30,
   "id": "0f4e611b",
   "metadata": {},
   "outputs": [],
   "source": [
    "HP_NUM_UNITS = hp.HParam('num_units', hp.Discrete([512,1028]))\n",
    "HP_OPTIMIZER = hp.HParam('optimizer', hp.Discrete(['adam']))\n",
    "HP_EMBEDDING_VOCAB = hp.HParam('embedding_vocab_size',hp.Discrete([2500,10000,25000]))\n",
    "HP_EMBEDDING_DIM = hp.HParam('embedding_dim_pad',hp.Discrete([64,128,256]))"
   ]
  },
  {
   "cell_type": "code",
   "execution_count": 31,
   "id": "d9ebe9fc",
   "metadata": {},
   "outputs": [],
   "source": [
    "METRIC_ACCURACY = 'accuracy'\n",
    "\n",
    "with tf.summary.create_file_writer('./logs/hparam_tuning_2').as_default():\n",
    "    hp.hparams_config(\n",
    "        hparams=[HP_NUM_UNITS, HP_OPTIMIZER,HP_EMBEDDING_VOCAB,HP_EMBEDDING_DIM],\n",
    "        metrics=[hp.Metric(METRIC_ACCURACY, display_name='Accuracy')],\n",
    "    )"
   ]
  },
  {
   "cell_type": "code",
   "execution_count": 34,
   "id": "4c03759c",
   "metadata": {},
   "outputs": [],
   "source": [
    "def train_test_model(hparams):\n",
    "    model = tf.keras.models.Sequential([\n",
    "        tf.keras.layers.Embedding(hparams[HP_EMBEDDING_VOCAB], hparams[HP_EMBEDDING_DIM],input_length = 40),\n",
    "        tf.keras.layers.Dropout(0.1),\n",
    "        tf.keras.layers.LSTM(hparams[HP_NUM_UNITS]),\n",
    "        tf.keras.layers.Dropout(0.1),\n",
    "        tf.keras.layers.Dense(2, activation=\"softmax\"),\n",
    "    ])\n",
    "    model.compile(\n",
    "        optimizer=hparams[HP_OPTIMIZER],\n",
    "        loss='categorical_crossentropy',\n",
    "        metrics=['accuracy'],\n",
    "    )\n",
    "\n",
    "    model.fit(X, Y, epochs=1) \n",
    "    _, accuracy = model.evaluate(test_X, test_Y)\n",
    "    return accuracy\n",
    "def run(run_dir, hparams):\n",
    "    with tf.summary.create_file_writer(run_dir).as_default():\n",
    "        hp.hparams(hparams)  # record the values used in this trial\n",
    "        accuracy = train_test_model(hparams)\n",
    "        tf.summary.scalar(METRIC_ACCURACY, accuracy, step=1)"
   ]
  },
  {
   "cell_type": "code",
   "execution_count": 35,
   "id": "fc29a0e9",
   "metadata": {},
   "outputs": [
    {
     "name": "stdout",
     "output_type": "stream",
     "text": [
      "--- Starting trial: run-0\n",
      "{'num_units': 512, 'optimizer': 'adam', 'embedding_vocab_size': 2500, 'embedding_dim_pad': 64}\n",
      "40000/40000 [==============================] - 854s 21ms/step - loss: 0.4346 - accuracy: 0.7965\n",
      "10000/10000 [==============================] - 79s 8ms/step - loss: 0.4116 - accuracy: 0.8099\n",
      "--- Starting trial: run-1\n",
      "{'num_units': 512, 'optimizer': 'adam', 'embedding_vocab_size': 2500, 'embedding_dim_pad': 128}\n",
      "40000/40000 [==============================] - 824s 21ms/step - loss: 0.4314 - accuracy: 0.7990\n",
      "10000/10000 [==============================] - 78s 8ms/step - loss: 0.4091 - accuracy: 0.8121\n",
      "--- Starting trial: run-2\n",
      "{'num_units': 512, 'optimizer': 'adam', 'embedding_vocab_size': 2500, 'embedding_dim_pad': 256}\n",
      "40000/40000 [==============================] - 825s 21ms/step - loss: 0.4286 - accuracy: 0.8002\n",
      "10000/10000 [==============================] - 78s 8ms/step - loss: 0.4073 - accuracy: 0.8128\n",
      "--- Starting trial: run-3\n",
      "{'num_units': 512, 'optimizer': 'adam', 'embedding_vocab_size': 10000, 'embedding_dim_pad': 64}\n",
      "40000/40000 [==============================] - 830s 21ms/step - loss: 0.4169 - accuracy: 0.8079\n",
      "10000/10000 [==============================] - 79s 8ms/step - loss: 0.3922 - accuracy: 0.8218\n",
      "--- Starting trial: run-4\n",
      "{'num_units': 512, 'optimizer': 'adam', 'embedding_vocab_size': 10000, 'embedding_dim_pad': 128}\n",
      "40000/40000 [==============================] - 828s 21ms/step - loss: 0.4134 - accuracy: 0.8099\n",
      "10000/10000 [==============================] - 80s 8ms/step - loss: 0.3908 - accuracy: 0.8246\n",
      "--- Starting trial: run-5\n",
      "{'num_units': 512, 'optimizer': 'adam', 'embedding_vocab_size': 10000, 'embedding_dim_pad': 256}\n",
      "40000/40000 [==============================] - 849s 21ms/step - loss: 0.4185 - accuracy: 0.8070\n",
      "10000/10000 [==============================] - 80s 8ms/step - loss: 0.3885 - accuracy: 0.8240\n",
      "--- Starting trial: run-6\n",
      "{'num_units': 512, 'optimizer': 'adam', 'embedding_vocab_size': 25000, 'embedding_dim_pad': 64}\n",
      "40000/40000 [==============================] - 849s 21ms/step - loss: 0.4173 - accuracy: 0.8081\n",
      "10000/10000 [==============================] - 79s 8ms/step - loss: 0.3922 - accuracy: 0.8219\n",
      "--- Starting trial: run-7\n",
      "{'num_units': 512, 'optimizer': 'adam', 'embedding_vocab_size': 25000, 'embedding_dim_pad': 128}\n",
      "40000/40000 [==============================] - 844s 21ms/step - loss: 0.4129 - accuracy: 0.8106\n",
      "10000/10000 [==============================] - 83s 8ms/step - loss: 0.3886 - accuracy: 0.8239\n",
      "--- Starting trial: run-8\n",
      "{'num_units': 512, 'optimizer': 'adam', 'embedding_vocab_size': 25000, 'embedding_dim_pad': 256}\n",
      "40000/40000 [==============================] - 890s 22ms/step - loss: 0.4105 - accuracy: 0.8115\n",
      "10000/10000 [==============================] - 83s 8ms/step - loss: 0.3883 - accuracy: 0.8249\n",
      "--- Starting trial: run-9\n",
      "{'num_units': 1028, 'optimizer': 'adam', 'embedding_vocab_size': 2500, 'embedding_dim_pad': 64}\n",
      "40000/40000 [==============================] - 878s 22ms/step - loss: 0.4356 - accuracy: 0.7961\n",
      "10000/10000 [==============================] - 85s 8ms/step - loss: 0.4141 - accuracy: 0.8089\n",
      "--- Starting trial: run-10\n",
      "{'num_units': 1028, 'optimizer': 'adam', 'embedding_vocab_size': 2500, 'embedding_dim_pad': 128}\n",
      "40000/40000 [==============================] - 865s 22ms/step - loss: 0.4333 - accuracy: 0.7976\n",
      "10000/10000 [==============================] - 88s 9ms/step - loss: 0.4142 - accuracy: 0.8093\n",
      "--- Starting trial: run-11\n",
      "{'num_units': 1028, 'optimizer': 'adam', 'embedding_vocab_size': 2500, 'embedding_dim_pad': 256}\n",
      "40000/40000 [==============================] - 880s 22ms/step - loss: 0.4298 - accuracy: 0.7997\n",
      "10000/10000 [==============================] - 88s 9ms/step - loss: 0.4080 - accuracy: 0.8125\n",
      "--- Starting trial: run-12\n",
      "{'num_units': 1028, 'optimizer': 'adam', 'embedding_vocab_size': 10000, 'embedding_dim_pad': 64}\n",
      "40000/40000 [==============================] - 851s 21ms/step - loss: 0.4751 - accuracy: 0.7764\n",
      "10000/10000 [==============================] - 84s 8ms/step - loss: 0.4535 - accuracy: 0.7932\n",
      "--- Starting trial: run-13\n",
      "{'num_units': 1028, 'optimizer': 'adam', 'embedding_vocab_size': 10000, 'embedding_dim_pad': 128}\n",
      "40000/40000 [==============================] - 867s 22ms/step - loss: 0.4141 - accuracy: 0.8097\n",
      "10000/10000 [==============================] - 89s 9ms/step - loss: 0.3900 - accuracy: 0.8252\n",
      "--- Starting trial: run-14\n",
      "{'num_units': 1028, 'optimizer': 'adam', 'embedding_vocab_size': 10000, 'embedding_dim_pad': 256}\n",
      "40000/40000 [==============================] - 920s 23ms/step - loss: 0.4104 - accuracy: 0.8122\n",
      "10000/10000 [==============================] - 92s 9ms/step - loss: 0.3877 - accuracy: 0.8249\n",
      "--- Starting trial: run-15\n",
      "{'num_units': 1028, 'optimizer': 'adam', 'embedding_vocab_size': 25000, 'embedding_dim_pad': 64}\n",
      "40000/40000 [==============================] - 926s 23ms/step - loss: 0.4176 - accuracy: 0.8082\n",
      "10000/10000 [==============================] - 88s 9ms/step - loss: 0.3934 - accuracy: 0.8214\n",
      "--- Starting trial: run-16\n",
      "{'num_units': 1028, 'optimizer': 'adam', 'embedding_vocab_size': 25000, 'embedding_dim_pad': 128}\n",
      "40000/40000 [==============================] - 895s 22ms/step - loss: 0.4139 - accuracy: 0.8103\n",
      "10000/10000 [==============================] - 86s 9ms/step - loss: 0.3891 - accuracy: 0.8245\n",
      "--- Starting trial: run-17\n",
      "{'num_units': 1028, 'optimizer': 'adam', 'embedding_vocab_size': 25000, 'embedding_dim_pad': 256}\n",
      "40000/40000 [==============================] - 901s 22ms/step - loss: 0.4112 - accuracy: 0.8114\n",
      "10000/10000 [==============================] - 91s 9ms/step - loss: 0.3881 - accuracy: 0.8237\n"
     ]
    }
   ],
   "source": [
    "session_num = 0\n",
    "\n",
    "for num_units in HP_NUM_UNITS.domain.values:\n",
    "    for optimizer in HP_OPTIMIZER.domain.values:\n",
    "        for vocab_size in HP_EMBEDDING_VOCAB.domain.values:\n",
    "            for dim_embed in HP_EMBEDDING_DIM.domain.values:\n",
    "                hparams = {\n",
    "                    HP_NUM_UNITS: num_units,\n",
    "                    HP_OPTIMIZER: optimizer,\n",
    "                    HP_EMBEDDING_VOCAB:vocab_size,\n",
    "                    HP_EMBEDDING_DIM:dim_embed,\n",
    "                }\n",
    "                run_name = \"run-%d\" % session_num\n",
    "                print('--- Starting trial: %s' % run_name)\n",
    "                print({h.name: hparams[h] for h in hparams})\n",
    "                run('logs/hparam_tuning_2/' + run_name, hparams)\n",
    "                session_num += 1s\n",
    "                "
   ]
  },
  {
   "cell_type": "code",
   "execution_count": 55,
   "id": "3257b054",
   "metadata": {},
   "outputs": [],
   "source": [
    "%load_ext tensorboard"
   ]
  },
  {
   "cell_type": "code",
   "execution_count": 56,
   "id": "6dd92cd8",
   "metadata": {
    "scrolled": false
   },
   "outputs": [
    {
     "data": {
      "text/html": [
       "\n",
       "      <iframe id=\"tensorboard-frame-61c4a9c16906e02e\" width=\"100%\" height=\"800\" frameborder=\"0\">\n",
       "      </iframe>\n",
       "      <script>\n",
       "        (function() {\n",
       "          const frame = document.getElementById(\"tensorboard-frame-61c4a9c16906e02e\");\n",
       "          const url = new URL(\"/\", window.location);\n",
       "          const port = 6006;\n",
       "          if (port) {\n",
       "            url.port = port;\n",
       "          }\n",
       "          frame.src = url;\n",
       "        })();\n",
       "      </script>\n",
       "    "
      ],
      "text/plain": [
       "<IPython.core.display.HTML object>"
      ]
     },
     "metadata": {},
     "output_type": "display_data"
    }
   ],
   "source": [
    "%tensorboard --logdir logs/hparam_tuning_2 --host 0.0.0.0"
   ]
  },
  {
   "cell_type": "code",
   "execution_count": 105,
   "id": "8ec7ac17",
   "metadata": {},
   "outputs": [],
   "source": [
    "!kill 6218"
   ]
  },
  {
   "cell_type": "markdown",
   "id": "2ecfa9e5",
   "metadata": {},
   "source": [
    "## Word2Vec - LSTM\n",
    "### Création de la couche embedding word2vec et des données"
   ]
  },
  {
   "cell_type": "code",
   "execution_count": 20,
   "id": "67dc2a28",
   "metadata": {},
   "outputs": [],
   "source": [
    "import gensim\n",
    "\n",
    "def create_layer_embedding_word_2_vec(X, W2V_SIZE = 300, W2V_WINDOW = 7, W2V_EPOCH = 32,\n",
    "                                      W2V_MIN_COUNT = 10, SEQUENCE_LENGTH = 300, workers=32):\n",
    "    \n",
    "    documents = [_text.split() for _text in X]\n",
    "    w2v_model = gensim.models.word2vec.Word2Vec(vector_size=W2V_SIZE, \n",
    "                                                window=W2V_WINDOW, min_count=W2V_MIN_COUNT,workers=workers)\n",
    "    w2v_model.build_vocab(documents)\n",
    "    \n",
    "    w2v_model.train(documents, total_examples=len(documents), epochs=W2V_EPOCH)\n",
    "    tokenizer = Tokenizer()\n",
    "    tokenizer.fit_on_texts(X)\n",
    "\n",
    "    vocab_size = len(tokenizer.word_index) + 1\n",
    "    embedding_matrix = np.zeros((vocab_size, W2V_SIZE))\n",
    "    for word, i in tokenizer.word_index.items():\n",
    "        if word in w2v_model.wv.index_to_key:\n",
    "            embedding_matrix[i] = w2v_model.wv.get_vector(word, norm=True)\n",
    "            \n",
    "    embedding_layer_word_2_vec = Embedding(vocab_size, W2V_SIZE,\n",
    "                                           weights=[embedding_matrix], input_length=SEQUENCE_LENGTH, trainable=False)\n",
    "    \n",
    "    return embedding_layer_word_2_vec"
   ]
  },
  {
   "cell_type": "code",
   "execution_count": 52,
   "id": "f2f5ba9d",
   "metadata": {},
   "outputs": [],
   "source": [
    "HP_NUM_UNITS = hp.HParam('num_units', hp.Discrete([64,128,256,400]))\n",
    "HP_EPOCHS = hp.HParam(\"epoch\",hp.Discrete([6,8]))"
   ]
  },
  {
   "cell_type": "code",
   "execution_count": 48,
   "id": "e1ec61fb",
   "metadata": {},
   "outputs": [
    {
     "name": "stdout",
     "output_type": "stream",
     "text": [
      "CPU times: user 50.2 s, sys: 0 ns, total: 50.2 s\n",
      "Wall time: 50.1 s\n"
     ]
    }
   ],
   "source": [
    "%%time\n",
    "X = [cleanning_data(tweet) for tweet in X_train]"
   ]
  },
  {
   "cell_type": "code",
   "execution_count": 49,
   "id": "089db479",
   "metadata": {},
   "outputs": [
    {
     "name": "stdout",
     "output_type": "stream",
     "text": [
      "CPU times: user 30min 40s, sys: 0 ns, total: 30min 40s\n",
      "Wall time: 9min 18s\n"
     ]
    }
   ],
   "source": [
    "%%time\n",
    "embedding = create_layer_embedding_word_2_vec(X,W2V_SIZE=300,SEQUENCE_LENGTH=300)"
   ]
  },
  {
   "cell_type": "code",
   "execution_count": 50,
   "id": "510b0083",
   "metadata": {},
   "outputs": [],
   "source": [
    "test_X = [cleanning_data(tweet) for tweet in X_test]\n",
    "Y = pd.get_dummies(y_train).values\n",
    "test_Y = pd.get_dummies(y_test).values"
   ]
  },
  {
   "cell_type": "code",
   "execution_count": 51,
   "id": "f72dc49b",
   "metadata": {},
   "outputs": [
    {
     "name": "stdout",
     "output_type": "stream",
     "text": [
      "CPU times: user 42.7 s, sys: 0 ns, total: 42.7 s\n",
      "Wall time: 42.7 s\n"
     ]
    }
   ],
   "source": [
    "%%time\n",
    "tokenizer = Tokenizer()\n",
    "tokenizer.fit_on_texts(X)\n",
    "x_train = pad_sequences(tokenizer.texts_to_sequences(X),maxlen=300)\n",
    "x_test = pad_sequences(tokenizer.texts_to_sequences(test_X),maxlen=300)"
   ]
  },
  {
   "cell_type": "markdown",
   "id": "8b4609ce",
   "metadata": {},
   "source": [
    "### Création des routines"
   ]
  },
  {
   "cell_type": "code",
   "execution_count": 53,
   "id": "cbaa0d3c",
   "metadata": {},
   "outputs": [],
   "source": [
    "METRIC_ACCURACY = 'accuracy'\n",
    "\n",
    "with tf.summary.create_file_writer('./logs/hparam_tuning_w2v').as_default():\n",
    "    hp.hparams_config(\n",
    "        hparams=[HP_NUM_UNITS,HP_EPOCHS],\n",
    "        metrics=[hp.Metric(METRIC_ACCURACY, display_name='Accuracy')],\n",
    "    )"
   ]
  },
  {
   "cell_type": "code",
   "execution_count": 54,
   "id": "20bd0698",
   "metadata": {},
   "outputs": [],
   "source": [
    "def train_test_model(hparams):\n",
    "    model = Sequential()\n",
    "    model.add(embedding)\n",
    "    model.add(LSTM(hparams[HP_NUM_UNITS]))\n",
    "    model.add(Dropout(0.1))\n",
    "    model.add(Dense(2, activation='softmax'))\n",
    "\n",
    "    model.compile(\n",
    "        optimizer=\"adam\",\n",
    "        loss='categorical_crossentropy',\n",
    "        metrics=['accuracy'],\n",
    "    )\n",
    "    \n",
    "    model.fit(x_train, Y, epochs=hparams[HP_EPOCHS], batch_size=512) \n",
    "    _, accuracy = model.evaluate(x_test, test_Y,batch_size=512)\n",
    "    return accuracy\n",
    "def run(run_dir, hparams):\n",
    "    with tf.summary.create_file_writer(run_dir).as_default():\n",
    "        hp.hparams(hparams)  # record the values used in this trial\n",
    "        accuracy = train_test_model(hparams)\n",
    "        tf.summary.scalar(METRIC_ACCURACY, accuracy, step=1)"
   ]
  },
  {
   "cell_type": "code",
   "execution_count": 57,
   "id": "d0cfeb85",
   "metadata": {},
   "outputs": [],
   "source": [
    "session_num = 0\n",
    "\n",
    "for num_units in HP_NUM_UNITS.domain.values:\n",
    "    for epoch in HP_EPOCHS.domain.values:\n",
    "        hparams = {\n",
    "            HP_NUM_UNITS: num_units,\n",
    "            HP_EPOCHS: epoch,\n",
    "        }\n",
    "        run_name = \"run-%d\" % session_num\n",
    "        print('--- Starting trial: %s' % run_name)\n",
    "        print({h.name: hparams[h] for h in hparams})\n",
    "        run('logs/hparam_tuning_w2v/' + run_name, hparams)\n",
    "        session_num += 1"
   ]
  },
  {
   "cell_type": "code",
   "execution_count": null,
   "id": "751b83b9",
   "metadata": {},
   "outputs": [],
   "source": [
    "%tensorboard --logdir logs/hparam_tuning_w2v --host 0.0.0.0"
   ]
  },
  {
   "cell_type": "markdown",
   "id": "b229a3f1",
   "metadata": {},
   "source": [
    "# Résultat "
   ]
  },
  {
   "cell_type": "code",
   "execution_count": 101,
   "id": "4457939d",
   "metadata": {},
   "outputs": [
    {
     "data": {
      "image/png": "[encoded data removed]",
      "text/plain": [
       "<Figure size 1440x864 with 2 Axes>"
      ]
     },
     "metadata": {},
     "output_type": "display_data"
    }
   ],
   "source": [
    "result_final = {\n",
    "    \"baseline\":{\"acc\":0.7723,\"val_acc\":0.7723,\"nb_data\":1600000,\"time\":23},\n",
    "    \"lstm_classique\":{\"acc\":0.8064,\"val_acc\":0.8215,\"nb_data\":1280000,\"time\":711},\n",
    "    \"classique_dl\":{\"acc\":0.7836,\"val_acc\":0.7916,\"nb_data\":1280000,\"time\":439},\n",
    "    \"bert\":{\"acc\":0.8583,\"val_acc\":0.8400,\"nb_data\":100000,\"time\":2603},\n",
    "    \"glove_conv\":{\"acc\":0.7773,\"val_acc\":0.7746,\"nb_data\":1280000,\"time\":669},\n",
    "    \"glove_lstm\":{\"acc\":0.8386,\"val_acc\":0.8242,\"nb_data\":1280000,\"time\":305},\n",
    "    \"word2vec_lstm\":{\"acc\":0.8349,\"val_acc\":0.8340,\"nb_data\":1280000,\"time\":732},\n",
    "    # pour optimize on à entrainé sur tout le jeu de données \"acc\" puis test sur le jeu de test \"val_acc\" \n",
    "    \"lstm_classique_optimize\":{\"acc\":0.8097,\"val_acc\":0.8252,\"nb_data\":1600000,\"time\":867},\n",
    "    # A faire:\n",
    "    \"word2vec_lstm_optimize\":{\"acc\":0.8349,\"val_acc\":0.8340,\"nb_data\":1600000,\"time\":732},\n",
    "}\n",
    "\n",
    "fig, ax1 = plt.subplots(figsize=(20,12))\n",
    "ax1.set_xlabel(\"Modèles\",fontsize=16)\n",
    "ax1.tick_params(axis='x',labelsize=14)\n",
    "ax1.set_ylabel(\"Accuracy (score)\",color='tab:red',fontsize=15)\n",
    "ax1.plot([k for k in result_final.keys()],[v[\"acc\"] for v in result_final.values()],label=\"accuracy\",color=\"#E26A2C\")\n",
    "ax1.plot([k for k in result_final.keys()],[v[\"val_acc\"] for v in result_final.values()],label=\"accuracy_val\",color=\"#FF5151\")\n",
    "ax1.tick_params(axis='y', labelcolor='tab:red',labelsize=14)\n",
    "\n",
    "ax2 = ax1.twinx()\n",
    "\n",
    "ax2.plot([k for k in result_final.keys()],[v[\"time\"] for v in result_final.values()],\n",
    "         label=\"time\",color=\"#1597E5\",marker=\"o\",ls=\"--\")\n",
    "ax2.set_ylabel('Temps d\\'entrainement (seconde)', color='tab:blue',fontsize=15) \n",
    "ax2.tick_params(axis='y', labelcolor='tab:blue',labelsize=14)\n",
    "\n",
    "plt.title(\"Résumé metrique des différent modèles\",fontsize=18)\n",
    "ax1.legend(fontsize=15)\n",
    "ax2.legend(loc=\"upper left\",fontsize=15)\n",
    "fig.tight_layout()\n",
    "plt.show()"
   ]
  },
  {
   "cell_type": "markdown",
   "id": "3fa5d0ac",
   "metadata": {},
   "source": [
    "# Export du modèle final "
   ]
  },
  {
   "cell_type": "code",
   "execution_count": 16,
   "id": "463e9039",
   "metadata": {},
   "outputs": [],
   "source": [
    "import joblib # le tous ou alors save direct avec tensorflow et juste save avec joblib le cleanner_data"
   ]
  },
  {
   "cell_type": "code",
   "execution_count": 17,
   "id": "93f20ac0",
   "metadata": {},
   "outputs": [],
   "source": [
    "X_train = df_nlp[\"text\"]\n",
    "y_train = df_nlp[\"sentiment\"]"
   ]
  },
  {
   "cell_type": "code",
   "execution_count": 18,
   "id": "58c76d51",
   "metadata": {},
   "outputs": [],
   "source": [
    "# on retire les données de test :\n",
    "new_size=4000\n",
    "size=new_size//2\n",
    "\n",
    "pos_X = []\n",
    "i = 1500000\n",
    "while len(pos_X) < size:\n",
    "    if y_train[i] ==\"good\":\n",
    "        pos_X.append(i)\n",
    "    i+=1\n",
    "\n",
    "i=700000\n",
    "neg_X = []\n",
    "while len(neg_X) < size:\n",
    "    if y_train[i] ==\"bad\":\n",
    "        neg_X.append(i)\n",
    "    i+=1\n",
    "id_pos_test_set = pos_X\n",
    "id_pos_test_set.extend(neg_X)"
   ]
  },
  {
   "cell_type": "code",
   "execution_count": 19,
   "id": "a1c7ccd3",
   "metadata": {},
   "outputs": [],
   "source": [
    "X_train.drop(id_pos_test_set,axis=0,inplace=True)\n",
    "y_train.drop(id_pos_test_set,axis=0,inplace=True)"
   ]
  },
  {
   "cell_type": "code",
   "execution_count": 27,
   "id": "e69eebf8",
   "metadata": {},
   "outputs": [],
   "source": [
    "X = [cleanning_data(sentence) for sentence in X_train]\n",
    "Y = pd.get_dummies(y_train).values\n",
    "tokenizer = Tokenizer(num_words=10000,split=' ')"
   ]
  },
  {
   "cell_type": "code",
   "execution_count": 28,
   "id": "58aae924",
   "metadata": {},
   "outputs": [
    {
     "name": "stdout",
     "output_type": "stream",
     "text": [
      "(1596000, 40)\n"
     ]
    }
   ],
   "source": [
    "tokenizer.fit_on_texts(X)\n",
    "X = tokenize_data(X,tokenizer,maxlen=40)\n",
    "print(X.shape)"
   ]
  },
  {
   "cell_type": "code",
   "execution_count": 29,
   "id": "4f33019c",
   "metadata": {},
   "outputs": [],
   "source": [
    "best_model = tf.keras.models.Sequential([\n",
    "    tf.keras.layers.Embedding(10000, 128,input_length = 40),\n",
    "    tf.keras.layers.Dropout(0.1),\n",
    "    tf.keras.layers.LSTM(1028),\n",
    "    tf.keras.layers.Dropout(0.1),\n",
    "    tf.keras.layers.Dense(2, activation=\"softmax\"),\n",
    "])\n",
    "\n",
    "best_model.compile(\n",
    "    optimizer=\"adam\",\n",
    "    loss='categorical_crossentropy',\n",
    "    metrics=['accuracy'],\n",
    ")"
   ]
  },
  {
   "cell_type": "code",
   "execution_count": 31,
   "id": "4c1f9f1f",
   "metadata": {},
   "outputs": [
    {
     "name": "stdout",
     "output_type": "stream",
     "text": [
      "49875/49875 [==============================] - 1137s 23ms/step - loss: 0.4100 - accuracy: 0.8121\n"
     ]
    },
    {
     "data": {
      "text/plain": [
       "<keras.callbacks.History at 0x7f681235e9e8>"
      ]
     },
     "execution_count": 31,
     "metadata": {},
     "output_type": "execute_result"
    }
   ],
   "source": [
    "best_model.fit(X,Y,epochs=1)"
   ]
  },
  {
   "cell_type": "markdown",
   "id": "f74ef0a1",
   "metadata": {},
   "source": [
    "### Test "
   ]
  },
  {
   "cell_type": "code",
   "execution_count": 36,
   "id": "6bfd72c8",
   "metadata": {},
   "outputs": [],
   "source": [
    "from sklearn.metrics import accuracy_score, confusion_matrix, classification_report,roc_auc_score\n",
    "def benchmark(y_pred,y_true):\n",
    "    print(\"accuracy score :\",accuracy_score(y_true,y_pred))\n",
    "    print(classification_report(y_true,y_pred))\n",
    "    return pd.DataFrame(confusion_matrix(y_true,y_pred),columns=[\"good\",\"bad\"],index=[\"good\",\"bad\"])\n",
    "\n",
    "def prepared_data(list_tweet,tokenizer):\n",
    "    data_clean = [cleanning_data(tweet) for tweet in list_tweet]\n",
    "    return tokenize_data(data_clean,tokenizer,maxlen=40)"
   ]
  },
  {
   "cell_type": "code",
   "execution_count": 37,
   "id": "63fe27a9",
   "metadata": {},
   "outputs": [],
   "source": [
    "X_test = prepared_data(df_nlp[\"text\"].loc[id_pos_test_set].tolist(),tokenizer)\n",
    "y_test = df_nlp[\"sentiment\"].loc[id_pos_test_set].tolist()"
   ]
  },
  {
   "cell_type": "code",
   "execution_count": 45,
   "id": "f6a07fb6",
   "metadata": {},
   "outputs": [],
   "source": [
    "predictions = best_model.predict(X_test)\n",
    "y_pred = np.argmax(predictions, axis=1)\n",
    "test_Y = pd.get_dummies(y_test).values\n",
    "y_true = np.argmax(test_Y,axis=1)"
   ]
  },
  {
   "cell_type": "code",
   "execution_count": 47,
   "id": "88209641",
   "metadata": {},
   "outputs": [],
   "source": [
    "dic={0:\"good\",1:\"bad\"}\n",
    "y_true = [dic[y] for y in y_true]\n",
    "y_pred = [dic[y] for y in y_pred]"
   ]
  },
  {
   "cell_type": "code",
   "execution_count": 48,
   "id": "06e178ac",
   "metadata": {},
   "outputs": [
    {
     "name": "stdout",
     "output_type": "stream",
     "text": [
      "accuracy score : 0.836\n",
      "              precision    recall  f1-score   support\n",
      "\n",
      "         bad       0.84      0.84      0.84      2000\n",
      "        good       0.84      0.84      0.84      2000\n",
      "\n",
      "    accuracy                           0.84      4000\n",
      "   macro avg       0.84      0.84      0.84      4000\n",
      "weighted avg       0.84      0.84      0.84      4000\n",
      "\n"
     ]
    },
    {
     "data": {
      "text/html": [
       "<div>\n",
       "<style scoped>\n",
       "    .dataframe tbody tr th:only-of-type {\n",
       "        vertical-align: middle;\n",
       "    }\n",
       "\n",
       "    .dataframe tbody tr th {\n",
       "        vertical-align: top;\n",
       "    }\n",
       "\n",
       "    .dataframe thead th {\n",
       "        text-align: right;\n",
       "    }\n",
       "</style>\n",
       "<table border=\"1\" class=\"dataframe\">\n",
       "  <thead>\n",
       "    <tr style=\"text-align: right;\">\n",
       "      <th></th>\n",
       "      <th>good</th>\n",
       "      <th>bad</th>\n",
       "    </tr>\n",
       "  </thead>\n",
       "  <tbody>\n",
       "    <tr>\n",
       "      <th>good</th>\n",
       "      <td>1673</td>\n",
       "      <td>327</td>\n",
       "    </tr>\n",
       "    <tr>\n",
       "      <th>bad</th>\n",
       "      <td>329</td>\n",
       "      <td>1671</td>\n",
       "    </tr>\n",
       "  </tbody>\n",
       "</table>\n",
       "</div>"
      ],
      "text/plain": [
       "      good   bad\n",
       "good  1673   327\n",
       "bad    329  1671"
      ]
     },
     "execution_count": 48,
     "metadata": {},
     "output_type": "execute_result"
    }
   ],
   "source": [
    "benchmark(y_pred,y_true)"
   ]
  },
  {
   "cell_type": "markdown",
   "id": "d8d6d347",
   "metadata": {},
   "source": [
    "## Pipeline"
   ]
  },
  {
   "cell_type": "code",
   "execution_count": 15,
   "id": "ba60d752",
   "metadata": {},
   "outputs": [],
   "source": [
    "import modelisation_avanced as md_avanced"
   ]
  },
  {
   "cell_type": "code",
   "execution_count": 16,
   "id": "aaeefb66",
   "metadata": {},
   "outputs": [],
   "source": [
    "pipeline = md_avanced.create_pipeline()"
   ]
  },
  {
   "cell_type": "code",
   "execution_count": 21,
   "id": "618419f2",
   "metadata": {},
   "outputs": [],
   "source": [
    "X_clean= md_avanced.preprocessed_data(X_train)"
   ]
  },
  {
   "cell_type": "code",
   "execution_count": 23,
   "id": "90c2906e",
   "metadata": {},
   "outputs": [
    {
     "name": "stdout",
     "output_type": "stream",
     "text": [
      "49875/49875 [==============================] - 1015s 20ms/step - loss: 0.4091 - accuracy: 0.8126\n"
     ]
    },
    {
     "data": {
      "text/plain": [
       "Pipeline(steps=[('tokenizer', TokenizerTransformer()),\n",
       "                ('padder', PadSequencesTransformer(maxlen=40)),\n",
       "                ('model',\n",
       "                 <keras.wrappers.scikit_learn.KerasClassifier object at 0x7fe2707d8160>)])"
      ]
     },
     "execution_count": 23,
     "metadata": {},
     "output_type": "execute_result"
    }
   ],
   "source": [
    "pipeline.fit(X_clean,y_train)"
   ]
  },
  {
   "cell_type": "code",
   "execution_count": 24,
   "id": "042022db",
   "metadata": {},
   "outputs": [],
   "source": [
    "X_test = md_avanced.preprocessed_data(df_nlp[\"text\"].loc[id_pos_test_set].tolist())\n",
    "y_test = df_nlp[\"sentiment\"].loc[id_pos_test_set].tolist()"
   ]
  },
  {
   "cell_type": "code",
   "execution_count": 25,
   "id": "7d49c992",
   "metadata": {},
   "outputs": [],
   "source": [
    "from sklearn.metrics import accuracy_score, confusion_matrix, classification_report,roc_auc_score\n",
    "def benchmark(y_pred,y_true):\n",
    "    print(\"accuracy score :\",accuracy_score(y_true,y_pred))\n",
    "    print(classification_report(y_true,y_pred))\n",
    "    return pd.DataFrame(confusion_matrix(y_true,y_pred),columns=[\"good\",\"bad\"],index=[\"good\",\"bad\"])"
   ]
  },
  {
   "cell_type": "code",
   "execution_count": 26,
   "id": "a1179c33",
   "metadata": {},
   "outputs": [],
   "source": [
    "y_pred = pipeline.predict(X_test)"
   ]
  },
  {
   "cell_type": "code",
   "execution_count": 27,
   "id": "36dbd003",
   "metadata": {},
   "outputs": [
    {
     "name": "stdout",
     "output_type": "stream",
     "text": [
      "accuracy score : 0.83375\n",
      "              precision    recall  f1-score   support\n",
      "\n",
      "         bad       0.83      0.85      0.84      2000\n",
      "        good       0.84      0.82      0.83      2000\n",
      "\n",
      "    accuracy                           0.83      4000\n",
      "   macro avg       0.83      0.83      0.83      4000\n",
      "weighted avg       0.83      0.83      0.83      4000\n",
      "\n"
     ]
    },
    {
     "data": {
      "text/html": [
       "<div>\n",
       "<style scoped>\n",
       "    .dataframe tbody tr th:only-of-type {\n",
       "        vertical-align: middle;\n",
       "    }\n",
       "\n",
       "    .dataframe tbody tr th {\n",
       "        vertical-align: top;\n",
       "    }\n",
       "\n",
       "    .dataframe thead th {\n",
       "        text-align: right;\n",
       "    }\n",
       "</style>\n",
       "<table border=\"1\" class=\"dataframe\">\n",
       "  <thead>\n",
       "    <tr style=\"text-align: right;\">\n",
       "      <th></th>\n",
       "      <th>good</th>\n",
       "      <th>bad</th>\n",
       "    </tr>\n",
       "  </thead>\n",
       "  <tbody>\n",
       "    <tr>\n",
       "      <th>good</th>\n",
       "      <td>1692</td>\n",
       "      <td>308</td>\n",
       "    </tr>\n",
       "    <tr>\n",
       "      <th>bad</th>\n",
       "      <td>357</td>\n",
       "      <td>1643</td>\n",
       "    </tr>\n",
       "  </tbody>\n",
       "</table>\n",
       "</div>"
      ],
      "text/plain": [
       "      good   bad\n",
       "good  1692   308\n",
       "bad    357  1643"
      ]
     },
     "execution_count": 27,
     "metadata": {},
     "output_type": "execute_result"
    }
   ],
   "source": [
    "benchmark(y_pred,y_test)"
   ]
  },
  {
   "cell_type": "markdown",
   "id": "236eda63",
   "metadata": {},
   "source": [
    "### Sauvegarde de la méthode de clean, du tokenizer et du modèle entrainé "
   ]
  },
  {
   "cell_type": "code",
   "execution_count": 28,
   "id": "94453e23",
   "metadata": {},
   "outputs": [],
   "source": [
    "md_avanced.save_pipeline_keras(pipeline,path_to_model_data=\"./data/model\")"
   ]
  }
 ],
 "metadata": {
  "kernelspec": {
   "display_name": "Python 3",
   "language": "python",
   "name": "python3"
  },
  "language_info": {
   "codemirror_mode": {
    "name": "ipython",
    "version": 3
   },
   "file_extension": ".py",
   "mimetype": "text/x-python",
   "name": "python",
   "nbconvert_exporter": "python",
   "pygments_lexer": "ipython3",
   "version": "3.6.9"
  }
 },
 "nbformat": 4,
 "nbformat_minor": 5
}
