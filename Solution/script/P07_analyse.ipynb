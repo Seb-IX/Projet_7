{
 "cells": [
  {
   "cell_type": "markdown",
   "id": "9ae90aed",
   "metadata": {},
   "source": [
    "# Détectez les Bad Buzz grâce au Deep Learning\n",
    "\n",
    "\n"
   ]
  },
  {
   "cell_type": "code",
   "execution_count": 1,
   "id": "d501cfa7",
   "metadata": {},
   "outputs": [],
   "source": [
    "import pandas as pd\n",
    "import numpy as np\n",
    "import matplotlib.pyplot as plt"
   ]
  },
  {
   "cell_type": "code",
   "execution_count": 2,
   "id": "1592cdd2",
   "metadata": {},
   "outputs": [],
   "source": [
    "dir_data = \"./data/\""
   ]
  },
  {
   "cell_type": "code",
   "execution_count": 3,
   "id": "84e50138",
   "metadata": {},
   "outputs": [],
   "source": [
    "df_nlp = pd.read_csv(dir_data + \"training.1600000.processed.noemoticon.csv\",\n",
    "                     encoding=\"ISO-8859-1\",\n",
    "                     header=None,\n",
    "                     names=[\"target\",\"id\",\"date\",\"flag\",\"user\",\"text\"])"
   ]
  },
  {
   "cell_type": "code",
   "execution_count": 4,
   "id": "5b789aa5",
   "metadata": {},
   "outputs": [
    {
     "data": {
      "text/html": [
       "<div>\n",
       "<style scoped>\n",
       "    .dataframe tbody tr th:only-of-type {\n",
       "        vertical-align: middle;\n",
       "    }\n",
       "\n",
       "    .dataframe tbody tr th {\n",
       "        vertical-align: top;\n",
       "    }\n",
       "\n",
       "    .dataframe thead th {\n",
       "        text-align: right;\n",
       "    }\n",
       "</style>\n",
       "<table border=\"1\" class=\"dataframe\">\n",
       "  <thead>\n",
       "    <tr style=\"text-align: right;\">\n",
       "      <th></th>\n",
       "      <th>target</th>\n",
       "      <th>id</th>\n",
       "      <th>date</th>\n",
       "      <th>flag</th>\n",
       "      <th>user</th>\n",
       "      <th>text</th>\n",
       "    </tr>\n",
       "  </thead>\n",
       "  <tbody>\n",
       "    <tr>\n",
       "      <th>0</th>\n",
       "      <td>0</td>\n",
       "      <td>1467810369</td>\n",
       "      <td>Mon Apr 06 22:19:45 PDT 2009</td>\n",
       "      <td>NO_QUERY</td>\n",
       "      <td>_TheSpecialOne_</td>\n",
       "      <td>@switchfoot http://twitpic.com/2y1zl - Awww, t...</td>\n",
       "    </tr>\n",
       "    <tr>\n",
       "      <th>1</th>\n",
       "      <td>0</td>\n",
       "      <td>1467810672</td>\n",
       "      <td>Mon Apr 06 22:19:49 PDT 2009</td>\n",
       "      <td>NO_QUERY</td>\n",
       "      <td>scotthamilton</td>\n",
       "      <td>is upset that he can't update his Facebook by ...</td>\n",
       "    </tr>\n",
       "    <tr>\n",
       "      <th>2</th>\n",
       "      <td>0</td>\n",
       "      <td>1467810917</td>\n",
       "      <td>Mon Apr 06 22:19:53 PDT 2009</td>\n",
       "      <td>NO_QUERY</td>\n",
       "      <td>mattycus</td>\n",
       "      <td>@Kenichan I dived many times for the ball. Man...</td>\n",
       "    </tr>\n",
       "    <tr>\n",
       "      <th>3</th>\n",
       "      <td>0</td>\n",
       "      <td>1467811184</td>\n",
       "      <td>Mon Apr 06 22:19:57 PDT 2009</td>\n",
       "      <td>NO_QUERY</td>\n",
       "      <td>ElleCTF</td>\n",
       "      <td>my whole body feels itchy and like its on fire</td>\n",
       "    </tr>\n",
       "    <tr>\n",
       "      <th>4</th>\n",
       "      <td>0</td>\n",
       "      <td>1467811193</td>\n",
       "      <td>Mon Apr 06 22:19:57 PDT 2009</td>\n",
       "      <td>NO_QUERY</td>\n",
       "      <td>Karoli</td>\n",
       "      <td>@nationwideclass no, it's not behaving at all....</td>\n",
       "    </tr>\n",
       "  </tbody>\n",
       "</table>\n",
       "</div>"
      ],
      "text/plain": [
       "   target          id                          date      flag  \\\n",
       "0       0  1467810369  Mon Apr 06 22:19:45 PDT 2009  NO_QUERY   \n",
       "1       0  1467810672  Mon Apr 06 22:19:49 PDT 2009  NO_QUERY   \n",
       "2       0  1467810917  Mon Apr 06 22:19:53 PDT 2009  NO_QUERY   \n",
       "3       0  1467811184  Mon Apr 06 22:19:57 PDT 2009  NO_QUERY   \n",
       "4       0  1467811193  Mon Apr 06 22:19:57 PDT 2009  NO_QUERY   \n",
       "\n",
       "              user                                               text  \n",
       "0  _TheSpecialOne_  @switchfoot http://twitpic.com/2y1zl - Awww, t...  \n",
       "1    scotthamilton  is upset that he can't update his Facebook by ...  \n",
       "2         mattycus  @Kenichan I dived many times for the ball. Man...  \n",
       "3          ElleCTF    my whole body feels itchy and like its on fire   \n",
       "4           Karoli  @nationwideclass no, it's not behaving at all....  "
      ]
     },
     "execution_count": 4,
     "metadata": {},
     "output_type": "execute_result"
    }
   ],
   "source": [
    "df_nlp.head()"
   ]
  },
  {
   "cell_type": "code",
   "execution_count": 5,
   "id": "e751739d",
   "metadata": {},
   "outputs": [
    {
     "name": "stdout",
     "output_type": "stream",
     "text": [
      "<class 'pandas.core.frame.DataFrame'>\n",
      "RangeIndex: 1600000 entries, 0 to 1599999\n",
      "Data columns (total 6 columns):\n",
      " #   Column  Non-Null Count    Dtype \n",
      "---  ------  --------------    ----- \n",
      " 0   target  1600000 non-null  int64 \n",
      " 1   id      1600000 non-null  int64 \n",
      " 2   date    1600000 non-null  object\n",
      " 3   flag    1600000 non-null  object\n",
      " 4   user    1600000 non-null  object\n",
      " 5   text    1600000 non-null  object\n",
      "dtypes: int64(2), object(4)\n",
      "memory usage: 73.2+ MB\n"
     ]
    }
   ],
   "source": [
    "df_nlp.info()"
   ]
  },
  {
   "cell_type": "code",
   "execution_count": 6,
   "id": "b644ca3c",
   "metadata": {},
   "outputs": [
    {
     "name": "stdout",
     "output_type": "stream",
     "text": [
      "CPU times: user 2min 44s, sys: 0 ns, total: 2min 44s\n",
      "Wall time: 2min 44s\n"
     ]
    }
   ],
   "source": [
    "%%time\n",
    "df_nlp[\"date\"] = pd.to_datetime(df_nlp[\"date\"].apply(lambda x : x.replace(\"PDT \", \"\")).values,errors=\"ignore\")"
   ]
  },
  {
   "cell_type": "code",
   "execution_count": 7,
   "id": "39891213",
   "metadata": {},
   "outputs": [
    {
     "name": "stdout",
     "output_type": "stream",
     "text": [
      "<class 'pandas.core.frame.DataFrame'>\n",
      "RangeIndex: 1600000 entries, 0 to 1599999\n",
      "Data columns (total 6 columns):\n",
      " #   Column  Non-Null Count    Dtype         \n",
      "---  ------  --------------    -----         \n",
      " 0   target  1600000 non-null  int64         \n",
      " 1   id      1600000 non-null  int64         \n",
      " 2   date    1600000 non-null  datetime64[ns]\n",
      " 3   flag    1600000 non-null  object        \n",
      " 4   user    1600000 non-null  object        \n",
      " 5   text    1600000 non-null  object        \n",
      "dtypes: datetime64[ns](1), int64(2), object(3)\n",
      "memory usage: 73.2+ MB\n"
     ]
    }
   ],
   "source": [
    "df_nlp.info()"
   ]
  },
  {
   "cell_type": "code",
   "execution_count": 8,
   "id": "f22fd06a",
   "metadata": {},
   "outputs": [
    {
     "data": {
      "text/plain": [
       "4    800000\n",
       "0    800000\n",
       "Name: target, dtype: int64"
      ]
     },
     "execution_count": 8,
     "metadata": {},
     "output_type": "execute_result"
    }
   ],
   "source": [
    "df_nlp[\"target\"].value_counts()"
   ]
  },
  {
   "cell_type": "code",
   "execution_count": 9,
   "id": "bc579d3f",
   "metadata": {},
   "outputs": [
    {
     "data": {
      "text/plain": [
       "NO_QUERY    1600000\n",
       "Name: flag, dtype: int64"
      ]
     },
     "execution_count": 9,
     "metadata": {},
     "output_type": "execute_result"
    }
   ],
   "source": [
    "df_nlp[\"flag\"].value_counts()"
   ]
  },
  {
   "cell_type": "code",
   "execution_count": 10,
   "id": "1a336548",
   "metadata": {},
   "outputs": [
    {
     "data": {
      "image/png": "[encoded data removed]",
      "text/plain": [
       "<Figure size 1440x576 with 1 Axes>"
      ]
     },
     "metadata": {
      "needs_background": "light"
     },
     "output_type": "display_data"
    }
   ],
   "source": [
    "plt.figure(figsize=(20,8))\n",
    "plt.hist(df_nlp[\"text\"].apply(lambda x: len(x)).values,bins=300)\n",
    "plt.yscale(\"log\")\n",
    "plt.title(\"Nombre de caractère des tweet\",fontsize=20)\n",
    "plt.show()"
   ]
  },
  {
   "cell_type": "code",
   "execution_count": 11,
   "id": "5a602361",
   "metadata": {},
   "outputs": [],
   "source": [
    "df_nlp.index = df_nlp[\"date\"]"
   ]
  },
  {
   "cell_type": "code",
   "execution_count": 12,
   "id": "7767f78d",
   "metadata": {},
   "outputs": [
    {
     "name": "stdout",
     "output_type": "stream",
     "text": [
      "date\n",
      "2009-04-30    100025\n",
      "2009-05-31    576367\n",
      "2009-06-30    923608\n",
      "Freq: M, Name: id, dtype: int64\n"
     ]
    },
    {
     "data": {
      "image/png": "[encoded data removed]",
      "text/plain": [
       "<Figure size 1440x576 with 1 Axes>"
      ]
     },
     "metadata": {
      "needs_background": "light"
     },
     "output_type": "display_data"
    }
   ],
   "source": [
    "plt.figure(figsize=(20,8))\n",
    "sample_month = df_nlp[\"id\"].resample(\"M\").count()\n",
    "print(sample_month)\n",
    "plt.plot(sample_month)\n",
    "plt.title(\"Nombre de tweet par mois\",fontsize=20)\n",
    "plt.show()"
   ]
  },
  {
   "cell_type": "code",
   "execution_count": 13,
   "id": "853c00e4",
   "metadata": {},
   "outputs": [
    {
     "data": {
      "image/png": "[encoded data removed]",
      "text/plain": [
       "<Figure size 1440x576 with 1 Axes>"
      ]
     },
     "metadata": {
      "needs_background": "light"
     },
     "output_type": "display_data"
    }
   ],
   "source": [
    "plt.figure(figsize=(20,8))\n",
    "sample_month = df_nlp[\"id\"].resample(\"D\").count()\n",
    "plt.plot(sample_month)\n",
    "plt.title(\"Nombre de tweet journalier\",fontsize=20)\n",
    "plt.show()"
   ]
  },
  {
   "cell_type": "code",
   "execution_count": 14,
   "id": "539e1ba1",
   "metadata": {},
   "outputs": [],
   "source": [
    "best_10_tweet_user = df_nlp.groupby(\"user\")[\"id\"].count().sort_values(ascending=False).iloc[:10]"
   ]
  },
  {
   "cell_type": "code",
   "execution_count": 15,
   "id": "02f4568b",
   "metadata": {},
   "outputs": [
    {
     "data": {
      "image/png": "[encoded data removed]",
      "text/plain": [
       "<Figure size 1440x576 with 1 Axes>"
      ]
     },
     "metadata": {
      "needs_background": "light"
     },
     "output_type": "display_data"
    }
   ],
   "source": [
    "plt.figure(figsize=(20,8))\n",
    "plt.bar(best_10_tweet_user.index,best_10_tweet_user.values)\n",
    "plt.title(\"User les plus actifs\",fontsize=20)\n",
    "plt.ylabel(\"Nombre de tweets\",fontsize=15)\n",
    "plt.xticks(rotation=90,fontsize=15)\n",
    "plt.show()"
   ]
  },
  {
   "cell_type": "code",
   "execution_count": 16,
   "id": "ba3a2371",
   "metadata": {},
   "outputs": [],
   "source": [
    "all_word = {}\n",
    "def add_text(text):\n",
    "    words = text.split(\" \")\n",
    "    for w in words:\n",
    "        if w in all_word.keys():\n",
    "            all_word[w] +=1\n",
    "        else:\n",
    "            all_word[w] = 1\n",
    "_ = df_nlp[\"text\"].apply(lambda x : add_text(x))"
   ]
  },
  {
   "cell_type": "code",
   "execution_count": 17,
   "id": "193ba944",
   "metadata": {},
   "outputs": [],
   "source": [
    "sort_count_word = dict(sorted(all_word.items(), key=lambda item: item[-1], reverse=True))"
   ]
  },
  {
   "cell_type": "code",
   "execution_count": 18,
   "id": "e18988a6",
   "metadata": {},
   "outputs": [],
   "source": [
    "top_10_word_used  = {}\n",
    "for _,k in zip(range(10),sort_count_word.items()):\n",
    "    top_10_word_used[k[0]]= k[1]"
   ]
  },
  {
   "cell_type": "code",
   "execution_count": 19,
   "id": "854888ed",
   "metadata": {},
   "outputs": [
    {
     "name": "stdout",
     "output_type": "stream",
     "text": [
      "{'': 1930617, 'to': 552962, 'I': 496608, 'the': 487500, 'a': 366212, 'my': 280025, 'and': 275263, 'i': 249975, 'is': 217692, 'you': 213871}\n"
     ]
    },
    {
     "data": {
      "image/png": "[encoded data removed]",
      "text/plain": [
       "<Figure size 1440x576 with 1 Axes>"
      ]
     },
     "metadata": {
      "needs_background": "light"
     },
     "output_type": "display_data"
    }
   ],
   "source": [
    "plt.figure(figsize=(20,8))\n",
    "print(top_10_word_used)\n",
    "plt.bar(top_10_word_used.keys(),top_10_word_used.values())\n",
    "plt.title(\"Mot les plus fréquents avant nettoyage\",fontsize=20)\n",
    "plt.xticks(fontsize=16)\n",
    "plt.show()"
   ]
  },
  {
   "cell_type": "code",
   "execution_count": 20,
   "id": "c79416ae",
   "metadata": {},
   "outputs": [],
   "source": [
    "count_unique_word = [k for k,v in all_word.items() if v == 1]"
   ]
  },
  {
   "cell_type": "code",
   "execution_count": 21,
   "id": "144c7254",
   "metadata": {},
   "outputs": [
    {
     "name": "stdout",
     "output_type": "stream",
     "text": [
      "Il y a un total de 967917 mot unique sur 1350544\n"
     ]
    }
   ],
   "source": [
    "print(\"Il y a un total de\", len(count_unique_word),\"mot unique sur\",len(all_word))"
   ]
  },
  {
   "cell_type": "code",
   "execution_count": 22,
   "id": "4b661629",
   "metadata": {},
   "outputs": [],
   "source": [
    "test = df_nlp.copy()\n",
    "test.reset_index(drop=True,inplace=True)\n",
    "nb_char = test[\"text\"].apply(lambda x: len(x))"
   ]
  },
  {
   "cell_type": "code",
   "execution_count": 23,
   "id": "848a40c3",
   "metadata": {},
   "outputs": [
    {
     "data": {
      "text/html": [
       "<div>\n",
       "<style scoped>\n",
       "    .dataframe tbody tr th:only-of-type {\n",
       "        vertical-align: middle;\n",
       "    }\n",
       "\n",
       "    .dataframe tbody tr th {\n",
       "        vertical-align: top;\n",
       "    }\n",
       "\n",
       "    .dataframe thead th {\n",
       "        text-align: right;\n",
       "    }\n",
       "</style>\n",
       "<table border=\"1\" class=\"dataframe\">\n",
       "  <thead>\n",
       "    <tr style=\"text-align: right;\">\n",
       "      <th></th>\n",
       "      <th>target</th>\n",
       "      <th>id</th>\n",
       "      <th>date</th>\n",
       "      <th>flag</th>\n",
       "      <th>user</th>\n",
       "      <th>text</th>\n",
       "    </tr>\n",
       "  </thead>\n",
       "  <tbody>\n",
       "    <tr>\n",
       "      <th>4233</th>\n",
       "      <td>0</td>\n",
       "      <td>1468771833</td>\n",
       "      <td>2009-04-07 03:39:06</td>\n",
       "      <td>NO_QUERY</td>\n",
       "      <td>goldieloxx</td>\n",
       "      <td>just</td>\n",
       "    </tr>\n",
       "    <tr>\n",
       "      <th>209110</th>\n",
       "      <td>0</td>\n",
       "      <td>1973889928</td>\n",
       "      <td>2009-05-30 12:01:58</td>\n",
       "      <td>NO_QUERY</td>\n",
       "      <td>PhoebeKaye11</td>\n",
       "      <td>ouch</td>\n",
       "    </tr>\n",
       "    <tr>\n",
       "      <th>310554</th>\n",
       "      <td>0</td>\n",
       "      <td>2001120036</td>\n",
       "      <td>2009-06-01 23:54:07</td>\n",
       "      <td>NO_QUERY</td>\n",
       "      <td>Loois9</td>\n",
       "      <td>Ugh</td>\n",
       "    </tr>\n",
       "    <tr>\n",
       "      <th>1050599</th>\n",
       "      <td>4</td>\n",
       "      <td>1960762577</td>\n",
       "      <td>2009-05-29 08:28:02</td>\n",
       "      <td>NO_QUERY</td>\n",
       "      <td>this_kid2008</td>\n",
       "      <td>hey</td>\n",
       "    </tr>\n",
       "    <tr>\n",
       "      <th>1071086</th>\n",
       "      <td>4</td>\n",
       "      <td>1966267712</td>\n",
       "      <td>2009-05-29 17:26:49</td>\n",
       "      <td>NO_QUERY</td>\n",
       "      <td>Jsstar0273</td>\n",
       "      <td>Yes</td>\n",
       "    </tr>\n",
       "    <tr>\n",
       "      <th>1229947</th>\n",
       "      <td>4</td>\n",
       "      <td>1991474399</td>\n",
       "      <td>2009-06-01 07:06:16</td>\n",
       "      <td>NO_QUERY</td>\n",
       "      <td>kimmms</td>\n",
       "      <td>and*</td>\n",
       "    </tr>\n",
       "  </tbody>\n",
       "</table>\n",
       "</div>"
      ],
      "text/plain": [
       "         target          id                date      flag          user  \\\n",
       "4233          0  1468771833 2009-04-07 03:39:06  NO_QUERY    goldieloxx   \n",
       "209110        0  1973889928 2009-05-30 12:01:58  NO_QUERY  PhoebeKaye11   \n",
       "310554        0  2001120036 2009-06-01 23:54:07  NO_QUERY        Loois9   \n",
       "1050599       4  1960762577 2009-05-29 08:28:02  NO_QUERY  this_kid2008   \n",
       "1071086       4  1966267712 2009-05-29 17:26:49  NO_QUERY    Jsstar0273   \n",
       "1229947       4  1991474399 2009-06-01 07:06:16  NO_QUERY        kimmms   \n",
       "\n",
       "           text  \n",
       "4233      just   \n",
       "209110   ouch    \n",
       "310554   Ugh     \n",
       "1050599  hey     \n",
       "1071086  Yes     \n",
       "1229947  and*    "
      ]
     },
     "execution_count": 23,
     "metadata": {},
     "output_type": "execute_result"
    }
   ],
   "source": [
    "test.iloc[nb_char[nb_char <= 6].index.tolist()]"
   ]
  },
  {
   "cell_type": "markdown",
   "id": "83680a77",
   "metadata": {},
   "source": [
    "# Creation d'un petit dataset (ML_STUDIO & cognitive_service)"
   ]
  },
  {
   "cell_type": "code",
   "execution_count": 24,
   "id": "0084cde3",
   "metadata": {},
   "outputs": [],
   "source": [
    "df_nlp[\"sentiment\"] = df_nlp[\"target\"].apply(lambda x : \"good\" if x==4 else \"bad\").values"
   ]
  },
  {
   "cell_type": "code",
   "execution_count": 25,
   "id": "14cf6019",
   "metadata": {},
   "outputs": [],
   "source": [
    "final_df = df_nlp.drop([\"id\",\"flag\",\"user\",\"date\",\"target\"],axis=1).copy()"
   ]
  },
  {
   "cell_type": "code",
   "execution_count": 26,
   "id": "b3988199",
   "metadata": {},
   "outputs": [],
   "source": [
    "final_df.to_csv(dir_data + \"final_dataset.csv\")"
   ]
  },
  {
   "cell_type": "code",
   "execution_count": 27,
   "id": "8ee42d90",
   "metadata": {},
   "outputs": [],
   "source": [
    "X_train = final_df[\"text\"].values\n",
    "y_train = final_df[\"sentiment\"].values"
   ]
  },
  {
   "cell_type": "code",
   "execution_count": 28,
   "id": "93f8e665",
   "metadata": {},
   "outputs": [
    {
     "data": {
      "text/plain": [
       "'bad'"
      ]
     },
     "execution_count": 28,
     "metadata": {},
     "output_type": "execute_result"
    }
   ],
   "source": [
    "y_train[0]"
   ]
  },
  {
   "cell_type": "code",
   "execution_count": 29,
   "id": "adcc27ee",
   "metadata": {},
   "outputs": [],
   "source": [
    "new_size=10000\n",
    "size=new_size//2\n",
    "\n",
    "pos_X = []\n",
    "i = 0\n",
    "while len(pos_X) < size:\n",
    "    if y_train[i] ==\"good\":\n",
    "        pos_X.append(X_train[i])\n",
    "    i+=1\n",
    "\n",
    "i=0\n",
    "neg_X = []\n",
    "while len(neg_X) < size:\n",
    "    if y_train[i] ==\"bad\":\n",
    "        neg_X.append(X_train[i])\n",
    "    i+=1\n",
    "reduce_X = pos_X\n",
    "\n",
    "reduce_X.extend(neg_X)\n",
    "reduce_Y = [\"good\" for i in range(size)]\n",
    "reduce_Y.extend([\"bad\" for i in range(size)])"
   ]
  },
  {
   "cell_type": "code",
   "execution_count": 30,
   "id": "335e0fc1",
   "metadata": {},
   "outputs": [],
   "source": [
    "sample_df = pd.DataFrame(reduce_X,columns=[\"text\"])"
   ]
  },
  {
   "cell_type": "code",
   "execution_count": 31,
   "id": "d14351f3",
   "metadata": {},
   "outputs": [],
   "source": [
    "sample_df[\"sentiment\"] = reduce_Y"
   ]
  },
  {
   "cell_type": "code",
   "execution_count": 32,
   "id": "0423a1c6",
   "metadata": {},
   "outputs": [],
   "source": [
    "sample_df.to_csv(dir_data + \"sample_final_dataset.csv\")"
   ]
  },
  {
   "cell_type": "code",
   "execution_count": 33,
   "id": "3874ea21",
   "metadata": {},
   "outputs": [
    {
     "data": {
      "text/html": [
       "<div>\n",
       "<style scoped>\n",
       "    .dataframe tbody tr th:only-of-type {\n",
       "        vertical-align: middle;\n",
       "    }\n",
       "\n",
       "    .dataframe tbody tr th {\n",
       "        vertical-align: top;\n",
       "    }\n",
       "\n",
       "    .dataframe thead th {\n",
       "        text-align: right;\n",
       "    }\n",
       "</style>\n",
       "<table border=\"1\" class=\"dataframe\">\n",
       "  <thead>\n",
       "    <tr style=\"text-align: right;\">\n",
       "      <th></th>\n",
       "      <th>text</th>\n",
       "      <th>sentiment</th>\n",
       "    </tr>\n",
       "  </thead>\n",
       "  <tbody>\n",
       "    <tr>\n",
       "      <th>0</th>\n",
       "      <td>I LOVE @Health4UandPets u guys r the best!!</td>\n",
       "      <td>good</td>\n",
       "    </tr>\n",
       "    <tr>\n",
       "      <th>1</th>\n",
       "      <td>im meeting up with one of my besties tonight! ...</td>\n",
       "      <td>good</td>\n",
       "    </tr>\n",
       "    <tr>\n",
       "      <th>2</th>\n",
       "      <td>@DaRealSunisaKim Thanks for the Twitter add, S...</td>\n",
       "      <td>good</td>\n",
       "    </tr>\n",
       "    <tr>\n",
       "      <th>3</th>\n",
       "      <td>Being sick can be really cheap when it hurts t...</td>\n",
       "      <td>good</td>\n",
       "    </tr>\n",
       "    <tr>\n",
       "      <th>4</th>\n",
       "      <td>@LovesBrooklyn2 he has that effect on everyone</td>\n",
       "      <td>good</td>\n",
       "    </tr>\n",
       "  </tbody>\n",
       "</table>\n",
       "</div>"
      ],
      "text/plain": [
       "                                                text sentiment\n",
       "0       I LOVE @Health4UandPets u guys r the best!!       good\n",
       "1  im meeting up with one of my besties tonight! ...      good\n",
       "2  @DaRealSunisaKim Thanks for the Twitter add, S...      good\n",
       "3  Being sick can be really cheap when it hurts t...      good\n",
       "4    @LovesBrooklyn2 he has that effect on everyone       good"
      ]
     },
     "execution_count": 33,
     "metadata": {},
     "output_type": "execute_result"
    }
   ],
   "source": [
    "pd.read_csv(dir_data + \"sample_final_dataset.csv\",index_col=0).head()"
   ]
  },
  {
   "cell_type": "code",
   "execution_count": 34,
   "id": "92c20615",
   "metadata": {},
   "outputs": [
    {
     "name": "stdout",
     "output_type": "stream",
     "text": [
      "i lose followers all the time.  haha \n",
      "sentiment : bad\n"
     ]
    }
   ],
   "source": [
    "index = 14758\n",
    "print(final_df[\"text\"].iloc[index],\"\\nsentiment :\",final_df[\"sentiment\"].iloc[index])"
   ]
  },
  {
   "cell_type": "code",
   "execution_count": 35,
   "id": "a002c1c1",
   "metadata": {},
   "outputs": [
    {
     "name": "stdout",
     "output_type": "stream",
     "text": [
      "I feel like i have a hangover... But i didn't really drink alot last night.  \n",
      "sentiment : bad\n"
     ]
    }
   ],
   "source": [
    "index = 25894\n",
    "print(final_df[\"text\"].iloc[index],\"\\nsentiment :\",final_df[\"sentiment\"].iloc[index])"
   ]
  },
  {
   "cell_type": "code",
   "execution_count": 42,
   "id": "996a91d4",
   "metadata": {},
   "outputs": [],
   "source": [
    "new_size=4000\n",
    "size=new_size//2\n",
    "\n",
    "pos_X = []\n",
    "i = 1500000\n",
    "while len(pos_X) < size:\n",
    "    if y_train[i] ==\"good\":\n",
    "        pos_X.append(X_train[i])\n",
    "    i+=1\n",
    "\n",
    "i=700000\n",
    "neg_X = []\n",
    "while len(neg_X) < size:\n",
    "    if y_train[i] ==\"bad\":\n",
    "        neg_X.append(X_train[i])\n",
    "    i+=1\n",
    "reduce_X = pos_X\n",
    "\n",
    "reduce_X.extend(neg_X)\n",
    "reduce_Y = [\"good\" for i in range(size)]\n",
    "reduce_Y.extend([\"bad\" for i in range(size)])"
   ]
  },
  {
   "cell_type": "code",
   "execution_count": 45,
   "id": "753f1e0b",
   "metadata": {},
   "outputs": [],
   "source": [
    "sample_df_test = pd.DataFrame(reduce_X,columns=[\"text\"])\n",
    "sample_df_test[\"sentiment\"] = reduce_Y"
   ]
  },
  {
   "cell_type": "code",
   "execution_count": 47,
   "id": "7809d95a",
   "metadata": {},
   "outputs": [],
   "source": [
    "sample_df_test.to_csv(dir_data + \"sample_test_dataset.csv\")"
   ]
  },
  {
   "cell_type": "code",
   "execution_count": 48,
   "id": "896312a6",
   "metadata": {},
   "outputs": [
    {
     "data": {
      "text/html": [
       "<div>\n",
       "<style scoped>\n",
       "    .dataframe tbody tr th:only-of-type {\n",
       "        vertical-align: middle;\n",
       "    }\n",
       "\n",
       "    .dataframe tbody tr th {\n",
       "        vertical-align: top;\n",
       "    }\n",
       "\n",
       "    .dataframe thead th {\n",
       "        text-align: right;\n",
       "    }\n",
       "</style>\n",
       "<table border=\"1\" class=\"dataframe\">\n",
       "  <thead>\n",
       "    <tr style=\"text-align: right;\">\n",
       "      <th></th>\n",
       "      <th>text</th>\n",
       "      <th>sentiment</th>\n",
       "    </tr>\n",
       "  </thead>\n",
       "  <tbody>\n",
       "    <tr>\n",
       "      <th>0</th>\n",
       "      <td>Chillin @ the beach with my girl brit-brit wat...</td>\n",
       "      <td>good</td>\n",
       "    </tr>\n",
       "    <tr>\n",
       "      <th>1</th>\n",
       "      <td>@indraherlambang really wanna say that ure lik...</td>\n",
       "      <td>good</td>\n",
       "    </tr>\n",
       "    <tr>\n",
       "      <th>2</th>\n",
       "      <td>@ambermac Gotta love Brad Pitt's performance, ...</td>\n",
       "      <td>good</td>\n",
       "    </tr>\n",
       "    <tr>\n",
       "      <th>3</th>\n",
       "      <td>Just realized that Matthew Sweet &amp;amp; Susanna...</td>\n",
       "      <td>good</td>\n",
       "    </tr>\n",
       "    <tr>\n",
       "      <th>4</th>\n",
       "      <td>@marksphone sorry, meant that to come from my ...</td>\n",
       "      <td>good</td>\n",
       "    </tr>\n",
       "    <tr>\n",
       "      <th>...</th>\n",
       "      <td>...</td>\n",
       "      <td>...</td>\n",
       "    </tr>\n",
       "    <tr>\n",
       "      <th>3995</th>\n",
       "      <td>Got an iPod touch from joeyy but only to borrow</td>\n",
       "      <td>bad</td>\n",
       "    </tr>\n",
       "    <tr>\n",
       "      <th>3996</th>\n",
       "      <td>@figmdn I am lost. Please help me find a good ...</td>\n",
       "      <td>bad</td>\n",
       "    </tr>\n",
       "    <tr>\n",
       "      <th>3997</th>\n",
       "      <td>had an eventful time but now feels sad  maybe ...</td>\n",
       "      <td>bad</td>\n",
       "    </tr>\n",
       "    <tr>\n",
       "      <th>3998</th>\n",
       "      <td>@DonnieWahlberg I need a twug. I just got pick...</td>\n",
       "      <td>bad</td>\n",
       "    </tr>\n",
       "    <tr>\n",
       "      <th>3999</th>\n",
       "      <td>Chesss, me corrige el profe, es LVM con RAID</td>\n",
       "      <td>bad</td>\n",
       "    </tr>\n",
       "  </tbody>\n",
       "</table>\n",
       "<p>4000 rows × 2 columns</p>\n",
       "</div>"
      ],
      "text/plain": [
       "                                                   text sentiment\n",
       "0     Chillin @ the beach with my girl brit-brit wat...      good\n",
       "1     @indraherlambang really wanna say that ure lik...      good\n",
       "2     @ambermac Gotta love Brad Pitt's performance, ...      good\n",
       "3     Just realized that Matthew Sweet &amp; Susanna...      good\n",
       "4     @marksphone sorry, meant that to come from my ...      good\n",
       "...                                                 ...       ...\n",
       "3995   Got an iPod touch from joeyy but only to borrow        bad\n",
       "3996  @figmdn I am lost. Please help me find a good ...       bad\n",
       "3997  had an eventful time but now feels sad  maybe ...       bad\n",
       "3998  @DonnieWahlberg I need a twug. I just got pick...       bad\n",
       "3999      Chesss, me corrige el profe, es LVM con RAID        bad\n",
       "\n",
       "[4000 rows x 2 columns]"
      ]
     },
     "execution_count": 48,
     "metadata": {},
     "output_type": "execute_result"
    }
   ],
   "source": [
    "sample_df_test"
   ]
  },
  {
   "cell_type": "code",
   "execution_count": null,
   "id": "e493c6ac",
   "metadata": {},
   "outputs": [],
   "source": []
  }
 ],
 "metadata": {
  "kernelspec": {
   "display_name": "Python 3",
   "language": "python",
   "name": "python3"
  },
  "language_info": {
   "codemirror_mode": {
    "name": "ipython",
    "version": 3
   },
   "file_extension": ".py",
   "mimetype": "text/x-python",
   "name": "python",
   "nbconvert_exporter": "python",
   "pygments_lexer": "ipython3",
   "version": "3.6.9"
  }
 },
 "nbformat": 4,
 "nbformat_minor": 5
}
