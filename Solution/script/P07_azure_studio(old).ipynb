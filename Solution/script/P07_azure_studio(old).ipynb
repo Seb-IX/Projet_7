{
 "cells": [
  {
   "cell_type": "markdown",
   "id": "f2c1fe68",
   "metadata": {},
   "source": [
    "# Bencmark d'un modèle simple (drag and drop) sur Azure ML studio (classic)\n",
    "\n",
    "Voici à quoi ressemble le modèle final :\n",
    "\n",
    "<img src=\"./img/studio_classic_web_service.jpg\" style=\"center\">\n",
    "\n",
    "Voici le dérouler de cette pipeline :\n",
    "\n",
    "- On retrouve en haut le module d'import des données qui importe un échantillion de 10000 données parfaitement stratifié ( 5000 bad tweet & 5000 good tweet) & \"l'input\" de notre web service (qui se base sur les colonnes selectionné à l'étape suivante)\n",
    "- Après cette étape j'ai réaliser une selection des colonnes pour ne prendre que la colonne de \"text\" et de \"sentiments\"\n",
    "- J'ai ensuite réaliser un preprocessed du text simple qui nettoie la column \"text\" \n",
    "- Après ça j'ai récupérer le jeu de données du vocabulaire TF-IDF que j'ai réaliser durant la phase d'entrainement du modèle que j'ai du coup utiliser pour générer ma matrice TF-IDF\n",
    "- et pour finir on retrouve le modèle final entrainer qui permet la prédiction de sentiment du tweet"
   ]
  },
  {
   "cell_type": "code",
   "execution_count": 1,
   "id": "16781042",
   "metadata": {},
   "outputs": [],
   "source": [
    "import urllib.request\n",
    "import json \n",
    "\n",
    "api_key = open(\"./access_key/studio_api_key.txt\").read()\n",
    "\n",
    "url = open(\"./access_url/studio_api_url.txt\").read()\n",
    "headers = {'Content-Type':'application/json', 'Authorization':('Bearer '+ api_key)}"
   ]
  },
  {
   "cell_type": "code",
   "execution_count": 2,
   "id": "91cc8e10",
   "metadata": {},
   "outputs": [],
   "source": [
    "def prepare_body(value : str):\n",
    "    data =  {\n",
    "        \"Inputs\": {\n",
    "            \"text\":{\n",
    "                \"ColumnNames\": [\"text\"],\n",
    "                \"Values\": [[value]]\n",
    "                },\n",
    "            },\n",
    "        \"GlobalParameters\": {}\n",
    "        }\n",
    "    return str.encode(json.dumps(data))\n",
    "    \n",
    "def prepare_response(resp,dic=None):\n",
    "    json_result = json.loads(resp)\n",
    "    values = json_result[\"Results\"][\"score\"][\"value\"][\"Values\"]\n",
    "    if dic is None:\n",
    "        dic = {\n",
    "            \"bad_score\":[],\n",
    "            \"good_score\":[],\n",
    "            \"prediction\":[]\n",
    "        }\n",
    "    for v in values:\n",
    "        bad_res = v[0]\n",
    "        good_res = v[1]\n",
    "        predict = v[2]\n",
    "        dic[\"bad_score\"].append(bad_res)\n",
    "        dic[\"good_score\"].append(good_res)\n",
    "        dic[\"prediction\"].append(predict)\n",
    "    return dic\n",
    "\n",
    "def send_request(list_value : list):\n",
    "    result = None\n",
    "    for value in list_value:\n",
    "        body = prepare_body(value)\n",
    "        req = urllib.request.Request(url, body, headers) \n",
    "        try:\n",
    "            response = urllib.request.urlopen(req)\n",
    "            resp = response.read()\n",
    "            if result is None:\n",
    "                result = prepare_response(resp)\n",
    "            else:\n",
    "                result = prepare_response(resp,dic=result)\n",
    "        except:\n",
    "            print(\"The request failed value :\",value)  \n",
    "    return result"
   ]
  },
  {
   "cell_type": "code",
   "execution_count": 3,
   "id": "92820d45",
   "metadata": {},
   "outputs": [],
   "source": [
    "list_value = [\"I feel like i have a hangover... But i didn't really drink alot last night.\",\n",
    "              \"I love banana !\",\"i lose followers all the time.  haha\",\"I LOVE @Health4UandPets u guys r the best!!\"]\n",
    "result = send_request(list_value)"
   ]
  },
  {
   "cell_type": "code",
   "execution_count": 4,
   "id": "788a007a",
   "metadata": {},
   "outputs": [
    {
     "name": "stdout",
     "output_type": "stream",
     "text": [
      "{'bad_score': ['0.84832626581192', '0.280947744846344', '0.339496046304703', '0.349292606115341'], 'good_score': ['0.15167373418808', '0.719052255153656', '0.66050398349762', '0.650707423686981'], 'prediction': ['bad', 'good', 'good', 'good']}\n"
     ]
    }
   ],
   "source": [
    "print(result)"
   ]
  },
  {
   "cell_type": "markdown",
   "id": "579fee90",
   "metadata": {},
   "source": [
    "## Benchmark azure studio"
   ]
  },
  {
   "cell_type": "code",
   "execution_count": 7,
   "id": "139954dd",
   "metadata": {},
   "outputs": [
    {
     "name": "stdout",
     "output_type": "stream",
     "text": [
      "Dimensionnalité : (4000, 2)\n"
     ]
    },
    {
     "data": {
      "text/html": [
       "<div>\n",
       "<style scoped>\n",
       "    .dataframe tbody tr th:only-of-type {\n",
       "        vertical-align: middle;\n",
       "    }\n",
       "\n",
       "    .dataframe tbody tr th {\n",
       "        vertical-align: top;\n",
       "    }\n",
       "\n",
       "    .dataframe thead th {\n",
       "        text-align: right;\n",
       "    }\n",
       "</style>\n",
       "<table border=\"1\" class=\"dataframe\">\n",
       "  <thead>\n",
       "    <tr style=\"text-align: right;\">\n",
       "      <th></th>\n",
       "      <th>text</th>\n",
       "      <th>sentiment</th>\n",
       "    </tr>\n",
       "  </thead>\n",
       "  <tbody>\n",
       "    <tr>\n",
       "      <th>0</th>\n",
       "      <td>Chillin @ the beach with my girl brit-brit wat...</td>\n",
       "      <td>good</td>\n",
       "    </tr>\n",
       "    <tr>\n",
       "      <th>1</th>\n",
       "      <td>@indraherlambang really wanna say that ure lik...</td>\n",
       "      <td>good</td>\n",
       "    </tr>\n",
       "    <tr>\n",
       "      <th>2</th>\n",
       "      <td>@ambermac Gotta love Brad Pitt's performance, ...</td>\n",
       "      <td>good</td>\n",
       "    </tr>\n",
       "    <tr>\n",
       "      <th>3</th>\n",
       "      <td>Just realized that Matthew Sweet &amp;amp; Susanna...</td>\n",
       "      <td>good</td>\n",
       "    </tr>\n",
       "    <tr>\n",
       "      <th>4</th>\n",
       "      <td>@marksphone sorry, meant that to come from my ...</td>\n",
       "      <td>good</td>\n",
       "    </tr>\n",
       "  </tbody>\n",
       "</table>\n",
       "</div>"
      ],
      "text/plain": [
       "                                                text sentiment\n",
       "0  Chillin @ the beach with my girl brit-brit wat...      good\n",
       "1  @indraherlambang really wanna say that ure lik...      good\n",
       "2  @ambermac Gotta love Brad Pitt's performance, ...      good\n",
       "3  Just realized that Matthew Sweet &amp; Susanna...      good\n",
       "4  @marksphone sorry, meant that to come from my ...      good"
      ]
     },
     "execution_count": 7,
     "metadata": {},
     "output_type": "execute_result"
    }
   ],
   "source": [
    "import pandas as pd\n",
    "test_sample = pd.read_csv(\"./data/sample_test_dataset.csv\",index_col=0)\n",
    "print(\"Dimensionnalité :\",test_sample.shape)\n",
    "test_sample.head()"
   ]
  },
  {
   "cell_type": "code",
   "execution_count": 5,
   "id": "d39d783b",
   "metadata": {},
   "outputs": [],
   "source": [
    "from sklearn.metrics import accuracy_score, confusion_matrix, classification_report,roc_auc_score\n",
    "def benchmark(y_pred,y_true):\n",
    "    print(\"accuracy score :\",accuracy_score(y_true,y_pred))\n",
    "    print(classification_report(y_true,y_pred))\n",
    "    return pd.DataFrame(confusion_matrix(y_true,y_pred),columns=[\"good\",\"bad\"],index=[\"good\",\"bad\"])"
   ]
  },
  {
   "cell_type": "code",
   "execution_count": 8,
   "id": "ef7151f3",
   "metadata": {},
   "outputs": [],
   "source": [
    "document_send = test_sample[\"text\"].tolist()\n",
    "y_true = test_sample[\"sentiment\"].tolist()"
   ]
  },
  {
   "cell_type": "code",
   "execution_count": 9,
   "id": "90b94fcd",
   "metadata": {},
   "outputs": [],
   "source": [
    "result = send_request(document_send)"
   ]
  },
  {
   "cell_type": "code",
   "execution_count": 10,
   "id": "4a0d8173",
   "metadata": {},
   "outputs": [],
   "source": [
    "y_pred = result[\"prediction\"]"
   ]
  },
  {
   "cell_type": "code",
   "execution_count": 11,
   "id": "b354e598",
   "metadata": {},
   "outputs": [
    {
     "name": "stdout",
     "output_type": "stream",
     "text": [
      "accuracy score : 0.654\n",
      "              precision    recall  f1-score   support\n",
      "\n",
      "         bad       0.69      0.55      0.61      2000\n",
      "        good       0.63      0.76      0.69      2000\n",
      "\n",
      "    accuracy                           0.65      4000\n",
      "   macro avg       0.66      0.65      0.65      4000\n",
      "weighted avg       0.66      0.65      0.65      4000\n",
      "\n"
     ]
    },
    {
     "data": {
      "text/html": [
       "<div>\n",
       "<style scoped>\n",
       "    .dataframe tbody tr th:only-of-type {\n",
       "        vertical-align: middle;\n",
       "    }\n",
       "\n",
       "    .dataframe tbody tr th {\n",
       "        vertical-align: top;\n",
       "    }\n",
       "\n",
       "    .dataframe thead th {\n",
       "        text-align: right;\n",
       "    }\n",
       "</style>\n",
       "<table border=\"1\" class=\"dataframe\">\n",
       "  <thead>\n",
       "    <tr style=\"text-align: right;\">\n",
       "      <th></th>\n",
       "      <th>good</th>\n",
       "      <th>bad</th>\n",
       "    </tr>\n",
       "  </thead>\n",
       "  <tbody>\n",
       "    <tr>\n",
       "      <th>good</th>\n",
       "      <td>1101</td>\n",
       "      <td>899</td>\n",
       "    </tr>\n",
       "    <tr>\n",
       "      <th>bad</th>\n",
       "      <td>485</td>\n",
       "      <td>1515</td>\n",
       "    </tr>\n",
       "  </tbody>\n",
       "</table>\n",
       "</div>"
      ],
      "text/plain": [
       "      good   bad\n",
       "good  1101   899\n",
       "bad    485  1515"
      ]
     },
     "execution_count": 11,
     "metadata": {},
     "output_type": "execute_result"
    }
   ],
   "source": [
    "benchmark(y_pred,y_true)"
   ]
  },
  {
   "cell_type": "markdown",
   "id": "c341a606",
   "metadata": {},
   "source": [
    "Après environ 1H de requête à l'API studio ML (classic) on obtien un score de 0.654 d'accuracy qui est assez faible, avec ce qui correspond bien à l'accuracy du modèle sur le jeu de donnée de test \n",
    "\n",
    "<img src=\"./img/result_metric_studio_classic_test.jpg\" style=\"center\">"
   ]
  },
  {
   "cell_type": "code",
   "execution_count": null,
   "id": "47b0cba4",
   "metadata": {},
   "outputs": [],
   "source": []
  }
 ],
 "metadata": {
  "kernelspec": {
   "display_name": "Python 3",
   "language": "python",
   "name": "python3"
  },
  "language_info": {
   "codemirror_mode": {
    "name": "ipython",
    "version": 3
   },
   "file_extension": ".py",
   "mimetype": "text/x-python",
   "name": "python",
   "nbconvert_exporter": "python",
   "pygments_lexer": "ipython3",
   "version": "3.6.9"
  }
 },
 "nbformat": 4,
 "nbformat_minor": 5
}
