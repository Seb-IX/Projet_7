{
 "cells": [
  {
   "cell_type": "markdown",
   "id": "5d0ae35e",
   "metadata": {},
   "source": [
    "# Automatique ML Studio no-code\n",
    "\n",
    "Ce module (*Automated ML*) proposé par Microsoft Azure Machine Learning Studio permet, à partir d'un jeu de données d'entrée, de rechercher le modèle et la configuration la plus optimale possible sans avoir besoin d'aucune connaissance particulière ! \n",
    "\n",
    "Après avoir obtenu le meilleur modèle (après 72 essaies de modèles différents) il est possible de déployer le modèle très facilement :\n",
    "\n",
    "<br><br>\n",
    "\n",
    "<img src=\"./img/automated-ml-deploy.jpg\" style=\"margin-left:auto; margin-right:auto; display: block;\">\n",
    "\n",
    "<br><br>\n",
    "\n",
    "L'API est ensuite exploitable directement."
   ]
  },
  {
   "cell_type": "code",
   "execution_count": 1,
   "id": "a6ec26ba",
   "metadata": {},
   "outputs": [],
   "source": [
    "import urllib.request\n",
    "import json\n",
    "import os\n",
    "\n",
    "api_key = os.environ[\"ML_STUDIO_AUTOMATED_KEY\"]\n",
    "\n",
    "url = os.environ[\"ML_STUDIO_AUTOMATED_ENDPOINT\"]\n",
    "headers = {'Content-Type':'application/json', 'Authorization':('Bearer '+ api_key)}"
   ]
  },
  {
   "cell_type": "code",
   "execution_count": 2,
   "id": "e2b1497e",
   "metadata": {},
   "outputs": [],
   "source": [
    "def prepare_body(list_value : list):\n",
    "    data_send = [{\"Column2\":\"\",\"text\":v} for v in list_value]\n",
    "    data =  {\n",
    "        \"data\": data_send,\n",
    "        \"method\": \"predict\"\n",
    "    }\n",
    "    return str.encode(json.dumps(data))\n",
    "    \n",
    "def prepare_response(resp):\n",
    "    json_result = json.loads(resp)\n",
    "    values = eval(json_result)[\"result\"]\n",
    "    result = []\n",
    "    for v in values:\n",
    "        predict = v\n",
    "        result.append(predict)\n",
    "    return result\n",
    "\n",
    "def send_request(list_value : list):\n",
    "    result = None\n",
    "    body = prepare_body(list_value)\n",
    "    req = urllib.request.Request(url, body, headers) \n",
    "    try:\n",
    "        response = urllib.request.urlopen(req)\n",
    "        resp = response.read()\n",
    "\n",
    "        result = prepare_response(resp)\n",
    "            \n",
    "    except urllib.error.HTTPError as error:\n",
    "        print(\"The request failed with status code: \" + str(error.code))\n",
    "\n",
    "        # Print the headers - they include the requert ID and the timestamp, which are useful for debugging the failure\n",
    "        print(error.info())\n",
    "        print(json.loads(error.read().decode(\"utf8\", 'ignore')))\n",
    "    return result"
   ]
  },
  {
   "cell_type": "code",
   "execution_count": 3,
   "id": "32deecda",
   "metadata": {},
   "outputs": [],
   "source": [
    "res = send_request([\"I hate banana!\",\"I love banana!!\"])"
   ]
  },
  {
   "cell_type": "code",
   "execution_count": 4,
   "id": "69e60100",
   "metadata": {},
   "outputs": [
    {
     "name": "stdout",
     "output_type": "stream",
     "text": [
      "['bad', 'good']\n"
     ]
    }
   ],
   "source": [
    "print(res)"
   ]
  },
  {
   "cell_type": "code",
   "execution_count": 5,
   "id": "3149348a",
   "metadata": {},
   "outputs": [
    {
     "name": "stdout",
     "output_type": "stream",
     "text": [
      "Dimensionnalité : (4000, 2)\n"
     ]
    },
    {
     "data": {
      "text/html": [
       "<div>\n",
       "<style scoped>\n",
       "    .dataframe tbody tr th:only-of-type {\n",
       "        vertical-align: middle;\n",
       "    }\n",
       "\n",
       "    .dataframe tbody tr th {\n",
       "        vertical-align: top;\n",
       "    }\n",
       "\n",
       "    .dataframe thead th {\n",
       "        text-align: right;\n",
       "    }\n",
       "</style>\n",
       "<table border=\"1\" class=\"dataframe\">\n",
       "  <thead>\n",
       "    <tr style=\"text-align: right;\">\n",
       "      <th></th>\n",
       "      <th>text</th>\n",
       "      <th>sentiment</th>\n",
       "    </tr>\n",
       "  </thead>\n",
       "  <tbody>\n",
       "    <tr>\n",
       "      <th>0</th>\n",
       "      <td>Chillin @ the beach with my girl brit-brit wat...</td>\n",
       "      <td>good</td>\n",
       "    </tr>\n",
       "    <tr>\n",
       "      <th>1</th>\n",
       "      <td>@indraherlambang really wanna say that ure lik...</td>\n",
       "      <td>good</td>\n",
       "    </tr>\n",
       "    <tr>\n",
       "      <th>2</th>\n",
       "      <td>@ambermac Gotta love Brad Pitt's performance, ...</td>\n",
       "      <td>good</td>\n",
       "    </tr>\n",
       "    <tr>\n",
       "      <th>3</th>\n",
       "      <td>Just realized that Matthew Sweet &amp;amp; Susanna...</td>\n",
       "      <td>good</td>\n",
       "    </tr>\n",
       "    <tr>\n",
       "      <th>4</th>\n",
       "      <td>@marksphone sorry, meant that to come from my ...</td>\n",
       "      <td>good</td>\n",
       "    </tr>\n",
       "  </tbody>\n",
       "</table>\n",
       "</div>"
      ],
      "text/plain": [
       "                                                text sentiment\n",
       "0  Chillin @ the beach with my girl brit-brit wat...      good\n",
       "1  @indraherlambang really wanna say that ure lik...      good\n",
       "2  @ambermac Gotta love Brad Pitt's performance, ...      good\n",
       "3  Just realized that Matthew Sweet &amp; Susanna...      good\n",
       "4  @marksphone sorry, meant that to come from my ...      good"
      ]
     },
     "execution_count": 5,
     "metadata": {},
     "output_type": "execute_result"
    }
   ],
   "source": [
    "import pandas as pd\n",
    "test_sample = pd.read_csv(\"./data/sample_test_dataset.csv\",index_col=0)\n",
    "print(\"Dimensionnalité :\",test_sample.shape)\n",
    "test_sample.head()"
   ]
  },
  {
   "cell_type": "code",
   "execution_count": 6,
   "id": "0b067b43",
   "metadata": {},
   "outputs": [],
   "source": [
    "from sklearn.metrics import accuracy_score, confusion_matrix, classification_report,roc_auc_score\n",
    "def benchmark(y_pred,y_true):\n",
    "    print(\"accuracy score :\",accuracy_score(y_true,y_pred))\n",
    "    print(classification_report(y_true,y_pred))\n",
    "    return pd.DataFrame(confusion_matrix(y_true,y_pred),columns=[\"good\",\"bad\"],index=[\"good\",\"bad\"])"
   ]
  },
  {
   "cell_type": "code",
   "execution_count": 7,
   "id": "d07cc567",
   "metadata": {},
   "outputs": [],
   "source": [
    "X_test = test_sample[\"text\"].tolist()\n",
    "y_test = test_sample[\"sentiment\"].tolist()"
   ]
  },
  {
   "cell_type": "code",
   "execution_count": 9,
   "id": "66c3c375",
   "metadata": {},
   "outputs": [
    {
     "name": "stdout",
     "output_type": "stream",
     "text": [
      "CPU times: user 11.6 ms, sys: 4.91 ms, total: 16.5 ms\n",
      "Wall time: 1.76 s\n"
     ]
    }
   ],
   "source": [
    "%%time\n",
    "y_pred = send_request(X_test)"
   ]
  },
  {
   "cell_type": "code",
   "execution_count": 12,
   "id": "4b756b02",
   "metadata": {},
   "outputs": [
    {
     "name": "stdout",
     "output_type": "stream",
     "text": [
      "accuracy score : 0.76275\n",
      "              precision    recall  f1-score   support\n",
      "\n",
      "         bad       0.76      0.76      0.76      2000\n",
      "        good       0.76      0.76      0.76      2000\n",
      "\n",
      "    accuracy                           0.76      4000\n",
      "   macro avg       0.76      0.76      0.76      4000\n",
      "weighted avg       0.76      0.76      0.76      4000\n",
      "\n"
     ]
    },
    {
     "data": {
      "text/html": [
       "<div>\n",
       "<style scoped>\n",
       "    .dataframe tbody tr th:only-of-type {\n",
       "        vertical-align: middle;\n",
       "    }\n",
       "\n",
       "    .dataframe tbody tr th {\n",
       "        vertical-align: top;\n",
       "    }\n",
       "\n",
       "    .dataframe thead th {\n",
       "        text-align: right;\n",
       "    }\n",
       "</style>\n",
       "<table border=\"1\" class=\"dataframe\">\n",
       "  <thead>\n",
       "    <tr style=\"text-align: right;\">\n",
       "      <th></th>\n",
       "      <th>good</th>\n",
       "      <th>bad</th>\n",
       "    </tr>\n",
       "  </thead>\n",
       "  <tbody>\n",
       "    <tr>\n",
       "      <th>good</th>\n",
       "      <td>1526</td>\n",
       "      <td>474</td>\n",
       "    </tr>\n",
       "    <tr>\n",
       "      <th>bad</th>\n",
       "      <td>475</td>\n",
       "      <td>1525</td>\n",
       "    </tr>\n",
       "  </tbody>\n",
       "</table>\n",
       "</div>"
      ],
      "text/plain": [
       "      good   bad\n",
       "good  1526   474\n",
       "bad    475  1525"
      ]
     },
     "execution_count": 12,
     "metadata": {},
     "output_type": "execute_result"
    }
   ],
   "source": [
    "benchmark(y_pred,y_test)"
   ]
  },
  {
   "cell_type": "markdown",
   "id": "a3912ae6",
   "metadata": {},
   "source": [
    "On obtient ici un score très acceptable pour un module no-code. Cette méthode permet de générer un modèle de classification en seulement 1H50 sans avoir besoin d'écrire une seule ligne de code et sans avoir besoin d'utiliser des modules drag & drop.\n",
    "L'API est ensuite créée en seulement 1 clic et coûte très peu à l'utilisation (consomation 0.11€/h par utilisation CPU) soit ici un total de 0.22€ pour l'entraînement puis même pas 0,01€ pour effectuer le test !"
   ]
  }
 ],
 "metadata": {
  "kernelspec": {
   "display_name": "Python 3",
   "language": "python",
   "name": "python3"
  },
  "language_info": {
   "codemirror_mode": {
    "name": "ipython",
    "version": 3
   },
   "file_extension": ".py",
   "mimetype": "text/x-python",
   "name": "python",
   "nbconvert_exporter": "python",
   "pygments_lexer": "ipython3",
   "version": "3.6.9"
  }
 },
 "nbformat": 4,
 "nbformat_minor": 5
}
