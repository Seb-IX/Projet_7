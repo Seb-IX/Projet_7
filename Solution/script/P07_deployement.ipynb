{
 "cells": [
  {
   "cell_type": "code",
   "execution_count": 10,
   "id": "3b1a8e89",
   "metadata": {},
   "outputs": [],
   "source": [
    "# !pip install mlflow\n",
    "# !pip install azureml\n",
    "# !pip install azureml.core\n",
    "# !pip install azureml-mlflow"
   ]
  },
  {
   "cell_type": "code",
   "execution_count": 11,
   "id": "ab877300",
   "metadata": {},
   "outputs": [],
   "source": [
    "import sys, os\n",
    "import mlflow\n",
    "import mlflow.azureml\n",
    "\n",
    "import azureml.core\n",
    "from azureml.core import Workspace"
   ]
  },
  {
   "cell_type": "code",
   "execution_count": 12,
   "id": "6fd8751d",
   "metadata": {},
   "outputs": [
    {
     "name": "stdout",
     "output_type": "stream",
     "text": [
      "SDK version: 1.36.0\n",
      "MLflow version: 1.21.0\n"
     ]
    }
   ],
   "source": [
    "print(\"SDK version:\", azureml.core.VERSION)\n",
    "print(\"MLflow version:\", mlflow.version.VERSION)"
   ]
  },
  {
   "cell_type": "code",
   "execution_count": 14,
   "id": "1efbea5a",
   "metadata": {},
   "outputs": [],
   "source": [
    "import modelisation_avanced as md_advanced"
   ]
  },
  {
   "cell_type": "code",
   "execution_count": 15,
   "id": "f4d53f5a",
   "metadata": {},
   "outputs": [],
   "source": [
    "pipeline = md_advanced.get_model_save()"
   ]
  },
  {
   "cell_type": "code",
   "execution_count": 16,
   "id": "8de40fcb",
   "metadata": {},
   "outputs": [
    {
     "data": {
      "text/plain": [
       "array(['bad'], dtype=object)"
      ]
     },
     "execution_count": 16,
     "metadata": {},
     "output_type": "execute_result"
    }
   ],
   "source": [
    "pipeline.predict([\"I hate banana!\"])"
   ]
  },
  {
   "cell_type": "code",
   "execution_count": null,
   "id": "09cb9c4e",
   "metadata": {},
   "outputs": [],
   "source": [
    "import mlflow\n",
    "\n",
    "# load the model into memory\n",
    "loaded_model = pickle.load(open(filename, 'rb'))\n",
    "\n",
    "# log and register the model using MLflow scikit-learn API\n",
    "mlflow.set_tracking_uri(\"sqlite:///mlruns.db\")\n",
    "reg_model_name = \"SklearnLinearRegression\"\n",
    "print(\"--\")\n",
    "mlflow.sklearn.log_model(loaded_model, \"sk_learn\",\n",
    "                             serialization_format=\"cloudpickle\",\n",
    "                             registered_model_name=reg_model_name)"
   ]
  },
  {
   "cell_type": "code",
   "execution_count": 6,
   "id": "f4410421",
   "metadata": {},
   "outputs": [],
   "source": [
    "import mlflow.azureml\n",
    "\n",
    "from azureml.core import Workspace\n",
    "from azureml.core.webservice import AciWebservice, Webservice"
   ]
  },
  {
   "cell_type": "code",
   "execution_count": 8,
   "id": "e1d475af",
   "metadata": {},
   "outputs": [
    {
     "name": "stderr",
     "output_type": "stream",
     "text": [
      "2021/11/16 13:00:58 WARNING mlflow.tracking.context.git_context: Failed to import Git (the Git executable is probably not on your PATH), so Git SHA is not available. Error: Failed to initialize: Bad git executable.\n",
      "The git executable must be specified in one of the following ways:\n",
      "    - be included in your $PATH\n",
      "    - be set via $GIT_PYTHON_GIT_EXECUTABLE\n",
      "    - explicitly set via git.refresh()\n",
      "\n",
      "All git commands will error until this is rectified.\n",
      "\n",
      "This initial warning can be silenced or aggravated in the future by setting the\n",
      "$GIT_PYTHON_REFRESH environment variable. Use one of the following values:\n",
      "    - quiet|q|silence|s|none|n|0: for no warning or exception\n",
      "    - warn|w|warning|1: for a printed warning\n",
      "    - error|e|raise|r|2: for a raised exception\n",
      "\n",
      "Example:\n",
      "    export GIT_PYTHON_REFRESH=quiet\n",
      "\n"
     ]
    }
   ],
   "source": [
    "import pandas as pd\n",
    "import mlflow\n",
    "import mlflow.sklearn\n",
    "from mlflow.models.signature import infer_signature\n",
    "\n",
    "\n"
   ]
  },
  {
   "cell_type": "code",
   "execution_count": null,
   "id": "eeebbff4",
   "metadata": {},
   "outputs": [],
   "source": []
  },
  {
   "cell_type": "code",
   "execution_count": null,
   "id": "92f1cc0a",
   "metadata": {},
   "outputs": [],
   "source": []
  },
  {
   "cell_type": "code",
   "execution_count": null,
   "id": "29c0af2e",
   "metadata": {},
   "outputs": [],
   "source": []
  },
  {
   "cell_type": "code",
   "execution_count": null,
   "id": "3b791204",
   "metadata": {},
   "outputs": [],
   "source": []
  },
  {
   "cell_type": "code",
   "execution_count": null,
   "id": "242dfb81",
   "metadata": {},
   "outputs": [],
   "source": [
    "workspace_name = \"advanced-model\" # ?\n",
    "subscription_id = \"subscription-id\" # ?\n",
    "resource_group = \"advanced-model\" # ?\n",
    "location = \"France-Centre\"\n",
    "azure_workspace = Workspace.create(name=workspace_name,\n",
    "                                   subscription_id=subscription_id,\n",
    "                                   resource_group=resource_group,\n",
    "                                   location=location,\n",
    "                                   create_resource_group=True,\n",
    "                                   exist_okay=True)\n",
    "# Create a deployment config\n",
    "aci_config = AciWebservice.deploy_configuration(cpu_cores=2, memory_gb=4)\n",
    "\n",
    "# Register and deploy model to Azure Container Instance (ACI)\n",
    "(webservice, model) = mlflow.azureml.deploy(model_uri='azureml://francecentral.api.azureml.ms/mlflow/v1.0/subscriptions/d30b5fff-d507-4fed-a400-f80a78899070/resourceGroups/ml-studio/providers/Microsoft.MachineLearningServices/workspaces/air-studio-st',\n",
    "                                            workspace=azure_workspace,\n",
    "                                            model_name='mymodelname',\n",
    "                                            service_name='myservice',\n",
    "                                            deployment_config=aci_config)\n",
    "\n",
    "print(\"Scoring URI is: %s\", webservice.scoring_uri)"
   ]
  },
  {
   "cell_type": "code",
   "execution_count": null,
   "id": "fb799378",
   "metadata": {},
   "outputs": [],
   "source": []
  },
  {
   "cell_type": "code",
   "execution_count": null,
   "id": "972f8588",
   "metadata": {},
   "outputs": [],
   "source": []
  }
 ],
 "metadata": {
  "kernelspec": {
   "display_name": "Python 3",
   "language": "python",
   "name": "python3"
  },
  "language_info": {
   "codemirror_mode": {
    "name": "ipython",
    "version": 3
   },
   "file_extension": ".py",
   "mimetype": "text/x-python",
   "name": "python",
   "nbconvert_exporter": "python",
   "pygments_lexer": "ipython3",
   "version": "3.6.9"
  }
 },
 "nbformat": 4,
 "nbformat_minor": 5
}
